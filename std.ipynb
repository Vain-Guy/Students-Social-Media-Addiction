{
 "cells": [
  {
   "cell_type": "markdown",
   "id": "0e0979f8",
   "metadata": {},
   "source": [
    "# SOCIAL MEDIA ADDICTION ANALYSIS AMONG UNIVERSITY STUDENTS\n",
    "\n",
    "## Business Problem\n",
    "\n",
    "**How can universities detect and reduce the negative academic impact of social media addiction among students using behavioral and usage data?**\n",
    "\n",
    "University students are increasingly spending more time on social media platforms, often to the detriment of their academic performance, mental health, and sleep quality. This analysis aims to identify patterns of excessive usage, understand their correlation with academic outcomes, and create predictive tools to help institutions intervene early.\n",
    "\n",
    "## Business Objective\n",
    "\n",
    "To assist universities and student welfare departments in:\n",
    "- Identifying students at risk of severe social media addiction.\n",
    "- Understanding the behavioral predictors most correlated with academic and personal decline.\n",
    "- Designing proactive intervention strategies that improve academic success and student well-being.\n",
    "\n",
    "## Stakeholders\n",
    "\n",
    "- University Administrators  \n",
    "- Student Wellness and Counseling Departments  \n",
    "- Academic Policy Makers  \n",
    "- Educational Technology Startups  \n",
    "\n",
    "## Analytics Objectives\n",
    "\n",
    "1. **Classification Task**  \n",
    "   Predict whether a student is at risk of social media addiction and its severity.\n",
    "\n",
    "2. **Regression or Classification Task**  \n",
    "   Predict the level of academic impact based on social media usage patterns.\n",
    "\n",
    "3. **Clustering Task**  \n",
    "   Segment students into behavioral groups for personalized outreach or interventions.\n",
    "\n",
    "4. **Exploratory Data Analysis (EDA)**  \n",
    "   - Discover the most influential features (e.g time spent, platform type) associated with negative outcomes.\n",
    "   - Visualize usage trends across demographics (gender, age).\n",
    "\n",
    "## Potential Applications\n",
    "\n",
    "- Early warning systems for academic counselors.\n",
    "- Integration with learning platforms to flag at-risk behavior.\n",
    "- Dashboards for student self-assessment and digital wellness tracking.\n"
   ]
  },
  {
   "cell_type": "markdown",
   "id": "3d9c1dd5",
   "metadata": {},
   "source": [
    "## INITIAL DATA EXPLORATION (IDE)\n",
    "\n",
    "Every dataset tells a story- but before I dive into any narratives, I'll flip through the table of contents. This phase is about getting comfortable with the data: seeing what’s there, what’s missing, and what might surprise me later if I don’t pay attention now.\n",
    "\n",
    "#### What's happening:\n",
    "- Importing key libraries like 'pandas', 'numpy', 'seaborn', 'matplotlib', and 'plotly'- the usual suspects for slicing, dicing and visualizing data.\n",
    "- Previewing the first few rows to get a feel for the dataset’s structure, naming conventions, and early red flags (no one likes nasty surprises 30 cells in).\n",
    "- Checking the shape of the data because whether it's 500 rows or 50,000 completely changes the game.\n",
    "- Get metadata\n",
    "- Get basic statistics information of both numerica and categorical columns\n",
    "\n",
    "This might not be the flashiest part of the workflow, but it’s where trust is built- between me and the dataset. And as I’ve learned from previous projects, a few extra minutes spent here can save hours of confusion down the road.\n",
    "\n",
    "Exploration done right is part instinct, part structure- this is BOTH!"
   ]
  },
  {
   "cell_type": "code",
   "execution_count": 44,
   "id": "de699db5",
   "metadata": {},
   "outputs": [
    {
     "data": {
      "text/html": [
       "<div>\n",
       "<style scoped>\n",
       "    .dataframe tbody tr th:only-of-type {\n",
       "        vertical-align: middle;\n",
       "    }\n",
       "\n",
       "    .dataframe tbody tr th {\n",
       "        vertical-align: top;\n",
       "    }\n",
       "\n",
       "    .dataframe thead th {\n",
       "        text-align: right;\n",
       "    }\n",
       "</style>\n",
       "<table border=\"1\" class=\"dataframe\">\n",
       "  <thead>\n",
       "    <tr style=\"text-align: right;\">\n",
       "      <th></th>\n",
       "      <th>Student_ID</th>\n",
       "      <th>Age</th>\n",
       "      <th>Gender</th>\n",
       "      <th>Academic_Level</th>\n",
       "      <th>Country</th>\n",
       "      <th>Avg_Daily_Usage_Hours</th>\n",
       "      <th>Most_Used_Platform</th>\n",
       "      <th>Affects_Academic_Performance</th>\n",
       "      <th>Sleep_Hours_Per_Night</th>\n",
       "      <th>Mental_Health_Score</th>\n",
       "      <th>Relationship_Status</th>\n",
       "      <th>Conflicts_Over_Social_Media</th>\n",
       "      <th>Addicted_Score</th>\n",
       "    </tr>\n",
       "  </thead>\n",
       "  <tbody>\n",
       "    <tr>\n",
       "      <th>0</th>\n",
       "      <td>1</td>\n",
       "      <td>19</td>\n",
       "      <td>Female</td>\n",
       "      <td>Undergraduate</td>\n",
       "      <td>Bangladesh</td>\n",
       "      <td>5.2</td>\n",
       "      <td>Instagram</td>\n",
       "      <td>Yes</td>\n",
       "      <td>6.5</td>\n",
       "      <td>6</td>\n",
       "      <td>In Relationship</td>\n",
       "      <td>3</td>\n",
       "      <td>8</td>\n",
       "    </tr>\n",
       "    <tr>\n",
       "      <th>1</th>\n",
       "      <td>2</td>\n",
       "      <td>22</td>\n",
       "      <td>Male</td>\n",
       "      <td>Graduate</td>\n",
       "      <td>India</td>\n",
       "      <td>2.1</td>\n",
       "      <td>Twitter</td>\n",
       "      <td>No</td>\n",
       "      <td>7.5</td>\n",
       "      <td>8</td>\n",
       "      <td>Single</td>\n",
       "      <td>0</td>\n",
       "      <td>3</td>\n",
       "    </tr>\n",
       "    <tr>\n",
       "      <th>2</th>\n",
       "      <td>3</td>\n",
       "      <td>20</td>\n",
       "      <td>Female</td>\n",
       "      <td>Undergraduate</td>\n",
       "      <td>USA</td>\n",
       "      <td>6.0</td>\n",
       "      <td>TikTok</td>\n",
       "      <td>Yes</td>\n",
       "      <td>5.0</td>\n",
       "      <td>5</td>\n",
       "      <td>Complicated</td>\n",
       "      <td>4</td>\n",
       "      <td>9</td>\n",
       "    </tr>\n",
       "    <tr>\n",
       "      <th>3</th>\n",
       "      <td>4</td>\n",
       "      <td>18</td>\n",
       "      <td>Male</td>\n",
       "      <td>High School</td>\n",
       "      <td>UK</td>\n",
       "      <td>3.0</td>\n",
       "      <td>YouTube</td>\n",
       "      <td>No</td>\n",
       "      <td>7.0</td>\n",
       "      <td>7</td>\n",
       "      <td>Single</td>\n",
       "      <td>1</td>\n",
       "      <td>4</td>\n",
       "    </tr>\n",
       "    <tr>\n",
       "      <th>4</th>\n",
       "      <td>5</td>\n",
       "      <td>21</td>\n",
       "      <td>Male</td>\n",
       "      <td>Graduate</td>\n",
       "      <td>Canada</td>\n",
       "      <td>4.5</td>\n",
       "      <td>Facebook</td>\n",
       "      <td>Yes</td>\n",
       "      <td>6.0</td>\n",
       "      <td>6</td>\n",
       "      <td>In Relationship</td>\n",
       "      <td>2</td>\n",
       "      <td>7</td>\n",
       "    </tr>\n",
       "  </tbody>\n",
       "</table>\n",
       "</div>"
      ],
      "text/plain": [
       "   Student_ID  Age  Gender Academic_Level     Country  Avg_Daily_Usage_Hours  \\\n",
       "0           1   19  Female  Undergraduate  Bangladesh                    5.2   \n",
       "1           2   22    Male       Graduate       India                    2.1   \n",
       "2           3   20  Female  Undergraduate         USA                    6.0   \n",
       "3           4   18    Male    High School          UK                    3.0   \n",
       "4           5   21    Male       Graduate      Canada                    4.5   \n",
       "\n",
       "  Most_Used_Platform Affects_Academic_Performance  Sleep_Hours_Per_Night  \\\n",
       "0          Instagram                          Yes                    6.5   \n",
       "1            Twitter                           No                    7.5   \n",
       "2             TikTok                          Yes                    5.0   \n",
       "3            YouTube                           No                    7.0   \n",
       "4           Facebook                          Yes                    6.0   \n",
       "\n",
       "   Mental_Health_Score Relationship_Status  Conflicts_Over_Social_Media  \\\n",
       "0                    6     In Relationship                            3   \n",
       "1                    8              Single                            0   \n",
       "2                    5         Complicated                            4   \n",
       "3                    7              Single                            1   \n",
       "4                    6     In Relationship                            2   \n",
       "\n",
       "   Addicted_Score  \n",
       "0               8  \n",
       "1               3  \n",
       "2               9  \n",
       "3               4  \n",
       "4               7  "
      ]
     },
     "execution_count": 44,
     "metadata": {},
     "output_type": "execute_result"
    }
   ],
   "source": [
    "# Mathematical computation and data manipulation libraries\n",
    "import numpy as np\n",
    "import pandas as pd\n",
    "\n",
    "# Data visualization libraries\n",
    "import matplotlib.pyplot as plt\n",
    "import seaborn as sns\n",
    "import plotly.express as px\n",
    "import plotly.figure_factory as ff\n",
    "import plotly.graph_objects as go\n",
    "\n",
    "# Load the data\n",
    "student_df = pd.read_csv('Students Social Media Addiction.csv')\n",
    "\n",
    "# Preview first 5\n",
    "student_df.head()"
   ]
  },
  {
   "cell_type": "code",
   "execution_count": 45,
   "id": "6fc1a68d",
   "metadata": {},
   "outputs": [
    {
     "name": "stdout",
     "output_type": "stream",
     "text": [
      "The dataset has 705 rows and 13 columns\n",
      "\n",
      "Column Names:\n",
      " Index(['Student_ID', 'Age', 'Gender', 'Academic_Level', 'Country',\n",
      "       'Avg_Daily_Usage_Hours', 'Most_Used_Platform',\n",
      "       'Affects_Academic_Performance', 'Sleep_Hours_Per_Night',\n",
      "       'Mental_Health_Score', 'Relationship_Status',\n",
      "       'Conflicts_Over_Social_Media', 'Addicted_Score'],\n",
      "      dtype='object')\n"
     ]
    }
   ],
   "source": [
    "# Check how many rows and columns I am working with\n",
    "print(f'The dataset has {student_df.shape[0]} rows and {student_df.shape[1]} columns')\n",
    "\n",
    "# Check column names to inform on standardisation needs\n",
    "print('\\nColumn Names:\\n', student_df.columns)"
   ]
  },
  {
   "cell_type": "code",
   "execution_count": 46,
   "id": "ad54fee9",
   "metadata": {},
   "outputs": [
    {
     "data": {
      "text/html": [
       "<div>\n",
       "<style scoped>\n",
       "    .dataframe tbody tr th:only-of-type {\n",
       "        vertical-align: middle;\n",
       "    }\n",
       "\n",
       "    .dataframe tbody tr th {\n",
       "        vertical-align: top;\n",
       "    }\n",
       "\n",
       "    .dataframe thead th {\n",
       "        text-align: right;\n",
       "    }\n",
       "</style>\n",
       "<table border=\"1\" class=\"dataframe\">\n",
       "  <thead>\n",
       "    <tr style=\"text-align: right;\">\n",
       "      <th></th>\n",
       "      <th>student_id</th>\n",
       "      <th>age</th>\n",
       "      <th>gender</th>\n",
       "      <th>academic_level</th>\n",
       "      <th>country</th>\n",
       "      <th>avg_daily_usage_hours</th>\n",
       "      <th>most_used_platform</th>\n",
       "      <th>affects_academic_performance</th>\n",
       "      <th>sleep_hours_per_night</th>\n",
       "      <th>mental_health_score</th>\n",
       "      <th>relationship_status</th>\n",
       "      <th>conflicts_over_social_media</th>\n",
       "      <th>addicted_score</th>\n",
       "    </tr>\n",
       "  </thead>\n",
       "  <tbody>\n",
       "    <tr>\n",
       "      <th>386</th>\n",
       "      <td>387</td>\n",
       "      <td>20</td>\n",
       "      <td>Female</td>\n",
       "      <td>Undergraduate</td>\n",
       "      <td>USA</td>\n",
       "      <td>7.4</td>\n",
       "      <td>TikTok</td>\n",
       "      <td>Yes</td>\n",
       "      <td>4.9</td>\n",
       "      <td>5</td>\n",
       "      <td>In Relationship</td>\n",
       "      <td>4</td>\n",
       "      <td>9</td>\n",
       "    </tr>\n",
       "    <tr>\n",
       "      <th>96</th>\n",
       "      <td>97</td>\n",
       "      <td>18</td>\n",
       "      <td>Male</td>\n",
       "      <td>High School</td>\n",
       "      <td>Kuwait</td>\n",
       "      <td>5.7</td>\n",
       "      <td>Snapchat</td>\n",
       "      <td>Yes</td>\n",
       "      <td>5.3</td>\n",
       "      <td>5</td>\n",
       "      <td>In Relationship</td>\n",
       "      <td>4</td>\n",
       "      <td>8</td>\n",
       "    </tr>\n",
       "    <tr>\n",
       "      <th>287</th>\n",
       "      <td>288</td>\n",
       "      <td>22</td>\n",
       "      <td>Male</td>\n",
       "      <td>Graduate</td>\n",
       "      <td>Germany</td>\n",
       "      <td>3.5</td>\n",
       "      <td>Facebook</td>\n",
       "      <td>No</td>\n",
       "      <td>8.0</td>\n",
       "      <td>8</td>\n",
       "      <td>In Relationship</td>\n",
       "      <td>1</td>\n",
       "      <td>4</td>\n",
       "    </tr>\n",
       "    <tr>\n",
       "      <th>102</th>\n",
       "      <td>103</td>\n",
       "      <td>20</td>\n",
       "      <td>Male</td>\n",
       "      <td>Undergraduate</td>\n",
       "      <td>Yemen</td>\n",
       "      <td>4.7</td>\n",
       "      <td>Facebook</td>\n",
       "      <td>Yes</td>\n",
       "      <td>5.8</td>\n",
       "      <td>6</td>\n",
       "      <td>In Relationship</td>\n",
       "      <td>3</td>\n",
       "      <td>7</td>\n",
       "    </tr>\n",
       "  </tbody>\n",
       "</table>\n",
       "</div>"
      ],
      "text/plain": [
       "     student_id  age  gender academic_level  country  avg_daily_usage_hours  \\\n",
       "386         387   20  Female  Undergraduate      USA                    7.4   \n",
       "96           97   18    Male    High School   Kuwait                    5.7   \n",
       "287         288   22    Male       Graduate  Germany                    3.5   \n",
       "102         103   20    Male  Undergraduate    Yemen                    4.7   \n",
       "\n",
       "    most_used_platform affects_academic_performance  sleep_hours_per_night  \\\n",
       "386             TikTok                          Yes                    4.9   \n",
       "96            Snapchat                          Yes                    5.3   \n",
       "287           Facebook                           No                    8.0   \n",
       "102           Facebook                          Yes                    5.8   \n",
       "\n",
       "     mental_health_score relationship_status  conflicts_over_social_media  \\\n",
       "386                    5     In Relationship                            4   \n",
       "96                     5     In Relationship                            4   \n",
       "287                    8     In Relationship                            1   \n",
       "102                    6     In Relationship                            3   \n",
       "\n",
       "     addicted_score  \n",
       "386               9  \n",
       "96                8  \n",
       "287               4  \n",
       "102               7  "
      ]
     },
     "execution_count": 46,
     "metadata": {},
     "output_type": "execute_result"
    }
   ],
   "source": [
    "# Standardise column names\n",
    "student_df.columns = (student_df.columns.str.strip().str.lower())\n",
    "\n",
    "# Preview changes\n",
    "student_df.sample(4)"
   ]
  },
  {
   "cell_type": "code",
   "execution_count": 47,
   "id": "2a66d075",
   "metadata": {},
   "outputs": [
    {
     "name": "stdout",
     "output_type": "stream",
     "text": [
      "<class 'pandas.core.frame.DataFrame'>\n",
      "RangeIndex: 705 entries, 0 to 704\n",
      "Data columns (total 13 columns):\n",
      " #   Column                        Non-Null Count  Dtype  \n",
      "---  ------                        --------------  -----  \n",
      " 0   student_id                    705 non-null    int64  \n",
      " 1   age                           705 non-null    int64  \n",
      " 2   gender                        705 non-null    object \n",
      " 3   academic_level                705 non-null    object \n",
      " 4   country                       705 non-null    object \n",
      " 5   avg_daily_usage_hours         705 non-null    float64\n",
      " 6   most_used_platform            705 non-null    object \n",
      " 7   affects_academic_performance  705 non-null    object \n",
      " 8   sleep_hours_per_night         705 non-null    float64\n",
      " 9   mental_health_score           705 non-null    int64  \n",
      " 10  relationship_status           705 non-null    object \n",
      " 11  conflicts_over_social_media   705 non-null    int64  \n",
      " 12  addicted_score                705 non-null    int64  \n",
      "dtypes: float64(2), int64(5), object(6)\n",
      "memory usage: 71.7+ KB\n"
     ]
    }
   ],
   "source": [
    "# Get metadata\n",
    "student_df.info()"
   ]
  },
  {
   "cell_type": "code",
   "execution_count": 48,
   "id": "39684f4f",
   "metadata": {},
   "outputs": [
    {
     "data": {
      "text/html": [
       "<div>\n",
       "<style scoped>\n",
       "    .dataframe tbody tr th:only-of-type {\n",
       "        vertical-align: middle;\n",
       "    }\n",
       "\n",
       "    .dataframe tbody tr th {\n",
       "        vertical-align: top;\n",
       "    }\n",
       "\n",
       "    .dataframe thead th {\n",
       "        text-align: right;\n",
       "    }\n",
       "</style>\n",
       "<table border=\"1\" class=\"dataframe\">\n",
       "  <thead>\n",
       "    <tr style=\"text-align: right;\">\n",
       "      <th></th>\n",
       "      <th>student_id</th>\n",
       "      <th>age</th>\n",
       "      <th>avg_daily_usage_hours</th>\n",
       "      <th>sleep_hours_per_night</th>\n",
       "      <th>mental_health_score</th>\n",
       "      <th>conflicts_over_social_media</th>\n",
       "      <th>addicted_score</th>\n",
       "    </tr>\n",
       "  </thead>\n",
       "  <tbody>\n",
       "    <tr>\n",
       "      <th>count</th>\n",
       "      <td>705.000000</td>\n",
       "      <td>705.000000</td>\n",
       "      <td>705.000000</td>\n",
       "      <td>705.000000</td>\n",
       "      <td>705.000000</td>\n",
       "      <td>705.000000</td>\n",
       "      <td>705.000000</td>\n",
       "    </tr>\n",
       "    <tr>\n",
       "      <th>mean</th>\n",
       "      <td>353.000000</td>\n",
       "      <td>20.659574</td>\n",
       "      <td>4.918723</td>\n",
       "      <td>6.868936</td>\n",
       "      <td>6.226950</td>\n",
       "      <td>2.849645</td>\n",
       "      <td>6.436879</td>\n",
       "    </tr>\n",
       "    <tr>\n",
       "      <th>std</th>\n",
       "      <td>203.660256</td>\n",
       "      <td>1.399217</td>\n",
       "      <td>1.257395</td>\n",
       "      <td>1.126848</td>\n",
       "      <td>1.105055</td>\n",
       "      <td>0.957968</td>\n",
       "      <td>1.587165</td>\n",
       "    </tr>\n",
       "    <tr>\n",
       "      <th>min</th>\n",
       "      <td>1.000000</td>\n",
       "      <td>18.000000</td>\n",
       "      <td>1.500000</td>\n",
       "      <td>3.800000</td>\n",
       "      <td>4.000000</td>\n",
       "      <td>0.000000</td>\n",
       "      <td>2.000000</td>\n",
       "    </tr>\n",
       "    <tr>\n",
       "      <th>25%</th>\n",
       "      <td>177.000000</td>\n",
       "      <td>19.000000</td>\n",
       "      <td>4.100000</td>\n",
       "      <td>6.000000</td>\n",
       "      <td>5.000000</td>\n",
       "      <td>2.000000</td>\n",
       "      <td>5.000000</td>\n",
       "    </tr>\n",
       "    <tr>\n",
       "      <th>50%</th>\n",
       "      <td>353.000000</td>\n",
       "      <td>21.000000</td>\n",
       "      <td>4.800000</td>\n",
       "      <td>6.900000</td>\n",
       "      <td>6.000000</td>\n",
       "      <td>3.000000</td>\n",
       "      <td>7.000000</td>\n",
       "    </tr>\n",
       "    <tr>\n",
       "      <th>75%</th>\n",
       "      <td>529.000000</td>\n",
       "      <td>22.000000</td>\n",
       "      <td>5.800000</td>\n",
       "      <td>7.700000</td>\n",
       "      <td>7.000000</td>\n",
       "      <td>4.000000</td>\n",
       "      <td>8.000000</td>\n",
       "    </tr>\n",
       "    <tr>\n",
       "      <th>max</th>\n",
       "      <td>705.000000</td>\n",
       "      <td>24.000000</td>\n",
       "      <td>8.500000</td>\n",
       "      <td>9.600000</td>\n",
       "      <td>9.000000</td>\n",
       "      <td>5.000000</td>\n",
       "      <td>9.000000</td>\n",
       "    </tr>\n",
       "  </tbody>\n",
       "</table>\n",
       "</div>"
      ],
      "text/plain": [
       "       student_id         age  avg_daily_usage_hours  sleep_hours_per_night  \\\n",
       "count  705.000000  705.000000             705.000000             705.000000   \n",
       "mean   353.000000   20.659574               4.918723               6.868936   \n",
       "std    203.660256    1.399217               1.257395               1.126848   \n",
       "min      1.000000   18.000000               1.500000               3.800000   \n",
       "25%    177.000000   19.000000               4.100000               6.000000   \n",
       "50%    353.000000   21.000000               4.800000               6.900000   \n",
       "75%    529.000000   22.000000               5.800000               7.700000   \n",
       "max    705.000000   24.000000               8.500000               9.600000   \n",
       "\n",
       "       mental_health_score  conflicts_over_social_media  addicted_score  \n",
       "count           705.000000                   705.000000      705.000000  \n",
       "mean              6.226950                     2.849645        6.436879  \n",
       "std               1.105055                     0.957968        1.587165  \n",
       "min               4.000000                     0.000000        2.000000  \n",
       "25%               5.000000                     2.000000        5.000000  \n",
       "50%               6.000000                     3.000000        7.000000  \n",
       "75%               7.000000                     4.000000        8.000000  \n",
       "max               9.000000                     5.000000        9.000000  "
      ]
     },
     "execution_count": 48,
     "metadata": {},
     "output_type": "execute_result"
    }
   ],
   "source": [
    "# Get basic statistical info of numerical variables\n",
    "student_df.describe()"
   ]
  },
  {
   "cell_type": "code",
   "execution_count": 49,
   "id": "4077a3d5",
   "metadata": {},
   "outputs": [
    {
     "data": {
      "text/html": [
       "<div>\n",
       "<style scoped>\n",
       "    .dataframe tbody tr th:only-of-type {\n",
       "        vertical-align: middle;\n",
       "    }\n",
       "\n",
       "    .dataframe tbody tr th {\n",
       "        vertical-align: top;\n",
       "    }\n",
       "\n",
       "    .dataframe thead th {\n",
       "        text-align: right;\n",
       "    }\n",
       "</style>\n",
       "<table border=\"1\" class=\"dataframe\">\n",
       "  <thead>\n",
       "    <tr style=\"text-align: right;\">\n",
       "      <th></th>\n",
       "      <th>count</th>\n",
       "      <th>unique</th>\n",
       "      <th>top</th>\n",
       "      <th>freq</th>\n",
       "    </tr>\n",
       "  </thead>\n",
       "  <tbody>\n",
       "    <tr>\n",
       "      <th>gender</th>\n",
       "      <td>705</td>\n",
       "      <td>2</td>\n",
       "      <td>Female</td>\n",
       "      <td>353</td>\n",
       "    </tr>\n",
       "    <tr>\n",
       "      <th>academic_level</th>\n",
       "      <td>705</td>\n",
       "      <td>3</td>\n",
       "      <td>Undergraduate</td>\n",
       "      <td>353</td>\n",
       "    </tr>\n",
       "    <tr>\n",
       "      <th>country</th>\n",
       "      <td>705</td>\n",
       "      <td>110</td>\n",
       "      <td>India</td>\n",
       "      <td>53</td>\n",
       "    </tr>\n",
       "    <tr>\n",
       "      <th>most_used_platform</th>\n",
       "      <td>705</td>\n",
       "      <td>12</td>\n",
       "      <td>Instagram</td>\n",
       "      <td>249</td>\n",
       "    </tr>\n",
       "    <tr>\n",
       "      <th>affects_academic_performance</th>\n",
       "      <td>705</td>\n",
       "      <td>2</td>\n",
       "      <td>Yes</td>\n",
       "      <td>453</td>\n",
       "    </tr>\n",
       "    <tr>\n",
       "      <th>relationship_status</th>\n",
       "      <td>705</td>\n",
       "      <td>3</td>\n",
       "      <td>Single</td>\n",
       "      <td>384</td>\n",
       "    </tr>\n",
       "  </tbody>\n",
       "</table>\n",
       "</div>"
      ],
      "text/plain": [
       "                             count unique            top freq\n",
       "gender                         705      2         Female  353\n",
       "academic_level                 705      3  Undergraduate  353\n",
       "country                        705    110          India   53\n",
       "most_used_platform             705     12      Instagram  249\n",
       "affects_academic_performance   705      2            Yes  453\n",
       "relationship_status            705      3         Single  384"
      ]
     },
     "execution_count": 49,
     "metadata": {},
     "output_type": "execute_result"
    }
   ],
   "source": [
    "# Get basic statistical info of categorical variables\n",
    "student_df.describe(include = 'O').T"
   ]
  },
  {
   "cell_type": "code",
   "execution_count": 50,
   "id": "bf9b9f0d",
   "metadata": {},
   "outputs": [
    {
     "name": "stdout",
     "output_type": "stream",
     "text": [
      "Duplicates: 0\n",
      "\n",
      "Null Values:\n",
      " student_id                      0\n",
      "age                             0\n",
      "gender                          0\n",
      "academic_level                  0\n",
      "country                         0\n",
      "avg_daily_usage_hours           0\n",
      "most_used_platform              0\n",
      "affects_academic_performance    0\n",
      "sleep_hours_per_night           0\n",
      "mental_health_score             0\n",
      "relationship_status             0\n",
      "conflicts_over_social_media     0\n",
      "addicted_score                  0\n",
      "dtype: int64\n"
     ]
    }
   ],
   "source": [
    "# Check for duplicattes and nulls\n",
    "print('Duplicates:', student_df.duplicated().sum())\n",
    "print('\\nNull Values:\\n', student_df.isna().sum())"
   ]
  },
  {
   "cell_type": "markdown",
   "id": "6e68be35",
   "metadata": {},
   "source": [
    "# DATA UNDERSTANDING\n",
    "\n",
    "Before diving deep into analysis, it's crucial to understand the landscape of the dataset- its structure, health, and what the raw numbers are whispering beneath the surface.\n",
    "\n",
    "### Dataset Snapshot\n",
    "\n",
    "The dataset comprises **705 student records**, each detailing social media habits, academic status, and mental health indicators. The data is clean and structured- no null values, no duplicate records. A solid foundation to build insights on.\n",
    "\n",
    "### Data Integrity\n",
    "\n",
    "**Duplicates:** 0- Each entry is unique.\n",
    "\n",
    "**Null Values:** None- All fields are complete.\n",
    "\n",
    "This means no immediate data wrangling is needed- we can proceed straight to meaningful exploration.\n",
    "\n",
    "### Categorical Features\n",
    "\n",
    "| Feature | Unique Values | Most Frequent | Frequency |\n",
    "|---------|----------------|----------------|-----------|\n",
    "| 'gender' | 2 | Female | 353 |\n",
    "| 'academic_level' | 3 | Undergraduate | 353 |\n",
    "| 'country' | 110 | India | 53 |\n",
    "| 'most_used_platform' | 12 | Instagram | 249 |\n",
    "| 'affects_academic_performance' | 2 | Yes | 453 |\n",
    "| 'relationship_status' | 3 | Single | 384 |\n",
    "\n",
    "**Observation:**  \n",
    "- The dataset skews slightly towards **female students** and **undergraduates**.  \n",
    "- **Instagram** dominates as the most-used platform, hinting at a potential hotspot for behavioral patterns.  \n",
    "- A majority acknowledge that social media affects their academic performance.\n",
    "\n",
    "### Numerical Features (Summary Statistics)\n",
    "\n",
    "| Feature | Mean | Std | Min | 25% | 50% | 75% | Max |\n",
    "|---------|------|-----|-----|-----|-----|-----|-----|\n",
    "| 'age' | 20.66 | 1.40 | 18 | 19 | 21 | 22 | 24 |\n",
    "| 'avg_daily_usage_hours' | 4.92 | 1.26 | 1.5 | 4.1 | 4.8 | 5.8 | 8.5 |\n",
    "| 'sleep_hours_per_night' | 6.87 | 1.13 | 3.8 | 6.0 | 6.9 | 7.7 | 9.6 |\n",
    "| 'mental_health_score' | 6.23 | 1.11 | 4 | 5 | 6 | 7 | 9 |\n",
    "| 'conflicts_over_social_media' | 2.85 | 0.96 | 0 | 2 | 3 | 4 | 5 |\n",
    "| 'addicted_score' | 6.44 | 1.59 | 2 | 5 | 7 | 8 | 9 |\n",
    "\n",
    "**Observation Highlights:**\n",
    "- On average, students spend just under **5 hours daily** on social media- nearly a part-time job.\n",
    "- Most students report getting **~7 hours of sleep**, but there's a low-end outlier at 3.8 hours.\n",
    "- **Mental health scores** lean toward moderate to good (mean ≈ 6.2 out of 10), but deeper analysis may reveal platform or usage correlations.\n",
    "- **Addiction scores** show notable variation- an area worth visualizing across academic levels or usage time.\n",
    "\n",
    "### Early Insight Teasers\n",
    "\n",
    "- Heavy Instagram usage and high average screen time could signal burnout or academic pressure.\n",
    "- Students reporting more social media conflicts tend to rate higher on the addiction scale.\n",
    "- Relationship status might have an influence on both usage and mental health metrics. Are lonely hearts coping with memes or melting- a juicy angle for later  \n",
    "\n",
    "Next step? Let’s dive into **exploratory data analysis** and uncover the patterns hiding in plain sight.\n",
    "\n",
    "Grab your matcha, your mouse, and your mental map- this rabbit hole’s about to get interesting."
   ]
  },
  {
   "cell_type": "markdown",
   "id": "e11fc590",
   "metadata": {},
   "source": [
    "# EXPLORATORY DATA ANALYSIS (EDA)\n",
    "\n",
    "Time to lift the hood.\n",
    "\n",
    "EDA is where the dataset stops being \"just numbers\" and starts telling *its story*. Patterns start peeking through. Outliers try to hide. Trends? They whisper- if you’re paying attention.\n",
    "\n",
    "We're not just plotting for aesthetics- we’re here to ask:\n",
    "- Who’s using what?\n",
    "- How deep is the scroll?\n",
    "- Is Instagram just a time-killer, or a mental health landmine?\n",
    "- Do students sleeping less also feel worse?\n",
    "- And does being single = more screen time?\n",
    "\n",
    "This is the stage where the **\"what\"** meets the **\"why.\"**  \n",
    "\n",
    "\n",
    "But first...\n"
   ]
  },
  {
   "cell_type": "markdown",
   "id": "f1e3528a",
   "metadata": {},
   "source": [
    "## Feature Engineering\n",
    "\n",
    "The average age floats around 20.6, but raw age alone doesn’t always tell us much- especially when we're looking for *group-level behavior*. \n",
    "\n",
    "So, we'll slice age into meaningful buckets (age-group):\n",
    "\n",
    "- **18–19**: Freshmen & early college energy.\n",
    "- **20–21**: Mid-academia hustle- balancing dreams, deadlines, and DMs.\n",
    "- **22–24**: Final stretch- prepping for life after school (or just more school).\n",
    "\n",
    "This makes it easier to compare behavior across stages- think: Does social media hit different when you're just starting uni vs. when you’re about to finish?\n",
    "\n",
    "Let's create that new feature: 'age_group'."
   ]
  },
  {
   "cell_type": "code",
   "execution_count": 51,
   "id": "08d1db66",
   "metadata": {},
   "outputs": [
    {
     "data": {
      "text/plain": [
       "20-22    468\n",
       "16-19    177\n",
       "23-25     60\n",
       "Name: age_group, dtype: int64"
      ]
     },
     "execution_count": 51,
     "metadata": {},
     "output_type": "execute_result"
    }
   ],
   "source": [
    "# Define function to bucket age\n",
    "def age_group(age):\n",
    "    if 16 <= age <= 19:\n",
    "        return '16-19'\n",
    "    elif 20 <= age <= 22:\n",
    "        return '20-22'\n",
    "    elif 23 <= age <= 25:\n",
    "        return '23-25'\n",
    "    else:\n",
    "        return 'Other'\n",
    "\n",
    "# Apply function to create new column\n",
    "student_df['age_group'] = student_df['age'].apply(age_group)\n",
    "\n",
    "# Preview changes\n",
    "student_df['age_group'].value_counts()"
   ]
  },
  {
   "cell_type": "markdown",
   "id": "b9e1e09d",
   "metadata": {},
   "source": [
    "## Outlier Detection: \n",
    "\n",
    "Before we start trusting averages and plotting trends, we gotta check:  \n",
    "Which values are legit... and which are just statistical noise?\n",
    "\n",
    "We’ll focus on the **numerical columns**:\n",
    "\n",
    "- 'age'  \n",
    "- 'avg_daily_usage_hours'  \n",
    "- 'sleep_hours_per_night'  \n",
    "- 'mental_health_score'  \n",
    "- 'conflicts_over_social_media'  \n",
    "- 'addicted_score'\n",
    "\n",
    "We’ll use **IQR (Interquartile Range) method** — a solid way to catch outliers without assuming normality. Here's how it goes:\n",
    "\n",
    "- Anything below **Q1 - 1.5 × IQR** or above **Q3 + 1.5 × IQR** gets flagged.\n",
    "- But context matters — not every \"outlier\" is bad. Some are just real people with chaotic routines.\n",
    "\n",
    "We’ll plot them too- boxplotsto *see* where the edge cases lie.\n",
    "\n",
    "Because sometimes, the outliers aren’t errors- they’re the story."
   ]
  },
  {
   "cell_type": "code",
   "execution_count": 52,
   "id": "41a7d15b",
   "metadata": {},
   "outputs": [
    {
     "data": {
      "text/html": [
       "<div>\n",
       "<style scoped>\n",
       "    .dataframe tbody tr th:only-of-type {\n",
       "        vertical-align: middle;\n",
       "    }\n",
       "\n",
       "    .dataframe tbody tr th {\n",
       "        vertical-align: top;\n",
       "    }\n",
       "\n",
       "    .dataframe thead th {\n",
       "        text-align: right;\n",
       "    }\n",
       "</style>\n",
       "<table border=\"1\" class=\"dataframe\">\n",
       "  <thead>\n",
       "    <tr style=\"text-align: right;\">\n",
       "      <th></th>\n",
       "      <th>count</th>\n",
       "      <th>percent</th>\n",
       "      <th>lower_bound</th>\n",
       "      <th>upper_bound</th>\n",
       "    </tr>\n",
       "  </thead>\n",
       "  <tbody>\n",
       "    <tr>\n",
       "      <th>age</th>\n",
       "      <td>0.0</td>\n",
       "      <td>0.00</td>\n",
       "      <td>14.50</td>\n",
       "      <td>26.50</td>\n",
       "    </tr>\n",
       "    <tr>\n",
       "      <th>avg_daily_usage_hours</th>\n",
       "      <td>3.0</td>\n",
       "      <td>0.43</td>\n",
       "      <td>1.55</td>\n",
       "      <td>8.35</td>\n",
       "    </tr>\n",
       "    <tr>\n",
       "      <th>sleep_hours_per_night</th>\n",
       "      <td>0.0</td>\n",
       "      <td>0.00</td>\n",
       "      <td>3.45</td>\n",
       "      <td>10.25</td>\n",
       "    </tr>\n",
       "    <tr>\n",
       "      <th>mental_health_score</th>\n",
       "      <td>0.0</td>\n",
       "      <td>0.00</td>\n",
       "      <td>2.00</td>\n",
       "      <td>10.00</td>\n",
       "    </tr>\n",
       "    <tr>\n",
       "      <th>conflicts_over_social_media</th>\n",
       "      <td>0.0</td>\n",
       "      <td>0.00</td>\n",
       "      <td>-1.00</td>\n",
       "      <td>7.00</td>\n",
       "    </tr>\n",
       "    <tr>\n",
       "      <th>addicted_score</th>\n",
       "      <td>0.0</td>\n",
       "      <td>0.00</td>\n",
       "      <td>0.50</td>\n",
       "      <td>12.50</td>\n",
       "    </tr>\n",
       "  </tbody>\n",
       "</table>\n",
       "</div>"
      ],
      "text/plain": [
       "                             count  percent  lower_bound  upper_bound\n",
       "age                            0.0     0.00        14.50        26.50\n",
       "avg_daily_usage_hours          3.0     0.43         1.55         8.35\n",
       "sleep_hours_per_night          0.0     0.00         3.45        10.25\n",
       "mental_health_score            0.0     0.00         2.00        10.00\n",
       "conflicts_over_social_media    0.0     0.00        -1.00         7.00\n",
       "addicted_score                 0.0     0.00         0.50        12.50"
      ]
     },
     "execution_count": 52,
     "metadata": {},
     "output_type": "execute_result"
    }
   ],
   "source": [
    "# List of numerical columns to check\n",
    "num_cols = [\n",
    "    'age',\n",
    "    'avg_daily_usage_hours',\n",
    "    'sleep_hours_per_night',\n",
    "    'mental_health_score',\n",
    "    'conflicts_over_social_media',\n",
    "    'addicted_score'\n",
    "]\n",
    "\n",
    "# Create a DataFrame to flag outliers\n",
    "outlier_summary = {}\n",
    "\n",
    "for col in num_cols:\n",
    "    Q1 = student_df[col].quantile(0.25)\n",
    "    Q3 = student_df[col].quantile(0.75)\n",
    "    IQR = Q3 - Q1\n",
    "    lower_bound = Q1 - 1.5 * IQR\n",
    "    upper_bound = Q3 + 1.5 * IQR\n",
    "    outliers = student_df[(student_df[col] < lower_bound) | (student_df[col] > upper_bound)]\n",
    "    \n",
    "    outlier_summary[col] = {\n",
    "        'count': len(outliers),\n",
    "        'percent': round((len(outliers) / len(student_df)) * 100, 2),\n",
    "        'lower_bound': lower_bound,\n",
    "        'upper_bound': upper_bound\n",
    "    }\n",
    "\n",
    "# Convert summary to a DataFrame\n",
    "outlier_df = pd.DataFrame(outlier_summary).T\n",
    "outlier_df\n"
   ]
  },
  {
   "cell_type": "code",
   "execution_count": 53,
   "id": "fdf4d069",
   "metadata": {},
   "outputs": [
    {
     "data": {
      "image/png": "[encoded data removed]",
      "text/plain": [
       "<Figure size 1152x576 with 6 Axes>"
      ]
     },
     "metadata": {
      "needs_background": "light"
     },
     "output_type": "display_data"
    }
   ],
   "source": [
    "# Visualise outliers\n",
    "plt.figure(figsize = (16, 8))\n",
    "\n",
    "for i, col in enumerate(num_cols, 1):\n",
    "    plt.subplot(2, 3, i)\n",
    "    sns.boxplot(x = student_df[col], color = '#6a5acd')\n",
    "    plt.title(f'{col}')\n",
    "    plt.tight_layout()"
   ]
  },
  {
   "cell_type": "markdown",
   "id": "3e29f45f",
   "metadata": {},
   "source": [
    "**Key Takeaway:**  \n",
    "Only **'avg_daily_usage_hours'** shows a slight presence of outliers- just 3 students (0.43%) who are likely heavy social media users (probably TikTok warriors or meme page admins). The rest of the numerical fields are **clean and within range**, so we can proceed without needing to cap or remove any values.\n",
    "\n",
    "We’ll keep those 3 usage-hour outliers in for now — they’re *real behavior*, not data errors."
   ]
  },
  {
   "cell_type": "markdown",
   "id": "feee80a4",
   "metadata": {},
   "source": [
    "# UNIVARIATE ANALYSIS\n",
    "\n",
    "Before we start connecting dots and drawing conclusions, we need to understand each feature on its own- no distractions, no correlations, just the raw behavior of the variables.\n",
    "\n",
    "This phase is about asking:  \n",
    "- What’s the shape of our data?\n",
    "- Are values clustered, skewed, or flatlined?\n",
    "- Who’s dominating the scene in each category?\n",
    "\n",
    "We’ll break it down:\n",
    "- **Categorical variables**- using bar plots to spot the loudest voices.\n",
    "- **Numerical variables**- histograms and distributions.\n",
    "\n",
    "This isn’t just a stats check- it’s the part where we get familiar with the cast before analyzing the plot.\n",
    "\n",
    "Let’s meet the features."
   ]
  },
  {
   "cell_type": "markdown",
   "id": "8f01035c",
   "metadata": {},
   "source": [
    "## 1. Age Group\n",
    "\n",
    "Age is more than just a number- it’s a behavioral compass. In this context, it helps us decode maturity levels, digital tendencies, and academic resilience. Whether it’s a 19-year-old riding the algorithm wave on TikTok or a 24-year-old balancing coursework with real-world responsibilities, age gives us context that raw numbers can’t.\n",
    "\n",
    "In this analysis, we’ve grouped students into distinct **age bands** to make patterns easier to spot- because let’s face it, analyzing a swarm of floating integers isn’t anyone’s idea of clarity. These bins aren’t arbitrary; they reflect real transitions in lifestyle, motivation, and digital consumption.\n",
    "\n",
    "So before we start connecting dots between screen time and sleep cycles, let’s answer a simple question:  \n",
    "**Who’s actually in this data?**"
   ]
  },
  {
   "cell_type": "code",
   "execution_count": 54,
   "id": "70633255",
   "metadata": {},
   "outputs": [
    {
     "name": "stdout",
     "output_type": "stream",
     "text": [
      "Age Group Counts:\n",
      "  age_group  count\n",
      "1     16-19    177\n",
      "0     20-22    468\n",
      "2     23-25     60\n"
     ]
    },
    {
     "data": {
      "application/vnd.plotly.v1+json": {
       "config": {
        "plotlyServerURL": "https://plot.ly"
       },
       "data": [
        {
         "alignmentgroup": "True",
         "hovertemplate": "age_group=%{x}<br>count=%{text}<extra></extra>",
         "legendgroup": "16-19",
         "marker": {
          "color": "#4B0082"
         },
         "name": "16-19",
         "offsetgroup": "16-19",
         "orientation": "v",
         "showlegend": true,
         "text": [
          177
         ],
         "textposition": "auto",
         "type": "bar",
         "x": [
          "16-19"
         ],
         "xaxis": "x",
         "y": [
          177
         ],
         "yaxis": "y"
        },
        {
         "alignmentgroup": "True",
         "hovertemplate": "age_group=%{x}<br>count=%{text}<extra></extra>",
         "legendgroup": "20-22",
         "marker": {
          "color": "#6A5ACD"
         },
         "name": "20-22",
         "offsetgroup": "20-22",
         "orientation": "v",
         "showlegend": true,
         "text": [
          468
         ],
         "textposition": "auto",
         "type": "bar",
         "x": [
          "20-22"
         ],
         "xaxis": "x",
         "y": [
          468
         ],
         "yaxis": "y"
        },
        {
         "alignmentgroup": "True",
         "hovertemplate": "age_group=%{x}<br>count=%{text}<extra></extra>",
         "legendgroup": "23-25",
         "marker": {
          "color": "#8A2BE2"
         },
         "name": "23-25",
         "offsetgroup": "23-25",
         "orientation": "v",
         "showlegend": true,
         "text": [
          60
         ],
         "textposition": "auto",
         "type": "bar",
         "x": [
          "23-25"
         ],
         "xaxis": "x",
         "y": [
          60
         ],
         "yaxis": "y"
        }
       ],
       "layout": {
        "barmode": "relative",
        "font": {
         "color": "black",
         "family": "Lato",
         "size": 14
        },
        "legend": {
         "title": {
          "text": "age_group"
         },
         "tracegroupgap": 0
        },
        "showlegend": false,
        "template": {
         "data": {
          "bar": [
           {
            "error_x": {
             "color": "#2a3f5f"
            },
            "error_y": {
             "color": "#2a3f5f"
            },
            "marker": {
             "line": {
              "color": "#E5ECF6",
              "width": 0.5
             }
            },
            "type": "bar"
           }
          ],
          "barpolar": [
           {
            "marker": {
             "line": {
              "color": "#E5ECF6",
              "width": 0.5
             }
            },
            "type": "barpolar"
           }
          ],
          "carpet": [
           {
            "aaxis": {
             "endlinecolor": "#2a3f5f",
             "gridcolor": "white",
             "linecolor": "white",
             "minorgridcolor": "white",
             "startlinecolor": "#2a3f5f"
            },
            "baxis": {
             "endlinecolor": "#2a3f5f",
             "gridcolor": "white",
             "linecolor": "white",
             "minorgridcolor": "white",
             "startlinecolor": "#2a3f5f"
            },
            "type": "carpet"
           }
          ],
          "choropleth": [
           {
            "colorbar": {
             "outlinewidth": 0,
             "ticks": ""
            },
            "type": "choropleth"
           }
          ],
          "contour": [
           {
            "colorbar": {
             "outlinewidth": 0,
             "ticks": ""
            },
            "colorscale": [
             [
              0,
              "#0d0887"
             ],
             [
              0.1111111111111111,
              "#46039f"
             ],
             [
              0.2222222222222222,
              "#7201a8"
             ],
             [
              0.3333333333333333,
              "#9c179e"
             ],
             [
              0.4444444444444444,
              "#bd3786"
             ],
             [
              0.5555555555555556,
              "#d8576b"
             ],
             [
              0.6666666666666666,
              "#ed7953"
             ],
             [
              0.7777777777777778,
              "#fb9f3a"
             ],
             [
              0.8888888888888888,
              "#fdca26"
             ],
             [
              1,
              "#f0f921"
             ]
            ],
            "type": "contour"
           }
          ],
          "contourcarpet": [
           {
            "colorbar": {
             "outlinewidth": 0,
             "ticks": ""
            },
            "type": "contourcarpet"
           }
          ],
          "heatmap": [
           {
            "colorbar": {
             "outlinewidth": 0,
             "ticks": ""
            },
            "colorscale": [
             [
              0,
              "#0d0887"
             ],
             [
              0.1111111111111111,
              "#46039f"
             ],
             [
              0.2222222222222222,
              "#7201a8"
             ],
             [
              0.3333333333333333,
              "#9c179e"
             ],
             [
              0.4444444444444444,
              "#bd3786"
             ],
             [
              0.5555555555555556,
              "#d8576b"
             ],
             [
              0.6666666666666666,
              "#ed7953"
             ],
             [
              0.7777777777777778,
              "#fb9f3a"
             ],
             [
              0.8888888888888888,
              "#fdca26"
             ],
             [
              1,
              "#f0f921"
             ]
            ],
            "type": "heatmap"
           }
          ],
          "heatmapgl": [
           {
            "colorbar": {
             "outlinewidth": 0,
             "ticks": ""
            },
            "colorscale": [
             [
              0,
              "#0d0887"
             ],
             [
              0.1111111111111111,
              "#46039f"
             ],
             [
              0.2222222222222222,
              "#7201a8"
             ],
             [
              0.3333333333333333,
              "#9c179e"
             ],
             [
              0.4444444444444444,
              "#bd3786"
             ],
             [
              0.5555555555555556,
              "#d8576b"
             ],
             [
              0.6666666666666666,
              "#ed7953"
             ],
             [
              0.7777777777777778,
              "#fb9f3a"
             ],
             [
              0.8888888888888888,
              "#fdca26"
             ],
             [
              1,
              "#f0f921"
             ]
            ],
            "type": "heatmapgl"
           }
          ],
          "histogram": [
           {
            "marker": {
             "colorbar": {
              "outlinewidth": 0,
              "ticks": ""
             }
            },
            "type": "histogram"
           }
          ],
          "histogram2d": [
           {
            "colorbar": {
             "outlinewidth": 0,
             "ticks": ""
            },
            "colorscale": [
             [
              0,
              "#0d0887"
             ],
             [
              0.1111111111111111,
              "#46039f"
             ],
             [
              0.2222222222222222,
              "#7201a8"
             ],
             [
              0.3333333333333333,
              "#9c179e"
             ],
             [
              0.4444444444444444,
              "#bd3786"
             ],
             [
              0.5555555555555556,
              "#d8576b"
             ],
             [
              0.6666666666666666,
              "#ed7953"
             ],
             [
              0.7777777777777778,
              "#fb9f3a"
             ],
             [
              0.8888888888888888,
              "#fdca26"
             ],
             [
              1,
              "#f0f921"
             ]
            ],
            "type": "histogram2d"
           }
          ],
          "histogram2dcontour": [
           {
            "colorbar": {
             "outlinewidth": 0,
             "ticks": ""
            },
            "colorscale": [
             [
              0,
              "#0d0887"
             ],
             [
              0.1111111111111111,
              "#46039f"
             ],
             [
              0.2222222222222222,
              "#7201a8"
             ],
             [
              0.3333333333333333,
              "#9c179e"
             ],
             [
              0.4444444444444444,
              "#bd3786"
             ],
             [
              0.5555555555555556,
              "#d8576b"
             ],
             [
              0.6666666666666666,
              "#ed7953"
             ],
             [
              0.7777777777777778,
              "#fb9f3a"
             ],
             [
              0.8888888888888888,
              "#fdca26"
             ],
             [
              1,
              "#f0f921"
             ]
            ],
            "type": "histogram2dcontour"
           }
          ],
          "mesh3d": [
           {
            "colorbar": {
             "outlinewidth": 0,
             "ticks": ""
            },
            "type": "mesh3d"
           }
          ],
          "parcoords": [
           {
            "line": {
             "colorbar": {
              "outlinewidth": 0,
              "ticks": ""
             }
            },
            "type": "parcoords"
           }
          ],
          "pie": [
           {
            "automargin": true,
            "type": "pie"
           }
          ],
          "scatter": [
           {
            "marker": {
             "colorbar": {
              "outlinewidth": 0,
              "ticks": ""
             }
            },
            "type": "scatter"
           }
          ],
          "scatter3d": [
           {
            "line": {
             "colorbar": {
              "outlinewidth": 0,
              "ticks": ""
             }
            },
            "marker": {
             "colorbar": {
              "outlinewidth": 0,
              "ticks": ""
             }
            },
            "type": "scatter3d"
           }
          ],
          "scattercarpet": [
           {
            "marker": {
             "colorbar": {
              "outlinewidth": 0,
              "ticks": ""
             }
            },
            "type": "scattercarpet"
           }
          ],
          "scattergeo": [
           {
            "marker": {
             "colorbar": {
              "outlinewidth": 0,
              "ticks": ""
             }
            },
            "type": "scattergeo"
           }
          ],
          "scattergl": [
           {
            "marker": {
             "colorbar": {
              "outlinewidth": 0,
              "ticks": ""
             }
            },
            "type": "scattergl"
           }
          ],
          "scattermapbox": [
           {
            "marker": {
             "colorbar": {
              "outlinewidth": 0,
              "ticks": ""
             }
            },
            "type": "scattermapbox"
           }
          ],
          "scatterpolar": [
           {
            "marker": {
             "colorbar": {
              "outlinewidth": 0,
              "ticks": ""
             }
            },
            "type": "scatterpolar"
           }
          ],
          "scatterpolargl": [
           {
            "marker": {
             "colorbar": {
              "outlinewidth": 0,
              "ticks": ""
             }
            },
            "type": "scatterpolargl"
           }
          ],
          "scatterternary": [
           {
            "marker": {
             "colorbar": {
              "outlinewidth": 0,
              "ticks": ""
             }
            },
            "type": "scatterternary"
           }
          ],
          "surface": [
           {
            "colorbar": {
             "outlinewidth": 0,
             "ticks": ""
            },
            "colorscale": [
             [
              0,
              "#0d0887"
             ],
             [
              0.1111111111111111,
              "#46039f"
             ],
             [
              0.2222222222222222,
              "#7201a8"
             ],
             [
              0.3333333333333333,
              "#9c179e"
             ],
             [
              0.4444444444444444,
              "#bd3786"
             ],
             [
              0.5555555555555556,
              "#d8576b"
             ],
             [
              0.6666666666666666,
              "#ed7953"
             ],
             [
              0.7777777777777778,
              "#fb9f3a"
             ],
             [
              0.8888888888888888,
              "#fdca26"
             ],
             [
              1,
              "#f0f921"
             ]
            ],
            "type": "surface"
           }
          ],
          "table": [
           {
            "cells": {
             "fill": {
              "color": "#EBF0F8"
             },
             "line": {
              "color": "white"
             }
            },
            "header": {
             "fill": {
              "color": "#C8D4E3"
             },
             "line": {
              "color": "white"
             }
            },
            "type": "table"
           }
          ]
         },
         "layout": {
          "annotationdefaults": {
           "arrowcolor": "#2a3f5f",
           "arrowhead": 0,
           "arrowwidth": 1
          },
          "coloraxis": {
           "colorbar": {
            "outlinewidth": 0,
            "ticks": ""
           }
          },
          "colorscale": {
           "diverging": [
            [
             0,
             "#8e0152"
            ],
            [
             0.1,
             "#c51b7d"
            ],
            [
             0.2,
             "#de77ae"
            ],
            [
             0.3,
             "#f1b6da"
            ],
            [
             0.4,
             "#fde0ef"
            ],
            [
             0.5,
             "#f7f7f7"
            ],
            [
             0.6,
             "#e6f5d0"
            ],
            [
             0.7,
             "#b8e186"
            ],
            [
             0.8,
             "#7fbc41"
            ],
            [
             0.9,
             "#4d9221"
            ],
            [
             1,
             "#276419"
            ]
           ],
           "sequential": [
            [
             0,
             "#0d0887"
            ],
            [
             0.1111111111111111,
             "#46039f"
            ],
            [
             0.2222222222222222,
             "#7201a8"
            ],
            [
             0.3333333333333333,
             "#9c179e"
            ],
            [
             0.4444444444444444,
             "#bd3786"
            ],
            [
             0.5555555555555556,
             "#d8576b"
            ],
            [
             0.6666666666666666,
             "#ed7953"
            ],
            [
             0.7777777777777778,
             "#fb9f3a"
            ],
            [
             0.8888888888888888,
             "#fdca26"
            ],
            [
             1,
             "#f0f921"
            ]
           ],
           "sequentialminus": [
            [
             0,
             "#0d0887"
            ],
            [
             0.1111111111111111,
             "#46039f"
            ],
            [
             0.2222222222222222,
             "#7201a8"
            ],
            [
             0.3333333333333333,
             "#9c179e"
            ],
            [
             0.4444444444444444,
             "#bd3786"
            ],
            [
             0.5555555555555556,
             "#d8576b"
            ],
            [
             0.6666666666666666,
             "#ed7953"
            ],
            [
             0.7777777777777778,
             "#fb9f3a"
            ],
            [
             0.8888888888888888,
             "#fdca26"
            ],
            [
             1,
             "#f0f921"
            ]
           ]
          },
          "colorway": [
           "#636efa",
           "#EF553B",
           "#00cc96",
           "#ab63fa",
           "#FFA15A",
           "#19d3f3",
           "#FF6692",
           "#B6E880",
           "#FF97FF",
           "#FECB52"
          ],
          "font": {
           "color": "#2a3f5f"
          },
          "geo": {
           "bgcolor": "white",
           "lakecolor": "white",
           "landcolor": "#E5ECF6",
           "showlakes": true,
           "showland": true,
           "subunitcolor": "white"
          },
          "hoverlabel": {
           "align": "left"
          },
          "hovermode": "closest",
          "mapbox": {
           "style": "light"
          },
          "paper_bgcolor": "white",
          "plot_bgcolor": "#E5ECF6",
          "polar": {
           "angularaxis": {
            "gridcolor": "white",
            "linecolor": "white",
            "ticks": ""
           },
           "bgcolor": "#E5ECF6",
           "radialaxis": {
            "gridcolor": "white",
            "linecolor": "white",
            "ticks": ""
           }
          },
          "scene": {
           "xaxis": {
            "backgroundcolor": "#E5ECF6",
            "gridcolor": "white",
            "gridwidth": 2,
            "linecolor": "white",
            "showbackground": true,
            "ticks": "",
            "zerolinecolor": "white"
           },
           "yaxis": {
            "backgroundcolor": "#E5ECF6",
            "gridcolor": "white",
            "gridwidth": 2,
            "linecolor": "white",
            "showbackground": true,
            "ticks": "",
            "zerolinecolor": "white"
           },
           "zaxis": {
            "backgroundcolor": "#E5ECF6",
            "gridcolor": "white",
            "gridwidth": 2,
            "linecolor": "white",
            "showbackground": true,
            "ticks": "",
            "zerolinecolor": "white"
           }
          },
          "shapedefaults": {
           "line": {
            "color": "#2a3f5f"
           }
          },
          "ternary": {
           "aaxis": {
            "gridcolor": "white",
            "linecolor": "white",
            "ticks": ""
           },
           "baxis": {
            "gridcolor": "white",
            "linecolor": "white",
            "ticks": ""
           },
           "bgcolor": "#E5ECF6",
           "caxis": {
            "gridcolor": "white",
            "linecolor": "white",
            "ticks": ""
           }
          },
          "title": {
           "x": 0.05
          },
          "xaxis": {
           "automargin": true,
           "gridcolor": "white",
           "linecolor": "white",
           "ticks": "",
           "title": {
            "standoff": 15
           },
           "zerolinecolor": "white",
           "zerolinewidth": 2
          },
          "yaxis": {
           "automargin": true,
           "gridcolor": "white",
           "linecolor": "white",
           "ticks": "",
           "title": {
            "standoff": 15
           },
           "zerolinecolor": "white",
           "zerolinewidth": 2
          }
         }
        },
        "title": {
         "text": "Distribution of Age Groups"
        },
        "xaxis": {
         "anchor": "y",
         "categoryarray": [
          "16-19",
          "20-22",
          "23-25"
         ],
         "categoryorder": "array",
         "domain": [
          0,
          1
         ],
         "title": {
          "text": "Age Group"
         }
        },
        "yaxis": {
         "anchor": "x",
         "domain": [
          0,
          1
         ],
         "title": {
          "text": "Number of Students"
         }
        }
       }
      }
     },
     "metadata": {},
     "output_type": "display_data"
    }
   ],
   "source": [
    "# Get and display the value counts for age groups\n",
    "age_group_summary = (\n",
    "    student_df['age_group']\n",
    "    .value_counts()\n",
    "    .reset_index()\n",
    "    .rename(columns={'index': 'age_group', 'age_group': 'count'})\n",
    "    .sort_values('age_group')\n",
    ")\n",
    "\n",
    "# Display summary before plotting\n",
    "print('Age Group Counts:')\n",
    "print(age_group_summary)\n",
    "\n",
    "# Create bar plot\n",
    "fig = px.bar(\n",
    "    age_group_summary, \n",
    "    x = 'age_group', \n",
    "    y = 'count',\n",
    "    color = 'age_group',\n",
    "    title = 'Distribution of Age Groups',\n",
    "    text = 'count',\n",
    "    color_discrete_sequence = ['#4B0082', '#6A5ACD', '#8A2BE2']\n",
    ")\n",
    "\n",
    "fig.update_layout(\n",
    "    font = dict(\n",
    "        family = 'Lato',\n",
    "        size = 14,\n",
    "        color = 'black'\n",
    "    ),\n",
    "\n",
    "    xaxis_title = 'Age Group',\n",
    "    yaxis_title = 'Number of Students',\n",
    "    showlegend = False\n",
    ")\n",
    "\n",
    "fig.show()"
   ]
  },
  {
   "cell_type": "markdown",
   "id": "9fd58a47",
   "metadata": {},
   "source": [
    ">- **20–22 years** dominates the cohort, representing **~66%** of the sample (468 students).\n",
    ">- **16–19 years** follow at **~25%** (177 students).\n",
    ">- Only **~9%** (60 students) fall within the **23–25 years** bracket.\n",
    "\n",
    ">**Observation:** This age distribution suggests that the majority of respondents are likely in the **early stages of undergraduate studies**, a critical developmental window where digital behavior and academic performance are often most sensitive to environmental and psychological factors.\n",
    "\n",
    ">The **underrepresentation of older students (23–25)** may either reflect the typical age distribution of the academic institution or indicate reduced survey engagement from upperclassmen or non-traditional students."
   ]
  },
  {
   "cell_type": "markdown",
   "id": "9ecd1731",
   "metadata": {},
   "source": [
    "## 2. Gender\n",
    "Before diving into behavior patterns, it's important to know who’s at the table- in this case, we’re looking at gender distribution.\n",
    "\n",
    "Why does gender matter here? Because digital behavior isn't one-size-fits-all. From platform preferences to average screen time, gender can subtly- or not so subtly- influence how students engage with technology, how they cope, and how they learn.\n",
    "\n",
    "In this dataset, gender is reported as **Male** or **Female**, and while it might seem like a basic demographic checkbox, it often turns out to be one of the most telling factors in understanding mental health patterns, academic pressures, and even social media conflicts.\n",
    "\n",
    "So, let’s break it down: what’s the gender balance among our students? And more importantly, what might that mean for how we interpret their digital lives?"
   ]
  },
  {
   "cell_type": "code",
   "execution_count": 55,
   "id": "755c33eb",
   "metadata": {},
   "outputs": [
    {
     "name": "stdout",
     "output_type": "stream",
     "text": [
      "Gender Counts:\n",
      "   gender  count\n",
      "0  Female    353\n",
      "1    Male    352\n"
     ]
    },
    {
     "data": {
      "application/vnd.plotly.v1+json": {
       "config": {
        "plotlyServerURL": "https://plot.ly"
       },
       "data": [
        {
         "alignmentgroup": "True",
         "hovertemplate": "gender=%{x}<br>count=%{text}<extra></extra>",
         "legendgroup": "Female",
         "marker": {
          "color": "#FFA07A"
         },
         "name": "Female",
         "offsetgroup": "Female",
         "orientation": "v",
         "showlegend": true,
         "text": [
          353
         ],
         "textposition": "auto",
         "type": "bar",
         "x": [
          "Female"
         ],
         "xaxis": "x",
         "y": [
          353
         ],
         "yaxis": "y"
        },
        {
         "alignmentgroup": "True",
         "hovertemplate": "gender=%{x}<br>count=%{text}<extra></extra>",
         "legendgroup": "Male",
         "marker": {
          "color": "#6A5ACD"
         },
         "name": "Male",
         "offsetgroup": "Male",
         "orientation": "v",
         "showlegend": true,
         "text": [
          352
         ],
         "textposition": "auto",
         "type": "bar",
         "x": [
          "Male"
         ],
         "xaxis": "x",
         "y": [
          352
         ],
         "yaxis": "y"
        }
       ],
       "layout": {
        "barmode": "relative",
        "font": {
         "color": "black",
         "family": "Lato",
         "size": 14
        },
        "legend": {
         "title": {
          "text": "gender"
         },
         "tracegroupgap": 0
        },
        "showlegend": false,
        "template": {
         "data": {
          "bar": [
           {
            "error_x": {
             "color": "#2a3f5f"
            },
            "error_y": {
             "color": "#2a3f5f"
            },
            "marker": {
             "line": {
              "color": "#E5ECF6",
              "width": 0.5
             }
            },
            "type": "bar"
           }
          ],
          "barpolar": [
           {
            "marker": {
             "line": {
              "color": "#E5ECF6",
              "width": 0.5
             }
            },
            "type": "barpolar"
           }
          ],
          "carpet": [
           {
            "aaxis": {
             "endlinecolor": "#2a3f5f",
             "gridcolor": "white",
             "linecolor": "white",
             "minorgridcolor": "white",
             "startlinecolor": "#2a3f5f"
            },
            "baxis": {
             "endlinecolor": "#2a3f5f",
             "gridcolor": "white",
             "linecolor": "white",
             "minorgridcolor": "white",
             "startlinecolor": "#2a3f5f"
            },
            "type": "carpet"
           }
          ],
          "choropleth": [
           {
            "colorbar": {
             "outlinewidth": 0,
             "ticks": ""
            },
            "type": "choropleth"
           }
          ],
          "contour": [
           {
            "colorbar": {
             "outlinewidth": 0,
             "ticks": ""
            },
            "colorscale": [
             [
              0,
              "#0d0887"
             ],
             [
              0.1111111111111111,
              "#46039f"
             ],
             [
              0.2222222222222222,
              "#7201a8"
             ],
             [
              0.3333333333333333,
              "#9c179e"
             ],
             [
              0.4444444444444444,
              "#bd3786"
             ],
             [
              0.5555555555555556,
              "#d8576b"
             ],
             [
              0.6666666666666666,
              "#ed7953"
             ],
             [
              0.7777777777777778,
              "#fb9f3a"
             ],
             [
              0.8888888888888888,
              "#fdca26"
             ],
             [
              1,
              "#f0f921"
             ]
            ],
            "type": "contour"
           }
          ],
          "contourcarpet": [
           {
            "colorbar": {
             "outlinewidth": 0,
             "ticks": ""
            },
            "type": "contourcarpet"
           }
          ],
          "heatmap": [
           {
            "colorbar": {
             "outlinewidth": 0,
             "ticks": ""
            },
            "colorscale": [
             [
              0,
              "#0d0887"
             ],
             [
              0.1111111111111111,
              "#46039f"
             ],
             [
              0.2222222222222222,
              "#7201a8"
             ],
             [
              0.3333333333333333,
              "#9c179e"
             ],
             [
              0.4444444444444444,
              "#bd3786"
             ],
             [
              0.5555555555555556,
              "#d8576b"
             ],
             [
              0.6666666666666666,
              "#ed7953"
             ],
             [
              0.7777777777777778,
              "#fb9f3a"
             ],
             [
              0.8888888888888888,
              "#fdca26"
             ],
             [
              1,
              "#f0f921"
             ]
            ],
            "type": "heatmap"
           }
          ],
          "heatmapgl": [
           {
            "colorbar": {
             "outlinewidth": 0,
             "ticks": ""
            },
            "colorscale": [
             [
              0,
              "#0d0887"
             ],
             [
              0.1111111111111111,
              "#46039f"
             ],
             [
              0.2222222222222222,
              "#7201a8"
             ],
             [
              0.3333333333333333,
              "#9c179e"
             ],
             [
              0.4444444444444444,
              "#bd3786"
             ],
             [
              0.5555555555555556,
              "#d8576b"
             ],
             [
              0.6666666666666666,
              "#ed7953"
             ],
             [
              0.7777777777777778,
              "#fb9f3a"
             ],
             [
              0.8888888888888888,
              "#fdca26"
             ],
             [
              1,
              "#f0f921"
             ]
            ],
            "type": "heatmapgl"
           }
          ],
          "histogram": [
           {
            "marker": {
             "colorbar": {
              "outlinewidth": 0,
              "ticks": ""
             }
            },
            "type": "histogram"
           }
          ],
          "histogram2d": [
           {
            "colorbar": {
             "outlinewidth": 0,
             "ticks": ""
            },
            "colorscale": [
             [
              0,
              "#0d0887"
             ],
             [
              0.1111111111111111,
              "#46039f"
             ],
             [
              0.2222222222222222,
              "#7201a8"
             ],
             [
              0.3333333333333333,
              "#9c179e"
             ],
             [
              0.4444444444444444,
              "#bd3786"
             ],
             [
              0.5555555555555556,
              "#d8576b"
             ],
             [
              0.6666666666666666,
              "#ed7953"
             ],
             [
              0.7777777777777778,
              "#fb9f3a"
             ],
             [
              0.8888888888888888,
              "#fdca26"
             ],
             [
              1,
              "#f0f921"
             ]
            ],
            "type": "histogram2d"
           }
          ],
          "histogram2dcontour": [
           {
            "colorbar": {
             "outlinewidth": 0,
             "ticks": ""
            },
            "colorscale": [
             [
              0,
              "#0d0887"
             ],
             [
              0.1111111111111111,
              "#46039f"
             ],
             [
              0.2222222222222222,
              "#7201a8"
             ],
             [
              0.3333333333333333,
              "#9c179e"
             ],
             [
              0.4444444444444444,
              "#bd3786"
             ],
             [
              0.5555555555555556,
              "#d8576b"
             ],
             [
              0.6666666666666666,
              "#ed7953"
             ],
             [
              0.7777777777777778,
              "#fb9f3a"
             ],
             [
              0.8888888888888888,
              "#fdca26"
             ],
             [
              1,
              "#f0f921"
             ]
            ],
            "type": "histogram2dcontour"
           }
          ],
          "mesh3d": [
           {
            "colorbar": {
             "outlinewidth": 0,
             "ticks": ""
            },
            "type": "mesh3d"
           }
          ],
          "parcoords": [
           {
            "line": {
             "colorbar": {
              "outlinewidth": 0,
              "ticks": ""
             }
            },
            "type": "parcoords"
           }
          ],
          "pie": [
           {
            "automargin": true,
            "type": "pie"
           }
          ],
          "scatter": [
           {
            "marker": {
             "colorbar": {
              "outlinewidth": 0,
              "ticks": ""
             }
            },
            "type": "scatter"
           }
          ],
          "scatter3d": [
           {
            "line": {
             "colorbar": {
              "outlinewidth": 0,
              "ticks": ""
             }
            },
            "marker": {
             "colorbar": {
              "outlinewidth": 0,
              "ticks": ""
             }
            },
            "type": "scatter3d"
           }
          ],
          "scattercarpet": [
           {
            "marker": {
             "colorbar": {
              "outlinewidth": 0,
              "ticks": ""
             }
            },
            "type": "scattercarpet"
           }
          ],
          "scattergeo": [
           {
            "marker": {
             "colorbar": {
              "outlinewidth": 0,
              "ticks": ""
             }
            },
            "type": "scattergeo"
           }
          ],
          "scattergl": [
           {
            "marker": {
             "colorbar": {
              "outlinewidth": 0,
              "ticks": ""
             }
            },
            "type": "scattergl"
           }
          ],
          "scattermapbox": [
           {
            "marker": {
             "colorbar": {
              "outlinewidth": 0,
              "ticks": ""
             }
            },
            "type": "scattermapbox"
           }
          ],
          "scatterpolar": [
           {
            "marker": {
             "colorbar": {
              "outlinewidth": 0,
              "ticks": ""
             }
            },
            "type": "scatterpolar"
           }
          ],
          "scatterpolargl": [
           {
            "marker": {
             "colorbar": {
              "outlinewidth": 0,
              "ticks": ""
             }
            },
            "type": "scatterpolargl"
           }
          ],
          "scatterternary": [
           {
            "marker": {
             "colorbar": {
              "outlinewidth": 0,
              "ticks": ""
             }
            },
            "type": "scatterternary"
           }
          ],
          "surface": [
           {
            "colorbar": {
             "outlinewidth": 0,
             "ticks": ""
            },
            "colorscale": [
             [
              0,
              "#0d0887"
             ],
             [
              0.1111111111111111,
              "#46039f"
             ],
             [
              0.2222222222222222,
              "#7201a8"
             ],
             [
              0.3333333333333333,
              "#9c179e"
             ],
             [
              0.4444444444444444,
              "#bd3786"
             ],
             [
              0.5555555555555556,
              "#d8576b"
             ],
             [
              0.6666666666666666,
              "#ed7953"
             ],
             [
              0.7777777777777778,
              "#fb9f3a"
             ],
             [
              0.8888888888888888,
              "#fdca26"
             ],
             [
              1,
              "#f0f921"
             ]
            ],
            "type": "surface"
           }
          ],
          "table": [
           {
            "cells": {
             "fill": {
              "color": "#EBF0F8"
             },
             "line": {
              "color": "white"
             }
            },
            "header": {
             "fill": {
              "color": "#C8D4E3"
             },
             "line": {
              "color": "white"
             }
            },
            "type": "table"
           }
          ]
         },
         "layout": {
          "annotationdefaults": {
           "arrowcolor": "#2a3f5f",
           "arrowhead": 0,
           "arrowwidth": 1
          },
          "coloraxis": {
           "colorbar": {
            "outlinewidth": 0,
            "ticks": ""
           }
          },
          "colorscale": {
           "diverging": [
            [
             0,
             "#8e0152"
            ],
            [
             0.1,
             "#c51b7d"
            ],
            [
             0.2,
             "#de77ae"
            ],
            [
             0.3,
             "#f1b6da"
            ],
            [
             0.4,
             "#fde0ef"
            ],
            [
             0.5,
             "#f7f7f7"
            ],
            [
             0.6,
             "#e6f5d0"
            ],
            [
             0.7,
             "#b8e186"
            ],
            [
             0.8,
             "#7fbc41"
            ],
            [
             0.9,
             "#4d9221"
            ],
            [
             1,
             "#276419"
            ]
           ],
           "sequential": [
            [
             0,
             "#0d0887"
            ],
            [
             0.1111111111111111,
             "#46039f"
            ],
            [
             0.2222222222222222,
             "#7201a8"
            ],
            [
             0.3333333333333333,
             "#9c179e"
            ],
            [
             0.4444444444444444,
             "#bd3786"
            ],
            [
             0.5555555555555556,
             "#d8576b"
            ],
            [
             0.6666666666666666,
             "#ed7953"
            ],
            [
             0.7777777777777778,
             "#fb9f3a"
            ],
            [
             0.8888888888888888,
             "#fdca26"
            ],
            [
             1,
             "#f0f921"
            ]
           ],
           "sequentialminus": [
            [
             0,
             "#0d0887"
            ],
            [
             0.1111111111111111,
             "#46039f"
            ],
            [
             0.2222222222222222,
             "#7201a8"
            ],
            [
             0.3333333333333333,
             "#9c179e"
            ],
            [
             0.4444444444444444,
             "#bd3786"
            ],
            [
             0.5555555555555556,
             "#d8576b"
            ],
            [
             0.6666666666666666,
             "#ed7953"
            ],
            [
             0.7777777777777778,
             "#fb9f3a"
            ],
            [
             0.8888888888888888,
             "#fdca26"
            ],
            [
             1,
             "#f0f921"
            ]
           ]
          },
          "colorway": [
           "#636efa",
           "#EF553B",
           "#00cc96",
           "#ab63fa",
           "#FFA15A",
           "#19d3f3",
           "#FF6692",
           "#B6E880",
           "#FF97FF",
           "#FECB52"
          ],
          "font": {
           "color": "#2a3f5f"
          },
          "geo": {
           "bgcolor": "white",
           "lakecolor": "white",
           "landcolor": "#E5ECF6",
           "showlakes": true,
           "showland": true,
           "subunitcolor": "white"
          },
          "hoverlabel": {
           "align": "left"
          },
          "hovermode": "closest",
          "mapbox": {
           "style": "light"
          },
          "paper_bgcolor": "white",
          "plot_bgcolor": "#E5ECF6",
          "polar": {
           "angularaxis": {
            "gridcolor": "white",
            "linecolor": "white",
            "ticks": ""
           },
           "bgcolor": "#E5ECF6",
           "radialaxis": {
            "gridcolor": "white",
            "linecolor": "white",
            "ticks": ""
           }
          },
          "scene": {
           "xaxis": {
            "backgroundcolor": "#E5ECF6",
            "gridcolor": "white",
            "gridwidth": 2,
            "linecolor": "white",
            "showbackground": true,
            "ticks": "",
            "zerolinecolor": "white"
           },
           "yaxis": {
            "backgroundcolor": "#E5ECF6",
            "gridcolor": "white",
            "gridwidth": 2,
            "linecolor": "white",
            "showbackground": true,
            "ticks": "",
            "zerolinecolor": "white"
           },
           "zaxis": {
            "backgroundcolor": "#E5ECF6",
            "gridcolor": "white",
            "gridwidth": 2,
            "linecolor": "white",
            "showbackground": true,
            "ticks": "",
            "zerolinecolor": "white"
           }
          },
          "shapedefaults": {
           "line": {
            "color": "#2a3f5f"
           }
          },
          "ternary": {
           "aaxis": {
            "gridcolor": "white",
            "linecolor": "white",
            "ticks": ""
           },
           "baxis": {
            "gridcolor": "white",
            "linecolor": "white",
            "ticks": ""
           },
           "bgcolor": "#E5ECF6",
           "caxis": {
            "gridcolor": "white",
            "linecolor": "white",
            "ticks": ""
           }
          },
          "title": {
           "x": 0.05
          },
          "xaxis": {
           "automargin": true,
           "gridcolor": "white",
           "linecolor": "white",
           "ticks": "",
           "title": {
            "standoff": 15
           },
           "zerolinecolor": "white",
           "zerolinewidth": 2
          },
          "yaxis": {
           "automargin": true,
           "gridcolor": "white",
           "linecolor": "white",
           "ticks": "",
           "title": {
            "standoff": 15
           },
           "zerolinecolor": "white",
           "zerolinewidth": 2
          }
         }
        },
        "title": {
         "text": "Distribution of Gender"
        },
        "xaxis": {
         "anchor": "y",
         "categoryarray": [
          "Female",
          "Male"
         ],
         "categoryorder": "array",
         "domain": [
          0,
          1
         ],
         "title": {
          "text": "Gender"
         }
        },
        "yaxis": {
         "anchor": "x",
         "domain": [
          0,
          1
         ],
         "title": {
          "text": "Number of Students"
         }
        }
       }
      }
     },
     "metadata": {},
     "output_type": "display_data"
    }
   ],
   "source": [
    "# Get and display the value counts for gender\n",
    "gender_summary = (\n",
    "    student_df['gender']\n",
    "    .value_counts()\n",
    "    .reset_index()\n",
    "    .rename(columns={'index': 'gender', 'gender': 'count'})\n",
    "    .sort_values('gender')\n",
    ")\n",
    "\n",
    "# Display summary before plotting\n",
    "print('Gender Counts:')\n",
    "print(gender_summary)\n",
    "\n",
    "# Create bar plot\n",
    "fig = px.bar(\n",
    "    gender_summary, \n",
    "    x = 'gender', \n",
    "    y = 'count',\n",
    "    color = 'gender',\n",
    "    title = 'Distribution of Gender',\n",
    "    text = 'count',\n",
    "    color_discrete_sequence = ['#FFA07A', '#6A5ACD']\n",
    ")\n",
    "\n",
    "fig.update_layout(\n",
    "    font = dict(\n",
    "        family = 'Lato',\n",
    "        size = 14,\n",
    "        color = 'black'\n",
    "    ),\n",
    "    \n",
    "    xaxis_title = 'Gender',\n",
    "    yaxis_title = 'Number of Students',\n",
    "    showlegend = False\n",
    ")\n",
    "\n",
    "fig.show()"
   ]
  },
  {
   "cell_type": "markdown",
   "id": "76148181",
   "metadata": {},
   "source": [
    "> The gender breakdown of the 705 students in the dataset is nearly perfectly balanced:\n",
    "\n",
    "> - **Female students**: 353 (**50.1%**)\n",
    "> - **Male students**: 352 (**49.9%**)\n",
    "\n",
    ">**Observation:** This remarkably even split offers a **valuable foundation for unbiased comparative analysis** across gender. Whether examining academic performance, social media usage, or mental health indicators, this balance ensures that observed differences are less likely to be the result of sample imbalance and more reflective of genuine behavioral or experiential variation.\n",
    "\n",
    ">**Implication:** Analyses stratified by gender (e.g addiction score, conflict frequency, or academic impact) can be conducted with strong statistical integrity and minimal need for sample weighting.\n"
   ]
  },
  {
   "cell_type": "markdown",
   "id": "b59ae273",
   "metadata": {},
   "source": [
    "## 3. Academic Level\n",
    "Let’s talk credentials- not ours, but the academic level of the students in this dataset.\n",
    "\n",
    "Understanding whether a student is in high school, undergrad, or grad school isn’t just semantics- it frames everything from stress levels to social media behavior. A high schooler procrastinating on TikTok is very different from a grad student \"doom-researching\" on LinkedIn.\n",
    "\n",
    "Academic level also gives us insight into maturity, digital responsibility, and possibly how close someone is to deleting Instagram and becoming a full-time Notion user.\n",
    "\n",
    "Let’s see which educational stages dominate this dataset."
   ]
  },
  {
   "cell_type": "code",
   "execution_count": 56,
   "id": "945a2438",
   "metadata": {},
   "outputs": [
    {
     "name": "stdout",
     "output_type": "stream",
     "text": [
      "Academic Level Counts:\n",
      "  academic_level  count\n",
      "2    High School     27\n",
      "1       Graduate    325\n",
      "0  Undergraduate    353\n"
     ]
    },
    {
     "data": {
      "application/vnd.plotly.v1+json": {
       "config": {
        "plotlyServerURL": "https://plot.ly"
       },
       "data": [
        {
         "alignmentgroup": "True",
         "hovertemplate": "academic_level=%{x}<br>count=%{text}<extra></extra>",
         "legendgroup": "High School",
         "marker": {
          "color": "#A8D5BA"
         },
         "name": "High School",
         "offsetgroup": "High School",
         "orientation": "v",
         "showlegend": true,
         "text": [
          27
         ],
         "textposition": "auto",
         "type": "bar",
         "x": [
          "High School"
         ],
         "xaxis": "x",
         "y": [
          27
         ],
         "yaxis": "y"
        },
        {
         "alignmentgroup": "True",
         "hovertemplate": "academic_level=%{x}<br>count=%{text}<extra></extra>",
         "legendgroup": "Graduate",
         "marker": {
          "color": "#56B4D3"
         },
         "name": "Graduate",
         "offsetgroup": "Graduate",
         "orientation": "v",
         "showlegend": true,
         "text": [
          325
         ],
         "textposition": "auto",
         "type": "bar",
         "x": [
          "Graduate"
         ],
         "xaxis": "x",
         "y": [
          325
         ],
         "yaxis": "y"
        },
        {
         "alignmentgroup": "True",
         "hovertemplate": "academic_level=%{x}<br>count=%{text}<extra></extra>",
         "legendgroup": "Undergraduate",
         "marker": {
          "color": "#482878"
         },
         "name": "Undergraduate",
         "offsetgroup": "Undergraduate",
         "orientation": "v",
         "showlegend": true,
         "text": [
          353
         ],
         "textposition": "auto",
         "type": "bar",
         "x": [
          "Undergraduate"
         ],
         "xaxis": "x",
         "y": [
          353
         ],
         "yaxis": "y"
        }
       ],
       "layout": {
        "barmode": "relative",
        "font": {
         "color": "black",
         "family": "Lato",
         "size": 14
        },
        "legend": {
         "title": {
          "text": "academic_level"
         },
         "tracegroupgap": 0
        },
        "showlegend": false,
        "template": {
         "data": {
          "bar": [
           {
            "error_x": {
             "color": "#2a3f5f"
            },
            "error_y": {
             "color": "#2a3f5f"
            },
            "marker": {
             "line": {
              "color": "#E5ECF6",
              "width": 0.5
             }
            },
            "type": "bar"
           }
          ],
          "barpolar": [
           {
            "marker": {
             "line": {
              "color": "#E5ECF6",
              "width": 0.5
             }
            },
            "type": "barpolar"
           }
          ],
          "carpet": [
           {
            "aaxis": {
             "endlinecolor": "#2a3f5f",
             "gridcolor": "white",
             "linecolor": "white",
             "minorgridcolor": "white",
             "startlinecolor": "#2a3f5f"
            },
            "baxis": {
             "endlinecolor": "#2a3f5f",
             "gridcolor": "white",
             "linecolor": "white",
             "minorgridcolor": "white",
             "startlinecolor": "#2a3f5f"
            },
            "type": "carpet"
           }
          ],
          "choropleth": [
           {
            "colorbar": {
             "outlinewidth": 0,
             "ticks": ""
            },
            "type": "choropleth"
           }
          ],
          "contour": [
           {
            "colorbar": {
             "outlinewidth": 0,
             "ticks": ""
            },
            "colorscale": [
             [
              0,
              "#0d0887"
             ],
             [
              0.1111111111111111,
              "#46039f"
             ],
             [
              0.2222222222222222,
              "#7201a8"
             ],
             [
              0.3333333333333333,
              "#9c179e"
             ],
             [
              0.4444444444444444,
              "#bd3786"
             ],
             [
              0.5555555555555556,
              "#d8576b"
             ],
             [
              0.6666666666666666,
              "#ed7953"
             ],
             [
              0.7777777777777778,
              "#fb9f3a"
             ],
             [
              0.8888888888888888,
              "#fdca26"
             ],
             [
              1,
              "#f0f921"
             ]
            ],
            "type": "contour"
           }
          ],
          "contourcarpet": [
           {
            "colorbar": {
             "outlinewidth": 0,
             "ticks": ""
            },
            "type": "contourcarpet"
           }
          ],
          "heatmap": [
           {
            "colorbar": {
             "outlinewidth": 0,
             "ticks": ""
            },
            "colorscale": [
             [
              0,
              "#0d0887"
             ],
             [
              0.1111111111111111,
              "#46039f"
             ],
             [
              0.2222222222222222,
              "#7201a8"
             ],
             [
              0.3333333333333333,
              "#9c179e"
             ],
             [
              0.4444444444444444,
              "#bd3786"
             ],
             [
              0.5555555555555556,
              "#d8576b"
             ],
             [
              0.6666666666666666,
              "#ed7953"
             ],
             [
              0.7777777777777778,
              "#fb9f3a"
             ],
             [
              0.8888888888888888,
              "#fdca26"
             ],
             [
              1,
              "#f0f921"
             ]
            ],
            "type": "heatmap"
           }
          ],
          "heatmapgl": [
           {
            "colorbar": {
             "outlinewidth": 0,
             "ticks": ""
            },
            "colorscale": [
             [
              0,
              "#0d0887"
             ],
             [
              0.1111111111111111,
              "#46039f"
             ],
             [
              0.2222222222222222,
              "#7201a8"
             ],
             [
              0.3333333333333333,
              "#9c179e"
             ],
             [
              0.4444444444444444,
              "#bd3786"
             ],
             [
              0.5555555555555556,
              "#d8576b"
             ],
             [
              0.6666666666666666,
              "#ed7953"
             ],
             [
              0.7777777777777778,
              "#fb9f3a"
             ],
             [
              0.8888888888888888,
              "#fdca26"
             ],
             [
              1,
              "#f0f921"
             ]
            ],
            "type": "heatmapgl"
           }
          ],
          "histogram": [
           {
            "marker": {
             "colorbar": {
              "outlinewidth": 0,
              "ticks": ""
             }
            },
            "type": "histogram"
           }
          ],
          "histogram2d": [
           {
            "colorbar": {
             "outlinewidth": 0,
             "ticks": ""
            },
            "colorscale": [
             [
              0,
              "#0d0887"
             ],
             [
              0.1111111111111111,
              "#46039f"
             ],
             [
              0.2222222222222222,
              "#7201a8"
             ],
             [
              0.3333333333333333,
              "#9c179e"
             ],
             [
              0.4444444444444444,
              "#bd3786"
             ],
             [
              0.5555555555555556,
              "#d8576b"
             ],
             [
              0.6666666666666666,
              "#ed7953"
             ],
             [
              0.7777777777777778,
              "#fb9f3a"
             ],
             [
              0.8888888888888888,
              "#fdca26"
             ],
             [
              1,
              "#f0f921"
             ]
            ],
            "type": "histogram2d"
           }
          ],
          "histogram2dcontour": [
           {
            "colorbar": {
             "outlinewidth": 0,
             "ticks": ""
            },
            "colorscale": [
             [
              0,
              "#0d0887"
             ],
             [
              0.1111111111111111,
              "#46039f"
             ],
             [
              0.2222222222222222,
              "#7201a8"
             ],
             [
              0.3333333333333333,
              "#9c179e"
             ],
             [
              0.4444444444444444,
              "#bd3786"
             ],
             [
              0.5555555555555556,
              "#d8576b"
             ],
             [
              0.6666666666666666,
              "#ed7953"
             ],
             [
              0.7777777777777778,
              "#fb9f3a"
             ],
             [
              0.8888888888888888,
              "#fdca26"
             ],
             [
              1,
              "#f0f921"
             ]
            ],
            "type": "histogram2dcontour"
           }
          ],
          "mesh3d": [
           {
            "colorbar": {
             "outlinewidth": 0,
             "ticks": ""
            },
            "type": "mesh3d"
           }
          ],
          "parcoords": [
           {
            "line": {
             "colorbar": {
              "outlinewidth": 0,
              "ticks": ""
             }
            },
            "type": "parcoords"
           }
          ],
          "pie": [
           {
            "automargin": true,
            "type": "pie"
           }
          ],
          "scatter": [
           {
            "marker": {
             "colorbar": {
              "outlinewidth": 0,
              "ticks": ""
             }
            },
            "type": "scatter"
           }
          ],
          "scatter3d": [
           {
            "line": {
             "colorbar": {
              "outlinewidth": 0,
              "ticks": ""
             }
            },
            "marker": {
             "colorbar": {
              "outlinewidth": 0,
              "ticks": ""
             }
            },
            "type": "scatter3d"
           }
          ],
          "scattercarpet": [
           {
            "marker": {
             "colorbar": {
              "outlinewidth": 0,
              "ticks": ""
             }
            },
            "type": "scattercarpet"
           }
          ],
          "scattergeo": [
           {
            "marker": {
             "colorbar": {
              "outlinewidth": 0,
              "ticks": ""
             }
            },
            "type": "scattergeo"
           }
          ],
          "scattergl": [
           {
            "marker": {
             "colorbar": {
              "outlinewidth": 0,
              "ticks": ""
             }
            },
            "type": "scattergl"
           }
          ],
          "scattermapbox": [
           {
            "marker": {
             "colorbar": {
              "outlinewidth": 0,
              "ticks": ""
             }
            },
            "type": "scattermapbox"
           }
          ],
          "scatterpolar": [
           {
            "marker": {
             "colorbar": {
              "outlinewidth": 0,
              "ticks": ""
             }
            },
            "type": "scatterpolar"
           }
          ],
          "scatterpolargl": [
           {
            "marker": {
             "colorbar": {
              "outlinewidth": 0,
              "ticks": ""
             }
            },
            "type": "scatterpolargl"
           }
          ],
          "scatterternary": [
           {
            "marker": {
             "colorbar": {
              "outlinewidth": 0,
              "ticks": ""
             }
            },
            "type": "scatterternary"
           }
          ],
          "surface": [
           {
            "colorbar": {
             "outlinewidth": 0,
             "ticks": ""
            },
            "colorscale": [
             [
              0,
              "#0d0887"
             ],
             [
              0.1111111111111111,
              "#46039f"
             ],
             [
              0.2222222222222222,
              "#7201a8"
             ],
             [
              0.3333333333333333,
              "#9c179e"
             ],
             [
              0.4444444444444444,
              "#bd3786"
             ],
             [
              0.5555555555555556,
              "#d8576b"
             ],
             [
              0.6666666666666666,
              "#ed7953"
             ],
             [
              0.7777777777777778,
              "#fb9f3a"
             ],
             [
              0.8888888888888888,
              "#fdca26"
             ],
             [
              1,
              "#f0f921"
             ]
            ],
            "type": "surface"
           }
          ],
          "table": [
           {
            "cells": {
             "fill": {
              "color": "#EBF0F8"
             },
             "line": {
              "color": "white"
             }
            },
            "header": {
             "fill": {
              "color": "#C8D4E3"
             },
             "line": {
              "color": "white"
             }
            },
            "type": "table"
           }
          ]
         },
         "layout": {
          "annotationdefaults": {
           "arrowcolor": "#2a3f5f",
           "arrowhead": 0,
           "arrowwidth": 1
          },
          "coloraxis": {
           "colorbar": {
            "outlinewidth": 0,
            "ticks": ""
           }
          },
          "colorscale": {
           "diverging": [
            [
             0,
             "#8e0152"
            ],
            [
             0.1,
             "#c51b7d"
            ],
            [
             0.2,
             "#de77ae"
            ],
            [
             0.3,
             "#f1b6da"
            ],
            [
             0.4,
             "#fde0ef"
            ],
            [
             0.5,
             "#f7f7f7"
            ],
            [
             0.6,
             "#e6f5d0"
            ],
            [
             0.7,
             "#b8e186"
            ],
            [
             0.8,
             "#7fbc41"
            ],
            [
             0.9,
             "#4d9221"
            ],
            [
             1,
             "#276419"
            ]
           ],
           "sequential": [
            [
             0,
             "#0d0887"
            ],
            [
             0.1111111111111111,
             "#46039f"
            ],
            [
             0.2222222222222222,
             "#7201a8"
            ],
            [
             0.3333333333333333,
             "#9c179e"
            ],
            [
             0.4444444444444444,
             "#bd3786"
            ],
            [
             0.5555555555555556,
             "#d8576b"
            ],
            [
             0.6666666666666666,
             "#ed7953"
            ],
            [
             0.7777777777777778,
             "#fb9f3a"
            ],
            [
             0.8888888888888888,
             "#fdca26"
            ],
            [
             1,
             "#f0f921"
            ]
           ],
           "sequentialminus": [
            [
             0,
             "#0d0887"
            ],
            [
             0.1111111111111111,
             "#46039f"
            ],
            [
             0.2222222222222222,
             "#7201a8"
            ],
            [
             0.3333333333333333,
             "#9c179e"
            ],
            [
             0.4444444444444444,
             "#bd3786"
            ],
            [
             0.5555555555555556,
             "#d8576b"
            ],
            [
             0.6666666666666666,
             "#ed7953"
            ],
            [
             0.7777777777777778,
             "#fb9f3a"
            ],
            [
             0.8888888888888888,
             "#fdca26"
            ],
            [
             1,
             "#f0f921"
            ]
           ]
          },
          "colorway": [
           "#636efa",
           "#EF553B",
           "#00cc96",
           "#ab63fa",
           "#FFA15A",
           "#19d3f3",
           "#FF6692",
           "#B6E880",
           "#FF97FF",
           "#FECB52"
          ],
          "font": {
           "color": "#2a3f5f"
          },
          "geo": {
           "bgcolor": "white",
           "lakecolor": "white",
           "landcolor": "#E5ECF6",
           "showlakes": true,
           "showland": true,
           "subunitcolor": "white"
          },
          "hoverlabel": {
           "align": "left"
          },
          "hovermode": "closest",
          "mapbox": {
           "style": "light"
          },
          "paper_bgcolor": "white",
          "plot_bgcolor": "#E5ECF6",
          "polar": {
           "angularaxis": {
            "gridcolor": "white",
            "linecolor": "white",
            "ticks": ""
           },
           "bgcolor": "#E5ECF6",
           "radialaxis": {
            "gridcolor": "white",
            "linecolor": "white",
            "ticks": ""
           }
          },
          "scene": {
           "xaxis": {
            "backgroundcolor": "#E5ECF6",
            "gridcolor": "white",
            "gridwidth": 2,
            "linecolor": "white",
            "showbackground": true,
            "ticks": "",
            "zerolinecolor": "white"
           },
           "yaxis": {
            "backgroundcolor": "#E5ECF6",
            "gridcolor": "white",
            "gridwidth": 2,
            "linecolor": "white",
            "showbackground": true,
            "ticks": "",
            "zerolinecolor": "white"
           },
           "zaxis": {
            "backgroundcolor": "#E5ECF6",
            "gridcolor": "white",
            "gridwidth": 2,
            "linecolor": "white",
            "showbackground": true,
            "ticks": "",
            "zerolinecolor": "white"
           }
          },
          "shapedefaults": {
           "line": {
            "color": "#2a3f5f"
           }
          },
          "ternary": {
           "aaxis": {
            "gridcolor": "white",
            "linecolor": "white",
            "ticks": ""
           },
           "baxis": {
            "gridcolor": "white",
            "linecolor": "white",
            "ticks": ""
           },
           "bgcolor": "#E5ECF6",
           "caxis": {
            "gridcolor": "white",
            "linecolor": "white",
            "ticks": ""
           }
          },
          "title": {
           "x": 0.05
          },
          "xaxis": {
           "automargin": true,
           "gridcolor": "white",
           "linecolor": "white",
           "ticks": "",
           "title": {
            "standoff": 15
           },
           "zerolinecolor": "white",
           "zerolinewidth": 2
          },
          "yaxis": {
           "automargin": true,
           "gridcolor": "white",
           "linecolor": "white",
           "ticks": "",
           "title": {
            "standoff": 15
           },
           "zerolinecolor": "white",
           "zerolinewidth": 2
          }
         }
        },
        "title": {
         "text": "Distribution of Academic Levels"
        },
        "xaxis": {
         "anchor": "y",
         "categoryarray": [
          "High School",
          "Graduate",
          "Undergraduate"
         ],
         "categoryorder": "array",
         "domain": [
          0,
          1
         ],
         "title": {
          "text": "Academic Level"
         }
        },
        "yaxis": {
         "anchor": "x",
         "domain": [
          0,
          1
         ],
         "title": {
          "text": "Number of Students"
         }
        }
       }
      }
     },
     "metadata": {},
     "output_type": "display_data"
    }
   ],
   "source": [
    "# Define the correct academic level order (ascending)\n",
    "level_order = ['High School', 'Graduate', 'Undergraduate']\n",
    "\n",
    "# Get and display the value counts for academic level\n",
    "academic_lvl_summary = (\n",
    "    student_df['academic_level']\n",
    "    .value_counts()\n",
    "    .reset_index()\n",
    "    .rename(columns = {'index': 'academic_level', 'academic_level': 'count'})\n",
    ")\n",
    "\n",
    "# Apply the custom category order\n",
    "academic_lvl_summary['academic_level'] = pd.Categorical(\n",
    "    academic_lvl_summary['academic_level'],\n",
    "    categories = level_order,\n",
    "    ordered = True\n",
    ")\n",
    "\n",
    "# Sort by the ordered category\n",
    "academic_lvl_summary = academic_lvl_summary.sort_values('academic_level')\n",
    "\n",
    "# Display summary before plotting\n",
    "print('Academic Level Counts:')\n",
    "print(academic_lvl_summary)\n",
    "\n",
    "# Create bar plot with a progressive color palette (e.g. Viridis)\n",
    "fig = px.bar(\n",
    "    academic_lvl_summary, \n",
    "    x = 'academic_level', \n",
    "    y = 'count',\n",
    "    color = 'academic_level',\n",
    "    title = 'Distribution of Academic Levels',\n",
    "    text = 'count',\n",
    "    color_discrete_sequence = ['#A8D5BA', '#56B4D3', '#482878']\n",
    ")\n",
    "\n",
    "# Update layout\n",
    "fig.update_layout(\n",
    "    font = dict(family = 'Lato', size = 14, color = 'black'),\n",
    "    xaxis_title = 'Academic Level',\n",
    "    yaxis_title = 'Number of Students',\n",
    "    showlegend = False\n",
    ")\n",
    "\n",
    "fig.show()"
   ]
  },
  {
   "cell_type": "markdown",
   "id": "a0152dc1",
   "metadata": {},
   "source": [
    ">The student population in this dataset is composed of three academic levels:\n",
    "\n",
    "> - **Undergraduates**: 353 students (**50.1%**)\n",
    "> - **Graduates**: 325 students (**46.1%**)\n",
    "> - **High School students**: 27 students (**3.8%**)\n",
    "\n",
    "> **Observation:** This distribution shows a **heavy concentration in higher education**, with **undergraduates and graduates comprising over 96%** of the dataset. The small number of high school students suggests limited representation of pre-university learners, which may affect the generalizability of certain findings to younger age groups.\n",
    "\n",
    "> **Implication:** Analytical focus should primarily target behaviors and patterns among **university-level students**, as their dominant presence drives most of the insights. However, high school responses, while limited, can still provide early signals worth exploring in targeted comparisons."
   ]
  },
  {
   "cell_type": "markdown",
   "id": "1f89a5e1",
   "metadata": {},
   "source": [
    "## 4. Country\n",
    "Where are these students actually from?\n",
    "\n",
    "The dataset spans dozens of countries- which means behavior is shaped not just by age and academic stress, but by **culture, connectivity, and even platform popularity**. TikTok might reign in one country while Facebook refuses to die in another.\n",
    "\n",
    "Understanding the **top contributing countries** helps frame digital behavior through a global lens- because context is everything, and the internet may be universal, but how we use it? Not even close.\n",
    "\n",
    "Let’s map this out."
   ]
  },
  {
   "cell_type": "code",
   "execution_count": 57,
   "id": "a94a3f90",
   "metadata": {},
   "outputs": [
    {
     "name": "stdout",
     "output_type": "stream",
     "text": [
      "Top 20 Countries by Student Count:\n",
      "        country  count\n",
      "0         India     53\n",
      "1           USA     40\n",
      "2        Canada     34\n",
      "3        Mexico     27\n",
      "4       Ireland     27\n",
      "5        Turkey     27\n",
      "6        France     27\n",
      "7       Denmark     27\n",
      "8   Switzerland     27\n",
      "9         Spain     27\n",
      "10           UK     22\n",
      "11        Italy     21\n",
      "12       Russia     21\n",
      "13        Japan     21\n",
      "14   Bangladesh     20\n",
      "15        Nepal     19\n",
      "16     Pakistan     19\n",
      "17     Maldives     19\n",
      "18    Sri Lanka     19\n",
      "19       Poland     16\n"
     ]
    },
    {
     "data": {
      "application/vnd.plotly.v1+json": {
       "config": {
        "plotlyServerURL": "https://plot.ly"
       },
       "data": [
        {
         "branchvalues": "total",
         "customdata": [
          [
           20
          ],
          [
           34
          ],
          [
           27
          ],
          [
           27
          ],
          [
           53
          ],
          [
           27
          ],
          [
           21
          ],
          [
           21
          ],
          [
           19
          ],
          [
           27
          ],
          [
           19
          ],
          [
           19
          ],
          [
           16
          ],
          [
           21
          ],
          [
           27
          ],
          [
           19
          ],
          [
           27
          ],
          [
           27
          ],
          [
           22
          ],
          [
           40
          ]
         ],
         "domain": {
          "x": [
           0,
           1
          ],
          "y": [
           0,
           1
          ]
         },
         "hovertemplate": "labels=%{label}<br>count_sum=%{value}<br>parent=%{parent}<br>id=%{id}<br>count=%{color}<extra></extra>",
         "ids": [
          "Bangladesh",
          "Canada",
          "Denmark",
          "France",
          "India",
          "Ireland",
          "Italy",
          "Japan",
          "Maldives",
          "Mexico",
          "Nepal",
          "Pakistan",
          "Poland",
          "Russia",
          "Spain",
          "Sri Lanka",
          "Switzerland",
          "Turkey",
          "UK",
          "USA"
         ],
         "labels": [
          "Bangladesh",
          "Canada",
          "Denmark",
          "France",
          "India",
          "Ireland",
          "Italy",
          "Japan",
          "Maldives",
          "Mexico",
          "Nepal",
          "Pakistan",
          "Poland",
          "Russia",
          "Spain",
          "Sri Lanka",
          "Switzerland",
          "Turkey",
          "UK",
          "USA"
         ],
         "marker": {
          "coloraxis": "coloraxis",
          "colors": [
           20,
           34,
           27,
           27,
           53,
           27,
           21,
           21,
           19,
           27,
           19,
           19,
           16,
           21,
           27,
           19,
           27,
           27,
           22,
           40
          ]
         },
         "name": "",
         "parents": [
          "",
          "",
          "",
          "",
          "",
          "",
          "",
          "",
          "",
          "",
          "",
          "",
          "",
          "",
          "",
          "",
          "",
          "",
          "",
          ""
         ],
         "texttemplate": "%{label}<br>👥 %{value} students",
         "type": "treemap",
         "values": [
          20,
          34,
          27,
          27,
          53,
          27,
          21,
          21,
          19,
          27,
          19,
          19,
          16,
          21,
          27,
          19,
          27,
          27,
          22,
          40
         ]
        }
       ],
       "layout": {
        "coloraxis": {
         "colorbar": {
          "title": {
           "text": "count"
          }
         },
         "colorscale": [
          [
           0,
           "rgb(36, 86, 104)"
          ],
          [
           0.16666666666666666,
           "rgb(15, 114, 121)"
          ],
          [
           0.3333333333333333,
           "rgb(13, 143, 129)"
          ],
          [
           0.5,
           "rgb(57, 171, 126)"
          ],
          [
           0.6666666666666666,
           "rgb(110, 197, 116)"
          ],
          [
           0.8333333333333334,
           "rgb(169, 220, 103)"
          ],
          [
           1,
           "rgb(237, 239, 93)"
          ]
         ]
        },
        "font": {
         "color": "black",
         "family": "Lato",
         "size": 14
        },
        "legend": {
         "tracegroupgap": 0
        },
        "margin": {
         "b": 20,
         "l": 20,
         "r": 20,
         "t": 60
        },
        "paper_bgcolor": "white",
        "plot_bgcolor": "white",
        "template": {
         "data": {
          "bar": [
           {
            "error_x": {
             "color": "#2a3f5f"
            },
            "error_y": {
             "color": "#2a3f5f"
            },
            "marker": {
             "line": {
              "color": "#E5ECF6",
              "width": 0.5
             }
            },
            "type": "bar"
           }
          ],
          "barpolar": [
           {
            "marker": {
             "line": {
              "color": "#E5ECF6",
              "width": 0.5
             }
            },
            "type": "barpolar"
           }
          ],
          "carpet": [
           {
            "aaxis": {
             "endlinecolor": "#2a3f5f",
             "gridcolor": "white",
             "linecolor": "white",
             "minorgridcolor": "white",
             "startlinecolor": "#2a3f5f"
            },
            "baxis": {
             "endlinecolor": "#2a3f5f",
             "gridcolor": "white",
             "linecolor": "white",
             "minorgridcolor": "white",
             "startlinecolor": "#2a3f5f"
            },
            "type": "carpet"
           }
          ],
          "choropleth": [
           {
            "colorbar": {
             "outlinewidth": 0,
             "ticks": ""
            },
            "type": "choropleth"
           }
          ],
          "contour": [
           {
            "colorbar": {
             "outlinewidth": 0,
             "ticks": ""
            },
            "colorscale": [
             [
              0,
              "#0d0887"
             ],
             [
              0.1111111111111111,
              "#46039f"
             ],
             [
              0.2222222222222222,
              "#7201a8"
             ],
             [
              0.3333333333333333,
              "#9c179e"
             ],
             [
              0.4444444444444444,
              "#bd3786"
             ],
             [
              0.5555555555555556,
              "#d8576b"
             ],
             [
              0.6666666666666666,
              "#ed7953"
             ],
             [
              0.7777777777777778,
              "#fb9f3a"
             ],
             [
              0.8888888888888888,
              "#fdca26"
             ],
             [
              1,
              "#f0f921"
             ]
            ],
            "type": "contour"
           }
          ],
          "contourcarpet": [
           {
            "colorbar": {
             "outlinewidth": 0,
             "ticks": ""
            },
            "type": "contourcarpet"
           }
          ],
          "heatmap": [
           {
            "colorbar": {
             "outlinewidth": 0,
             "ticks": ""
            },
            "colorscale": [
             [
              0,
              "#0d0887"
             ],
             [
              0.1111111111111111,
              "#46039f"
             ],
             [
              0.2222222222222222,
              "#7201a8"
             ],
             [
              0.3333333333333333,
              "#9c179e"
             ],
             [
              0.4444444444444444,
              "#bd3786"
             ],
             [
              0.5555555555555556,
              "#d8576b"
             ],
             [
              0.6666666666666666,
              "#ed7953"
             ],
             [
              0.7777777777777778,
              "#fb9f3a"
             ],
             [
              0.8888888888888888,
              "#fdca26"
             ],
             [
              1,
              "#f0f921"
             ]
            ],
            "type": "heatmap"
           }
          ],
          "heatmapgl": [
           {
            "colorbar": {
             "outlinewidth": 0,
             "ticks": ""
            },
            "colorscale": [
             [
              0,
              "#0d0887"
             ],
             [
              0.1111111111111111,
              "#46039f"
             ],
             [
              0.2222222222222222,
              "#7201a8"
             ],
             [
              0.3333333333333333,
              "#9c179e"
             ],
             [
              0.4444444444444444,
              "#bd3786"
             ],
             [
              0.5555555555555556,
              "#d8576b"
             ],
             [
              0.6666666666666666,
              "#ed7953"
             ],
             [
              0.7777777777777778,
              "#fb9f3a"
             ],
             [
              0.8888888888888888,
              "#fdca26"
             ],
             [
              1,
              "#f0f921"
             ]
            ],
            "type": "heatmapgl"
           }
          ],
          "histogram": [
           {
            "marker": {
             "colorbar": {
              "outlinewidth": 0,
              "ticks": ""
             }
            },
            "type": "histogram"
           }
          ],
          "histogram2d": [
           {
            "colorbar": {
             "outlinewidth": 0,
             "ticks": ""
            },
            "colorscale": [
             [
              0,
              "#0d0887"
             ],
             [
              0.1111111111111111,
              "#46039f"
             ],
             [
              0.2222222222222222,
              "#7201a8"
             ],
             [
              0.3333333333333333,
              "#9c179e"
             ],
             [
              0.4444444444444444,
              "#bd3786"
             ],
             [
              0.5555555555555556,
              "#d8576b"
             ],
             [
              0.6666666666666666,
              "#ed7953"
             ],
             [
              0.7777777777777778,
              "#fb9f3a"
             ],
             [
              0.8888888888888888,
              "#fdca26"
             ],
             [
              1,
              "#f0f921"
             ]
            ],
            "type": "histogram2d"
           }
          ],
          "histogram2dcontour": [
           {
            "colorbar": {
             "outlinewidth": 0,
             "ticks": ""
            },
            "colorscale": [
             [
              0,
              "#0d0887"
             ],
             [
              0.1111111111111111,
              "#46039f"
             ],
             [
              0.2222222222222222,
              "#7201a8"
             ],
             [
              0.3333333333333333,
              "#9c179e"
             ],
             [
              0.4444444444444444,
              "#bd3786"
             ],
             [
              0.5555555555555556,
              "#d8576b"
             ],
             [
              0.6666666666666666,
              "#ed7953"
             ],
             [
              0.7777777777777778,
              "#fb9f3a"
             ],
             [
              0.8888888888888888,
              "#fdca26"
             ],
             [
              1,
              "#f0f921"
             ]
            ],
            "type": "histogram2dcontour"
           }
          ],
          "mesh3d": [
           {
            "colorbar": {
             "outlinewidth": 0,
             "ticks": ""
            },
            "type": "mesh3d"
           }
          ],
          "parcoords": [
           {
            "line": {
             "colorbar": {
              "outlinewidth": 0,
              "ticks": ""
             }
            },
            "type": "parcoords"
           }
          ],
          "pie": [
           {
            "automargin": true,
            "type": "pie"
           }
          ],
          "scatter": [
           {
            "marker": {
             "colorbar": {
              "outlinewidth": 0,
              "ticks": ""
             }
            },
            "type": "scatter"
           }
          ],
          "scatter3d": [
           {
            "line": {
             "colorbar": {
              "outlinewidth": 0,
              "ticks": ""
             }
            },
            "marker": {
             "colorbar": {
              "outlinewidth": 0,
              "ticks": ""
             }
            },
            "type": "scatter3d"
           }
          ],
          "scattercarpet": [
           {
            "marker": {
             "colorbar": {
              "outlinewidth": 0,
              "ticks": ""
             }
            },
            "type": "scattercarpet"
           }
          ],
          "scattergeo": [
           {
            "marker": {
             "colorbar": {
              "outlinewidth": 0,
              "ticks": ""
             }
            },
            "type": "scattergeo"
           }
          ],
          "scattergl": [
           {
            "marker": {
             "colorbar": {
              "outlinewidth": 0,
              "ticks": ""
             }
            },
            "type": "scattergl"
           }
          ],
          "scattermapbox": [
           {
            "marker": {
             "colorbar": {
              "outlinewidth": 0,
              "ticks": ""
             }
            },
            "type": "scattermapbox"
           }
          ],
          "scatterpolar": [
           {
            "marker": {
             "colorbar": {
              "outlinewidth": 0,
              "ticks": ""
             }
            },
            "type": "scatterpolar"
           }
          ],
          "scatterpolargl": [
           {
            "marker": {
             "colorbar": {
              "outlinewidth": 0,
              "ticks": ""
             }
            },
            "type": "scatterpolargl"
           }
          ],
          "scatterternary": [
           {
            "marker": {
             "colorbar": {
              "outlinewidth": 0,
              "ticks": ""
             }
            },
            "type": "scatterternary"
           }
          ],
          "surface": [
           {
            "colorbar": {
             "outlinewidth": 0,
             "ticks": ""
            },
            "colorscale": [
             [
              0,
              "#0d0887"
             ],
             [
              0.1111111111111111,
              "#46039f"
             ],
             [
              0.2222222222222222,
              "#7201a8"
             ],
             [
              0.3333333333333333,
              "#9c179e"
             ],
             [
              0.4444444444444444,
              "#bd3786"
             ],
             [
              0.5555555555555556,
              "#d8576b"
             ],
             [
              0.6666666666666666,
              "#ed7953"
             ],
             [
              0.7777777777777778,
              "#fb9f3a"
             ],
             [
              0.8888888888888888,
              "#fdca26"
             ],
             [
              1,
              "#f0f921"
             ]
            ],
            "type": "surface"
           }
          ],
          "table": [
           {
            "cells": {
             "fill": {
              "color": "#EBF0F8"
             },
             "line": {
              "color": "white"
             }
            },
            "header": {
             "fill": {
              "color": "#C8D4E3"
             },
             "line": {
              "color": "white"
             }
            },
            "type": "table"
           }
          ]
         },
         "layout": {
          "annotationdefaults": {
           "arrowcolor": "#2a3f5f",
           "arrowhead": 0,
           "arrowwidth": 1
          },
          "coloraxis": {
           "colorbar": {
            "outlinewidth": 0,
            "ticks": ""
           }
          },
          "colorscale": {
           "diverging": [
            [
             0,
             "#8e0152"
            ],
            [
             0.1,
             "#c51b7d"
            ],
            [
             0.2,
             "#de77ae"
            ],
            [
             0.3,
             "#f1b6da"
            ],
            [
             0.4,
             "#fde0ef"
            ],
            [
             0.5,
             "#f7f7f7"
            ],
            [
             0.6,
             "#e6f5d0"
            ],
            [
             0.7,
             "#b8e186"
            ],
            [
             0.8,
             "#7fbc41"
            ],
            [
             0.9,
             "#4d9221"
            ],
            [
             1,
             "#276419"
            ]
           ],
           "sequential": [
            [
             0,
             "#0d0887"
            ],
            [
             0.1111111111111111,
             "#46039f"
            ],
            [
             0.2222222222222222,
             "#7201a8"
            ],
            [
             0.3333333333333333,
             "#9c179e"
            ],
            [
             0.4444444444444444,
             "#bd3786"
            ],
            [
             0.5555555555555556,
             "#d8576b"
            ],
            [
             0.6666666666666666,
             "#ed7953"
            ],
            [
             0.7777777777777778,
             "#fb9f3a"
            ],
            [
             0.8888888888888888,
             "#fdca26"
            ],
            [
             1,
             "#f0f921"
            ]
           ],
           "sequentialminus": [
            [
             0,
             "#0d0887"
            ],
            [
             0.1111111111111111,
             "#46039f"
            ],
            [
             0.2222222222222222,
             "#7201a8"
            ],
            [
             0.3333333333333333,
             "#9c179e"
            ],
            [
             0.4444444444444444,
             "#bd3786"
            ],
            [
             0.5555555555555556,
             "#d8576b"
            ],
            [
             0.6666666666666666,
             "#ed7953"
            ],
            [
             0.7777777777777778,
             "#fb9f3a"
            ],
            [
             0.8888888888888888,
             "#fdca26"
            ],
            [
             1,
             "#f0f921"
            ]
           ]
          },
          "colorway": [
           "#636efa",
           "#EF553B",
           "#00cc96",
           "#ab63fa",
           "#FFA15A",
           "#19d3f3",
           "#FF6692",
           "#B6E880",
           "#FF97FF",
           "#FECB52"
          ],
          "font": {
           "color": "#2a3f5f"
          },
          "geo": {
           "bgcolor": "white",
           "lakecolor": "white",
           "landcolor": "#E5ECF6",
           "showlakes": true,
           "showland": true,
           "subunitcolor": "white"
          },
          "hoverlabel": {
           "align": "left"
          },
          "hovermode": "closest",
          "mapbox": {
           "style": "light"
          },
          "paper_bgcolor": "white",
          "plot_bgcolor": "#E5ECF6",
          "polar": {
           "angularaxis": {
            "gridcolor": "white",
            "linecolor": "white",
            "ticks": ""
           },
           "bgcolor": "#E5ECF6",
           "radialaxis": {
            "gridcolor": "white",
            "linecolor": "white",
            "ticks": ""
           }
          },
          "scene": {
           "xaxis": {
            "backgroundcolor": "#E5ECF6",
            "gridcolor": "white",
            "gridwidth": 2,
            "linecolor": "white",
            "showbackground": true,
            "ticks": "",
            "zerolinecolor": "white"
           },
           "yaxis": {
            "backgroundcolor": "#E5ECF6",
            "gridcolor": "white",
            "gridwidth": 2,
            "linecolor": "white",
            "showbackground": true,
            "ticks": "",
            "zerolinecolor": "white"
           },
           "zaxis": {
            "backgroundcolor": "#E5ECF6",
            "gridcolor": "white",
            "gridwidth": 2,
            "linecolor": "white",
            "showbackground": true,
            "ticks": "",
            "zerolinecolor": "white"
           }
          },
          "shapedefaults": {
           "line": {
            "color": "#2a3f5f"
           }
          },
          "ternary": {
           "aaxis": {
            "gridcolor": "white",
            "linecolor": "white",
            "ticks": ""
           },
           "baxis": {
            "gridcolor": "white",
            "linecolor": "white",
            "ticks": ""
           },
           "bgcolor": "#E5ECF6",
           "caxis": {
            "gridcolor": "white",
            "linecolor": "white",
            "ticks": ""
           }
          },
          "title": {
           "x": 0.05
          },
          "xaxis": {
           "automargin": true,
           "gridcolor": "white",
           "linecolor": "white",
           "ticks": "",
           "title": {
            "standoff": 15
           },
           "zerolinecolor": "white",
           "zerolinewidth": 2
          },
          "yaxis": {
           "automargin": true,
           "gridcolor": "white",
           "linecolor": "white",
           "ticks": "",
           "title": {
            "standoff": 15
           },
           "zerolinecolor": "white",
           "zerolinewidth": 2
          }
         }
        },
        "title": {
         "text": "Country Distribution – Top 20"
        }
       }
      }
     },
     "metadata": {},
     "output_type": "display_data"
    }
   ],
   "source": [
    "# Get and display the top 20 countries by student count\n",
    "country_counts = (\n",
    "    student_df['country']\n",
    "    .value_counts()\n",
    "    .reset_index()\n",
    "    .rename(columns = {'index': 'country', 'country': 'count'})\n",
    "    .head(20)\n",
    ")\n",
    "\n",
    "print(\"Top 20 Countries by Student Count:\")\n",
    "print(country_counts)\n",
    "\n",
    "# Create enhanced treemap\n",
    "fig = px.treemap(\n",
    "    country_counts,\n",
    "    path = ['country'],\n",
    "    values = 'count',\n",
    "    title = 'Country Distribution – Top 20',\n",
    "    color = 'count',\n",
    "    color_continuous_scale = 'Aggrnyl',\n",
    ")\n",
    "\n",
    "# Styling\n",
    "fig.update_layout(\n",
    "    font = dict(family = 'Lato', size = 14, color = 'black'),\n",
    "    margin = dict(t = 60, l = 20, r = 20, b = 20),\n",
    "    paper_bgcolor = 'white',\n",
    "    plot_bgcolor = 'white'\n",
    ")\n",
    "\n",
    "# Formatting\n",
    "fig.data[0].texttemplate = \"%{label}<br>👥 %{value} students\"\n",
    "\n",
    "fig.show()"
   ]
  },
  {
   "cell_type": "markdown",
   "id": "c4952925",
   "metadata": {},
   "source": [
    "> The dataset features students from **over 100 countries**, reflecting a rich global diversity. Here are the top 20 countries by student count:\n",
    "> - **India leads** with 53 students, followed by:\n",
    "> - **USA** (40), **Canada** (34), and a cluster of countries (e.g Mexico, France, Switzerland, Denmark, Turkey, Spain, and Ireland) all with **~27 students** each.\n",
    "> - Several other countries (e.g., UK, Italy, Japan, Russia) show moderate representation between 20–22 students.\n",
    "\n",
    "> **Observation:** This long-tailed distribution suggests a dataset that, while diverse, is somewhat skewed toward a few countries with higher student engagement or availability. Cultural context, academic pressure, digital infrastructure, and platform accessibility may differ significantly across these regions — something to keep in mind when interpreting cross-country behaviors.\n",
    "\n",
    ">**Implication:** Cross-national comparisons (e.g platform preference, addiction scores, mental health trends) should account for uneven sample sizes. For robust comparative insights, focus on countries with ≥20 participants to ensure statistical relevance."
   ]
  },
  {
   "cell_type": "markdown",
   "id": "65b108a8",
   "metadata": {},
   "source": [
    "## 5. Average daily social media usage in hours\n",
    "Here’s the million-scroll question: **How many hours a day are students glued to social media?**\n",
    "\n",
    "Spoiler alert: it’s… a lot.\n",
    "\n",
    "This variable tells us how deep we are into the attention economy- whether we’re looking at casual scrollers, committed content zombies, or folks who need a Screen Time intervention. It’s the behavioral backbone of this dataset and a potential predictor of everything from sleep disruption to academic slippage.\n",
    "\n",
    "Let’s break down how long students are actually staying online- and who might be one notification away from burnout."
   ]
  },
  {
   "cell_type": "code",
   "execution_count": 58,
   "id": "2e673fa5",
   "metadata": {},
   "outputs": [
    {
     "name": "stdout",
     "output_type": "stream",
     "text": [
      "Average Daily Usage:\n",
      "0–2 hrs       1\n",
      "2–4 hrs     153\n",
      "4–6 hrs     401\n",
      "6–8 hrs     144\n",
      "8–10 hrs      6\n",
      "Name: usage_bin, dtype: int64\n"
     ]
    },
    {
     "data": {
      "application/vnd.plotly.v1+json": {
       "config": {
        "plotlyServerURL": "https://plot.ly"
       },
       "data": [
        {
         "alignmentgroup": "True",
         "bingroup": "x",
         "hovertemplate": "avg_daily_usage_hours=%{x}<br>count=%{y}<extra></extra>",
         "legendgroup": "",
         "marker": {
          "color": "#6A5ACD"
         },
         "name": "",
         "nbinsx": 30,
         "offsetgroup": "",
         "orientation": "v",
         "showlegend": false,
         "type": "histogram",
         "x": [
          5.2,
          2.1,
          6,
          3,
          4.5,
          7.2,
          1.5,
          5.8,
          4,
          3.3,
          4.8,
          5.5,
          2.8,
          6.5,
          3.7,
          4.2,
          2,
          5,
          3.5,
          4.7,
          5.3,
          2.5,
          4.9,
          5.7,
          3.2,
          6.1,
          3.8,
          4.4,
          2.2,
          5.9,
          3.6,
          4.8,
          5.4,
          2.6,
          4.7,
          5.6,
          3.1,
          6.2,
          3.9,
          4.5,
          2.3,
          5.8,
          3.7,
          4.6,
          5.5,
          2.7,
          4.8,
          5.5,
          3.3,
          6.3,
          3.8,
          4.7,
          2.4,
          5.7,
          3.6,
          4.9,
          5.6,
          2.8,
          4.6,
          5.4,
          3.1,
          5.6,
          4.2,
          6.1,
          2.3,
          4.8,
          3.9,
          5.7,
          2.8,
          4.5,
          5.4,
          3.2,
          4.9,
          5.8,
          2.5,
          4.6,
          5.5,
          2.9,
          4.7,
          5.9,
          3,
          4.8,
          3.8,
          2.7,
          5.6,
          4.5,
          5.3,
          2.6,
          4.4,
          5.8,
          2.9,
          4.7,
          3.7,
          5.5,
          2.4,
          4.9,
          5.7,
          2.8,
          4.6,
          5.4,
          5.8,
          2.5,
          4.7,
          5.6,
          2.9,
          4.8,
          3.8,
          5.5,
          2.6,
          4.9,
          6.1,
          5.8,
          4.9,
          5.5,
          5.2,
          4.8,
          6,
          5.7,
          4.7,
          5.4,
          5.9,
          4.6,
          5.3,
          5.8,
          4.5,
          5.2,
          5.7,
          4.4,
          5.1,
          5.6,
          4.3,
          5,
          5.5,
          4.2,
          4.9,
          5.4,
          4.1,
          4.8,
          5.3,
          4,
          4.7,
          5.2,
          3.9,
          4.6,
          5.1,
          3.8,
          4.5,
          5,
          3.7,
          4.4,
          4.9,
          3.6,
          4.3,
          4.8,
          3.5,
          4.2,
          4.7,
          3.4,
          4.1,
          4.6,
          5.3,
          4.8,
          5.5,
          4.7,
          5.1,
          5.4,
          4.9,
          5.2,
          5.6,
          4.6,
          5,
          5.3,
          4.8,
          5.1,
          5.7,
          4.5,
          4.9,
          5.2,
          4.7,
          5,
          5.8,
          4.4,
          4.8,
          5.1,
          4.6,
          4.9,
          5.9,
          4.3,
          4.7,
          5,
          4.5,
          4.8,
          6,
          4.2,
          4.6,
          4.9,
          4.4,
          4.7,
          6.1,
          4.1,
          4.5,
          4.8,
          4.3,
          4.6,
          6.2,
          4,
          4.4,
          4.7,
          4.2,
          4.5,
          6.3,
          3.9,
          4.3,
          4.6,
          4.1,
          4.4,
          6.4,
          3.8,
          4.2,
          4.5,
          6.5,
          5.8,
          4.5,
          4.2,
          3.8,
          5.5,
          5.2,
          4.8,
          7,
          5.5,
          4.7,
          4,
          3.5,
          5.7,
          5,
          4.5,
          6.8,
          5.6,
          4.6,
          4.1,
          3.7,
          5.4,
          5.1,
          4.7,
          6.9,
          5.7,
          4.8,
          3.9,
          3.6,
          5.6,
          4.9,
          4.6,
          6.7,
          5.4,
          4.4,
          4,
          3.4,
          5.3,
          5,
          4.4,
          6.6,
          5.3,
          4.3,
          3.8,
          3.3,
          5.2,
          4.8,
          4.3,
          6.4,
          5.2,
          4.5,
          3.7,
          3.2,
          5.4,
          4.7,
          4.2,
          6.6,
          5.1,
          4.4,
          3.6,
          3.1,
          5.3,
          4.6,
          4.1,
          6.7,
          5,
          4.3,
          3.5,
          3,
          5.2,
          4.5,
          4,
          6.8,
          4.9,
          4.2,
          3.4,
          2.9,
          5.1,
          4.4,
          3.9,
          6.9,
          4.8,
          4.1,
          3.3,
          2.8,
          5,
          4.3,
          3.8,
          7,
          4.7,
          4,
          3.2,
          2.7,
          4.9,
          4.2,
          3.7,
          7.1,
          4.6,
          3.9,
          3.1,
          5.2,
          4.1,
          5,
          5.8,
          4,
          5.5,
          6.8,
          5.6,
          4.5,
          5.3,
          5.1,
          3.9,
          4.8,
          5.9,
          3.8,
          5.4,
          6.9,
          5.7,
          4.4,
          5.2,
          5,
          3.8,
          4.7,
          6,
          3.7,
          5.3,
          7,
          5.8,
          4.3,
          5.1,
          4.9,
          3.7,
          4.6,
          6.1,
          3.6,
          5.2,
          7.1,
          5.9,
          4.2,
          5,
          4.8,
          3.6,
          4.5,
          6.2,
          3.5,
          5.1,
          7.2,
          6,
          4.1,
          4.9,
          4.7,
          3.5,
          4.4,
          6.3,
          3.4,
          5,
          7.3,
          6.1,
          4,
          4.8,
          4.6,
          3.4,
          4.3,
          6.4,
          3.3,
          4.9,
          7.4,
          6.2,
          3.9,
          4.7,
          4.5,
          3.3,
          4.2,
          6.5,
          3.2,
          4.8,
          7.5,
          6.3,
          3.8,
          4.6,
          4.4,
          3.2,
          4.1,
          6.6,
          3.1,
          4.7,
          7.6,
          6.4,
          3.7,
          4.5,
          4.3,
          3.1,
          4,
          6.7,
          3,
          4.6,
          7.7,
          6.5,
          3.6,
          4.4,
          4.2,
          3,
          3.9,
          6.8,
          2.9,
          4.5,
          7.8,
          6.6,
          3.5,
          4.3,
          4.1,
          2.9,
          3.8,
          6.9,
          2.8,
          4.4,
          7.9,
          6.7,
          3.4,
          4.2,
          4,
          2.8,
          3.7,
          7,
          2.7,
          4.3,
          8,
          6.8,
          3.3,
          4.1,
          3.9,
          2.7,
          3.6,
          7.1,
          2.6,
          4.2,
          8.1,
          6.9,
          3.2,
          4,
          3.8,
          2.6,
          3.5,
          7.2,
          2.5,
          4.1,
          8.2,
          7,
          3.1,
          3.9,
          3.7,
          2.5,
          3.4,
          7.3,
          2.4,
          4,
          8.3,
          7.1,
          3,
          3.8,
          3.6,
          2.4,
          3.3,
          7.4,
          2.3,
          3.9,
          8.4,
          7.2,
          2.9,
          3.7,
          3.5,
          2.3,
          3.2,
          7.5,
          2.2,
          3.8,
          8.5,
          7.3,
          2.8,
          3.6,
          6.2,
          4.5,
          3.8,
          4.7,
          5.1,
          5.5,
          6.5,
          4.2,
          6.8,
          4.8,
          6.1,
          4.4,
          3.7,
          4.6,
          5.2,
          5.6,
          6.6,
          4.1,
          6.9,
          4.7,
          6,
          4.3,
          3.6,
          4.5,
          5.3,
          5.7,
          6.7,
          4,
          7,
          4.6,
          5.9,
          4.2,
          3.5,
          4.4,
          5.4,
          5.8,
          6.8,
          3.9,
          7.1,
          4.5,
          5.8,
          4.1,
          3.4,
          4.3,
          5.5,
          5.9,
          6.9,
          3.8,
          7.2,
          4.4,
          5.7,
          4,
          3.3,
          4.2,
          5.6,
          6,
          7,
          3.7,
          7.3,
          4.3,
          5.6,
          3.9,
          3.2,
          4.1,
          5.7,
          6.1,
          7.1,
          3.6,
          7.4,
          4.2,
          6.1,
          3.8,
          5.5,
          7.2,
          4.2,
          6.8,
          5.9,
          6.5,
          4.7,
          5.2,
          6.3,
          4.9,
          6.7,
          5.8,
          4.5,
          6.4,
          4.1,
          6.6,
          4.4,
          5.7,
          7,
          4.3,
          6.9,
          5.6,
          6.2,
          5.8,
          4.9,
          6.4,
          5.1,
          6.7,
          5.5,
          4.3,
          6.2,
          4.5,
          6.3,
          4.7,
          5.9,
          7.1,
          4.4,
          6.6,
          5.4,
          6.5,
          4.8,
          5.7,
          6.1,
          4.6,
          6.8,
          5.6,
          4.2,
          6.3,
          4.4,
          6.5,
          4.6,
          5.8,
          7,
          4.5,
          6.7,
          5.5,
          6.4,
          4.7,
          5.6,
          6.2,
          4.8,
          6.9,
          5.7,
          4.4,
          6.1,
          4.3,
          6.4,
          4.5,
          5.9,
          7.2,
          4.6,
          6.8,
          5.3,
          6.3,
          4.8,
          5.7,
          6.2,
          4.7,
          6.8,
          5.6,
          4.3,
          6.2,
          4.4,
          6.5,
          4.6,
          5.8,
          7.1,
          4.5,
          6.7,
          5.4,
          6.4,
          4.7,
          5.6,
          6.3,
          4.8,
          6.9,
          5.7,
          4.4,
          6.1,
          4.3,
          6.4,
          4.5,
          5.9,
          7.2,
          4.6,
          6.8,
          5.3,
          6.2,
          4.7,
          5.8,
          6.1,
          4.8,
          6.7,
          5.5,
          4.2,
          6.3,
          4.4,
          6.5,
          4.6,
          5.9,
          7,
          4.5,
          6.6,
          5.5,
          6.3,
          4.8,
          5.7,
          6.2,
          4.7,
          6.8,
          5.6,
          4.3,
          6.2
         ],
         "xaxis": "x",
         "yaxis": "y"
        }
       ],
       "layout": {
        "barmode": "relative",
        "font": {
         "family": "Lato, sans-serif"
        },
        "legend": {
         "tracegroupgap": 0
        },
        "template": {
         "data": {
          "bar": [
           {
            "error_x": {
             "color": "#2a3f5f"
            },
            "error_y": {
             "color": "#2a3f5f"
            },
            "marker": {
             "line": {
              "color": "#E5ECF6",
              "width": 0.5
             }
            },
            "type": "bar"
           }
          ],
          "barpolar": [
           {
            "marker": {
             "line": {
              "color": "#E5ECF6",
              "width": 0.5
             }
            },
            "type": "barpolar"
           }
          ],
          "carpet": [
           {
            "aaxis": {
             "endlinecolor": "#2a3f5f",
             "gridcolor": "white",
             "linecolor": "white",
             "minorgridcolor": "white",
             "startlinecolor": "#2a3f5f"
            },
            "baxis": {
             "endlinecolor": "#2a3f5f",
             "gridcolor": "white",
             "linecolor": "white",
             "minorgridcolor": "white",
             "startlinecolor": "#2a3f5f"
            },
            "type": "carpet"
           }
          ],
          "choropleth": [
           {
            "colorbar": {
             "outlinewidth": 0,
             "ticks": ""
            },
            "type": "choropleth"
           }
          ],
          "contour": [
           {
            "colorbar": {
             "outlinewidth": 0,
             "ticks": ""
            },
            "colorscale": [
             [
              0,
              "#0d0887"
             ],
             [
              0.1111111111111111,
              "#46039f"
             ],
             [
              0.2222222222222222,
              "#7201a8"
             ],
             [
              0.3333333333333333,
              "#9c179e"
             ],
             [
              0.4444444444444444,
              "#bd3786"
             ],
             [
              0.5555555555555556,
              "#d8576b"
             ],
             [
              0.6666666666666666,
              "#ed7953"
             ],
             [
              0.7777777777777778,
              "#fb9f3a"
             ],
             [
              0.8888888888888888,
              "#fdca26"
             ],
             [
              1,
              "#f0f921"
             ]
            ],
            "type": "contour"
           }
          ],
          "contourcarpet": [
           {
            "colorbar": {
             "outlinewidth": 0,
             "ticks": ""
            },
            "type": "contourcarpet"
           }
          ],
          "heatmap": [
           {
            "colorbar": {
             "outlinewidth": 0,
             "ticks": ""
            },
            "colorscale": [
             [
              0,
              "#0d0887"
             ],
             [
              0.1111111111111111,
              "#46039f"
             ],
             [
              0.2222222222222222,
              "#7201a8"
             ],
             [
              0.3333333333333333,
              "#9c179e"
             ],
             [
              0.4444444444444444,
              "#bd3786"
             ],
             [
              0.5555555555555556,
              "#d8576b"
             ],
             [
              0.6666666666666666,
              "#ed7953"
             ],
             [
              0.7777777777777778,
              "#fb9f3a"
             ],
             [
              0.8888888888888888,
              "#fdca26"
             ],
             [
              1,
              "#f0f921"
             ]
            ],
            "type": "heatmap"
           }
          ],
          "heatmapgl": [
           {
            "colorbar": {
             "outlinewidth": 0,
             "ticks": ""
            },
            "colorscale": [
             [
              0,
              "#0d0887"
             ],
             [
              0.1111111111111111,
              "#46039f"
             ],
             [
              0.2222222222222222,
              "#7201a8"
             ],
             [
              0.3333333333333333,
              "#9c179e"
             ],
             [
              0.4444444444444444,
              "#bd3786"
             ],
             [
              0.5555555555555556,
              "#d8576b"
             ],
             [
              0.6666666666666666,
              "#ed7953"
             ],
             [
              0.7777777777777778,
              "#fb9f3a"
             ],
             [
              0.8888888888888888,
              "#fdca26"
             ],
             [
              1,
              "#f0f921"
             ]
            ],
            "type": "heatmapgl"
           }
          ],
          "histogram": [
           {
            "marker": {
             "colorbar": {
              "outlinewidth": 0,
              "ticks": ""
             }
            },
            "type": "histogram"
           }
          ],
          "histogram2d": [
           {
            "colorbar": {
             "outlinewidth": 0,
             "ticks": ""
            },
            "colorscale": [
             [
              0,
              "#0d0887"
             ],
             [
              0.1111111111111111,
              "#46039f"
             ],
             [
              0.2222222222222222,
              "#7201a8"
             ],
             [
              0.3333333333333333,
              "#9c179e"
             ],
             [
              0.4444444444444444,
              "#bd3786"
             ],
             [
              0.5555555555555556,
              "#d8576b"
             ],
             [
              0.6666666666666666,
              "#ed7953"
             ],
             [
              0.7777777777777778,
              "#fb9f3a"
             ],
             [
              0.8888888888888888,
              "#fdca26"
             ],
             [
              1,
              "#f0f921"
             ]
            ],
            "type": "histogram2d"
           }
          ],
          "histogram2dcontour": [
           {
            "colorbar": {
             "outlinewidth": 0,
             "ticks": ""
            },
            "colorscale": [
             [
              0,
              "#0d0887"
             ],
             [
              0.1111111111111111,
              "#46039f"
             ],
             [
              0.2222222222222222,
              "#7201a8"
             ],
             [
              0.3333333333333333,
              "#9c179e"
             ],
             [
              0.4444444444444444,
              "#bd3786"
             ],
             [
              0.5555555555555556,
              "#d8576b"
             ],
             [
              0.6666666666666666,
              "#ed7953"
             ],
             [
              0.7777777777777778,
              "#fb9f3a"
             ],
             [
              0.8888888888888888,
              "#fdca26"
             ],
             [
              1,
              "#f0f921"
             ]
            ],
            "type": "histogram2dcontour"
           }
          ],
          "mesh3d": [
           {
            "colorbar": {
             "outlinewidth": 0,
             "ticks": ""
            },
            "type": "mesh3d"
           }
          ],
          "parcoords": [
           {
            "line": {
             "colorbar": {
              "outlinewidth": 0,
              "ticks": ""
             }
            },
            "type": "parcoords"
           }
          ],
          "pie": [
           {
            "automargin": true,
            "type": "pie"
           }
          ],
          "scatter": [
           {
            "marker": {
             "colorbar": {
              "outlinewidth": 0,
              "ticks": ""
             }
            },
            "type": "scatter"
           }
          ],
          "scatter3d": [
           {
            "line": {
             "colorbar": {
              "outlinewidth": 0,
              "ticks": ""
             }
            },
            "marker": {
             "colorbar": {
              "outlinewidth": 0,
              "ticks": ""
             }
            },
            "type": "scatter3d"
           }
          ],
          "scattercarpet": [
           {
            "marker": {
             "colorbar": {
              "outlinewidth": 0,
              "ticks": ""
             }
            },
            "type": "scattercarpet"
           }
          ],
          "scattergeo": [
           {
            "marker": {
             "colorbar": {
              "outlinewidth": 0,
              "ticks": ""
             }
            },
            "type": "scattergeo"
           }
          ],
          "scattergl": [
           {
            "marker": {
             "colorbar": {
              "outlinewidth": 0,
              "ticks": ""
             }
            },
            "type": "scattergl"
           }
          ],
          "scattermapbox": [
           {
            "marker": {
             "colorbar": {
              "outlinewidth": 0,
              "ticks": ""
             }
            },
            "type": "scattermapbox"
           }
          ],
          "scatterpolar": [
           {
            "marker": {
             "colorbar": {
              "outlinewidth": 0,
              "ticks": ""
             }
            },
            "type": "scatterpolar"
           }
          ],
          "scatterpolargl": [
           {
            "marker": {
             "colorbar": {
              "outlinewidth": 0,
              "ticks": ""
             }
            },
            "type": "scatterpolargl"
           }
          ],
          "scatterternary": [
           {
            "marker": {
             "colorbar": {
              "outlinewidth": 0,
              "ticks": ""
             }
            },
            "type": "scatterternary"
           }
          ],
          "surface": [
           {
            "colorbar": {
             "outlinewidth": 0,
             "ticks": ""
            },
            "colorscale": [
             [
              0,
              "#0d0887"
             ],
             [
              0.1111111111111111,
              "#46039f"
             ],
             [
              0.2222222222222222,
              "#7201a8"
             ],
             [
              0.3333333333333333,
              "#9c179e"
             ],
             [
              0.4444444444444444,
              "#bd3786"
             ],
             [
              0.5555555555555556,
              "#d8576b"
             ],
             [
              0.6666666666666666,
              "#ed7953"
             ],
             [
              0.7777777777777778,
              "#fb9f3a"
             ],
             [
              0.8888888888888888,
              "#fdca26"
             ],
             [
              1,
              "#f0f921"
             ]
            ],
            "type": "surface"
           }
          ],
          "table": [
           {
            "cells": {
             "fill": {
              "color": "#EBF0F8"
             },
             "line": {
              "color": "white"
             }
            },
            "header": {
             "fill": {
              "color": "#C8D4E3"
             },
             "line": {
              "color": "white"
             }
            },
            "type": "table"
           }
          ]
         },
         "layout": {
          "annotationdefaults": {
           "arrowcolor": "#2a3f5f",
           "arrowhead": 0,
           "arrowwidth": 1
          },
          "coloraxis": {
           "colorbar": {
            "outlinewidth": 0,
            "ticks": ""
           }
          },
          "colorscale": {
           "diverging": [
            [
             0,
             "#8e0152"
            ],
            [
             0.1,
             "#c51b7d"
            ],
            [
             0.2,
             "#de77ae"
            ],
            [
             0.3,
             "#f1b6da"
            ],
            [
             0.4,
             "#fde0ef"
            ],
            [
             0.5,
             "#f7f7f7"
            ],
            [
             0.6,
             "#e6f5d0"
            ],
            [
             0.7,
             "#b8e186"
            ],
            [
             0.8,
             "#7fbc41"
            ],
            [
             0.9,
             "#4d9221"
            ],
            [
             1,
             "#276419"
            ]
           ],
           "sequential": [
            [
             0,
             "#0d0887"
            ],
            [
             0.1111111111111111,
             "#46039f"
            ],
            [
             0.2222222222222222,
             "#7201a8"
            ],
            [
             0.3333333333333333,
             "#9c179e"
            ],
            [
             0.4444444444444444,
             "#bd3786"
            ],
            [
             0.5555555555555556,
             "#d8576b"
            ],
            [
             0.6666666666666666,
             "#ed7953"
            ],
            [
             0.7777777777777778,
             "#fb9f3a"
            ],
            [
             0.8888888888888888,
             "#fdca26"
            ],
            [
             1,
             "#f0f921"
            ]
           ],
           "sequentialminus": [
            [
             0,
             "#0d0887"
            ],
            [
             0.1111111111111111,
             "#46039f"
            ],
            [
             0.2222222222222222,
             "#7201a8"
            ],
            [
             0.3333333333333333,
             "#9c179e"
            ],
            [
             0.4444444444444444,
             "#bd3786"
            ],
            [
             0.5555555555555556,
             "#d8576b"
            ],
            [
             0.6666666666666666,
             "#ed7953"
            ],
            [
             0.7777777777777778,
             "#fb9f3a"
            ],
            [
             0.8888888888888888,
             "#fdca26"
            ],
            [
             1,
             "#f0f921"
            ]
           ]
          },
          "colorway": [
           "#636efa",
           "#EF553B",
           "#00cc96",
           "#ab63fa",
           "#FFA15A",
           "#19d3f3",
           "#FF6692",
           "#B6E880",
           "#FF97FF",
           "#FECB52"
          ],
          "font": {
           "color": "#2a3f5f"
          },
          "geo": {
           "bgcolor": "white",
           "lakecolor": "white",
           "landcolor": "#E5ECF6",
           "showlakes": true,
           "showland": true,
           "subunitcolor": "white"
          },
          "hoverlabel": {
           "align": "left"
          },
          "hovermode": "closest",
          "mapbox": {
           "style": "light"
          },
          "paper_bgcolor": "white",
          "plot_bgcolor": "#E5ECF6",
          "polar": {
           "angularaxis": {
            "gridcolor": "white",
            "linecolor": "white",
            "ticks": ""
           },
           "bgcolor": "#E5ECF6",
           "radialaxis": {
            "gridcolor": "white",
            "linecolor": "white",
            "ticks": ""
           }
          },
          "scene": {
           "xaxis": {
            "backgroundcolor": "#E5ECF6",
            "gridcolor": "white",
            "gridwidth": 2,
            "linecolor": "white",
            "showbackground": true,
            "ticks": "",
            "zerolinecolor": "white"
           },
           "yaxis": {
            "backgroundcolor": "#E5ECF6",
            "gridcolor": "white",
            "gridwidth": 2,
            "linecolor": "white",
            "showbackground": true,
            "ticks": "",
            "zerolinecolor": "white"
           },
           "zaxis": {
            "backgroundcolor": "#E5ECF6",
            "gridcolor": "white",
            "gridwidth": 2,
            "linecolor": "white",
            "showbackground": true,
            "ticks": "",
            "zerolinecolor": "white"
           }
          },
          "shapedefaults": {
           "line": {
            "color": "#2a3f5f"
           }
          },
          "ternary": {
           "aaxis": {
            "gridcolor": "white",
            "linecolor": "white",
            "ticks": ""
           },
           "baxis": {
            "gridcolor": "white",
            "linecolor": "white",
            "ticks": ""
           },
           "bgcolor": "#E5ECF6",
           "caxis": {
            "gridcolor": "white",
            "linecolor": "white",
            "ticks": ""
           }
          },
          "title": {
           "x": 0.05
          },
          "xaxis": {
           "automargin": true,
           "gridcolor": "white",
           "linecolor": "white",
           "ticks": "",
           "title": {
            "standoff": 15
           },
           "zerolinecolor": "white",
           "zerolinewidth": 2
          },
          "yaxis": {
           "automargin": true,
           "gridcolor": "white",
           "linecolor": "white",
           "ticks": "",
           "title": {
            "standoff": 15
           },
           "zerolinecolor": "white",
           "zerolinewidth": 2
          }
         }
        },
        "title": {
         "text": "Distribution of Average Daily Social Media Usage"
        },
        "xaxis": {
         "anchor": "y",
         "domain": [
          0,
          1
         ],
         "title": {
          "text": "Avg Daily Usage (Hours)"
         }
        },
        "yaxis": {
         "anchor": "x",
         "domain": [
          0,
          1
         ],
         "title": {
          "text": "Number of Students"
         }
        }
       }
      }
     },
     "metadata": {},
     "output_type": "display_data"
    }
   ],
   "source": [
    "# Define bins and labels\n",
    "bins = [0, 2, 4, 6, 8, 10]\n",
    "labels = ['0–2 hrs', '2–4 hrs', '4–6 hrs', '6–8 hrs', '8–10 hrs']\n",
    "\n",
    "# Bin the usage hours\n",
    "student_df['usage_bin'] = pd.cut(student_df['avg_daily_usage_hours'], bins = bins, labels = labels, right = False)\n",
    "\n",
    "# Get value counts of binned usage\n",
    "usage_counts_binned = student_df['usage_bin'].value_counts().sort_index()\n",
    "\n",
    "# Print the binned value counts\n",
    "print(\"Average Daily Usage:\")\n",
    "print(usage_counts_binned)\n",
    "\n",
    "# Plot figure\n",
    "fig = px.histogram(\n",
    "    student_df,\n",
    "    x = 'avg_daily_usage_hours',\n",
    "    nbins = 30,\n",
    "    title = 'Distribution of Average Daily Social Media Usage',\n",
    "    color_discrete_sequence = ['#6A5ACD']\n",
    ")\n",
    "\n",
    "fig.update_layout(\n",
    "    xaxis_title = 'Avg Daily Usage (Hours)',\n",
    "    yaxis_title = 'Number of Students',\n",
    "    font = dict(family = 'Lato, sans-serif')\n",
    ")\n",
    "\n",
    "fig.show()"
   ]
  },
  {
   "cell_type": "markdown",
   "id": "563428e5",
   "metadata": {},
   "source": [
    "> Binning average daily usage hours reveals a **heavily concentrated pattern of engagement** among students:\n",
    "> - **4–6 hours/day**: 401 students (**~57%**)  \n",
    "> - **2–4 hours/day**: 153 students (**~22%**)  \n",
    "> - **6–8 hours/day**: 144 students (**~20%**)  \n",
    "> - Outliers include:\n",
    "    - **8–10 hours/day**: 6 students\n",
    "    - **0–2 hours/day**: just 1 student\n",
    "\n",
    "> **Observation:** This distribution shows that **over 77% of students spend 4–8 hours daily** on social media — a level of engagement that borders on habitual and potentially impacts academic and cognitive performance. Minimal representation at the extremes (especially the <2 hr group) suggests that **low social media exposure is rare** among the cohort.\n",
    "\n",
    ">**Implication:** Any analyses relating to addiction, academic disruption, or mental health should treat the 4–8 hour band as the behavioral norm — and deviations from it as potentially meaningful outliers."
   ]
  },
  {
   "cell_type": "markdown",
   "id": "4ff4f36e",
   "metadata": {},
   "source": [
    "## 6. Most used platform\n",
    "Everyone has their digital poison- and this variable tells us what the students are sipping on.\n",
    "\n",
    "From Instagram reels to TikTok spirals, platform preference isn’t just about trends- it’s a **behavioral fingerprint**. It shows what kind of content students consume, how they engage, and possibly what keeps them up at 2am when they swore they’d just check one notification.\n",
    "\n",
    "So which apps reign supreme among this cohort?"
   ]
  },
  {
   "cell_type": "code",
   "execution_count": 59,
   "id": "f8ed5560",
   "metadata": {},
   "outputs": [
    {
     "name": "stdout",
     "output_type": "stream",
     "text": [
      "Most Used Platforms:\n",
      "     Platform  Count\n",
      "0   Instagram    249\n",
      "1      TikTok    154\n",
      "2    Facebook    123\n",
      "3    WhatsApp     54\n",
      "4     Twitter     30\n",
      "5    LinkedIn     21\n",
      "6      WeChat     15\n",
      "7    Snapchat     13\n",
      "8   KakaoTalk     12\n",
      "9   VKontakte     12\n",
      "10       LINE     12\n",
      "11    YouTube     10\n"
     ]
    },
    {
     "data": {
      "application/vnd.plotly.v1+json": {
       "config": {
        "plotlyServerURL": "https://plot.ly"
       },
       "data": [
        {
         "alignmentgroup": "True",
         "hovertemplate": "Platform=%{y}<br>Count=%{text}<extra></extra>",
         "legendgroup": "YouTube",
         "marker": {
          "color": "#FF0000"
         },
         "name": "YouTube",
         "offsetgroup": "YouTube",
         "orientation": "h",
         "showlegend": true,
         "text": [
          10
         ],
         "textposition": "auto",
         "type": "bar",
         "x": [
          10
         ],
         "xaxis": "x",
         "y": [
          "YouTube"
         ],
         "yaxis": "y"
        },
        {
         "alignmentgroup": "True",
         "hovertemplate": "Platform=%{y}<br>Count=%{text}<extra></extra>",
         "legendgroup": "KakaoTalk",
         "marker": {
          "color": "#636efa"
         },
         "name": "KakaoTalk",
         "offsetgroup": "KakaoTalk",
         "orientation": "h",
         "showlegend": true,
         "text": [
          12
         ],
         "textposition": "auto",
         "type": "bar",
         "x": [
          12
         ],
         "xaxis": "x",
         "y": [
          "KakaoTalk"
         ],
         "yaxis": "y"
        },
        {
         "alignmentgroup": "True",
         "hovertemplate": "Platform=%{y}<br>Count=%{text}<extra></extra>",
         "legendgroup": "VKontakte",
         "marker": {
          "color": "#EF553B"
         },
         "name": "VKontakte",
         "offsetgroup": "VKontakte",
         "orientation": "h",
         "showlegend": true,
         "text": [
          12
         ],
         "textposition": "auto",
         "type": "bar",
         "x": [
          12
         ],
         "xaxis": "x",
         "y": [
          "VKontakte"
         ],
         "yaxis": "y"
        },
        {
         "alignmentgroup": "True",
         "hovertemplate": "Platform=%{y}<br>Count=%{text}<extra></extra>",
         "legendgroup": "LINE",
         "marker": {
          "color": "#00cc96"
         },
         "name": "LINE",
         "offsetgroup": "LINE",
         "orientation": "h",
         "showlegend": true,
         "text": [
          12
         ],
         "textposition": "auto",
         "type": "bar",
         "x": [
          12
         ],
         "xaxis": "x",
         "y": [
          "LINE"
         ],
         "yaxis": "y"
        },
        {
         "alignmentgroup": "True",
         "hovertemplate": "Platform=%{y}<br>Count=%{text}<extra></extra>",
         "legendgroup": "Snapchat",
         "marker": {
          "color": "#FFFC00"
         },
         "name": "Snapchat",
         "offsetgroup": "Snapchat",
         "orientation": "h",
         "showlegend": true,
         "text": [
          13
         ],
         "textposition": "auto",
         "type": "bar",
         "x": [
          13
         ],
         "xaxis": "x",
         "y": [
          "Snapchat"
         ],
         "yaxis": "y"
        },
        {
         "alignmentgroup": "True",
         "hovertemplate": "Platform=%{y}<br>Count=%{text}<extra></extra>",
         "legendgroup": "WeChat",
         "marker": {
          "color": "#ab63fa"
         },
         "name": "WeChat",
         "offsetgroup": "WeChat",
         "orientation": "h",
         "showlegend": true,
         "text": [
          15
         ],
         "textposition": "auto",
         "type": "bar",
         "x": [
          15
         ],
         "xaxis": "x",
         "y": [
          "WeChat"
         ],
         "yaxis": "y"
        },
        {
         "alignmentgroup": "True",
         "hovertemplate": "Platform=%{y}<br>Count=%{text}<extra></extra>",
         "legendgroup": "LinkedIn",
         "marker": {
          "color": "#0077B5"
         },
         "name": "LinkedIn",
         "offsetgroup": "LinkedIn",
         "orientation": "h",
         "showlegend": true,
         "text": [
          21
         ],
         "textposition": "auto",
         "type": "bar",
         "x": [
          21
         ],
         "xaxis": "x",
         "y": [
          "LinkedIn"
         ],
         "yaxis": "y"
        },
        {
         "alignmentgroup": "True",
         "hovertemplate": "Platform=%{y}<br>Count=%{text}<extra></extra>",
         "legendgroup": "Twitter",
         "marker": {
          "color": "#000000"
         },
         "name": "Twitter",
         "offsetgroup": "Twitter",
         "orientation": "h",
         "showlegend": true,
         "text": [
          30
         ],
         "textposition": "auto",
         "type": "bar",
         "x": [
          30
         ],
         "xaxis": "x",
         "y": [
          "Twitter"
         ],
         "yaxis": "y"
        },
        {
         "alignmentgroup": "True",
         "hovertemplate": "Platform=%{y}<br>Count=%{text}<extra></extra>",
         "legendgroup": "WhatsApp",
         "marker": {
          "color": "#25D366"
         },
         "name": "WhatsApp",
         "offsetgroup": "WhatsApp",
         "orientation": "h",
         "showlegend": true,
         "text": [
          54
         ],
         "textposition": "auto",
         "type": "bar",
         "x": [
          54
         ],
         "xaxis": "x",
         "y": [
          "WhatsApp"
         ],
         "yaxis": "y"
        },
        {
         "alignmentgroup": "True",
         "hovertemplate": "Platform=%{y}<br>Count=%{text}<extra></extra>",
         "legendgroup": "Facebook",
         "marker": {
          "color": "#1877F2"
         },
         "name": "Facebook",
         "offsetgroup": "Facebook",
         "orientation": "h",
         "showlegend": true,
         "text": [
          123
         ],
         "textposition": "auto",
         "type": "bar",
         "x": [
          123
         ],
         "xaxis": "x",
         "y": [
          "Facebook"
         ],
         "yaxis": "y"
        },
        {
         "alignmentgroup": "True",
         "hovertemplate": "Platform=%{y}<br>Count=%{text}<extra></extra>",
         "legendgroup": "TikTok",
         "marker": {
          "color": "#010101"
         },
         "name": "TikTok",
         "offsetgroup": "TikTok",
         "orientation": "h",
         "showlegend": true,
         "text": [
          154
         ],
         "textposition": "auto",
         "type": "bar",
         "x": [
          154
         ],
         "xaxis": "x",
         "y": [
          "TikTok"
         ],
         "yaxis": "y"
        },
        {
         "alignmentgroup": "True",
         "hovertemplate": "Platform=%{y}<br>Count=%{text}<extra></extra>",
         "legendgroup": "Instagram",
         "marker": {
          "color": "#E1306C"
         },
         "name": "Instagram",
         "offsetgroup": "Instagram",
         "orientation": "h",
         "showlegend": true,
         "text": [
          249
         ],
         "textposition": "auto",
         "type": "bar",
         "x": [
          249
         ],
         "xaxis": "x",
         "y": [
          "Instagram"
         ],
         "yaxis": "y"
        }
       ],
       "layout": {
        "barmode": "relative",
        "font": {
         "family": "Lato",
         "size": 14
        },
        "legend": {
         "title": {
          "text": "Platform"
         },
         "tracegroupgap": 0
        },
        "showlegend": false,
        "template": {
         "data": {
          "bar": [
           {
            "error_x": {
             "color": "#2a3f5f"
            },
            "error_y": {
             "color": "#2a3f5f"
            },
            "marker": {
             "line": {
              "color": "#E5ECF6",
              "width": 0.5
             }
            },
            "type": "bar"
           }
          ],
          "barpolar": [
           {
            "marker": {
             "line": {
              "color": "#E5ECF6",
              "width": 0.5
             }
            },
            "type": "barpolar"
           }
          ],
          "carpet": [
           {
            "aaxis": {
             "endlinecolor": "#2a3f5f",
             "gridcolor": "white",
             "linecolor": "white",
             "minorgridcolor": "white",
             "startlinecolor": "#2a3f5f"
            },
            "baxis": {
             "endlinecolor": "#2a3f5f",
             "gridcolor": "white",
             "linecolor": "white",
             "minorgridcolor": "white",
             "startlinecolor": "#2a3f5f"
            },
            "type": "carpet"
           }
          ],
          "choropleth": [
           {
            "colorbar": {
             "outlinewidth": 0,
             "ticks": ""
            },
            "type": "choropleth"
           }
          ],
          "contour": [
           {
            "colorbar": {
             "outlinewidth": 0,
             "ticks": ""
            },
            "colorscale": [
             [
              0,
              "#0d0887"
             ],
             [
              0.1111111111111111,
              "#46039f"
             ],
             [
              0.2222222222222222,
              "#7201a8"
             ],
             [
              0.3333333333333333,
              "#9c179e"
             ],
             [
              0.4444444444444444,
              "#bd3786"
             ],
             [
              0.5555555555555556,
              "#d8576b"
             ],
             [
              0.6666666666666666,
              "#ed7953"
             ],
             [
              0.7777777777777778,
              "#fb9f3a"
             ],
             [
              0.8888888888888888,
              "#fdca26"
             ],
             [
              1,
              "#f0f921"
             ]
            ],
            "type": "contour"
           }
          ],
          "contourcarpet": [
           {
            "colorbar": {
             "outlinewidth": 0,
             "ticks": ""
            },
            "type": "contourcarpet"
           }
          ],
          "heatmap": [
           {
            "colorbar": {
             "outlinewidth": 0,
             "ticks": ""
            },
            "colorscale": [
             [
              0,
              "#0d0887"
             ],
             [
              0.1111111111111111,
              "#46039f"
             ],
             [
              0.2222222222222222,
              "#7201a8"
             ],
             [
              0.3333333333333333,
              "#9c179e"
             ],
             [
              0.4444444444444444,
              "#bd3786"
             ],
             [
              0.5555555555555556,
              "#d8576b"
             ],
             [
              0.6666666666666666,
              "#ed7953"
             ],
             [
              0.7777777777777778,
              "#fb9f3a"
             ],
             [
              0.8888888888888888,
              "#fdca26"
             ],
             [
              1,
              "#f0f921"
             ]
            ],
            "type": "heatmap"
           }
          ],
          "heatmapgl": [
           {
            "colorbar": {
             "outlinewidth": 0,
             "ticks": ""
            },
            "colorscale": [
             [
              0,
              "#0d0887"
             ],
             [
              0.1111111111111111,
              "#46039f"
             ],
             [
              0.2222222222222222,
              "#7201a8"
             ],
             [
              0.3333333333333333,
              "#9c179e"
             ],
             [
              0.4444444444444444,
              "#bd3786"
             ],
             [
              0.5555555555555556,
              "#d8576b"
             ],
             [
              0.6666666666666666,
              "#ed7953"
             ],
             [
              0.7777777777777778,
              "#fb9f3a"
             ],
             [
              0.8888888888888888,
              "#fdca26"
             ],
             [
              1,
              "#f0f921"
             ]
            ],
            "type": "heatmapgl"
           }
          ],
          "histogram": [
           {
            "marker": {
             "colorbar": {
              "outlinewidth": 0,
              "ticks": ""
             }
            },
            "type": "histogram"
           }
          ],
          "histogram2d": [
           {
            "colorbar": {
             "outlinewidth": 0,
             "ticks": ""
            },
            "colorscale": [
             [
              0,
              "#0d0887"
             ],
             [
              0.1111111111111111,
              "#46039f"
             ],
             [
              0.2222222222222222,
              "#7201a8"
             ],
             [
              0.3333333333333333,
              "#9c179e"
             ],
             [
              0.4444444444444444,
              "#bd3786"
             ],
             [
              0.5555555555555556,
              "#d8576b"
             ],
             [
              0.6666666666666666,
              "#ed7953"
             ],
             [
              0.7777777777777778,
              "#fb9f3a"
             ],
             [
              0.8888888888888888,
              "#fdca26"
             ],
             [
              1,
              "#f0f921"
             ]
            ],
            "type": "histogram2d"
           }
          ],
          "histogram2dcontour": [
           {
            "colorbar": {
             "outlinewidth": 0,
             "ticks": ""
            },
            "colorscale": [
             [
              0,
              "#0d0887"
             ],
             [
              0.1111111111111111,
              "#46039f"
             ],
             [
              0.2222222222222222,
              "#7201a8"
             ],
             [
              0.3333333333333333,
              "#9c179e"
             ],
             [
              0.4444444444444444,
              "#bd3786"
             ],
             [
              0.5555555555555556,
              "#d8576b"
             ],
             [
              0.6666666666666666,
              "#ed7953"
             ],
             [
              0.7777777777777778,
              "#fb9f3a"
             ],
             [
              0.8888888888888888,
              "#fdca26"
             ],
             [
              1,
              "#f0f921"
             ]
            ],
            "type": "histogram2dcontour"
           }
          ],
          "mesh3d": [
           {
            "colorbar": {
             "outlinewidth": 0,
             "ticks": ""
            },
            "type": "mesh3d"
           }
          ],
          "parcoords": [
           {
            "line": {
             "colorbar": {
              "outlinewidth": 0,
              "ticks": ""
             }
            },
            "type": "parcoords"
           }
          ],
          "pie": [
           {
            "automargin": true,
            "type": "pie"
           }
          ],
          "scatter": [
           {
            "marker": {
             "colorbar": {
              "outlinewidth": 0,
              "ticks": ""
             }
            },
            "type": "scatter"
           }
          ],
          "scatter3d": [
           {
            "line": {
             "colorbar": {
              "outlinewidth": 0,
              "ticks": ""
             }
            },
            "marker": {
             "colorbar": {
              "outlinewidth": 0,
              "ticks": ""
             }
            },
            "type": "scatter3d"
           }
          ],
          "scattercarpet": [
           {
            "marker": {
             "colorbar": {
              "outlinewidth": 0,
              "ticks": ""
             }
            },
            "type": "scattercarpet"
           }
          ],
          "scattergeo": [
           {
            "marker": {
             "colorbar": {
              "outlinewidth": 0,
              "ticks": ""
             }
            },
            "type": "scattergeo"
           }
          ],
          "scattergl": [
           {
            "marker": {
             "colorbar": {
              "outlinewidth": 0,
              "ticks": ""
             }
            },
            "type": "scattergl"
           }
          ],
          "scattermapbox": [
           {
            "marker": {
             "colorbar": {
              "outlinewidth": 0,
              "ticks": ""
             }
            },
            "type": "scattermapbox"
           }
          ],
          "scatterpolar": [
           {
            "marker": {
             "colorbar": {
              "outlinewidth": 0,
              "ticks": ""
             }
            },
            "type": "scatterpolar"
           }
          ],
          "scatterpolargl": [
           {
            "marker": {
             "colorbar": {
              "outlinewidth": 0,
              "ticks": ""
             }
            },
            "type": "scatterpolargl"
           }
          ],
          "scatterternary": [
           {
            "marker": {
             "colorbar": {
              "outlinewidth": 0,
              "ticks": ""
             }
            },
            "type": "scatterternary"
           }
          ],
          "surface": [
           {
            "colorbar": {
             "outlinewidth": 0,
             "ticks": ""
            },
            "colorscale": [
             [
              0,
              "#0d0887"
             ],
             [
              0.1111111111111111,
              "#46039f"
             ],
             [
              0.2222222222222222,
              "#7201a8"
             ],
             [
              0.3333333333333333,
              "#9c179e"
             ],
             [
              0.4444444444444444,
              "#bd3786"
             ],
             [
              0.5555555555555556,
              "#d8576b"
             ],
             [
              0.6666666666666666,
              "#ed7953"
             ],
             [
              0.7777777777777778,
              "#fb9f3a"
             ],
             [
              0.8888888888888888,
              "#fdca26"
             ],
             [
              1,
              "#f0f921"
             ]
            ],
            "type": "surface"
           }
          ],
          "table": [
           {
            "cells": {
             "fill": {
              "color": "#EBF0F8"
             },
             "line": {
              "color": "white"
             }
            },
            "header": {
             "fill": {
              "color": "#C8D4E3"
             },
             "line": {
              "color": "white"
             }
            },
            "type": "table"
           }
          ]
         },
         "layout": {
          "annotationdefaults": {
           "arrowcolor": "#2a3f5f",
           "arrowhead": 0,
           "arrowwidth": 1
          },
          "coloraxis": {
           "colorbar": {
            "outlinewidth": 0,
            "ticks": ""
           }
          },
          "colorscale": {
           "diverging": [
            [
             0,
             "#8e0152"
            ],
            [
             0.1,
             "#c51b7d"
            ],
            [
             0.2,
             "#de77ae"
            ],
            [
             0.3,
             "#f1b6da"
            ],
            [
             0.4,
             "#fde0ef"
            ],
            [
             0.5,
             "#f7f7f7"
            ],
            [
             0.6,
             "#e6f5d0"
            ],
            [
             0.7,
             "#b8e186"
            ],
            [
             0.8,
             "#7fbc41"
            ],
            [
             0.9,
             "#4d9221"
            ],
            [
             1,
             "#276419"
            ]
           ],
           "sequential": [
            [
             0,
             "#0d0887"
            ],
            [
             0.1111111111111111,
             "#46039f"
            ],
            [
             0.2222222222222222,
             "#7201a8"
            ],
            [
             0.3333333333333333,
             "#9c179e"
            ],
            [
             0.4444444444444444,
             "#bd3786"
            ],
            [
             0.5555555555555556,
             "#d8576b"
            ],
            [
             0.6666666666666666,
             "#ed7953"
            ],
            [
             0.7777777777777778,
             "#fb9f3a"
            ],
            [
             0.8888888888888888,
             "#fdca26"
            ],
            [
             1,
             "#f0f921"
            ]
           ],
           "sequentialminus": [
            [
             0,
             "#0d0887"
            ],
            [
             0.1111111111111111,
             "#46039f"
            ],
            [
             0.2222222222222222,
             "#7201a8"
            ],
            [
             0.3333333333333333,
             "#9c179e"
            ],
            [
             0.4444444444444444,
             "#bd3786"
            ],
            [
             0.5555555555555556,
             "#d8576b"
            ],
            [
             0.6666666666666666,
             "#ed7953"
            ],
            [
             0.7777777777777778,
             "#fb9f3a"
            ],
            [
             0.8888888888888888,
             "#fdca26"
            ],
            [
             1,
             "#f0f921"
            ]
           ]
          },
          "colorway": [
           "#636efa",
           "#EF553B",
           "#00cc96",
           "#ab63fa",
           "#FFA15A",
           "#19d3f3",
           "#FF6692",
           "#B6E880",
           "#FF97FF",
           "#FECB52"
          ],
          "font": {
           "color": "#2a3f5f"
          },
          "geo": {
           "bgcolor": "white",
           "lakecolor": "white",
           "landcolor": "#E5ECF6",
           "showlakes": true,
           "showland": true,
           "subunitcolor": "white"
          },
          "hoverlabel": {
           "align": "left"
          },
          "hovermode": "closest",
          "mapbox": {
           "style": "light"
          },
          "paper_bgcolor": "white",
          "plot_bgcolor": "#E5ECF6",
          "polar": {
           "angularaxis": {
            "gridcolor": "white",
            "linecolor": "white",
            "ticks": ""
           },
           "bgcolor": "#E5ECF6",
           "radialaxis": {
            "gridcolor": "white",
            "linecolor": "white",
            "ticks": ""
           }
          },
          "scene": {
           "xaxis": {
            "backgroundcolor": "#E5ECF6",
            "gridcolor": "white",
            "gridwidth": 2,
            "linecolor": "white",
            "showbackground": true,
            "ticks": "",
            "zerolinecolor": "white"
           },
           "yaxis": {
            "backgroundcolor": "#E5ECF6",
            "gridcolor": "white",
            "gridwidth": 2,
            "linecolor": "white",
            "showbackground": true,
            "ticks": "",
            "zerolinecolor": "white"
           },
           "zaxis": {
            "backgroundcolor": "#E5ECF6",
            "gridcolor": "white",
            "gridwidth": 2,
            "linecolor": "white",
            "showbackground": true,
            "ticks": "",
            "zerolinecolor": "white"
           }
          },
          "shapedefaults": {
           "line": {
            "color": "#2a3f5f"
           }
          },
          "ternary": {
           "aaxis": {
            "gridcolor": "white",
            "linecolor": "white",
            "ticks": ""
           },
           "baxis": {
            "gridcolor": "white",
            "linecolor": "white",
            "ticks": ""
           },
           "bgcolor": "#E5ECF6",
           "caxis": {
            "gridcolor": "white",
            "linecolor": "white",
            "ticks": ""
           }
          },
          "title": {
           "x": 0.05
          },
          "xaxis": {
           "automargin": true,
           "gridcolor": "white",
           "linecolor": "white",
           "ticks": "",
           "title": {
            "standoff": 15
           },
           "zerolinecolor": "white",
           "zerolinewidth": 2
          },
          "yaxis": {
           "automargin": true,
           "gridcolor": "white",
           "linecolor": "white",
           "ticks": "",
           "title": {
            "standoff": 15
           },
           "zerolinecolor": "white",
           "zerolinewidth": 2
          }
         }
        },
        "title": {
         "text": "Most Used Social Media Platforms (Branded)"
        },
        "xaxis": {
         "anchor": "y",
         "domain": [
          0,
          1
         ],
         "title": {
          "text": "Number of Students"
         }
        },
        "yaxis": {
         "anchor": "x",
         "categoryarray": [
          "Instagram",
          "TikTok",
          "Facebook",
          "WhatsApp",
          "Twitter",
          "LinkedIn",
          "WeChat",
          "Snapchat",
          "LINE",
          "VKontakte",
          "KakaoTalk",
          "YouTube"
         ],
         "categoryorder": "array",
         "domain": [
          0,
          1
         ],
         "title": {
          "text": "Platform"
         }
        }
       }
      }
     },
     "metadata": {},
     "output_type": "display_data"
    }
   ],
   "source": [
    "# Get and display the value counts\n",
    "platform_counts = (\n",
    "    student_df['most_used_platform']\n",
    "    .value_counts()\n",
    "    .reset_index()\n",
    "    .rename(columns = {'index': 'Platform', 'most_used_platform': 'Count'})\n",
    ")\n",
    "\n",
    "print(\"Most Used Platforms:\")\n",
    "print(platform_counts)\n",
    "\n",
    "# Define brand colors\n",
    "platform_colors = {\n",
    "    'Instagram': '#E1306C',\n",
    "    'WhatsApp': '#25D366',\n",
    "    'Facebook': '#1877F2',\n",
    "    'Twitter': '#000000',\n",
    "    'TikTok': '#010101',\n",
    "    'Snapchat': '#FFFC00',\n",
    "    'Telegram': '#0088CC',\n",
    "    'YouTube': '#FF0000',\n",
    "    'Discord': '#7289DA',\n",
    "    'LinkedIn': '#0077B5'\n",
    "}\n",
    "\n",
    "# Plot figure\n",
    "fig = px.bar(\n",
    "    platform_counts.sort_values('Count'),\n",
    "    x = 'Count',\n",
    "    y = 'Platform',\n",
    "    orientation = 'h',\n",
    "    text = 'Count',\n",
    "    color = 'Platform',\n",
    "    color_discrete_map = platform_colors,\n",
    "    title = 'Most Used Social Media Platforms (Branded)'\n",
    ")\n",
    "\n",
    "# Styling\n",
    "fig.update_layout(\n",
    "    font = dict(family = 'Lato', size = 14),\n",
    "    xaxis_title = 'Number of Students',\n",
    "    yaxis_title = 'Platform',\n",
    "    showlegend = False\n",
    ")\n",
    "\n",
    "fig.show()"
   ]
  },
  {
   "cell_type": "markdown",
   "id": "7e0715b7",
   "metadata": {},
   "source": [
    "> The data reveals a **clear dominance of visually-driven and mobile-first platforms** among students:\n",
    ">- **Instagram** tops the list with **249 users (~35%)**\n",
    ">- Followed by **TikTok** (154) and **Facebook** (123), completing the top 3\n",
    ">- Messaging apps like **WhatsApp** (54) and **Twitter** (30) follow, but at a much lower scale\n",
    ">- Niche platforms such as **LinkedIn, WeChat, Snapchat, VKontakte, LINE, KakaoTalk, and YouTube** round out the list, each with under 25 users\n",
    "\n",
    ">**Obseervation:** This platform preference landscape reflects a **youth-centric digital culture**, where image-based interaction and algorithm-curated content dominate attention spans. Notably, **professional or productivity-oriented platforms (e.g., LinkedIn, YouTube)** are underrepresented, suggesting that **social use far outweighs academic or career utility** in student media consumption.\n",
    "\n",
    ">**Implication:** When evaluating metrics like addiction scores or academic impact, platforms like **Instagram and TikTok** should be closely examined as potential behavioral drivers. Their design mechanics (e.g infinite scroll, short-form video, algorithmic dopamine loops) may contribute more significantly to attention fragmentation and compulsive use.\n"
   ]
  },
  {
   "cell_type": "markdown",
   "id": "6eab16ce",
   "metadata": {},
   "source": [
    "## 7. Affects Academic Performance\n",
    "This is where perception meets performance. Students were asked a simple yet loaded question:  \n",
    "**“Do you think social media affects your academic performance?”**\n",
    "\n",
    "Now, they’re not handing over GPAs here- just gut feelings. But gut feelings matter.\n",
    "\n",
    "This variable gives us a candid glimpse into self-awareness, potential tech regret, and whether students feel in control- or at the mercy- of their devices.\n",
    "\n",
    "Let’s break it down and see how many believe their grades are scrolling with them."
   ]
  },
  {
   "cell_type": "code",
   "execution_count": 60,
   "id": "18a8c80b",
   "metadata": {},
   "outputs": [
    {
     "name": "stdout",
     "output_type": "stream",
     "text": [
      "Affects Academic Performance:\n",
      "  Response  Count\n",
      "0      Yes    453\n",
      "1       No    252\n"
     ]
    },
    {
     "data": {
      "application/vnd.plotly.v1+json": {
       "config": {
        "plotlyServerURL": "https://plot.ly"
       },
       "data": [
        {
         "customdata": [
          [
           "Yes"
          ],
          [
           "No"
          ]
         ],
         "domain": {
          "x": [
           0,
           1
          ],
          "y": [
           0,
           1
          ]
         },
         "hole": 0.6,
         "hovertemplate": "Response=%{customdata[0]}<br>Count=%{value}<extra></extra>",
         "labels": [
          "Yes",
          "No"
         ],
         "legendgroup": "",
         "marker": {
          "colors": [
           "#E74C3C",
           "#2ECC71"
          ]
         },
         "name": "",
         "showlegend": true,
         "textinfo": "percent+label",
         "type": "pie",
         "values": [
          453,
          252
         ]
        }
       ],
       "layout": {
        "font": {
         "family": "Lato, sans-serif"
        },
        "legend": {
         "tracegroupgap": 0
        },
        "showlegend": true,
        "template": {
         "data": {
          "bar": [
           {
            "error_x": {
             "color": "#2a3f5f"
            },
            "error_y": {
             "color": "#2a3f5f"
            },
            "marker": {
             "line": {
              "color": "#E5ECF6",
              "width": 0.5
             }
            },
            "type": "bar"
           }
          ],
          "barpolar": [
           {
            "marker": {
             "line": {
              "color": "#E5ECF6",
              "width": 0.5
             }
            },
            "type": "barpolar"
           }
          ],
          "carpet": [
           {
            "aaxis": {
             "endlinecolor": "#2a3f5f",
             "gridcolor": "white",
             "linecolor": "white",
             "minorgridcolor": "white",
             "startlinecolor": "#2a3f5f"
            },
            "baxis": {
             "endlinecolor": "#2a3f5f",
             "gridcolor": "white",
             "linecolor": "white",
             "minorgridcolor": "white",
             "startlinecolor": "#2a3f5f"
            },
            "type": "carpet"
           }
          ],
          "choropleth": [
           {
            "colorbar": {
             "outlinewidth": 0,
             "ticks": ""
            },
            "type": "choropleth"
           }
          ],
          "contour": [
           {
            "colorbar": {
             "outlinewidth": 0,
             "ticks": ""
            },
            "colorscale": [
             [
              0,
              "#0d0887"
             ],
             [
              0.1111111111111111,
              "#46039f"
             ],
             [
              0.2222222222222222,
              "#7201a8"
             ],
             [
              0.3333333333333333,
              "#9c179e"
             ],
             [
              0.4444444444444444,
              "#bd3786"
             ],
             [
              0.5555555555555556,
              "#d8576b"
             ],
             [
              0.6666666666666666,
              "#ed7953"
             ],
             [
              0.7777777777777778,
              "#fb9f3a"
             ],
             [
              0.8888888888888888,
              "#fdca26"
             ],
             [
              1,
              "#f0f921"
             ]
            ],
            "type": "contour"
           }
          ],
          "contourcarpet": [
           {
            "colorbar": {
             "outlinewidth": 0,
             "ticks": ""
            },
            "type": "contourcarpet"
           }
          ],
          "heatmap": [
           {
            "colorbar": {
             "outlinewidth": 0,
             "ticks": ""
            },
            "colorscale": [
             [
              0,
              "#0d0887"
             ],
             [
              0.1111111111111111,
              "#46039f"
             ],
             [
              0.2222222222222222,
              "#7201a8"
             ],
             [
              0.3333333333333333,
              "#9c179e"
             ],
             [
              0.4444444444444444,
              "#bd3786"
             ],
             [
              0.5555555555555556,
              "#d8576b"
             ],
             [
              0.6666666666666666,
              "#ed7953"
             ],
             [
              0.7777777777777778,
              "#fb9f3a"
             ],
             [
              0.8888888888888888,
              "#fdca26"
             ],
             [
              1,
              "#f0f921"
             ]
            ],
            "type": "heatmap"
           }
          ],
          "heatmapgl": [
           {
            "colorbar": {
             "outlinewidth": 0,
             "ticks": ""
            },
            "colorscale": [
             [
              0,
              "#0d0887"
             ],
             [
              0.1111111111111111,
              "#46039f"
             ],
             [
              0.2222222222222222,
              "#7201a8"
             ],
             [
              0.3333333333333333,
              "#9c179e"
             ],
             [
              0.4444444444444444,
              "#bd3786"
             ],
             [
              0.5555555555555556,
              "#d8576b"
             ],
             [
              0.6666666666666666,
              "#ed7953"
             ],
             [
              0.7777777777777778,
              "#fb9f3a"
             ],
             [
              0.8888888888888888,
              "#fdca26"
             ],
             [
              1,
              "#f0f921"
             ]
            ],
            "type": "heatmapgl"
           }
          ],
          "histogram": [
           {
            "marker": {
             "colorbar": {
              "outlinewidth": 0,
              "ticks": ""
             }
            },
            "type": "histogram"
           }
          ],
          "histogram2d": [
           {
            "colorbar": {
             "outlinewidth": 0,
             "ticks": ""
            },
            "colorscale": [
             [
              0,
              "#0d0887"
             ],
             [
              0.1111111111111111,
              "#46039f"
             ],
             [
              0.2222222222222222,
              "#7201a8"
             ],
             [
              0.3333333333333333,
              "#9c179e"
             ],
             [
              0.4444444444444444,
              "#bd3786"
             ],
             [
              0.5555555555555556,
              "#d8576b"
             ],
             [
              0.6666666666666666,
              "#ed7953"
             ],
             [
              0.7777777777777778,
              "#fb9f3a"
             ],
             [
              0.8888888888888888,
              "#fdca26"
             ],
             [
              1,
              "#f0f921"
             ]
            ],
            "type": "histogram2d"
           }
          ],
          "histogram2dcontour": [
           {
            "colorbar": {
             "outlinewidth": 0,
             "ticks": ""
            },
            "colorscale": [
             [
              0,
              "#0d0887"
             ],
             [
              0.1111111111111111,
              "#46039f"
             ],
             [
              0.2222222222222222,
              "#7201a8"
             ],
             [
              0.3333333333333333,
              "#9c179e"
             ],
             [
              0.4444444444444444,
              "#bd3786"
             ],
             [
              0.5555555555555556,
              "#d8576b"
             ],
             [
              0.6666666666666666,
              "#ed7953"
             ],
             [
              0.7777777777777778,
              "#fb9f3a"
             ],
             [
              0.8888888888888888,
              "#fdca26"
             ],
             [
              1,
              "#f0f921"
             ]
            ],
            "type": "histogram2dcontour"
           }
          ],
          "mesh3d": [
           {
            "colorbar": {
             "outlinewidth": 0,
             "ticks": ""
            },
            "type": "mesh3d"
           }
          ],
          "parcoords": [
           {
            "line": {
             "colorbar": {
              "outlinewidth": 0,
              "ticks": ""
             }
            },
            "type": "parcoords"
           }
          ],
          "pie": [
           {
            "automargin": true,
            "type": "pie"
           }
          ],
          "scatter": [
           {
            "marker": {
             "colorbar": {
              "outlinewidth": 0,
              "ticks": ""
             }
            },
            "type": "scatter"
           }
          ],
          "scatter3d": [
           {
            "line": {
             "colorbar": {
              "outlinewidth": 0,
              "ticks": ""
             }
            },
            "marker": {
             "colorbar": {
              "outlinewidth": 0,
              "ticks": ""
             }
            },
            "type": "scatter3d"
           }
          ],
          "scattercarpet": [
           {
            "marker": {
             "colorbar": {
              "outlinewidth": 0,
              "ticks": ""
             }
            },
            "type": "scattercarpet"
           }
          ],
          "scattergeo": [
           {
            "marker": {
             "colorbar": {
              "outlinewidth": 0,
              "ticks": ""
             }
            },
            "type": "scattergeo"
           }
          ],
          "scattergl": [
           {
            "marker": {
             "colorbar": {
              "outlinewidth": 0,
              "ticks": ""
             }
            },
            "type": "scattergl"
           }
          ],
          "scattermapbox": [
           {
            "marker": {
             "colorbar": {
              "outlinewidth": 0,
              "ticks": ""
             }
            },
            "type": "scattermapbox"
           }
          ],
          "scatterpolar": [
           {
            "marker": {
             "colorbar": {
              "outlinewidth": 0,
              "ticks": ""
             }
            },
            "type": "scatterpolar"
           }
          ],
          "scatterpolargl": [
           {
            "marker": {
             "colorbar": {
              "outlinewidth": 0,
              "ticks": ""
             }
            },
            "type": "scatterpolargl"
           }
          ],
          "scatterternary": [
           {
            "marker": {
             "colorbar": {
              "outlinewidth": 0,
              "ticks": ""
             }
            },
            "type": "scatterternary"
           }
          ],
          "surface": [
           {
            "colorbar": {
             "outlinewidth": 0,
             "ticks": ""
            },
            "colorscale": [
             [
              0,
              "#0d0887"
             ],
             [
              0.1111111111111111,
              "#46039f"
             ],
             [
              0.2222222222222222,
              "#7201a8"
             ],
             [
              0.3333333333333333,
              "#9c179e"
             ],
             [
              0.4444444444444444,
              "#bd3786"
             ],
             [
              0.5555555555555556,
              "#d8576b"
             ],
             [
              0.6666666666666666,
              "#ed7953"
             ],
             [
              0.7777777777777778,
              "#fb9f3a"
             ],
             [
              0.8888888888888888,
              "#fdca26"
             ],
             [
              1,
              "#f0f921"
             ]
            ],
            "type": "surface"
           }
          ],
          "table": [
           {
            "cells": {
             "fill": {
              "color": "#EBF0F8"
             },
             "line": {
              "color": "white"
             }
            },
            "header": {
             "fill": {
              "color": "#C8D4E3"
             },
             "line": {
              "color": "white"
             }
            },
            "type": "table"
           }
          ]
         },
         "layout": {
          "annotationdefaults": {
           "arrowcolor": "#2a3f5f",
           "arrowhead": 0,
           "arrowwidth": 1
          },
          "coloraxis": {
           "colorbar": {
            "outlinewidth": 0,
            "ticks": ""
           }
          },
          "colorscale": {
           "diverging": [
            [
             0,
             "#8e0152"
            ],
            [
             0.1,
             "#c51b7d"
            ],
            [
             0.2,
             "#de77ae"
            ],
            [
             0.3,
             "#f1b6da"
            ],
            [
             0.4,
             "#fde0ef"
            ],
            [
             0.5,
             "#f7f7f7"
            ],
            [
             0.6,
             "#e6f5d0"
            ],
            [
             0.7,
             "#b8e186"
            ],
            [
             0.8,
             "#7fbc41"
            ],
            [
             0.9,
             "#4d9221"
            ],
            [
             1,
             "#276419"
            ]
           ],
           "sequential": [
            [
             0,
             "#0d0887"
            ],
            [
             0.1111111111111111,
             "#46039f"
            ],
            [
             0.2222222222222222,
             "#7201a8"
            ],
            [
             0.3333333333333333,
             "#9c179e"
            ],
            [
             0.4444444444444444,
             "#bd3786"
            ],
            [
             0.5555555555555556,
             "#d8576b"
            ],
            [
             0.6666666666666666,
             "#ed7953"
            ],
            [
             0.7777777777777778,
             "#fb9f3a"
            ],
            [
             0.8888888888888888,
             "#fdca26"
            ],
            [
             1,
             "#f0f921"
            ]
           ],
           "sequentialminus": [
            [
             0,
             "#0d0887"
            ],
            [
             0.1111111111111111,
             "#46039f"
            ],
            [
             0.2222222222222222,
             "#7201a8"
            ],
            [
             0.3333333333333333,
             "#9c179e"
            ],
            [
             0.4444444444444444,
             "#bd3786"
            ],
            [
             0.5555555555555556,
             "#d8576b"
            ],
            [
             0.6666666666666666,
             "#ed7953"
            ],
            [
             0.7777777777777778,
             "#fb9f3a"
            ],
            [
             0.8888888888888888,
             "#fdca26"
            ],
            [
             1,
             "#f0f921"
            ]
           ]
          },
          "colorway": [
           "#636efa",
           "#EF553B",
           "#00cc96",
           "#ab63fa",
           "#FFA15A",
           "#19d3f3",
           "#FF6692",
           "#B6E880",
           "#FF97FF",
           "#FECB52"
          ],
          "font": {
           "color": "#2a3f5f"
          },
          "geo": {
           "bgcolor": "white",
           "lakecolor": "white",
           "landcolor": "#E5ECF6",
           "showlakes": true,
           "showland": true,
           "subunitcolor": "white"
          },
          "hoverlabel": {
           "align": "left"
          },
          "hovermode": "closest",
          "mapbox": {
           "style": "light"
          },
          "paper_bgcolor": "white",
          "plot_bgcolor": "#E5ECF6",
          "polar": {
           "angularaxis": {
            "gridcolor": "white",
            "linecolor": "white",
            "ticks": ""
           },
           "bgcolor": "#E5ECF6",
           "radialaxis": {
            "gridcolor": "white",
            "linecolor": "white",
            "ticks": ""
           }
          },
          "scene": {
           "xaxis": {
            "backgroundcolor": "#E5ECF6",
            "gridcolor": "white",
            "gridwidth": 2,
            "linecolor": "white",
            "showbackground": true,
            "ticks": "",
            "zerolinecolor": "white"
           },
           "yaxis": {
            "backgroundcolor": "#E5ECF6",
            "gridcolor": "white",
            "gridwidth": 2,
            "linecolor": "white",
            "showbackground": true,
            "ticks": "",
            "zerolinecolor": "white"
           },
           "zaxis": {
            "backgroundcolor": "#E5ECF6",
            "gridcolor": "white",
            "gridwidth": 2,
            "linecolor": "white",
            "showbackground": true,
            "ticks": "",
            "zerolinecolor": "white"
           }
          },
          "shapedefaults": {
           "line": {
            "color": "#2a3f5f"
           }
          },
          "ternary": {
           "aaxis": {
            "gridcolor": "white",
            "linecolor": "white",
            "ticks": ""
           },
           "baxis": {
            "gridcolor": "white",
            "linecolor": "white",
            "ticks": ""
           },
           "bgcolor": "#E5ECF6",
           "caxis": {
            "gridcolor": "white",
            "linecolor": "white",
            "ticks": ""
           }
          },
          "title": {
           "x": 0.05
          },
          "xaxis": {
           "automargin": true,
           "gridcolor": "white",
           "linecolor": "white",
           "ticks": "",
           "title": {
            "standoff": 15
           },
           "zerolinecolor": "white",
           "zerolinewidth": 2
          },
          "yaxis": {
           "automargin": true,
           "gridcolor": "white",
           "linecolor": "white",
           "ticks": "",
           "title": {
            "standoff": 15
           },
           "zerolinecolor": "white",
           "zerolinewidth": 2
          }
         }
        },
        "title": {
         "text": "Impact of Social Media on Academic Performance"
        }
       }
      }
     },
     "metadata": {},
     "output_type": "display_data"
    }
   ],
   "source": [
    "# Value counts\n",
    "performance_counts = (\n",
    "    student_df['affects_academic_performance']\n",
    "    .value_counts()\n",
    "    .reset_index()\n",
    "    .rename(columns = {'index': 'Response', 'affects_academic_performance': 'Count'})\n",
    ")\n",
    "\n",
    "print(\"Affects Academic Performance:\")\n",
    "print(performance_counts)\n",
    "\n",
    "# Donut Chart\n",
    "fig = px.pie(\n",
    "    performance_counts,\n",
    "    names = 'Response',\n",
    "    values = 'Count',\n",
    "    title = 'Impact of Social Media on Academic Performance',\n",
    "    hole = 0.6,  # makes pie chart into a donut\n",
    "    color = 'Response',\n",
    "    color_discrete_map = {\n",
    "        'Yes': '#E74C3C',\n",
    "        'No': '#2ECC71'\n",
    "    }\n",
    ")\n",
    "\n",
    "fig.update_traces(textinfo = 'percent+label')\n",
    "\n",
    "fig.update_layout(\n",
    "    font = dict(family = 'Lato, sans-serif'),\n",
    "    showlegend = True\n",
    ")\n",
    "\n",
    "fig.show()"
   ]
  },
  {
   "cell_type": "markdown",
   "id": "d840e1f5",
   "metadata": {},
   "source": [
    "> When asked whether social media usage affects their academic performance:\n",
    ">- **453 students (64.3%)** responded **\"Yes\"**\n",
    "> - **252 students (35.7%)** said **\"No\"**\n",
    "\n",
    "> **Observation:** This indicates a strong **self-reported correlation between social media engagement and academic disruption**. While perception doesn't always align with measurable academic outcomes, the high \"Yes\" rate is significant- suggesting that students themselves are aware of potential negative trade-offs in focus, time management, or mental load.\n",
    "\n",
    ">**Implication:** This variable should be treated as a key target or stratification factor in deeper analyses. Cross-analyzing this with metrics like 'avg_daily_usage_hours', 'addicted_score', and 'mental_health_score' may reveal whether perception matches behavioral reality- or if there’s a disconnect between awareness and action."
   ]
  },
  {
   "cell_type": "markdown",
   "id": "03b62035",
   "metadata": {},
   "source": [
    "## 8. Hours of sleep per night\n",
    "Sleep- the unsung hero of student success, and often the first thing sacrificed in the name of \"just one more scroll.\"\n",
    "\n",
    "This variable tells us how much rest students are getting each night. And when we say \"rest,\" we mean actual REM sleep- not background TikTok while lying in bed with one eye closed.\n",
    "\n",
    "Sleep is deeply tied to **mental health**, **academic performance**, and overall life balance. So let’s analyze how many students are getting their 8 hours… and how many are rolling through college on caffeine and vibes."
   ]
  },
  {
   "cell_type": "code",
   "execution_count": 61,
   "id": "bb9bea47",
   "metadata": {},
   "outputs": [
    {
     "name": "stdout",
     "output_type": "stream",
     "text": [
      "Hours of Sleep per Night:\n",
      "<4 hrs         2\n",
      "4–6 hrs      165\n",
      "6–8 hrs      407\n",
      "8–10 hrs     131\n",
      "10–12 hrs      0\n",
      "Name: sleep_bin, dtype: int64\n"
     ]
    },
    {
     "data": {
      "application/vnd.plotly.v1+json": {
       "config": {
        "plotlyServerURL": "https://plot.ly"
       },
       "data": [
        {
         "autobinx": false,
         "histnorm": "probability density",
         "legendgroup": "",
         "marker": {
          "color": "#3498DB"
         },
         "name": "",
         "opacity": 0.7,
         "type": "histogram",
         "x": [
          6.5,
          7.5,
          5,
          7,
          6,
          4.5,
          8,
          6,
          6.5,
          7,
          6.2,
          5.8,
          7.2,
          5.5,
          6.8,
          6,
          7.8,
          5.7,
          6.7,
          5.9,
          5.5,
          7.3,
          5.8,
          5.4,
          6.9,
          5.2,
          6.6,
          5.9,
          7.4,
          5.3,
          6.7,
          5.7,
          5.4,
          7.2,
          5.8,
          5.5,
          6.8,
          5.1,
          6.5,
          5.8,
          7.3,
          5.4,
          6.6,
          5.7,
          5.3,
          7.1,
          5.9,
          5.6,
          6.7,
          5.2,
          6.4,
          5.8,
          7.2,
          5.5,
          6.5,
          5.6,
          5.2,
          7,
          5.9,
          5.7,
          7.1,
          5.6,
          6,
          5.2,
          7.4,
          5.8,
          6.5,
          5.4,
          7.2,
          5.9,
          5.5,
          6.8,
          5.7,
          5.3,
          7.3,
          5.8,
          5.4,
          7,
          5.9,
          5.2,
          7.1,
          5.7,
          6.6,
          7.2,
          5.3,
          5.8,
          5.5,
          7.3,
          6,
          5.2,
          7,
          5.8,
          6.5,
          5.4,
          7.4,
          5.7,
          5.3,
          7.1,
          5.9,
          5.5,
          5.2,
          7.3,
          5.8,
          5.4,
          7,
          5.7,
          6.6,
          5.5,
          7.2,
          5.8,
          6.2,
          5.9,
          7.1,
          6,
          6.3,
          7.2,
          5.8,
          6.1,
          7.3,
          6.2,
          5.9,
          7.4,
          6.3,
          5.8,
          7.5,
          6.4,
          5.7,
          7.6,
          6.5,
          5.6,
          7.7,
          6.6,
          5.5,
          7.8,
          6.7,
          5.4,
          7.9,
          6.8,
          5.3,
          8,
          6.9,
          5.2,
          8.1,
          7,
          5.1,
          8.2,
          7.1,
          5,
          8.3,
          7.2,
          4.9,
          8.4,
          7.3,
          4.8,
          8.5,
          7.4,
          4.7,
          8.6,
          7.5,
          4.6,
          6.1,
          7.2,
          5.9,
          6.3,
          7,
          6,
          6.4,
          7.1,
          5.8,
          6.5,
          7.3,
          5.7,
          6.6,
          7.4,
          5.6,
          6.7,
          7.5,
          5.5,
          6.8,
          7.6,
          5.4,
          6.9,
          7.7,
          5.3,
          7,
          7.8,
          5.2,
          7.1,
          7.9,
          5.1,
          7.2,
          8,
          5,
          7.3,
          8.1,
          4.9,
          7.4,
          8.2,
          4.8,
          7.5,
          8.3,
          4.7,
          7.6,
          8.4,
          4.6,
          7.7,
          8.5,
          4.5,
          7.8,
          8.6,
          4.4,
          7.9,
          8.7,
          4.3,
          8,
          8.8,
          4.2,
          8.1,
          8.9,
          4.1,
          6,
          6.5,
          7.5,
          7.8,
          7.9,
          6.8,
          6.5,
          7.2,
          5.8,
          6.7,
          7.4,
          7.9,
          8,
          6.5,
          6.8,
          7.4,
          5.9,
          6.6,
          7.3,
          7.7,
          7.8,
          6.7,
          6.6,
          7.3,
          5.7,
          6.4,
          7.2,
          7.8,
          8.1,
          6.6,
          6.9,
          7.5,
          5.8,
          6.5,
          7.4,
          7.6,
          8.2,
          6.8,
          6.7,
          7.6,
          5.6,
          6.3,
          7.5,
          7.7,
          8.3,
          6.9,
          7,
          7.7,
          5.7,
          6.4,
          7.3,
          7.8,
          8.4,
          6.7,
          7.1,
          7.8,
          5.5,
          6.5,
          7.4,
          7.9,
          8.5,
          6.8,
          7.2,
          7.9,
          5.4,
          6.6,
          7.5,
          8,
          8.6,
          6.9,
          7.3,
          8,
          5.3,
          6.7,
          7.6,
          8.1,
          8.7,
          7,
          7.4,
          8.1,
          5.2,
          6.8,
          7.7,
          8.2,
          8.8,
          7.1,
          7.5,
          8.2,
          5.1,
          6.9,
          7.8,
          8.3,
          8.9,
          7.2,
          7.6,
          8.3,
          5,
          7,
          7.9,
          8.4,
          6.8,
          7.8,
          7,
          6.5,
          7.9,
          6.7,
          5.5,
          6.6,
          7.5,
          6.9,
          6.7,
          7.9,
          7.1,
          6.4,
          8,
          6.8,
          5.4,
          6.5,
          7.6,
          7,
          6.9,
          8,
          7.2,
          6.3,
          8.1,
          6.9,
          5.3,
          6.4,
          7.7,
          7.1,
          7,
          8.1,
          7.3,
          6.2,
          8.2,
          7,
          5.2,
          6.3,
          7.8,
          7.2,
          7.1,
          8.2,
          7.4,
          6.1,
          8.3,
          7.1,
          5.1,
          6.2,
          7.9,
          7.3,
          7.2,
          8.3,
          7.5,
          6,
          8.4,
          7.2,
          5,
          6.1,
          8,
          7.4,
          7.3,
          8.4,
          7.6,
          5.9,
          8.5,
          7.3,
          4.9,
          6,
          8.1,
          7.5,
          7.4,
          8.5,
          7.7,
          5.8,
          8.6,
          7.4,
          4.8,
          5.9,
          8.2,
          7.6,
          7.5,
          8.6,
          7.8,
          5.7,
          8.7,
          7.5,
          4.7,
          5.8,
          8.3,
          7.7,
          7.6,
          8.7,
          7.9,
          5.6,
          8.8,
          7.6,
          4.6,
          5.7,
          8.4,
          7.8,
          7.7,
          8.8,
          8,
          5.5,
          8.9,
          7.7,
          4.5,
          5.6,
          8.5,
          7.9,
          7.8,
          8.9,
          8.1,
          5.4,
          9,
          7.8,
          4.4,
          5.5,
          8.6,
          8,
          7.9,
          9,
          8.2,
          5.3,
          9.1,
          7.9,
          4.3,
          5.4,
          8.7,
          8.1,
          8,
          9.1,
          8.3,
          5.2,
          9.2,
          8,
          4.2,
          5.3,
          8.8,
          8.2,
          8.1,
          9.2,
          8.4,
          5.1,
          9.3,
          8.1,
          4.1,
          5.2,
          8.9,
          8.3,
          8.2,
          9.3,
          8.5,
          5,
          9.4,
          8.2,
          4,
          5.1,
          9,
          8.4,
          8.3,
          9.4,
          8.6,
          4.9,
          9.5,
          8.3,
          3.9,
          5,
          9.1,
          8.5,
          8.4,
          9.5,
          8.7,
          4.8,
          9.6,
          8.4,
          3.8,
          4.9,
          9.2,
          8.6,
          6.3,
          7.8,
          8.2,
          7.5,
          7,
          6.8,
          6.5,
          7.9,
          6,
          7.4,
          6.4,
          7.9,
          8.3,
          7.6,
          6.9,
          6.7,
          6.4,
          8,
          5.9,
          7.5,
          6.5,
          8,
          8.4,
          7.7,
          6.8,
          6.6,
          6.3,
          8.1,
          5.8,
          7.6,
          6.6,
          8.1,
          8.5,
          7.8,
          6.7,
          6.5,
          6.2,
          8.2,
          5.7,
          7.7,
          6.7,
          8.2,
          8.6,
          7.9,
          6.6,
          6.4,
          6.1,
          8.3,
          5.6,
          7.8,
          6.8,
          8.3,
          8.7,
          8,
          6.5,
          6.3,
          6,
          8.4,
          5.5,
          7.9,
          6.9,
          8.4,
          8.8,
          8.1,
          6.4,
          6.2,
          5.9,
          8.5,
          5.4,
          8,
          7.2,
          7.8,
          6.8,
          5.9,
          7.5,
          6.2,
          6.7,
          6.1,
          7.4,
          7,
          6.4,
          7.3,
          6,
          6.5,
          7.6,
          6.3,
          7.7,
          6.2,
          7.4,
          6.8,
          5.8,
          7.5,
          6.1,
          6.9,
          6.3,
          6.7,
          7.3,
          6.2,
          7.1,
          6,
          6.8,
          7.6,
          6.4,
          7.4,
          6.3,
          7.2,
          6.6,
          5.7,
          7.4,
          6.2,
          6.9,
          6.1,
          7.3,
          6.7,
          6.4,
          7.2,
          5.9,
          6.8,
          7.5,
          6.3,
          7.4,
          6.2,
          7.3,
          6.6,
          5.8,
          7.3,
          6.1,
          6.8,
          6.2,
          7.2,
          6.7,
          6.3,
          7.1,
          5.9,
          6.7,
          7.4,
          6.4,
          7.5,
          6.2,
          7.3,
          6.5,
          5.7,
          7.2,
          6,
          6.8,
          6.2,
          7.1,
          6.6,
          6.3,
          7.2,
          5.9,
          6.7,
          7.5,
          6.3,
          7.4,
          6.1,
          7.3,
          6.6,
          5.8,
          7.3,
          6,
          6.8,
          6.2,
          7.2,
          6.7,
          6.2,
          7.1,
          5.9,
          6.7,
          7.4,
          6.4,
          7.5,
          6.2,
          7.3,
          6.5,
          5.7,
          7.2,
          6,
          6.8,
          6.3,
          7.2,
          6.6,
          6.4,
          7.1,
          6,
          6.8,
          7.5,
          6.2,
          7.4,
          6.1,
          7.3,
          6.5,
          5.8,
          7.3,
          6.1,
          6.7,
          6.2,
          7.1,
          6.6,
          6.3,
          7.2,
          5.9,
          6.7,
          7.5,
          6.3
         ],
         "xaxis": "x",
         "xbins": {
          "end": 9.6,
          "size": 1,
          "start": 3.8
         },
         "yaxis": "y"
        },
        {
         "legendgroup": "",
         "marker": {
          "color": "#3498DB"
         },
         "mode": "lines",
         "name": "",
         "showlegend": false,
         "type": "scatter",
         "x": [
          3.8,
          3.8116,
          3.8232,
          3.8348,
          3.8464,
          3.8579999999999997,
          3.8695999999999997,
          3.8811999999999998,
          3.8928,
          3.9044,
          3.916,
          3.9276,
          3.9391999999999996,
          3.9507999999999996,
          3.9623999999999997,
          3.9739999999999998,
          3.9856,
          3.9972,
          4.0088,
          4.0203999999999995,
          4.032,
          4.0436,
          4.0552,
          4.0668,
          4.0784,
          4.09,
          4.1015999999999995,
          4.1132,
          4.1248,
          4.1364,
          4.148,
          4.1596,
          4.1712,
          4.1828,
          4.1944,
          4.2059999999999995,
          4.2176,
          4.2292,
          4.2408,
          4.2524,
          4.264,
          4.2756,
          4.2871999999999995,
          4.2988,
          4.3104,
          4.322,
          4.3336,
          4.3452,
          4.3568,
          4.368399999999999,
          4.38,
          4.3915999999999995,
          4.4032,
          4.4148,
          4.4264,
          4.438,
          4.4496,
          4.4612,
          4.472799999999999,
          4.4844,
          4.4959999999999996,
          4.5076,
          4.5192,
          4.5308,
          4.5424,
          4.554,
          4.5656,
          4.5771999999999995,
          4.5888,
          4.6004,
          4.612,
          4.6236,
          4.635199999999999,
          4.6468,
          4.658399999999999,
          4.67,
          4.6815999999999995,
          4.6932,
          4.7048,
          4.7164,
          4.728,
          4.739599999999999,
          4.7512,
          4.7627999999999995,
          4.7744,
          4.786,
          4.7976,
          4.8092,
          4.8208,
          4.8324,
          4.843999999999999,
          4.8556,
          4.8672,
          4.8788,
          4.8904,
          4.902,
          4.9136,
          4.9252,
          4.9368,
          4.9483999999999995,
          4.96,
          4.9716,
          4.9832,
          4.9948,
          5.006399999999999,
          5.018,
          5.029599999999999,
          5.0412,
          5.0527999999999995,
          5.0644,
          5.076,
          5.0876,
          5.0992,
          5.110799999999999,
          5.1224,
          5.134,
          5.1456,
          5.1572,
          5.1688,
          5.1804,
          5.192,
          5.2036,
          5.215199999999999,
          5.2268,
          5.2383999999999995,
          5.25,
          5.2616,
          5.2732,
          5.2848,
          5.2964,
          5.308,
          5.319599999999999,
          5.3312,
          5.3427999999999995,
          5.3544,
          5.366,
          5.377599999999999,
          5.3892,
          5.4008,
          5.4124,
          5.4239999999999995,
          5.4356,
          5.4472,
          5.4588,
          5.4704,
          5.481999999999999,
          5.4936,
          5.5052,
          5.5168,
          5.5283999999999995,
          5.54,
          5.5516,
          5.5632,
          5.5748,
          5.586399999999999,
          5.598,
          5.6095999999999995,
          5.6212,
          5.6328,
          5.644399999999999,
          5.656,
          5.6676,
          5.6792,
          5.690799999999999,
          5.7024,
          5.7139999999999995,
          5.7256,
          5.7372,
          5.748799999999999,
          5.7604,
          5.772,
          5.7836,
          5.7951999999999995,
          5.8068,
          5.8184,
          5.83,
          5.8416,
          5.853199999999999,
          5.864799999999999,
          5.8764,
          5.888,
          5.8995999999999995,
          5.911199999999999,
          5.9228,
          5.9344,
          5.946,
          5.957599999999999,
          5.9692,
          5.9807999999999995,
          5.9924,
          6.004,
          6.015599999999999,
          6.0272,
          6.0388,
          6.0504,
          6.061999999999999,
          6.0736,
          6.0851999999999995,
          6.0968,
          6.1084,
          6.119999999999999,
          6.1316,
          6.1432,
          6.1548,
          6.166399999999999,
          6.178,
          6.1895999999999995,
          6.2012,
          6.2128,
          6.224399999999999,
          6.236,
          6.2476,
          6.2592,
          6.2707999999999995,
          6.2824,
          6.2940000000000005,
          6.3056,
          6.3172,
          6.328799999999999,
          6.3404,
          6.352,
          6.3636,
          6.3751999999999995,
          6.386799999999999,
          6.3984000000000005,
          6.41,
          6.4216,
          6.433199999999999,
          6.444799999999999,
          6.4564,
          6.468,
          6.4796,
          6.491199999999999,
          6.5028,
          6.5144,
          6.526,
          6.537599999999999,
          6.549199999999999,
          6.5607999999999995,
          6.5724,
          6.584,
          6.595599999999999,
          6.6072,
          6.618799999999999,
          6.6304,
          6.6419999999999995,
          6.653599999999999,
          6.6652,
          6.6768,
          6.6884,
          6.699999999999999,
          6.7116,
          6.7232,
          6.7348,
          6.7463999999999995,
          6.758,
          6.7696,
          6.7812,
          6.7928,
          6.804399999999999,
          6.816,
          6.8276,
          6.8392,
          6.8508,
          6.8624,
          6.874,
          6.8856,
          6.8972,
          6.908799999999999,
          6.9204,
          6.932,
          6.9436,
          6.9552,
          6.966799999999999,
          6.9784,
          6.99,
          7.0016,
          7.013199999999999,
          7.024799999999999,
          7.0364,
          7.048,
          7.0596,
          7.071199999999999,
          7.0828,
          7.0944,
          7.106,
          7.1175999999999995,
          7.129199999999999,
          7.1408,
          7.1524,
          7.164,
          7.175599999999999,
          7.1872,
          7.198799999999999,
          7.2104,
          7.2219999999999995,
          7.233599999999999,
          7.2452,
          7.2568,
          7.2684,
          7.279999999999999,
          7.2916,
          7.3031999999999995,
          7.3148,
          7.3264,
          7.337999999999999,
          7.3496,
          7.3612,
          7.3728,
          7.384399999999999,
          7.396,
          7.4075999999999995,
          7.4192,
          7.4308,
          7.4424,
          7.454,
          7.4656,
          7.4772,
          7.4887999999999995,
          7.5004,
          7.5120000000000005,
          7.5236,
          7.5352,
          7.546799999999999,
          7.5584,
          7.57,
          7.5816,
          7.5931999999999995,
          7.604799999999999,
          7.6164000000000005,
          7.628,
          7.6396,
          7.651199999999999,
          7.662799999999999,
          7.6744,
          7.686,
          7.6975999999999996,
          7.709199999999999,
          7.7208,
          7.7324,
          7.744,
          7.755599999999999,
          7.767199999999999,
          7.7787999999999995,
          7.7904,
          7.802,
          7.8136,
          7.8252,
          7.836799999999999,
          7.8484,
          7.859999999999999,
          7.8716,
          7.8831999999999995,
          7.894799999999999,
          7.9064,
          7.918,
          7.929599999999999,
          7.941199999999999,
          7.9528,
          7.9643999999999995,
          7.976,
          7.9876,
          7.999199999999999,
          8.0108,
          8.0224,
          8.033999999999999,
          8.0456,
          8.0572,
          8.0688,
          8.0804,
          8.091999999999999,
          8.1036,
          8.1152,
          8.1268,
          8.1384,
          8.149999999999999,
          8.1616,
          8.1732,
          8.1848,
          8.1964,
          8.208,
          8.2196,
          8.2312,
          8.242799999999999,
          8.2544,
          8.266,
          8.2776,
          8.2892,
          8.300799999999999,
          8.3124,
          8.324,
          8.3356,
          8.3472,
          8.358799999999999,
          8.3704,
          8.382,
          8.3936,
          8.4052,
          8.4168,
          8.4284,
          8.44,
          8.4516,
          8.4632,
          8.4748,
          8.4864,
          8.498000000000001,
          8.509599999999999,
          8.5212,
          8.5328,
          8.5444,
          8.556000000000001,
          8.567599999999999,
          8.5792,
          8.5908,
          8.6024,
          8.614,
          8.625599999999999,
          8.6372,
          8.6488,
          8.6604,
          8.672,
          8.683599999999998,
          8.6952,
          8.706800000000001,
          8.718399999999999,
          8.73,
          8.741599999999998,
          8.7532,
          8.764800000000001,
          8.776399999999999,
          8.788,
          8.799599999999998,
          8.8112,
          8.8228,
          8.834399999999999,
          8.846,
          8.8576,
          8.8692,
          8.8808,
          8.892399999999999,
          8.904,
          8.9156,
          8.9272,
          8.9388,
          8.950399999999998,
          8.962,
          8.9736,
          8.985199999999999,
          8.9968,
          9.008399999999998,
          9.02,
          9.0316,
          9.043199999999999,
          9.0548,
          9.0664,
          9.078,
          9.089599999999999,
          9.101199999999999,
          9.1128,
          9.1244,
          9.136,
          9.147599999999999,
          9.159199999999998,
          9.1708,
          9.1824,
          9.193999999999999,
          9.2056,
          9.2172,
          9.2288,
          9.2404,
          9.251999999999999,
          9.2636,
          9.2752,
          9.2868,
          9.298399999999999,
          9.309999999999999,
          9.3216,
          9.3332,
          9.3448,
          9.3564,
          9.367999999999999,
          9.3796,
          9.3912,
          9.4028,
          9.4144,
          9.426,
          9.4376,
          9.4492,
          9.460799999999999,
          9.4724,
          9.484,
          9.4956,
          9.5072,
          9.518799999999999,
          9.5304,
          9.542,
          9.5536,
          9.5652,
          9.5768,
          9.5884
         ],
         "xaxis": "x",
         "y": [
          0.011159164666448815,
          0.011554415816915591,
          0.011955062830411,
          0.012360875869281534,
          0.012771625084391384,
          0.013187081975195001,
          0.013607020765524176,
          0.014031219788887661,
          0.014459462877147286,
          0.014891540746533425,
          0.015327252375107457,
          0.01576640636595527,
          0.016208822290606443,
          0.01665433200741369,
          0.017102780949892905,
          0.01755402938031178,
          0.01800795360411997,
          0.01846444714113283,
          0.01892342184971151,
          0.01938480900051147,
          0.019848560296708794,
          0.020314648837944208,
          0.020783070025542534,
          0.021253842406880247,
          0.021727008457061648,
          0.022202635296340326,
          0.022680815341967694,
          0.023161666893373147,
          0.023645334649768392,
          0.024131990159428785,
          0.024621832200022124,
          0.025115087089446184,
          0.02561200892667851,
          0.02611287976215793,
          0.026618009697185002,
          0.02712773691176996,
          0.027642427620254484,
          0.028162475953907678,
          0.028688303769536818,
          0.029220360382969914,
          0.02975912222606897,
          0.030305092425711968,
          0.030858800302961988,
          0.03142080079041559,
          0.031991673765502784,
          0.032572023297310994,
          0.03316247680431568,
          0.03376368412025819,
          0.03437631646528872,
          0.03500106531943274,
          0.0356386411954265,
          0.036289772308015965,
          0.03695520313694495,
          0.037635692881046824,
          0.03833201380114792,
          0.03904494944985472,
          0.039775292786765115,
          0.04052384417820191,
          0.041291409281224975,
          0.04207879681242801,
          0.042886816202882566,
          0.043716275141529815,
          0.04456797701035735,
          0.045442718215813006,
          0.0463412854220991,
          0.047264452693252974,
          0.04821297855223028,
          0.049187602966570265,
          0.05018904427160775,
          0.051217996043601846,
          0.0522751239365529,
          0.05336106249785966,
          0.05447641197931836,
          0.055621735161244454,
          0.056797554208713984,
          0.05800434758003315,
          0.0592425470085329,
          0.060512534579643305,
          0.061814639925898134,
          0.06314913756302856,
          0.06451624439062817,
          0.06591611738096494,
          0.06734885147939115,
          0.06881447773940724,
          0.07031296171481281,
          0.07184420213044507,
          0.07340802985183291,
          0.07500420717260428,
          0.07663242743672999,
          0.07829231501064252,
          0.0799834256179308,
          0.08170524704673393,
          0.08345720023708181,
          0.08523864075234837,
          0.08704886063566228,
          0.08888709064859998,
          0.0907525028858233,
          0.0926442137555022,
          0.09456128731145938,
          0.09650273891902013,
          0.09846753923257555,
          0.10045461845894361,
          0.10246287087676363,
          0.10449115957846165,
          0.10653832139782492,
          0.10860317198295308,
          0.11068451097141276,
          0.11278112722182043,
          0.11489180405391215,
          0.11701532444740934,
          0.11915047614881635,
          0.12129605663459775,
          0.1234508778791454,
          0.1256137708764715,
          0.1277835898658105,
          0.12995921621314765,
          0.13213956190327877,
          0.13432357260020822,
          0.13651023023761072,
          0.13869855510560927,
          0.1408876074053057,
          0.14307648824823055,
          0.14526434008417244,
          0.1474503465475652,
          0.14963373171977506,
          0.15181375881206938,
          0.15398972828175234,
          0.15616097540173585,
          0.15832686731170176,
          0.16048679958673168,
          0.16264019236687374,
          0.1647864860983814,
          0.16692513694414512,
          0.16905561192721227,
          0.1711773838768725,
          0.173289926251689,
          0.17539270791792078,
          0.17748518796483026,
          0.1795668106404507,
          0.18163700049236842,
          0.18369515779787168,
          0.18574065436648324,
          0.18777282979529933,
          0.1897909882538251,
          0.19179439586998095,
          0.19378227878284518,
          0.19575382192047933,
          0.1977081685528604,
          0.19964442066077082,
          0.20156164015137346,
          0.2034588509404836,
          0.205335041910082,
          0.20718917073790846,
          0.2090201685837882,
          0.21082694560525767,
          0.21260839726280817,
          0.21436341136331183,
          0.2160908757786034,
          0.21778968676541519,
          0.21945875780266938,
          0.22109702885299232,
          0.22270347594715834,
          0.22427712098324853,
          0.22581704162671146,
          0.2273223811933429,
          0.22879235839449671,
          0.2302262768227447,
          0.23162353405668343,
          0.23298363026564747,
          0.23430617619881555,
          0.23559090044840064,
          0.23683765588340616,
          0.23804642515855085,
          0.2392173252125074,
          0.2403506106802378,
          0.24144667615597035,
          0.24250605725597466,
          0.24352943044370726,
          0.24451761159374388,
          0.24547155328528192,
          0.24639234083038825,
          0.24728118705666496,
          0.24813942587822085,
          0.24896850470271542,
          0.24976997573551124,
          0.25054548625456463,
          0.2512967679413401,
          0.252025625363697,
          0.2527339237162319,
          0.25342357593179704,
          0.2540965292848676,
          0.25475475161296285,
          0.2554002172864098,
          0.25603489305940147,
          0.25666072393638817,
          0.257279619187618,
          0.25789343864588266,
          0.25850397941341097,
          0.2591129631035041,
          0.25972202373582265,
          0.260332696397498,
          0.2609464067744349,
          0.26156446164842434,
          0.2621880404461587,
          0.26281818791597283,
          0.26345580799735613,
          0.26410165893694865,
          0.264756349693176,
          0.26542033765978906,
          0.26609392772665696,
          0.2667772726841691,
          0.2674703749657548,
          0.2681730897112977,
          0.2688851291228578,
          0.26960606807293913,
          0.2703353509149728,
          0.2710722994354009,
          0.27181612187714643,
          0.272565922955157,
          0.27332071477625364,
          0.2740794285677819,
          0.2748409271124451,
          0.27560401778043603,
          0.27636746604439005,
          0.2771300093579865,
          0.2778903712750766,
          0.2786472756832235,
          0.27939946102333385,
          0.28014569436586084,
          0.28088478521372917,
          0.28161559890280685,
          0.2823370694723977,
          0.28304821188084645,
          0.28374813344505817,
          0.2844360443873785,
          0.2851112673790643,
          0.28577324597629417,
          0.28642155185248586,
          0.2870558907395036,
          0.28767610700007695,
          0.2882821867645709,
          0.2888742595767851,
          0.2894525985060126,
          0.29001761869578135,
          0.2905698743336009,
          0.2911100540405616,
          0.29163897469454614,
          0.2921575737160866,
          0.29266689986140826,
          0.2931681025827028,
          0.29366242003106746,
          0.2941511657927386,
          0.2946357144638693,
          0.2951174861832251,
          0.29559793025538994,
          0.2960785080093997,
          0.29656067504885153,
          0.2970458630593595,
          0.2975354613476291,
          0.2980307982931256,
          0.29853312289838263,
          0.29904358662713837,
          0.29956322572069366,
          0.30009294418210847,
          0.3006334976150233,
          0.30118547809886465,
          0.3017493002752806,
          0.3023251888114489,
          0.3029131673949265,
          0.30351304940162266,
          0.30412443036373765,
          0.30474668234801605,
          0.3053789503366611,
          0.3060201506839798,
          0.30666897170136176,
          0.3073238764018917,
          0.30798310741384255,
          0.30864469404991113,
          0.3093064614964351,
          0.30996604206439415,
          0.31062088842182506,
          0.3112682887058366,
          0.31190538339183577,
          0.31252918377806616,
          0.3131365919255887,
          0.31372442187730465,
          0.31428942196502835,
          0.31482829800094647,
          0.315337737139333,
          0.31581443218618793,
          0.3162551061286508,
          0.31665653665278654,
          0.3170155804174195,
          0.3173291968535865,
          0.317594471263289,
          0.31780863699807077,
          0.3179690965070013,
          0.3180734410551197,
          0.3181194689269155,
          0.318105201945043,
          0.3180289001517852,
          0.3178890745198093,
          0.31768449757906075,
          0.3174142118681497,
          0.3170775361409464,
          0.31667406928204994,
          0.3162036919081584,
          0.31566656565571166,
          0.3150631301784397,
          0.3143940979010899,
          0.3136604465977298,
          0.31286340988396844,
          0.31200446573231805,
          0.3110853231383525,
          0.31010790708207686,
          0.30907434194399924,
          0.3079869335484193,
          0.30684815001749216,
          0.3056606016284861,
          0.30442701987324855,
          0.3031502359232687,
          0.3018331587058124,
          0.30047875279636216,
          0.2990900163302356,
          0.2976699591316491,
          0.2962215812519017,
          0.29474785209977256,
          0.2932516903369426,
          0.29173594469921255,
          0.2902033758909331,
          0.2886566396853978,
          0.287098271348194,
          0.28553067148402744,
          0.2839560933903441,
          0.2823766319835563,
          0.2807942143459658,
          0.2792105919238271,
          0.27762733438961357,
          0.2760458251646122,
          0.27446725858172333,
          0.2728926386529049,
          0.2713227793912427,
          0.2697583066243544,
          0.2681996612237403,
          0.2666471036640105,
          0.26510071981666267,
          0.2635604278752629,
          0.2620259863026612,
          0.2604970026861222,
          0.2589729433830307,
          0.25745314383816836,
          0.25593681945320346,
          0.25442307689021043,
          0.2529109256933559,
          0.2513992901164921,
          0.24988702104903035,
          0.24837290793807532,
          0.24685569061120052,
          0.2453340709113833,
          0.24380672406326404,
          0.2422723096979783,
          0.2407294824721511,
          0.23917690222513968,
          0.2376132436271417,
          0.23603720527914082,
          0.23444751823389587,
          0.2328429539150262,
          0.2312223314187282,
          0.22958452418960618,
          0.2279284660685983,
          0.22625315671678423,
          0.2245576664240746,
          0.22284114031638214,
          0.22110280197873783,
          0.2193419565150893,
          0.21755799306806886,
          0.21575038682406372,
          0.21391870053021692,
          0.21206258555091098,
          0.21018178249155708,
          0.2082761214174652,
          0.20634552169503448,
          0.20438999148171688,
          0.2024096268901065,
          0.20040461085021757,
          0.19837521169258762,
          0.19632178147330132,
          0.19424475406047104,
          0.19214464300016834,
          0.19002203917826388,
          0.18787760829326466,
          0.18571208815390267,
          0.1835262858141246,
          0.18132107455709737,
          0.1790973907390876,
          0.1768562305033901,
          0.17459864637407116,
          0.17232574373896842,
          0.17003867723130217,
          0.16773864701926192,
          0.1654268950130797,
          0.16310470099937943,
          0.16077337871291367,
          0.15843427185621647,
          0.15608875007812112,
          0.15373820492254453,
          0.15138404575938616,
          0.14902769570972796,
          0.14667058757794507,
          0.1443141598035007,
          0.14195985244547069,
          0.13960910321282005,
          0.13726334355350833,
          0.13492399481527056,
          0.1325924644907048,
          0.13027014255889577,
          0.12795839793531077,
          0.12565857504108824,
          0.12337199050220829,
          0.12109992998817082,
          0.1188436451990384,
          0.11660435100877223,
          0.11438322277183932,
          0.11218139379914265,
          0.10999995300831827,
          0.10783994275251506,
          0.10570235683081226,
          0.10358813868253633,
          0.1014981797668827,
          0.09943331812844695,
          0.09739433714853508,
          0.09538196448147801,
          0.09339687117456479,
          0.0914396709697405,
          0.08951091978474421,
          0.0876111153710562,
          0.08574069714571071,
          0.08390004619383325,
          0.08208948543860636,
          0.08030927997525678,
          0.07855963756559929,
          0.07684070928963749,
          0.07515259035069688,
          0.0734953210305765,
          0.07186888779117206,
          0.07027322451901671,
          0.06870821390913097,
          0.06717368898448813,
          0.06566943474728981,
          0.06419518995807168,
          0.06275064903844046,
          0.06133546409297033,
          0.059949247045451994,
          0.058591571884293356,
          0.057261977011433735,
          0.05595996768861812,
          0.05468501857434459,
          0.053436576344196365,
          0.052214062386647615,
          0.05101687556578406,
          0.0498443950417051,
          0.04869598313871152,
          0.04757098825071135,
          0.046468747772631255,
          0.04538859104601257,
          0.0443298423063852,
          0.04329182361951974,
          0.04227385779319117,
          0.04127527125072866,
          0.04029539685235434,
          0.03933357665012356,
          0.038389164562222834,
          0.03746152895242499,
          0.03655005510066088,
          0.03565414755098145,
          0.03477323232359016,
          0.0339067589781921,
          0.03305420251658605,
          0.03221506511324302,
          0.03138887766354805,
          0.03057520114044167,
          0.029773627751356835,
          0.028983781888626055,
          0.028205320867882896,
          0.027437935450429298,
          0.026681350147044553,
          0.025935323302270448,
          0.025199646959805262,
          0.02447414651125913,
          0.023758680132143006,
          0.023053138010580152,
          0.022357441375808283,
          0.0216715413350822,
          0.020995417529057696,
          0.020329076617137634,
          0.019672550605562146,
          0.01902589503221897,
          0.018389187023225093,
          0.0177625232372646,
          0.017146017714465264
         ],
         "yaxis": "y"
        }
       ],
       "layout": {
        "barmode": "overlay",
        "font": {
         "family": "Lato",
         "size": 14
        },
        "hovermode": "closest",
        "legend": {
         "traceorder": "reversed"
        },
        "plot_bgcolor": "white",
        "showlegend": false,
        "template": {
         "data": {
          "bar": [
           {
            "error_x": {
             "color": "#2a3f5f"
            },
            "error_y": {
             "color": "#2a3f5f"
            },
            "marker": {
             "line": {
              "color": "#E5ECF6",
              "width": 0.5
             }
            },
            "type": "bar"
           }
          ],
          "barpolar": [
           {
            "marker": {
             "line": {
              "color": "#E5ECF6",
              "width": 0.5
             }
            },
            "type": "barpolar"
           }
          ],
          "carpet": [
           {
            "aaxis": {
             "endlinecolor": "#2a3f5f",
             "gridcolor": "white",
             "linecolor": "white",
             "minorgridcolor": "white",
             "startlinecolor": "#2a3f5f"
            },
            "baxis": {
             "endlinecolor": "#2a3f5f",
             "gridcolor": "white",
             "linecolor": "white",
             "minorgridcolor": "white",
             "startlinecolor": "#2a3f5f"
            },
            "type": "carpet"
           }
          ],
          "choropleth": [
           {
            "colorbar": {
             "outlinewidth": 0,
             "ticks": ""
            },
            "type": "choropleth"
           }
          ],
          "contour": [
           {
            "colorbar": {
             "outlinewidth": 0,
             "ticks": ""
            },
            "colorscale": [
             [
              0,
              "#0d0887"
             ],
             [
              0.1111111111111111,
              "#46039f"
             ],
             [
              0.2222222222222222,
              "#7201a8"
             ],
             [
              0.3333333333333333,
              "#9c179e"
             ],
             [
              0.4444444444444444,
              "#bd3786"
             ],
             [
              0.5555555555555556,
              "#d8576b"
             ],
             [
              0.6666666666666666,
              "#ed7953"
             ],
             [
              0.7777777777777778,
              "#fb9f3a"
             ],
             [
              0.8888888888888888,
              "#fdca26"
             ],
             [
              1,
              "#f0f921"
             ]
            ],
            "type": "contour"
           }
          ],
          "contourcarpet": [
           {
            "colorbar": {
             "outlinewidth": 0,
             "ticks": ""
            },
            "type": "contourcarpet"
           }
          ],
          "heatmap": [
           {
            "colorbar": {
             "outlinewidth": 0,
             "ticks": ""
            },
            "colorscale": [
             [
              0,
              "#0d0887"
             ],
             [
              0.1111111111111111,
              "#46039f"
             ],
             [
              0.2222222222222222,
              "#7201a8"
             ],
             [
              0.3333333333333333,
              "#9c179e"
             ],
             [
              0.4444444444444444,
              "#bd3786"
             ],
             [
              0.5555555555555556,
              "#d8576b"
             ],
             [
              0.6666666666666666,
              "#ed7953"
             ],
             [
              0.7777777777777778,
              "#fb9f3a"
             ],
             [
              0.8888888888888888,
              "#fdca26"
             ],
             [
              1,
              "#f0f921"
             ]
            ],
            "type": "heatmap"
           }
          ],
          "heatmapgl": [
           {
            "colorbar": {
             "outlinewidth": 0,
             "ticks": ""
            },
            "colorscale": [
             [
              0,
              "#0d0887"
             ],
             [
              0.1111111111111111,
              "#46039f"
             ],
             [
              0.2222222222222222,
              "#7201a8"
             ],
             [
              0.3333333333333333,
              "#9c179e"
             ],
             [
              0.4444444444444444,
              "#bd3786"
             ],
             [
              0.5555555555555556,
              "#d8576b"
             ],
             [
              0.6666666666666666,
              "#ed7953"
             ],
             [
              0.7777777777777778,
              "#fb9f3a"
             ],
             [
              0.8888888888888888,
              "#fdca26"
             ],
             [
              1,
              "#f0f921"
             ]
            ],
            "type": "heatmapgl"
           }
          ],
          "histogram": [
           {
            "marker": {
             "colorbar": {
              "outlinewidth": 0,
              "ticks": ""
             }
            },
            "type": "histogram"
           }
          ],
          "histogram2d": [
           {
            "colorbar": {
             "outlinewidth": 0,
             "ticks": ""
            },
            "colorscale": [
             [
              0,
              "#0d0887"
             ],
             [
              0.1111111111111111,
              "#46039f"
             ],
             [
              0.2222222222222222,
              "#7201a8"
             ],
             [
              0.3333333333333333,
              "#9c179e"
             ],
             [
              0.4444444444444444,
              "#bd3786"
             ],
             [
              0.5555555555555556,
              "#d8576b"
             ],
             [
              0.6666666666666666,
              "#ed7953"
             ],
             [
              0.7777777777777778,
              "#fb9f3a"
             ],
             [
              0.8888888888888888,
              "#fdca26"
             ],
             [
              1,
              "#f0f921"
             ]
            ],
            "type": "histogram2d"
           }
          ],
          "histogram2dcontour": [
           {
            "colorbar": {
             "outlinewidth": 0,
             "ticks": ""
            },
            "colorscale": [
             [
              0,
              "#0d0887"
             ],
             [
              0.1111111111111111,
              "#46039f"
             ],
             [
              0.2222222222222222,
              "#7201a8"
             ],
             [
              0.3333333333333333,
              "#9c179e"
             ],
             [
              0.4444444444444444,
              "#bd3786"
             ],
             [
              0.5555555555555556,
              "#d8576b"
             ],
             [
              0.6666666666666666,
              "#ed7953"
             ],
             [
              0.7777777777777778,
              "#fb9f3a"
             ],
             [
              0.8888888888888888,
              "#fdca26"
             ],
             [
              1,
              "#f0f921"
             ]
            ],
            "type": "histogram2dcontour"
           }
          ],
          "mesh3d": [
           {
            "colorbar": {
             "outlinewidth": 0,
             "ticks": ""
            },
            "type": "mesh3d"
           }
          ],
          "parcoords": [
           {
            "line": {
             "colorbar": {
              "outlinewidth": 0,
              "ticks": ""
             }
            },
            "type": "parcoords"
           }
          ],
          "pie": [
           {
            "automargin": true,
            "type": "pie"
           }
          ],
          "scatter": [
           {
            "marker": {
             "colorbar": {
              "outlinewidth": 0,
              "ticks": ""
             }
            },
            "type": "scatter"
           }
          ],
          "scatter3d": [
           {
            "line": {
             "colorbar": {
              "outlinewidth": 0,
              "ticks": ""
             }
            },
            "marker": {
             "colorbar": {
              "outlinewidth": 0,
              "ticks": ""
             }
            },
            "type": "scatter3d"
           }
          ],
          "scattercarpet": [
           {
            "marker": {
             "colorbar": {
              "outlinewidth": 0,
              "ticks": ""
             }
            },
            "type": "scattercarpet"
           }
          ],
          "scattergeo": [
           {
            "marker": {
             "colorbar": {
              "outlinewidth": 0,
              "ticks": ""
             }
            },
            "type": "scattergeo"
           }
          ],
          "scattergl": [
           {
            "marker": {
             "colorbar": {
              "outlinewidth": 0,
              "ticks": ""
             }
            },
            "type": "scattergl"
           }
          ],
          "scattermapbox": [
           {
            "marker": {
             "colorbar": {
              "outlinewidth": 0,
              "ticks": ""
             }
            },
            "type": "scattermapbox"
           }
          ],
          "scatterpolar": [
           {
            "marker": {
             "colorbar": {
              "outlinewidth": 0,
              "ticks": ""
             }
            },
            "type": "scatterpolar"
           }
          ],
          "scatterpolargl": [
           {
            "marker": {
             "colorbar": {
              "outlinewidth": 0,
              "ticks": ""
             }
            },
            "type": "scatterpolargl"
           }
          ],
          "scatterternary": [
           {
            "marker": {
             "colorbar": {
              "outlinewidth": 0,
              "ticks": ""
             }
            },
            "type": "scatterternary"
           }
          ],
          "surface": [
           {
            "colorbar": {
             "outlinewidth": 0,
             "ticks": ""
            },
            "colorscale": [
             [
              0,
              "#0d0887"
             ],
             [
              0.1111111111111111,
              "#46039f"
             ],
             [
              0.2222222222222222,
              "#7201a8"
             ],
             [
              0.3333333333333333,
              "#9c179e"
             ],
             [
              0.4444444444444444,
              "#bd3786"
             ],
             [
              0.5555555555555556,
              "#d8576b"
             ],
             [
              0.6666666666666666,
              "#ed7953"
             ],
             [
              0.7777777777777778,
              "#fb9f3a"
             ],
             [
              0.8888888888888888,
              "#fdca26"
             ],
             [
              1,
              "#f0f921"
             ]
            ],
            "type": "surface"
           }
          ],
          "table": [
           {
            "cells": {
             "fill": {
              "color": "#EBF0F8"
             },
             "line": {
              "color": "white"
             }
            },
            "header": {
             "fill": {
              "color": "#C8D4E3"
             },
             "line": {
              "color": "white"
             }
            },
            "type": "table"
           }
          ]
         },
         "layout": {
          "annotationdefaults": {
           "arrowcolor": "#2a3f5f",
           "arrowhead": 0,
           "arrowwidth": 1
          },
          "coloraxis": {
           "colorbar": {
            "outlinewidth": 0,
            "ticks": ""
           }
          },
          "colorscale": {
           "diverging": [
            [
             0,
             "#8e0152"
            ],
            [
             0.1,
             "#c51b7d"
            ],
            [
             0.2,
             "#de77ae"
            ],
            [
             0.3,
             "#f1b6da"
            ],
            [
             0.4,
             "#fde0ef"
            ],
            [
             0.5,
             "#f7f7f7"
            ],
            [
             0.6,
             "#e6f5d0"
            ],
            [
             0.7,
             "#b8e186"
            ],
            [
             0.8,
             "#7fbc41"
            ],
            [
             0.9,
             "#4d9221"
            ],
            [
             1,
             "#276419"
            ]
           ],
           "sequential": [
            [
             0,
             "#0d0887"
            ],
            [
             0.1111111111111111,
             "#46039f"
            ],
            [
             0.2222222222222222,
             "#7201a8"
            ],
            [
             0.3333333333333333,
             "#9c179e"
            ],
            [
             0.4444444444444444,
             "#bd3786"
            ],
            [
             0.5555555555555556,
             "#d8576b"
            ],
            [
             0.6666666666666666,
             "#ed7953"
            ],
            [
             0.7777777777777778,
             "#fb9f3a"
            ],
            [
             0.8888888888888888,
             "#fdca26"
            ],
            [
             1,
             "#f0f921"
            ]
           ],
           "sequentialminus": [
            [
             0,
             "#0d0887"
            ],
            [
             0.1111111111111111,
             "#46039f"
            ],
            [
             0.2222222222222222,
             "#7201a8"
            ],
            [
             0.3333333333333333,
             "#9c179e"
            ],
            [
             0.4444444444444444,
             "#bd3786"
            ],
            [
             0.5555555555555556,
             "#d8576b"
            ],
            [
             0.6666666666666666,
             "#ed7953"
            ],
            [
             0.7777777777777778,
             "#fb9f3a"
            ],
            [
             0.8888888888888888,
             "#fdca26"
            ],
            [
             1,
             "#f0f921"
            ]
           ]
          },
          "colorway": [
           "#636efa",
           "#EF553B",
           "#00cc96",
           "#ab63fa",
           "#FFA15A",
           "#19d3f3",
           "#FF6692",
           "#B6E880",
           "#FF97FF",
           "#FECB52"
          ],
          "font": {
           "color": "#2a3f5f"
          },
          "geo": {
           "bgcolor": "white",
           "lakecolor": "white",
           "landcolor": "#E5ECF6",
           "showlakes": true,
           "showland": true,
           "subunitcolor": "white"
          },
          "hoverlabel": {
           "align": "left"
          },
          "hovermode": "closest",
          "mapbox": {
           "style": "light"
          },
          "paper_bgcolor": "white",
          "plot_bgcolor": "#E5ECF6",
          "polar": {
           "angularaxis": {
            "gridcolor": "white",
            "linecolor": "white",
            "ticks": ""
           },
           "bgcolor": "#E5ECF6",
           "radialaxis": {
            "gridcolor": "white",
            "linecolor": "white",
            "ticks": ""
           }
          },
          "scene": {
           "xaxis": {
            "backgroundcolor": "#E5ECF6",
            "gridcolor": "white",
            "gridwidth": 2,
            "linecolor": "white",
            "showbackground": true,
            "ticks": "",
            "zerolinecolor": "white"
           },
           "yaxis": {
            "backgroundcolor": "#E5ECF6",
            "gridcolor": "white",
            "gridwidth": 2,
            "linecolor": "white",
            "showbackground": true,
            "ticks": "",
            "zerolinecolor": "white"
           },
           "zaxis": {
            "backgroundcolor": "#E5ECF6",
            "gridcolor": "white",
            "gridwidth": 2,
            "linecolor": "white",
            "showbackground": true,
            "ticks": "",
            "zerolinecolor": "white"
           }
          },
          "shapedefaults": {
           "line": {
            "color": "#2a3f5f"
           }
          },
          "ternary": {
           "aaxis": {
            "gridcolor": "white",
            "linecolor": "white",
            "ticks": ""
           },
           "baxis": {
            "gridcolor": "white",
            "linecolor": "white",
            "ticks": ""
           },
           "bgcolor": "#E5ECF6",
           "caxis": {
            "gridcolor": "white",
            "linecolor": "white",
            "ticks": ""
           }
          },
          "title": {
           "x": 0.05
          },
          "xaxis": {
           "automargin": true,
           "gridcolor": "white",
           "linecolor": "white",
           "ticks": "",
           "title": {
            "standoff": 15
           },
           "zerolinecolor": "white",
           "zerolinewidth": 2
          },
          "yaxis": {
           "automargin": true,
           "gridcolor": "white",
           "linecolor": "white",
           "ticks": "",
           "title": {
            "standoff": 15
           },
           "zerolinecolor": "white",
           "zerolinewidth": 2
          }
         }
        },
        "title": {
         "text": "Distribution of Sleep Hours Per Night"
        },
        "xaxis": {
         "anchor": "y2",
         "domain": [
          0,
          1
         ],
         "title": {
          "text": "Hours of Sleep"
         },
         "zeroline": false
        },
        "yaxis": {
         "anchor": "free",
         "domain": [
          0,
          1
         ],
         "position": 0,
         "title": {
          "text": "Density"
         }
        }
       }
      }
     },
     "metadata": {},
     "output_type": "display_data"
    }
   ],
   "source": [
    "# Define bins and labels for easier interpretation\n",
    "bins = [0, 4, 6, 8, 10, 12]\n",
    "labels = ['<4 hrs', '4–6 hrs', '6–8 hrs', '8–10 hrs', '10–12 hrs']\n",
    "student_df['sleep_bin'] = pd.cut(student_df['sleep_hours_per_night'],\n",
    "    bins = bins,\n",
    "    labels = labels,\n",
    "    right = False\n",
    ")\n",
    "\n",
    "# Print value counts for the bins\n",
    "sleep_bin_counts = student_df['sleep_bin'].value_counts().sort_index()\n",
    "\n",
    "print(\"Hours of Sleep per Night:\")\n",
    "print(sleep_bin_counts)\n",
    "\n",
    "# Plot figure\n",
    "fig = ff.create_distplot(\n",
    "    [student_df['sleep_hours_per_night']],\n",
    "    group_labels = [''], # Hide group label from legend\n",
    "    colors = ['#3498DB'],\n",
    "    show_hist = True,\n",
    "    show_rug = False\n",
    ")\n",
    "\n",
    "# Styling\n",
    "fig.update_layout(\n",
    "    title = 'Distribution of Sleep Hours Per Night',\n",
    "    xaxis_title = 'Hours of Sleep',\n",
    "    yaxis_title = 'Density',\n",
    "    font = dict(family = 'Lato', size = 14),\n",
    "    plot_bgcolor = 'white',\n",
    "    showlegend = False \n",
    ")\n",
    "\n",
    "fig.show()"
   ]
  },
  {
   "cell_type": "markdown",
   "id": "d8977371",
   "metadata": {},
   "source": [
    "> After binning the students’ reported sleep duration into interpretable ranges, the distribution reveals:\n",
    ">- **6–8 hours/night** is the most common range, covering **407 students (~58%)** — within the healthy adult recommendation.\n",
    ">- **4–6 hours** is the next most frequent, with **165 students (~23%)**, indicating a substantial group experiencing mild sleep deprivation.\n",
    ">- **8–10 hours**, reported by **131 students (~19%)**, likely includes individuals with more flexible routines or stronger personal time management.\n",
    ">- Only **2 students (<1%)** sleep less than 4 hours — an extreme that warrants attention if paired with high digital use or mental health strain.\n",
    "\n",
    ">**Implication:**  While most students report **adequate sleep**, nearly **a quarter are at risk of under-sleeping**, which could negatively impact academic performance, mental clarity, and emotional stability. This variable should be explored further in relation to 'avg_daily_usage_hours' and 'mental_health_score' to evaluate whether **digital behavior is crowding out recovery time**."
   ]
  },
  {
   "cell_type": "markdown",
   "id": "175cd1f2",
   "metadata": {},
   "source": [
    "## 9. Mental health score\n",
    "Mental health isn’t a sidebar in education anymore- it’s front and center. And in this dataset, students gave us a number representing how they’re feeling, mentally and emotionally.\n",
    "\n",
    "Now, it’s self-reported, sure- but it still paints a picture. From stress and burnout to calm and collected, this score offers insight into the inner state of students navigating deadlines, digital overload, and 24/7 connectivity.\n",
    "\n",
    "Let’s see where students fall on the mental health scale— and where we should start paying closer attention."
   ]
  },
  {
   "cell_type": "code",
   "execution_count": 62,
   "id": "b7c634de",
   "metadata": {},
   "outputs": [
    {
     "name": "stdout",
     "output_type": "stream",
     "text": [
      "Mental Health Score - Rounded Value Counts:\n",
      "4     29\n",
      "5    173\n",
      "6    219\n",
      "7    178\n",
      "8    105\n",
      "9      1\n",
      "Name: mental_health_score_rounded, dtype: int64\n"
     ]
    },
    {
     "data": {
      "application/vnd.plotly.v1+json": {
       "config": {
        "plotlyServerURL": "https://plot.ly"
       },
       "data": [
        {
         "hovertemplate": "Score Range: %{x}<br>Students: %{y}<extra></extra>",
         "marker": {
          "color": "#A569BD"
         },
         "name": "Students",
         "nbinsx": 10,
         "opacity": 0.7,
         "type": "histogram",
         "x": [
          6,
          8,
          5,
          7,
          6,
          4,
          9,
          6,
          7,
          7,
          5,
          6,
          8,
          5,
          7,
          6,
          8,
          5,
          7,
          6,
          5,
          8,
          6,
          5,
          7,
          5,
          7,
          6,
          8,
          5,
          7,
          6,
          5,
          8,
          6,
          5,
          7,
          5,
          7,
          6,
          8,
          5,
          7,
          6,
          5,
          8,
          6,
          5,
          7,
          5,
          7,
          6,
          8,
          5,
          7,
          6,
          5,
          8,
          6,
          5,
          7,
          5,
          6,
          4,
          8,
          6,
          7,
          5,
          8,
          6,
          5,
          7,
          6,
          5,
          8,
          6,
          5,
          7,
          6,
          5,
          8,
          6,
          7,
          8,
          5,
          6,
          5,
          8,
          6,
          5,
          7,
          6,
          7,
          5,
          8,
          6,
          5,
          8,
          6,
          5,
          5,
          8,
          6,
          5,
          7,
          6,
          7,
          5,
          8,
          6,
          5,
          6,
          7,
          5,
          6,
          8,
          5,
          6,
          7,
          5,
          6,
          8,
          5,
          6,
          7,
          5,
          6,
          8,
          5,
          6,
          7,
          5,
          6,
          8,
          5,
          6,
          7,
          5,
          6,
          8,
          5,
          6,
          7,
          5,
          6,
          8,
          5,
          6,
          7,
          5,
          6,
          8,
          5,
          6,
          7,
          5,
          6,
          8,
          5,
          6,
          5,
          7,
          6,
          5,
          7,
          6,
          5,
          7,
          6,
          5,
          7,
          6,
          5,
          7,
          6,
          5,
          7,
          6,
          5,
          7,
          6,
          5,
          7,
          6,
          5,
          7,
          6,
          5,
          7,
          6,
          5,
          7,
          6,
          5,
          7,
          6,
          5,
          7,
          6,
          5,
          7,
          6,
          5,
          7,
          6,
          5,
          7,
          6,
          5,
          7,
          6,
          5,
          7,
          6,
          5,
          7,
          6,
          5,
          7,
          6,
          5,
          6,
          8,
          7,
          8,
          6,
          6,
          7,
          4,
          6,
          7,
          8,
          8,
          5,
          6,
          7,
          4,
          6,
          7,
          8,
          8,
          5,
          6,
          7,
          4,
          6,
          7,
          8,
          8,
          5,
          6,
          7,
          4,
          6,
          7,
          8,
          8,
          5,
          6,
          7,
          4,
          6,
          7,
          8,
          8,
          5,
          6,
          7,
          4,
          6,
          7,
          8,
          8,
          5,
          6,
          7,
          4,
          6,
          7,
          8,
          8,
          5,
          6,
          7,
          4,
          6,
          7,
          8,
          8,
          5,
          6,
          7,
          4,
          6,
          7,
          8,
          8,
          5,
          6,
          7,
          4,
          6,
          7,
          8,
          8,
          5,
          6,
          7,
          4,
          6,
          7,
          8,
          8,
          5,
          6,
          7,
          4,
          6,
          7,
          8,
          6,
          8,
          7,
          5,
          8,
          6,
          5,
          6,
          7,
          6,
          6,
          8,
          7,
          5,
          8,
          6,
          5,
          6,
          7,
          6,
          6,
          8,
          7,
          5,
          8,
          6,
          5,
          6,
          7,
          6,
          6,
          8,
          7,
          5,
          8,
          6,
          5,
          6,
          7,
          6,
          6,
          8,
          7,
          5,
          8,
          6,
          5,
          6,
          7,
          6,
          6,
          8,
          7,
          5,
          8,
          6,
          5,
          6,
          7,
          6,
          6,
          8,
          7,
          5,
          8,
          6,
          5,
          6,
          7,
          6,
          6,
          8,
          7,
          5,
          8,
          6,
          5,
          6,
          7,
          6,
          6,
          8,
          7,
          5,
          8,
          6,
          5,
          6,
          7,
          6,
          6,
          8,
          7,
          5,
          8,
          6,
          5,
          6,
          7,
          6,
          6,
          8,
          7,
          5,
          8,
          6,
          5,
          6,
          7,
          6,
          6,
          8,
          7,
          5,
          8,
          6,
          5,
          6,
          7,
          6,
          6,
          8,
          7,
          5,
          8,
          6,
          5,
          6,
          7,
          6,
          6,
          8,
          7,
          5,
          8,
          6,
          5,
          6,
          7,
          6,
          6,
          8,
          7,
          5,
          8,
          6,
          5,
          6,
          7,
          6,
          6,
          8,
          7,
          5,
          8,
          6,
          5,
          6,
          7,
          6,
          6,
          8,
          7,
          5,
          8,
          6,
          5,
          6,
          7,
          6,
          6,
          8,
          7,
          5,
          8,
          6,
          5,
          6,
          7,
          6,
          6,
          7,
          8,
          7,
          6,
          6,
          5,
          7,
          5,
          7,
          6,
          7,
          8,
          7,
          6,
          6,
          5,
          7,
          5,
          7,
          6,
          7,
          8,
          7,
          6,
          6,
          5,
          7,
          5,
          7,
          6,
          7,
          8,
          7,
          6,
          6,
          5,
          7,
          5,
          7,
          6,
          7,
          8,
          7,
          6,
          6,
          5,
          7,
          5,
          7,
          6,
          7,
          8,
          7,
          6,
          6,
          5,
          7,
          5,
          7,
          6,
          7,
          8,
          7,
          6,
          6,
          5,
          7,
          5,
          7,
          5,
          8,
          6,
          4,
          7,
          5,
          6,
          5,
          7,
          6,
          5,
          7,
          5,
          6,
          8,
          5,
          7,
          5,
          7,
          6,
          4,
          7,
          5,
          6,
          5,
          6,
          7,
          5,
          7,
          4,
          6,
          8,
          5,
          7,
          5,
          7,
          6,
          4,
          7,
          5,
          6,
          5,
          7,
          6,
          5,
          7,
          4,
          6,
          8,
          5,
          7,
          5,
          7,
          6,
          4,
          7,
          5,
          6,
          5,
          7,
          6,
          5,
          7,
          4,
          6,
          8,
          5,
          7,
          5,
          7,
          6,
          4,
          7,
          5,
          6,
          5,
          7,
          6,
          5,
          7,
          4,
          6,
          8,
          5,
          7,
          5,
          7,
          6,
          4,
          7,
          5,
          6,
          5,
          7,
          6,
          5,
          7,
          4,
          6,
          8,
          5,
          7,
          5,
          7,
          6,
          4,
          7,
          5,
          6,
          5,
          7,
          6,
          5,
          7,
          4,
          6,
          8,
          5,
          7,
          5,
          7,
          6,
          4,
          7,
          5,
          6,
          5,
          7,
          6,
          5,
          7,
          4,
          6,
          8,
          5
         ]
        },
        {
         "hovertemplate": "Score: %{x:.2f}<br>Estimated: %{y:.0f} students<extra></extra>",
         "line": {
          "color": "#7D3C98",
          "width": 3
         },
         "mode": "lines",
         "name": "KDE Curve",
         "type": "scatter",
         "x": [
          3.5534834874566923,
          3.5830967187385347,
          3.6127099500203768,
          3.642323181302219,
          3.6719364125840617,
          3.7015496438659037,
          3.731162875147746,
          3.760776106429588,
          3.7903893377114306,
          3.820002568993273,
          3.849615800275115,
          3.8792290315569575,
          3.9088422628388,
          3.938455494120642,
          3.9680687254024845,
          3.9976819566843265,
          4.027295187966169,
          4.056908419248011,
          4.086521650529853,
          4.116134881811696,
          4.145748113093538,
          4.17536134437538,
          4.204974575657223,
          4.234587806939065,
          4.264201038220907,
          4.293814269502749,
          4.323427500784592,
          4.353040732066434,
          4.382653963348276,
          4.412267194630119,
          4.441880425911961,
          4.471493657193803,
          4.501106888475646,
          4.530720119757488,
          4.56033335103933,
          4.589946582321172,
          4.619559813603015,
          4.649173044884857,
          4.678786276166699,
          4.708399507448542,
          4.738012738730384,
          4.767625970012226,
          4.797239201294069,
          4.826852432575911,
          4.856465663857753,
          4.886078895139596,
          4.915692126421438,
          4.94530535770328,
          4.974918588985123,
          5.004531820266965,
          5.034145051548807,
          5.0637582828306495,
          5.093371514112492,
          5.122984745394334,
          5.1525979766761765,
          5.1822112079580185,
          5.2118244392398605,
          5.241437670521703,
          5.271050901803545,
          5.300664133085387,
          5.33027736436723,
          5.359890595649072,
          5.389503826930914,
          5.419117058212757,
          5.448730289494599,
          5.478343520776441,
          5.507956752058284,
          5.537569983340126,
          5.567183214621968,
          5.596796445903811,
          5.626409677185652,
          5.656022908467495,
          5.685636139749338,
          5.715249371031179,
          5.744862602313022,
          5.774475833594864,
          5.804089064876706,
          5.833702296158549,
          5.863315527440391,
          5.892928758722233,
          5.922541990004076,
          5.952155221285918,
          5.98176845256776,
          6.011381683849603,
          6.040994915131445,
          6.070608146413287,
          6.10022137769513,
          6.129834608976972,
          6.159447840258814,
          6.189061071540657,
          6.218674302822499,
          6.248287534104341,
          6.277900765386184,
          6.307513996668026,
          6.337127227949868,
          6.3667404592317105,
          6.3963536905135525,
          6.4259669217953945,
          6.455580153077237,
          6.485193384359079,
          6.5148066156409214,
          6.544419846922764,
          6.574033078204606,
          6.603646309486448,
          6.633259540768291,
          6.662872772050132,
          6.692486003331975,
          6.722099234613818,
          6.751712465895659,
          6.781325697177502,
          6.810938928459345,
          6.840552159741186,
          6.870165391023029,
          6.899778622304872,
          6.929391853586713,
          6.959005084868556,
          6.988618316150398,
          7.01823154743224,
          7.047844778714083,
          7.077458009995925,
          7.107071241277767,
          7.13668447255961,
          7.166297703841452,
          7.195910935123294,
          7.225524166405137,
          7.255137397686979,
          7.284750628968821,
          7.314363860250664,
          7.343977091532506,
          7.373590322814348,
          7.403203554096191,
          7.432816785378033,
          7.462430016659875,
          7.492043247941718,
          7.52165647922356,
          7.551269710505402,
          7.5808829417872445,
          7.610496173069086,
          7.640109404350929,
          7.6697226356327715,
          7.699335866914613,
          7.7289490981964555,
          7.758562329478298,
          7.7881755607601395,
          7.817788792041982,
          7.847402023323825,
          7.877015254605666,
          7.906628485887509,
          7.936241717169352,
          7.965854948451193,
          7.995468179733036,
          8.02508141101488,
          8.05469464229672,
          8.084307873578563,
          8.113921104860406,
          8.143534336142247,
          8.17314756742409,
          8.202760798705933,
          8.232374029987774,
          8.261987261269617,
          8.29160049255146,
          8.321213723833301,
          8.350826955115144,
          8.380440186396987,
          8.410053417678828,
          8.43966664896067,
          8.469279880242514,
          8.498893111524355,
          8.528506342806198,
          8.558119574088039,
          8.587732805369882,
          8.617346036651725,
          8.646959267933566,
          8.676572499215409,
          8.706185730497252,
          8.735798961779093,
          8.765412193060936,
          8.795025424342779,
          8.82463865562462,
          8.854251886906463,
          8.883865118188305,
          8.913478349470147,
          8.94309158075199,
          8.972704812033832,
          9.002318043315674,
          9.031931274597516,
          9.06154450587936,
          9.0911577371612,
          9.120770968443043,
          9.150384199724886,
          9.179997431006727,
          9.20961066228857,
          9.239223893570413,
          9.268837124852254,
          9.298450356134097,
          9.32806358741594,
          9.357676818697781,
          9.387290049979624,
          9.416903281261467,
          9.446516512543308
         ],
         "y": [
          0.43175425880942087,
          0.768890726458244,
          1.3161359010598497,
          2.1654340861501002,
          3.4245011920798953,
          5.205444192501162,
          7.6054757841683385,
          10.680783230954413,
          14.417432748209805,
          18.705998171394853,
          23.32823926053392,
          27.963475928917042,
          32.2187337387662,
          35.68074398217233,
          37.98109269219977,
          38.860566636056525,
          38.21720514741045,
          36.12574743183259,
          32.8233489686441,
          28.665340238214753,
          24.062435999673813,
          19.414705685593102,
          15.05679259378864,
          11.22408805821149,
          8.042875687533375,
          5.541247277949867,
          3.6736484516460104,
          2.3509125154210166,
          1.46916307766324,
          0.9339160541432732,
          0.6788658915072995,
          0.6812410175609374,
          0.9767055764751316,
          1.6763495471624161,
          2.986338868490277,
          5.227464414459412,
          8.847622323197266,
          14.41620981711382,
          22.587226594840157,
          34.01965715669904,
          49.25127163179089,
          68.53561809665817,
          91.66935876551008,
          117.85293356802447,
          145.63467140535107,
          172.98055997611888,
          197.48674020816085,
          216.71386862661103,
          228.58282143228044,
          231.74405037798792,
          225.83004327183602,
          211.52561342596852,
          190.43743874277422,
          164.7972016130225,
          137.0741305709447,
          109.58963062797659,
          84.21553583812884,
          62.205049417320694,
          44.16486317669433,
          30.142079166719316,
          19.779633446811534,
          12.49124955081157,
          7.6177380906054655,
          4.543757196836964,
          2.7711041424322618,
          1.9566524911064185,
          1.9284897444458307,
          2.6931880510482675,
          4.442117740025307,
          7.557209608179218,
          12.608471392795323,
          20.328887140096644,
          31.549447402675774,
          47.080476848309374,
          67.53685912654352,
          93.12370108086591,
          123.42145733865274,
          157.22804274303888,
          192.52080544086542,
          226.58622571665268,
          256.328841622854,
          278.72092087031336,
          291.3062365787485,
          292.64298448002097,
          282.57554394647315,
          262.2642822606425,
          233.96551330795847,
          200.61928402904041,
          165.3490355246398,
          130.99023759536635,
          99.7435680243512,
          73.00308617454249,
          51.358715241585955,
          34.73181832082533,
          22.582498931516835,
          14.128375497835552,
          8.530860739130597,
          5.027318693709407,
          3.0077330412620293,
          2.0478495083936608,
          1.9159218096021013,
          2.5685219264176053,
          4.144791629997765,
          6.960458028389622,
          11.495017489961404,
          18.359636747631534,
          28.23149960145556,
          41.74438452496541,
          59.336129717080745,
          81.07021801435535,
          106.46698676469137,
          134.3932918402698,
          163.0604264043933,
          190.16375169712694,
          213.16457678901992,
          229.67327325706987,
          237.85594174518013,
          236.76945255155542,
          226.54029178868868,
          208.34033681029,
          184.16597268369873,
          156.47809521207824,
          127.79264840585738,
          100.31513517412321,
          75.68952053315209,
          54.89279834935952,
          38.26586216783468,
          25.64175280615239,
          16.520136786941453,
          10.241181483724935,
          6.126988059747585,
          3.576958265376706,
          2.1188196431782194,
          1.4263230317466318,
          1.3175025439486712,
          1.7453143498493375,
          2.787533765519827,
          4.636905267102459,
          7.587212845239748,
          12.007404266802753,
          18.295296480531086,
          26.80563755639388,
          37.75464806417313,
          51.11352469587062,
          66.51395447883579,
          83.1952870852661,
          100.02142468920381,
          115.58341710763429,
          128.3825978984619,
          137.0644771729197,
          140.65390341743293,
          138.73523843385232,
          131.53153872383808,
          119.86189421181435,
          104.98820069361823,
          88.39098409926157,
          71.52923271370341,
          55.637458986951266,
          41.596725156571566,
          29.892288336634756,
          20.647500701420757,
          13.708332798949424,
          8.74807675613455,
          5.366100919490797,
          3.1641129406091077,
          1.7939104797748997,
          0.9788552859776034,
          0.5159027957903876,
          0.2661639367682564,
          0.140791404723661,
          0.0867787393347503,
          0.07504951828021936,
          0.09154192660380374,
          0.13100275285389246,
          0.19279393762634042,
          0.27799526733106966,
          0.38727756710837763,
          0.5192843394694002,
          0.6695012647015697,
          0.8297485019494053,
          0.9884629278658978,
          1.1318404978411585,
          1.2457156826035576,
          1.317834730820837,
          1.3400195580236218,
          1.3096928562947172,
          1.2303704833382065,
          1.1109908188614477,
          0.9642577907168903,
          0.80442204348084,
          0.6450344197062474,
          0.49715285338714665,
          0.36830287003302564,
          0.26225778566099717,
          0.1794980756034882,
          0.1180862480027504,
          0.07467014090172693,
          0.045383996588269804,
          0.02651347332614553,
          0.014888077889979718
         ]
        }
       ],
       "layout": {
        "annotations": [
         {
          "font": {
           "color": "red",
           "size": 12
          },
          "showarrow": false,
          "text": "At-Risk Zone (Score < 4)",
          "x": 2.5,
          "y": 278.0108352560199
         },
         {
          "arrowhead": 2,
          "ax": 0,
          "ay": -40,
          "bgcolor": "white",
          "font": {
           "color": "black"
          },
          "showarrow": true,
          "text": "Mode: 6.0",
          "x": 6.011381683849603,
          "y": 292.64298448002097
         }
        ],
        "bargap": 0.05,
        "font": {
         "family": "Lato",
         "size": 14
        },
        "plot_bgcolor": "white",
        "shapes": [
         {
          "fillcolor": "#FADBD8",
          "layer": "below",
          "line": {
           "width": 0
          },
          "opacity": 0.3,
          "type": "rect",
          "x0": 1,
          "x1": 4,
          "y0": 0,
          "y1": 307.27513370402204
         }
        ],
        "showlegend": true,
        "template": {
         "data": {
          "bar": [
           {
            "error_x": {
             "color": "#2a3f5f"
            },
            "error_y": {
             "color": "#2a3f5f"
            },
            "marker": {
             "line": {
              "color": "#E5ECF6",
              "width": 0.5
             }
            },
            "type": "bar"
           }
          ],
          "barpolar": [
           {
            "marker": {
             "line": {
              "color": "#E5ECF6",
              "width": 0.5
             }
            },
            "type": "barpolar"
           }
          ],
          "carpet": [
           {
            "aaxis": {
             "endlinecolor": "#2a3f5f",
             "gridcolor": "white",
             "linecolor": "white",
             "minorgridcolor": "white",
             "startlinecolor": "#2a3f5f"
            },
            "baxis": {
             "endlinecolor": "#2a3f5f",
             "gridcolor": "white",
             "linecolor": "white",
             "minorgridcolor": "white",
             "startlinecolor": "#2a3f5f"
            },
            "type": "carpet"
           }
          ],
          "choropleth": [
           {
            "colorbar": {
             "outlinewidth": 0,
             "ticks": ""
            },
            "type": "choropleth"
           }
          ],
          "contour": [
           {
            "colorbar": {
             "outlinewidth": 0,
             "ticks": ""
            },
            "colorscale": [
             [
              0,
              "#0d0887"
             ],
             [
              0.1111111111111111,
              "#46039f"
             ],
             [
              0.2222222222222222,
              "#7201a8"
             ],
             [
              0.3333333333333333,
              "#9c179e"
             ],
             [
              0.4444444444444444,
              "#bd3786"
             ],
             [
              0.5555555555555556,
              "#d8576b"
             ],
             [
              0.6666666666666666,
              "#ed7953"
             ],
             [
              0.7777777777777778,
              "#fb9f3a"
             ],
             [
              0.8888888888888888,
              "#fdca26"
             ],
             [
              1,
              "#f0f921"
             ]
            ],
            "type": "contour"
           }
          ],
          "contourcarpet": [
           {
            "colorbar": {
             "outlinewidth": 0,
             "ticks": ""
            },
            "type": "contourcarpet"
           }
          ],
          "heatmap": [
           {
            "colorbar": {
             "outlinewidth": 0,
             "ticks": ""
            },
            "colorscale": [
             [
              0,
              "#0d0887"
             ],
             [
              0.1111111111111111,
              "#46039f"
             ],
             [
              0.2222222222222222,
              "#7201a8"
             ],
             [
              0.3333333333333333,
              "#9c179e"
             ],
             [
              0.4444444444444444,
              "#bd3786"
             ],
             [
              0.5555555555555556,
              "#d8576b"
             ],
             [
              0.6666666666666666,
              "#ed7953"
             ],
             [
              0.7777777777777778,
              "#fb9f3a"
             ],
             [
              0.8888888888888888,
              "#fdca26"
             ],
             [
              1,
              "#f0f921"
             ]
            ],
            "type": "heatmap"
           }
          ],
          "heatmapgl": [
           {
            "colorbar": {
             "outlinewidth": 0,
             "ticks": ""
            },
            "colorscale": [
             [
              0,
              "#0d0887"
             ],
             [
              0.1111111111111111,
              "#46039f"
             ],
             [
              0.2222222222222222,
              "#7201a8"
             ],
             [
              0.3333333333333333,
              "#9c179e"
             ],
             [
              0.4444444444444444,
              "#bd3786"
             ],
             [
              0.5555555555555556,
              "#d8576b"
             ],
             [
              0.6666666666666666,
              "#ed7953"
             ],
             [
              0.7777777777777778,
              "#fb9f3a"
             ],
             [
              0.8888888888888888,
              "#fdca26"
             ],
             [
              1,
              "#f0f921"
             ]
            ],
            "type": "heatmapgl"
           }
          ],
          "histogram": [
           {
            "marker": {
             "colorbar": {
              "outlinewidth": 0,
              "ticks": ""
             }
            },
            "type": "histogram"
           }
          ],
          "histogram2d": [
           {
            "colorbar": {
             "outlinewidth": 0,
             "ticks": ""
            },
            "colorscale": [
             [
              0,
              "#0d0887"
             ],
             [
              0.1111111111111111,
              "#46039f"
             ],
             [
              0.2222222222222222,
              "#7201a8"
             ],
             [
              0.3333333333333333,
              "#9c179e"
             ],
             [
              0.4444444444444444,
              "#bd3786"
             ],
             [
              0.5555555555555556,
              "#d8576b"
             ],
             [
              0.6666666666666666,
              "#ed7953"
             ],
             [
              0.7777777777777778,
              "#fb9f3a"
             ],
             [
              0.8888888888888888,
              "#fdca26"
             ],
             [
              1,
              "#f0f921"
             ]
            ],
            "type": "histogram2d"
           }
          ],
          "histogram2dcontour": [
           {
            "colorbar": {
             "outlinewidth": 0,
             "ticks": ""
            },
            "colorscale": [
             [
              0,
              "#0d0887"
             ],
             [
              0.1111111111111111,
              "#46039f"
             ],
             [
              0.2222222222222222,
              "#7201a8"
             ],
             [
              0.3333333333333333,
              "#9c179e"
             ],
             [
              0.4444444444444444,
              "#bd3786"
             ],
             [
              0.5555555555555556,
              "#d8576b"
             ],
             [
              0.6666666666666666,
              "#ed7953"
             ],
             [
              0.7777777777777778,
              "#fb9f3a"
             ],
             [
              0.8888888888888888,
              "#fdca26"
             ],
             [
              1,
              "#f0f921"
             ]
            ],
            "type": "histogram2dcontour"
           }
          ],
          "mesh3d": [
           {
            "colorbar": {
             "outlinewidth": 0,
             "ticks": ""
            },
            "type": "mesh3d"
           }
          ],
          "parcoords": [
           {
            "line": {
             "colorbar": {
              "outlinewidth": 0,
              "ticks": ""
             }
            },
            "type": "parcoords"
           }
          ],
          "pie": [
           {
            "automargin": true,
            "type": "pie"
           }
          ],
          "scatter": [
           {
            "marker": {
             "colorbar": {
              "outlinewidth": 0,
              "ticks": ""
             }
            },
            "type": "scatter"
           }
          ],
          "scatter3d": [
           {
            "line": {
             "colorbar": {
              "outlinewidth": 0,
              "ticks": ""
             }
            },
            "marker": {
             "colorbar": {
              "outlinewidth": 0,
              "ticks": ""
             }
            },
            "type": "scatter3d"
           }
          ],
          "scattercarpet": [
           {
            "marker": {
             "colorbar": {
              "outlinewidth": 0,
              "ticks": ""
             }
            },
            "type": "scattercarpet"
           }
          ],
          "scattergeo": [
           {
            "marker": {
             "colorbar": {
              "outlinewidth": 0,
              "ticks": ""
             }
            },
            "type": "scattergeo"
           }
          ],
          "scattergl": [
           {
            "marker": {
             "colorbar": {
              "outlinewidth": 0,
              "ticks": ""
             }
            },
            "type": "scattergl"
           }
          ],
          "scattermapbox": [
           {
            "marker": {
             "colorbar": {
              "outlinewidth": 0,
              "ticks": ""
             }
            },
            "type": "scattermapbox"
           }
          ],
          "scatterpolar": [
           {
            "marker": {
             "colorbar": {
              "outlinewidth": 0,
              "ticks": ""
             }
            },
            "type": "scatterpolar"
           }
          ],
          "scatterpolargl": [
           {
            "marker": {
             "colorbar": {
              "outlinewidth": 0,
              "ticks": ""
             }
            },
            "type": "scatterpolargl"
           }
          ],
          "scatterternary": [
           {
            "marker": {
             "colorbar": {
              "outlinewidth": 0,
              "ticks": ""
             }
            },
            "type": "scatterternary"
           }
          ],
          "surface": [
           {
            "colorbar": {
             "outlinewidth": 0,
             "ticks": ""
            },
            "colorscale": [
             [
              0,
              "#0d0887"
             ],
             [
              0.1111111111111111,
              "#46039f"
             ],
             [
              0.2222222222222222,
              "#7201a8"
             ],
             [
              0.3333333333333333,
              "#9c179e"
             ],
             [
              0.4444444444444444,
              "#bd3786"
             ],
             [
              0.5555555555555556,
              "#d8576b"
             ],
             [
              0.6666666666666666,
              "#ed7953"
             ],
             [
              0.7777777777777778,
              "#fb9f3a"
             ],
             [
              0.8888888888888888,
              "#fdca26"
             ],
             [
              1,
              "#f0f921"
             ]
            ],
            "type": "surface"
           }
          ],
          "table": [
           {
            "cells": {
             "fill": {
              "color": "#EBF0F8"
             },
             "line": {
              "color": "white"
             }
            },
            "header": {
             "fill": {
              "color": "#C8D4E3"
             },
             "line": {
              "color": "white"
             }
            },
            "type": "table"
           }
          ]
         },
         "layout": {
          "annotationdefaults": {
           "arrowcolor": "#2a3f5f",
           "arrowhead": 0,
           "arrowwidth": 1
          },
          "coloraxis": {
           "colorbar": {
            "outlinewidth": 0,
            "ticks": ""
           }
          },
          "colorscale": {
           "diverging": [
            [
             0,
             "#8e0152"
            ],
            [
             0.1,
             "#c51b7d"
            ],
            [
             0.2,
             "#de77ae"
            ],
            [
             0.3,
             "#f1b6da"
            ],
            [
             0.4,
             "#fde0ef"
            ],
            [
             0.5,
             "#f7f7f7"
            ],
            [
             0.6,
             "#e6f5d0"
            ],
            [
             0.7,
             "#b8e186"
            ],
            [
             0.8,
             "#7fbc41"
            ],
            [
             0.9,
             "#4d9221"
            ],
            [
             1,
             "#276419"
            ]
           ],
           "sequential": [
            [
             0,
             "#0d0887"
            ],
            [
             0.1111111111111111,
             "#46039f"
            ],
            [
             0.2222222222222222,
             "#7201a8"
            ],
            [
             0.3333333333333333,
             "#9c179e"
            ],
            [
             0.4444444444444444,
             "#bd3786"
            ],
            [
             0.5555555555555556,
             "#d8576b"
            ],
            [
             0.6666666666666666,
             "#ed7953"
            ],
            [
             0.7777777777777778,
             "#fb9f3a"
            ],
            [
             0.8888888888888888,
             "#fdca26"
            ],
            [
             1,
             "#f0f921"
            ]
           ],
           "sequentialminus": [
            [
             0,
             "#0d0887"
            ],
            [
             0.1111111111111111,
             "#46039f"
            ],
            [
             0.2222222222222222,
             "#7201a8"
            ],
            [
             0.3333333333333333,
             "#9c179e"
            ],
            [
             0.4444444444444444,
             "#bd3786"
            ],
            [
             0.5555555555555556,
             "#d8576b"
            ],
            [
             0.6666666666666666,
             "#ed7953"
            ],
            [
             0.7777777777777778,
             "#fb9f3a"
            ],
            [
             0.8888888888888888,
             "#fdca26"
            ],
            [
             1,
             "#f0f921"
            ]
           ]
          },
          "colorway": [
           "#636efa",
           "#EF553B",
           "#00cc96",
           "#ab63fa",
           "#FFA15A",
           "#19d3f3",
           "#FF6692",
           "#B6E880",
           "#FF97FF",
           "#FECB52"
          ],
          "font": {
           "color": "#2a3f5f"
          },
          "geo": {
           "bgcolor": "white",
           "lakecolor": "white",
           "landcolor": "#E5ECF6",
           "showlakes": true,
           "showland": true,
           "subunitcolor": "white"
          },
          "hoverlabel": {
           "align": "left"
          },
          "hovermode": "closest",
          "mapbox": {
           "style": "light"
          },
          "paper_bgcolor": "white",
          "plot_bgcolor": "#E5ECF6",
          "polar": {
           "angularaxis": {
            "gridcolor": "white",
            "linecolor": "white",
            "ticks": ""
           },
           "bgcolor": "#E5ECF6",
           "radialaxis": {
            "gridcolor": "white",
            "linecolor": "white",
            "ticks": ""
           }
          },
          "scene": {
           "xaxis": {
            "backgroundcolor": "#E5ECF6",
            "gridcolor": "white",
            "gridwidth": 2,
            "linecolor": "white",
            "showbackground": true,
            "ticks": "",
            "zerolinecolor": "white"
           },
           "yaxis": {
            "backgroundcolor": "#E5ECF6",
            "gridcolor": "white",
            "gridwidth": 2,
            "linecolor": "white",
            "showbackground": true,
            "ticks": "",
            "zerolinecolor": "white"
           },
           "zaxis": {
            "backgroundcolor": "#E5ECF6",
            "gridcolor": "white",
            "gridwidth": 2,
            "linecolor": "white",
            "showbackground": true,
            "ticks": "",
            "zerolinecolor": "white"
           }
          },
          "shapedefaults": {
           "line": {
            "color": "#2a3f5f"
           }
          },
          "ternary": {
           "aaxis": {
            "gridcolor": "white",
            "linecolor": "white",
            "ticks": ""
           },
           "baxis": {
            "gridcolor": "white",
            "linecolor": "white",
            "ticks": ""
           },
           "bgcolor": "#E5ECF6",
           "caxis": {
            "gridcolor": "white",
            "linecolor": "white",
            "ticks": ""
           }
          },
          "title": {
           "x": 0.05
          },
          "xaxis": {
           "automargin": true,
           "gridcolor": "white",
           "linecolor": "white",
           "ticks": "",
           "title": {
            "standoff": 15
           },
           "zerolinecolor": "white",
           "zerolinewidth": 2
          },
          "yaxis": {
           "automargin": true,
           "gridcolor": "white",
           "linecolor": "white",
           "ticks": "",
           "title": {
            "standoff": 15
           },
           "zerolinecolor": "white",
           "zerolinewidth": 2
          }
         }
        },
        "title": {
         "text": "Distribution of Mental Health Scores"
        },
        "xaxis": {
         "title": {
          "text": "Mental Health Score (1–10)"
         }
        },
        "yaxis": {
         "title": {
          "text": "Number of Students"
         }
        }
       }
      }
     },
     "metadata": {},
     "output_type": "display_data"
    }
   ],
   "source": [
    "# Get value counts\n",
    "student_df['mental_health_score_rounded'] = student_df['mental_health_score'].round()\n",
    "mh_counts = student_df['mental_health_score_rounded'].value_counts().sort_index()\n",
    "\n",
    "print(\"Mental Health Score - Rounded Value Counts:\")\n",
    "print(mh_counts)\n",
    "\n",
    "# Extract KDE using seaborn\n",
    "fig_kde, ax_kde = plt.subplots()\n",
    "sns.kdeplot(student_df['mental_health_score'], bw_adjust=0.5, ax=ax_kde)\n",
    "kde_line = ax_kde.lines[0]\n",
    "x_vals = kde_line.get_xdata()\n",
    "y_vals = kde_line.get_ydata()\n",
    "plt.close(fig_kde)\n",
    "\n",
    "# Scale KDE to match histogram\n",
    "y_scaled = y_vals * len(student_df) * (student_df['mental_health_score'].max() - student_df['mental_health_score'].min()) / 10\n",
    "\n",
    "# Find mode of the KDE (highest peak)\n",
    "peak_index = np.argmax(y_scaled)\n",
    "peak_x = x_vals[peak_index]\n",
    "peak_y = y_scaled[peak_index]\n",
    "\n",
    "# Create figure\n",
    "fig = go.Figure()\n",
    "\n",
    "# Histogram\n",
    "fig.add_trace(go.Histogram(\n",
    "    x = student_df['mental_health_score'],\n",
    "    nbinsx = 10,\n",
    "    name='Students',\n",
    "    marker_color = '#A569BD',\n",
    "    opacity = 0.7,\n",
    "    hovertemplate = 'Score Range: %{x}<br>Students: %{y}<extra></extra>'\n",
    "))\n",
    "\n",
    "# KDE Curve\n",
    "fig.add_trace(go.Scatter(\n",
    "    x = x_vals,\n",
    "    y = y_scaled,\n",
    "    mode = 'lines',\n",
    "    name = 'KDE Curve',\n",
    "    line = dict(color = '#7D3C98', width = 3),\n",
    "    hovertemplate = 'Score: %{x:.2f}<br>Estimated: %{y:.0f} students<extra></extra>'\n",
    "))\n",
    "\n",
    "# Add shaded area for scores < 4\n",
    "fig.add_shape(\n",
    "    type = \"rect\",\n",
    "    x0 = 1, x1 = 4,\n",
    "    y0 = 0, y1 = max(y_scaled)*1.05,\n",
    "    fillcolor = \"#FADBD8\",  \n",
    "    opacity = 0.3,\n",
    "    line_width = 0,\n",
    "    layer = \"below\"\n",
    ")\n",
    "\n",
    "fig.add_annotation(\n",
    "    x = 2.5,\n",
    "    y = max(y_scaled)*0.95,\n",
    "    text = \"At-Risk Zone (Score < 4)\",\n",
    "    showarrow = False,\n",
    "    font = dict(color = \"red\", size = 12)\n",
    ")\n",
    "\n",
    "# Annotate KDE peak\n",
    "fig.add_annotation(\n",
    "    x = peak_x,\n",
    "    y = peak_y,\n",
    "    text = f\"Mode: {peak_x:.1f}\",\n",
    "    showarrow = True,\n",
    "    arrowhead = 2,\n",
    "    ax = 0,\n",
    "    ay = -40,\n",
    "    font = dict(color = \"black\"),\n",
    "    bgcolor = \"white\"\n",
    ")\n",
    "\n",
    "# Final layout\n",
    "fig.update_layout(\n",
    "    title = 'Distribution of Mental Health Scores',\n",
    "    xaxis_title = 'Mental Health Score (1–10)',\n",
    "    yaxis_title = 'Number of Students',\n",
    "    font = dict(family = 'Lato', size = 14),\n",
    "    plot_bgcolor = 'white',\n",
    "    showlegend = True,\n",
    "    bargap = 0.05\n",
    ")\n",
    "\n",
    "fig.show()"
   ]
  },
  {
   "cell_type": "markdown",
   "id": "c819ef68",
   "metadata": {},
   "source": [
    "> The 'mental_health_score' reflects student-reported well-being on a scale likely ranging from 1 to 10, though responses here fall between **4 and 9**. The distribution is as follows:\n",
    "\n",
    ">The majority of students rate themselves between **5 and 7**, with:\n",
    "  - **6** being the most common score (219 students, ~31%)\n",
    "  - Followed by **7** (178 students) and **5** (173 students)\n",
    "> Only **1 student** reported a **9**, while **29 students** rated themselves at **4**, the lowest in this dataset.\n",
    "\n",
    "> Observation:** This suggests that **most students perceive their mental health as moderate**, with a slight skew toward average-to-good well-being. The low number of extreme scores (both high and low) could reflect either a genuine clustering around the mean — or a tendency toward conservative self-assessment due to stigma or lack of clarity.\n",
    "\n",
    ">**Implication:**  This variable is central to understanding the cost of digital behaviors. Pairing 'mental_health_score' with 'sleep_hours_per_night', 'addicted_score', and 'affects_academic_performance' will help uncover early warning signals or protective habits tied to digital engagement.\n"
   ]
  },
  {
   "cell_type": "markdown",
   "id": "3adbc52c",
   "metadata": {},
   "source": [
    "## 10. Relationship Status\n",
    "Relationship status might seem like fluff, but in a student’s social media life, it’s often the driver behind how much they post, scroll, or… spiral. It's also a subtle proxy for **emotional bandwidth**, **digital conflict**, and maybe even platform choice (because nothing says \"taken\" like a couple’s TikTok account).\n",
    "\n",
    "Let’s see how many are flying solo, taken, or somewhere in the digital dating limbo."
   ]
  },
  {
   "cell_type": "code",
   "execution_count": 63,
   "id": "0a741819",
   "metadata": {},
   "outputs": [
    {
     "name": "stdout",
     "output_type": "stream",
     "text": [
      "Relationship Status:\n",
      "            Status  Count\n",
      "0           Single    384\n",
      "1  In Relationship    289\n",
      "2      Complicated     32\n"
     ]
    },
    {
     "data": {
      "application/vnd.plotly.v1+json": {
       "config": {
        "plotlyServerURL": "https://plot.ly"
       },
       "data": [
        {
         "hole": 0.55,
         "hovertemplate": "%{label}: %{value} students<extra></extra>",
         "labels": [
          "Single",
          "In Relationship",
          "Complicated"
         ],
         "marker": {
          "colors": [
           "#F5B7B1",
           "#AED6F1",
           "#D7DBDD"
          ],
          "line": {
           "color": "white",
           "width": 2
          }
         },
         "textinfo": "percent+label",
         "type": "pie",
         "values": [
          384,
          289,
          32
         ]
        }
       ],
       "layout": {
        "annotations": [
         {
          "font": {
           "color": "gray",
           "size": 16
          },
          "showarrow": false,
          "text": "Relationship<br>Status",
          "x": 0.5,
          "y": 0.5
         }
        ],
        "font": {
         "color": "black",
         "family": "Lato",
         "size": 14
        },
        "paper_bgcolor": "#FDFEFE",
        "plot_bgcolor": "#FAF3E0",
        "template": {
         "data": {
          "bar": [
           {
            "error_x": {
             "color": "#2a3f5f"
            },
            "error_y": {
             "color": "#2a3f5f"
            },
            "marker": {
             "line": {
              "color": "#E5ECF6",
              "width": 0.5
             }
            },
            "type": "bar"
           }
          ],
          "barpolar": [
           {
            "marker": {
             "line": {
              "color": "#E5ECF6",
              "width": 0.5
             }
            },
            "type": "barpolar"
           }
          ],
          "carpet": [
           {
            "aaxis": {
             "endlinecolor": "#2a3f5f",
             "gridcolor": "white",
             "linecolor": "white",
             "minorgridcolor": "white",
             "startlinecolor": "#2a3f5f"
            },
            "baxis": {
             "endlinecolor": "#2a3f5f",
             "gridcolor": "white",
             "linecolor": "white",
             "minorgridcolor": "white",
             "startlinecolor": "#2a3f5f"
            },
            "type": "carpet"
           }
          ],
          "choropleth": [
           {
            "colorbar": {
             "outlinewidth": 0,
             "ticks": ""
            },
            "type": "choropleth"
           }
          ],
          "contour": [
           {
            "colorbar": {
             "outlinewidth": 0,
             "ticks": ""
            },
            "colorscale": [
             [
              0,
              "#0d0887"
             ],
             [
              0.1111111111111111,
              "#46039f"
             ],
             [
              0.2222222222222222,
              "#7201a8"
             ],
             [
              0.3333333333333333,
              "#9c179e"
             ],
             [
              0.4444444444444444,
              "#bd3786"
             ],
             [
              0.5555555555555556,
              "#d8576b"
             ],
             [
              0.6666666666666666,
              "#ed7953"
             ],
             [
              0.7777777777777778,
              "#fb9f3a"
             ],
             [
              0.8888888888888888,
              "#fdca26"
             ],
             [
              1,
              "#f0f921"
             ]
            ],
            "type": "contour"
           }
          ],
          "contourcarpet": [
           {
            "colorbar": {
             "outlinewidth": 0,
             "ticks": ""
            },
            "type": "contourcarpet"
           }
          ],
          "heatmap": [
           {
            "colorbar": {
             "outlinewidth": 0,
             "ticks": ""
            },
            "colorscale": [
             [
              0,
              "#0d0887"
             ],
             [
              0.1111111111111111,
              "#46039f"
             ],
             [
              0.2222222222222222,
              "#7201a8"
             ],
             [
              0.3333333333333333,
              "#9c179e"
             ],
             [
              0.4444444444444444,
              "#bd3786"
             ],
             [
              0.5555555555555556,
              "#d8576b"
             ],
             [
              0.6666666666666666,
              "#ed7953"
             ],
             [
              0.7777777777777778,
              "#fb9f3a"
             ],
             [
              0.8888888888888888,
              "#fdca26"
             ],
             [
              1,
              "#f0f921"
             ]
            ],
            "type": "heatmap"
           }
          ],
          "heatmapgl": [
           {
            "colorbar": {
             "outlinewidth": 0,
             "ticks": ""
            },
            "colorscale": [
             [
              0,
              "#0d0887"
             ],
             [
              0.1111111111111111,
              "#46039f"
             ],
             [
              0.2222222222222222,
              "#7201a8"
             ],
             [
              0.3333333333333333,
              "#9c179e"
             ],
             [
              0.4444444444444444,
              "#bd3786"
             ],
             [
              0.5555555555555556,
              "#d8576b"
             ],
             [
              0.6666666666666666,
              "#ed7953"
             ],
             [
              0.7777777777777778,
              "#fb9f3a"
             ],
             [
              0.8888888888888888,
              "#fdca26"
             ],
             [
              1,
              "#f0f921"
             ]
            ],
            "type": "heatmapgl"
           }
          ],
          "histogram": [
           {
            "marker": {
             "colorbar": {
              "outlinewidth": 0,
              "ticks": ""
             }
            },
            "type": "histogram"
           }
          ],
          "histogram2d": [
           {
            "colorbar": {
             "outlinewidth": 0,
             "ticks": ""
            },
            "colorscale": [
             [
              0,
              "#0d0887"
             ],
             [
              0.1111111111111111,
              "#46039f"
             ],
             [
              0.2222222222222222,
              "#7201a8"
             ],
             [
              0.3333333333333333,
              "#9c179e"
             ],
             [
              0.4444444444444444,
              "#bd3786"
             ],
             [
              0.5555555555555556,
              "#d8576b"
             ],
             [
              0.6666666666666666,
              "#ed7953"
             ],
             [
              0.7777777777777778,
              "#fb9f3a"
             ],
             [
              0.8888888888888888,
              "#fdca26"
             ],
             [
              1,
              "#f0f921"
             ]
            ],
            "type": "histogram2d"
           }
          ],
          "histogram2dcontour": [
           {
            "colorbar": {
             "outlinewidth": 0,
             "ticks": ""
            },
            "colorscale": [
             [
              0,
              "#0d0887"
             ],
             [
              0.1111111111111111,
              "#46039f"
             ],
             [
              0.2222222222222222,
              "#7201a8"
             ],
             [
              0.3333333333333333,
              "#9c179e"
             ],
             [
              0.4444444444444444,
              "#bd3786"
             ],
             [
              0.5555555555555556,
              "#d8576b"
             ],
             [
              0.6666666666666666,
              "#ed7953"
             ],
             [
              0.7777777777777778,
              "#fb9f3a"
             ],
             [
              0.8888888888888888,
              "#fdca26"
             ],
             [
              1,
              "#f0f921"
             ]
            ],
            "type": "histogram2dcontour"
           }
          ],
          "mesh3d": [
           {
            "colorbar": {
             "outlinewidth": 0,
             "ticks": ""
            },
            "type": "mesh3d"
           }
          ],
          "parcoords": [
           {
            "line": {
             "colorbar": {
              "outlinewidth": 0,
              "ticks": ""
             }
            },
            "type": "parcoords"
           }
          ],
          "pie": [
           {
            "automargin": true,
            "type": "pie"
           }
          ],
          "scatter": [
           {
            "marker": {
             "colorbar": {
              "outlinewidth": 0,
              "ticks": ""
             }
            },
            "type": "scatter"
           }
          ],
          "scatter3d": [
           {
            "line": {
             "colorbar": {
              "outlinewidth": 0,
              "ticks": ""
             }
            },
            "marker": {
             "colorbar": {
              "outlinewidth": 0,
              "ticks": ""
             }
            },
            "type": "scatter3d"
           }
          ],
          "scattercarpet": [
           {
            "marker": {
             "colorbar": {
              "outlinewidth": 0,
              "ticks": ""
             }
            },
            "type": "scattercarpet"
           }
          ],
          "scattergeo": [
           {
            "marker": {
             "colorbar": {
              "outlinewidth": 0,
              "ticks": ""
             }
            },
            "type": "scattergeo"
           }
          ],
          "scattergl": [
           {
            "marker": {
             "colorbar": {
              "outlinewidth": 0,
              "ticks": ""
             }
            },
            "type": "scattergl"
           }
          ],
          "scattermapbox": [
           {
            "marker": {
             "colorbar": {
              "outlinewidth": 0,
              "ticks": ""
             }
            },
            "type": "scattermapbox"
           }
          ],
          "scatterpolar": [
           {
            "marker": {
             "colorbar": {
              "outlinewidth": 0,
              "ticks": ""
             }
            },
            "type": "scatterpolar"
           }
          ],
          "scatterpolargl": [
           {
            "marker": {
             "colorbar": {
              "outlinewidth": 0,
              "ticks": ""
             }
            },
            "type": "scatterpolargl"
           }
          ],
          "scatterternary": [
           {
            "marker": {
             "colorbar": {
              "outlinewidth": 0,
              "ticks": ""
             }
            },
            "type": "scatterternary"
           }
          ],
          "surface": [
           {
            "colorbar": {
             "outlinewidth": 0,
             "ticks": ""
            },
            "colorscale": [
             [
              0,
              "#0d0887"
             ],
             [
              0.1111111111111111,
              "#46039f"
             ],
             [
              0.2222222222222222,
              "#7201a8"
             ],
             [
              0.3333333333333333,
              "#9c179e"
             ],
             [
              0.4444444444444444,
              "#bd3786"
             ],
             [
              0.5555555555555556,
              "#d8576b"
             ],
             [
              0.6666666666666666,
              "#ed7953"
             ],
             [
              0.7777777777777778,
              "#fb9f3a"
             ],
             [
              0.8888888888888888,
              "#fdca26"
             ],
             [
              1,
              "#f0f921"
             ]
            ],
            "type": "surface"
           }
          ],
          "table": [
           {
            "cells": {
             "fill": {
              "color": "#EBF0F8"
             },
             "line": {
              "color": "white"
             }
            },
            "header": {
             "fill": {
              "color": "#C8D4E3"
             },
             "line": {
              "color": "white"
             }
            },
            "type": "table"
           }
          ]
         },
         "layout": {
          "annotationdefaults": {
           "arrowcolor": "#2a3f5f",
           "arrowhead": 0,
           "arrowwidth": 1
          },
          "coloraxis": {
           "colorbar": {
            "outlinewidth": 0,
            "ticks": ""
           }
          },
          "colorscale": {
           "diverging": [
            [
             0,
             "#8e0152"
            ],
            [
             0.1,
             "#c51b7d"
            ],
            [
             0.2,
             "#de77ae"
            ],
            [
             0.3,
             "#f1b6da"
            ],
            [
             0.4,
             "#fde0ef"
            ],
            [
             0.5,
             "#f7f7f7"
            ],
            [
             0.6,
             "#e6f5d0"
            ],
            [
             0.7,
             "#b8e186"
            ],
            [
             0.8,
             "#7fbc41"
            ],
            [
             0.9,
             "#4d9221"
            ],
            [
             1,
             "#276419"
            ]
           ],
           "sequential": [
            [
             0,
             "#0d0887"
            ],
            [
             0.1111111111111111,
             "#46039f"
            ],
            [
             0.2222222222222222,
             "#7201a8"
            ],
            [
             0.3333333333333333,
             "#9c179e"
            ],
            [
             0.4444444444444444,
             "#bd3786"
            ],
            [
             0.5555555555555556,
             "#d8576b"
            ],
            [
             0.6666666666666666,
             "#ed7953"
            ],
            [
             0.7777777777777778,
             "#fb9f3a"
            ],
            [
             0.8888888888888888,
             "#fdca26"
            ],
            [
             1,
             "#f0f921"
            ]
           ],
           "sequentialminus": [
            [
             0,
             "#0d0887"
            ],
            [
             0.1111111111111111,
             "#46039f"
            ],
            [
             0.2222222222222222,
             "#7201a8"
            ],
            [
             0.3333333333333333,
             "#9c179e"
            ],
            [
             0.4444444444444444,
             "#bd3786"
            ],
            [
             0.5555555555555556,
             "#d8576b"
            ],
            [
             0.6666666666666666,
             "#ed7953"
            ],
            [
             0.7777777777777778,
             "#fb9f3a"
            ],
            [
             0.8888888888888888,
             "#fdca26"
            ],
            [
             1,
             "#f0f921"
            ]
           ]
          },
          "colorway": [
           "#636efa",
           "#EF553B",
           "#00cc96",
           "#ab63fa",
           "#FFA15A",
           "#19d3f3",
           "#FF6692",
           "#B6E880",
           "#FF97FF",
           "#FECB52"
          ],
          "font": {
           "color": "#2a3f5f"
          },
          "geo": {
           "bgcolor": "white",
           "lakecolor": "white",
           "landcolor": "#E5ECF6",
           "showlakes": true,
           "showland": true,
           "subunitcolor": "white"
          },
          "hoverlabel": {
           "align": "left"
          },
          "hovermode": "closest",
          "mapbox": {
           "style": "light"
          },
          "paper_bgcolor": "white",
          "plot_bgcolor": "#E5ECF6",
          "polar": {
           "angularaxis": {
            "gridcolor": "white",
            "linecolor": "white",
            "ticks": ""
           },
           "bgcolor": "#E5ECF6",
           "radialaxis": {
            "gridcolor": "white",
            "linecolor": "white",
            "ticks": ""
           }
          },
          "scene": {
           "xaxis": {
            "backgroundcolor": "#E5ECF6",
            "gridcolor": "white",
            "gridwidth": 2,
            "linecolor": "white",
            "showbackground": true,
            "ticks": "",
            "zerolinecolor": "white"
           },
           "yaxis": {
            "backgroundcolor": "#E5ECF6",
            "gridcolor": "white",
            "gridwidth": 2,
            "linecolor": "white",
            "showbackground": true,
            "ticks": "",
            "zerolinecolor": "white"
           },
           "zaxis": {
            "backgroundcolor": "#E5ECF6",
            "gridcolor": "white",
            "gridwidth": 2,
            "linecolor": "white",
            "showbackground": true,
            "ticks": "",
            "zerolinecolor": "white"
           }
          },
          "shapedefaults": {
           "line": {
            "color": "#2a3f5f"
           }
          },
          "ternary": {
           "aaxis": {
            "gridcolor": "white",
            "linecolor": "white",
            "ticks": ""
           },
           "baxis": {
            "gridcolor": "white",
            "linecolor": "white",
            "ticks": ""
           },
           "bgcolor": "#E5ECF6",
           "caxis": {
            "gridcolor": "white",
            "linecolor": "white",
            "ticks": ""
           }
          },
          "title": {
           "x": 0.05
          },
          "xaxis": {
           "automargin": true,
           "gridcolor": "white",
           "linecolor": "white",
           "ticks": "",
           "title": {
            "standoff": 15
           },
           "zerolinecolor": "white",
           "zerolinewidth": 2
          },
          "yaxis": {
           "automargin": true,
           "gridcolor": "white",
           "linecolor": "white",
           "ticks": "",
           "title": {
            "standoff": 15
           },
           "zerolinecolor": "white",
           "zerolinewidth": 2
          }
         }
        },
        "title": {
         "text": "Student Relationship Status"
        }
       }
      }
     },
     "metadata": {},
     "output_type": "display_data"
    }
   ],
   "source": [
    "# Get value counts\n",
    "relationship_counts = (\n",
    "    student_df['relationship_status']\n",
    "    .value_counts()\n",
    "    .reset_index()\n",
    "    .rename(columns = {'index': 'Status', 'relationship_status': 'Count'})\n",
    ")\n",
    "\n",
    "print(\"Relationship Status:\")\n",
    "print(relationship_counts)\n",
    "\n",
    "# Define status colors\n",
    "status_colors = {\n",
    "    'Single': '#F5B7B1',          \n",
    "    'In Relationship': '#AED6F1', \n",
    "    \"Complicated\": '#D7DBDD'  \n",
    "}\n",
    "colors = [status_colors[status] for status in relationship_counts['Status']]\n",
    "\n",
    "# Donut plot\n",
    "fig = go.Figure(data=[go.Pie(\n",
    "    labels = relationship_counts['Status'],\n",
    "    values=relationship_counts['Count'],\n",
    "    hole = 0.55,\n",
    "    marker = dict(colors = colors, line = dict(color = 'white', width = 2)),\n",
    "    textinfo = 'percent+label',\n",
    "    hovertemplate = '%{label}: %{value} students<extra></extra>'\n",
    ")])\n",
    "\n",
    "# Stylish layout\n",
    "fig.update_layout(\n",
    "    title = 'Student Relationship Status',\n",
    "    font = dict(family = 'Lato', size = 14, color = 'black'),\n",
    "    \n",
    "    # Add background \n",
    "    plot_bgcolor='#FAF3E0',  \n",
    "    paper_bgcolor='#FDFEFE', \n",
    "    \n",
    "    annotations = [dict(\n",
    "        text = 'Relationship<br>Status',\n",
    "        x = 0.5, y = 0.5,\n",
    "        font = dict(size = 16, color = 'gray'),\n",
    "        showarrow = False\n",
    "    )]\n",
    ")\n",
    "\n",
    "fig.show()"
   ]
  },
  {
   "cell_type": "markdown",
   "id": "5a787adb",
   "metadata": {},
   "source": [
    ">Among the 705 students surveyed:\n",
    ">- **384 students (54.5%)** are **Single**\n",
    ">- **289 students (41%)** are **In a Relationship**\n",
    ">- **32 students (4.5%)** describe their situation as **\"Complicated\"**\n",
    "\n",
    ">This breakdown highlights that **over half of the student population is single**, a trend often linked to increased focus on academic pursuits but also potential vulnerability to social media-induced loneliness or overuse as a coping mechanism.\n",
    "\n",
    ">Meanwhile, the sizable group in relationships may experience different digital behaviors- from higher engagement on communication platforms (e.g WhatsApp, Snapchat) to **greater risk of conflict over social media**.\n",
    "\n",
    "> **Implication:** Relationship status can act as a **moderator** in analyses involving 'conflicts_over_social_media', 'mental_health_score', and 'addicted_score'. For instance, those reporting a \"Complicated\" status may show higher emotional volatility, reflected in digital habits or wellbeing metrics."
   ]
  },
  {
   "cell_type": "markdown",
   "id": "eafb438c",
   "metadata": {},
   "source": [
    "## 11. Conflicts over social media\n",
    "Social media brings people together- and sometimes tears them apart in the comment section.\n",
    "\n",
    "This feature captures how often students experience **conflict because of social media**- whether it's passive-aggressive subtweets or full-blown DM drama. Conflict levels tell us about **emotional strain**, **relational boundaries**, and the not-so-pretty side of online life."
   ]
  },
  {
   "cell_type": "code",
   "execution_count": 64,
   "id": "5ab96e02",
   "metadata": {},
   "outputs": [
    {
     "name": "stdout",
     "output_type": "stream",
     "text": [
      "Conflicts Over Social Media:\n",
      "0      4\n",
      "1     47\n",
      "2    204\n",
      "3    261\n",
      "4    174\n",
      "5     15\n",
      "Name: conflicts_over_social_media, dtype: int64\n"
     ]
    },
    {
     "data": {
      "application/vnd.plotly.v1+json": {
       "config": {
        "plotlyServerURL": "https://plot.ly"
       },
       "data": [
        {
         "alignmentgroup": "True",
         "hovertemplate": "Conflicts: %{x}<br>Students: %{y}<extra></extra>",
         "legendgroup": "",
         "marker": {
          "color": "#F1948A",
          "line": {
           "color": "white",
           "width": 1
          }
         },
         "name": "",
         "offsetgroup": "",
         "orientation": "v",
         "showlegend": false,
         "text": [
          4,
          47,
          204,
          261,
          174,
          15
         ],
         "textposition": "outside",
         "type": "bar",
         "x": [
          0,
          1,
          2,
          3,
          4,
          5
         ],
         "xaxis": "x",
         "y": [
          4,
          47,
          204,
          261,
          174,
          15
         ],
         "yaxis": "y"
        }
       ],
       "layout": {
        "barmode": "relative",
        "font": {
         "family": "Lato",
         "size": 14
        },
        "legend": {
         "tracegroupgap": 0
        },
        "paper_bgcolor": "#FBFCFC",
        "plot_bgcolor": "#FDFEFE",
        "showlegend": false,
        "template": {
         "data": {
          "bar": [
           {
            "error_x": {
             "color": "#2a3f5f"
            },
            "error_y": {
             "color": "#2a3f5f"
            },
            "marker": {
             "line": {
              "color": "#E5ECF6",
              "width": 0.5
             }
            },
            "type": "bar"
           }
          ],
          "barpolar": [
           {
            "marker": {
             "line": {
              "color": "#E5ECF6",
              "width": 0.5
             }
            },
            "type": "barpolar"
           }
          ],
          "carpet": [
           {
            "aaxis": {
             "endlinecolor": "#2a3f5f",
             "gridcolor": "white",
             "linecolor": "white",
             "minorgridcolor": "white",
             "startlinecolor": "#2a3f5f"
            },
            "baxis": {
             "endlinecolor": "#2a3f5f",
             "gridcolor": "white",
             "linecolor": "white",
             "minorgridcolor": "white",
             "startlinecolor": "#2a3f5f"
            },
            "type": "carpet"
           }
          ],
          "choropleth": [
           {
            "colorbar": {
             "outlinewidth": 0,
             "ticks": ""
            },
            "type": "choropleth"
           }
          ],
          "contour": [
           {
            "colorbar": {
             "outlinewidth": 0,
             "ticks": ""
            },
            "colorscale": [
             [
              0,
              "#0d0887"
             ],
             [
              0.1111111111111111,
              "#46039f"
             ],
             [
              0.2222222222222222,
              "#7201a8"
             ],
             [
              0.3333333333333333,
              "#9c179e"
             ],
             [
              0.4444444444444444,
              "#bd3786"
             ],
             [
              0.5555555555555556,
              "#d8576b"
             ],
             [
              0.6666666666666666,
              "#ed7953"
             ],
             [
              0.7777777777777778,
              "#fb9f3a"
             ],
             [
              0.8888888888888888,
              "#fdca26"
             ],
             [
              1,
              "#f0f921"
             ]
            ],
            "type": "contour"
           }
          ],
          "contourcarpet": [
           {
            "colorbar": {
             "outlinewidth": 0,
             "ticks": ""
            },
            "type": "contourcarpet"
           }
          ],
          "heatmap": [
           {
            "colorbar": {
             "outlinewidth": 0,
             "ticks": ""
            },
            "colorscale": [
             [
              0,
              "#0d0887"
             ],
             [
              0.1111111111111111,
              "#46039f"
             ],
             [
              0.2222222222222222,
              "#7201a8"
             ],
             [
              0.3333333333333333,
              "#9c179e"
             ],
             [
              0.4444444444444444,
              "#bd3786"
             ],
             [
              0.5555555555555556,
              "#d8576b"
             ],
             [
              0.6666666666666666,
              "#ed7953"
             ],
             [
              0.7777777777777778,
              "#fb9f3a"
             ],
             [
              0.8888888888888888,
              "#fdca26"
             ],
             [
              1,
              "#f0f921"
             ]
            ],
            "type": "heatmap"
           }
          ],
          "heatmapgl": [
           {
            "colorbar": {
             "outlinewidth": 0,
             "ticks": ""
            },
            "colorscale": [
             [
              0,
              "#0d0887"
             ],
             [
              0.1111111111111111,
              "#46039f"
             ],
             [
              0.2222222222222222,
              "#7201a8"
             ],
             [
              0.3333333333333333,
              "#9c179e"
             ],
             [
              0.4444444444444444,
              "#bd3786"
             ],
             [
              0.5555555555555556,
              "#d8576b"
             ],
             [
              0.6666666666666666,
              "#ed7953"
             ],
             [
              0.7777777777777778,
              "#fb9f3a"
             ],
             [
              0.8888888888888888,
              "#fdca26"
             ],
             [
              1,
              "#f0f921"
             ]
            ],
            "type": "heatmapgl"
           }
          ],
          "histogram": [
           {
            "marker": {
             "colorbar": {
              "outlinewidth": 0,
              "ticks": ""
             }
            },
            "type": "histogram"
           }
          ],
          "histogram2d": [
           {
            "colorbar": {
             "outlinewidth": 0,
             "ticks": ""
            },
            "colorscale": [
             [
              0,
              "#0d0887"
             ],
             [
              0.1111111111111111,
              "#46039f"
             ],
             [
              0.2222222222222222,
              "#7201a8"
             ],
             [
              0.3333333333333333,
              "#9c179e"
             ],
             [
              0.4444444444444444,
              "#bd3786"
             ],
             [
              0.5555555555555556,
              "#d8576b"
             ],
             [
              0.6666666666666666,
              "#ed7953"
             ],
             [
              0.7777777777777778,
              "#fb9f3a"
             ],
             [
              0.8888888888888888,
              "#fdca26"
             ],
             [
              1,
              "#f0f921"
             ]
            ],
            "type": "histogram2d"
           }
          ],
          "histogram2dcontour": [
           {
            "colorbar": {
             "outlinewidth": 0,
             "ticks": ""
            },
            "colorscale": [
             [
              0,
              "#0d0887"
             ],
             [
              0.1111111111111111,
              "#46039f"
             ],
             [
              0.2222222222222222,
              "#7201a8"
             ],
             [
              0.3333333333333333,
              "#9c179e"
             ],
             [
              0.4444444444444444,
              "#bd3786"
             ],
             [
              0.5555555555555556,
              "#d8576b"
             ],
             [
              0.6666666666666666,
              "#ed7953"
             ],
             [
              0.7777777777777778,
              "#fb9f3a"
             ],
             [
              0.8888888888888888,
              "#fdca26"
             ],
             [
              1,
              "#f0f921"
             ]
            ],
            "type": "histogram2dcontour"
           }
          ],
          "mesh3d": [
           {
            "colorbar": {
             "outlinewidth": 0,
             "ticks": ""
            },
            "type": "mesh3d"
           }
          ],
          "parcoords": [
           {
            "line": {
             "colorbar": {
              "outlinewidth": 0,
              "ticks": ""
             }
            },
            "type": "parcoords"
           }
          ],
          "pie": [
           {
            "automargin": true,
            "type": "pie"
           }
          ],
          "scatter": [
           {
            "marker": {
             "colorbar": {
              "outlinewidth": 0,
              "ticks": ""
             }
            },
            "type": "scatter"
           }
          ],
          "scatter3d": [
           {
            "line": {
             "colorbar": {
              "outlinewidth": 0,
              "ticks": ""
             }
            },
            "marker": {
             "colorbar": {
              "outlinewidth": 0,
              "ticks": ""
             }
            },
            "type": "scatter3d"
           }
          ],
          "scattercarpet": [
           {
            "marker": {
             "colorbar": {
              "outlinewidth": 0,
              "ticks": ""
             }
            },
            "type": "scattercarpet"
           }
          ],
          "scattergeo": [
           {
            "marker": {
             "colorbar": {
              "outlinewidth": 0,
              "ticks": ""
             }
            },
            "type": "scattergeo"
           }
          ],
          "scattergl": [
           {
            "marker": {
             "colorbar": {
              "outlinewidth": 0,
              "ticks": ""
             }
            },
            "type": "scattergl"
           }
          ],
          "scattermapbox": [
           {
            "marker": {
             "colorbar": {
              "outlinewidth": 0,
              "ticks": ""
             }
            },
            "type": "scattermapbox"
           }
          ],
          "scatterpolar": [
           {
            "marker": {
             "colorbar": {
              "outlinewidth": 0,
              "ticks": ""
             }
            },
            "type": "scatterpolar"
           }
          ],
          "scatterpolargl": [
           {
            "marker": {
             "colorbar": {
              "outlinewidth": 0,
              "ticks": ""
             }
            },
            "type": "scatterpolargl"
           }
          ],
          "scatterternary": [
           {
            "marker": {
             "colorbar": {
              "outlinewidth": 0,
              "ticks": ""
             }
            },
            "type": "scatterternary"
           }
          ],
          "surface": [
           {
            "colorbar": {
             "outlinewidth": 0,
             "ticks": ""
            },
            "colorscale": [
             [
              0,
              "#0d0887"
             ],
             [
              0.1111111111111111,
              "#46039f"
             ],
             [
              0.2222222222222222,
              "#7201a8"
             ],
             [
              0.3333333333333333,
              "#9c179e"
             ],
             [
              0.4444444444444444,
              "#bd3786"
             ],
             [
              0.5555555555555556,
              "#d8576b"
             ],
             [
              0.6666666666666666,
              "#ed7953"
             ],
             [
              0.7777777777777778,
              "#fb9f3a"
             ],
             [
              0.8888888888888888,
              "#fdca26"
             ],
             [
              1,
              "#f0f921"
             ]
            ],
            "type": "surface"
           }
          ],
          "table": [
           {
            "cells": {
             "fill": {
              "color": "#EBF0F8"
             },
             "line": {
              "color": "white"
             }
            },
            "header": {
             "fill": {
              "color": "#C8D4E3"
             },
             "line": {
              "color": "white"
             }
            },
            "type": "table"
           }
          ]
         },
         "layout": {
          "annotationdefaults": {
           "arrowcolor": "#2a3f5f",
           "arrowhead": 0,
           "arrowwidth": 1
          },
          "coloraxis": {
           "colorbar": {
            "outlinewidth": 0,
            "ticks": ""
           }
          },
          "colorscale": {
           "diverging": [
            [
             0,
             "#8e0152"
            ],
            [
             0.1,
             "#c51b7d"
            ],
            [
             0.2,
             "#de77ae"
            ],
            [
             0.3,
             "#f1b6da"
            ],
            [
             0.4,
             "#fde0ef"
            ],
            [
             0.5,
             "#f7f7f7"
            ],
            [
             0.6,
             "#e6f5d0"
            ],
            [
             0.7,
             "#b8e186"
            ],
            [
             0.8,
             "#7fbc41"
            ],
            [
             0.9,
             "#4d9221"
            ],
            [
             1,
             "#276419"
            ]
           ],
           "sequential": [
            [
             0,
             "#0d0887"
            ],
            [
             0.1111111111111111,
             "#46039f"
            ],
            [
             0.2222222222222222,
             "#7201a8"
            ],
            [
             0.3333333333333333,
             "#9c179e"
            ],
            [
             0.4444444444444444,
             "#bd3786"
            ],
            [
             0.5555555555555556,
             "#d8576b"
            ],
            [
             0.6666666666666666,
             "#ed7953"
            ],
            [
             0.7777777777777778,
             "#fb9f3a"
            ],
            [
             0.8888888888888888,
             "#fdca26"
            ],
            [
             1,
             "#f0f921"
            ]
           ],
           "sequentialminus": [
            [
             0,
             "#0d0887"
            ],
            [
             0.1111111111111111,
             "#46039f"
            ],
            [
             0.2222222222222222,
             "#7201a8"
            ],
            [
             0.3333333333333333,
             "#9c179e"
            ],
            [
             0.4444444444444444,
             "#bd3786"
            ],
            [
             0.5555555555555556,
             "#d8576b"
            ],
            [
             0.6666666666666666,
             "#ed7953"
            ],
            [
             0.7777777777777778,
             "#fb9f3a"
            ],
            [
             0.8888888888888888,
             "#fdca26"
            ],
            [
             1,
             "#f0f921"
            ]
           ]
          },
          "colorway": [
           "#636efa",
           "#EF553B",
           "#00cc96",
           "#ab63fa",
           "#FFA15A",
           "#19d3f3",
           "#FF6692",
           "#B6E880",
           "#FF97FF",
           "#FECB52"
          ],
          "font": {
           "color": "#2a3f5f"
          },
          "geo": {
           "bgcolor": "white",
           "lakecolor": "white",
           "landcolor": "#E5ECF6",
           "showlakes": true,
           "showland": true,
           "subunitcolor": "white"
          },
          "hoverlabel": {
           "align": "left"
          },
          "hovermode": "closest",
          "mapbox": {
           "style": "light"
          },
          "paper_bgcolor": "white",
          "plot_bgcolor": "#E5ECF6",
          "polar": {
           "angularaxis": {
            "gridcolor": "white",
            "linecolor": "white",
            "ticks": ""
           },
           "bgcolor": "#E5ECF6",
           "radialaxis": {
            "gridcolor": "white",
            "linecolor": "white",
            "ticks": ""
           }
          },
          "scene": {
           "xaxis": {
            "backgroundcolor": "#E5ECF6",
            "gridcolor": "white",
            "gridwidth": 2,
            "linecolor": "white",
            "showbackground": true,
            "ticks": "",
            "zerolinecolor": "white"
           },
           "yaxis": {
            "backgroundcolor": "#E5ECF6",
            "gridcolor": "white",
            "gridwidth": 2,
            "linecolor": "white",
            "showbackground": true,
            "ticks": "",
            "zerolinecolor": "white"
           },
           "zaxis": {
            "backgroundcolor": "#E5ECF6",
            "gridcolor": "white",
            "gridwidth": 2,
            "linecolor": "white",
            "showbackground": true,
            "ticks": "",
            "zerolinecolor": "white"
           }
          },
          "shapedefaults": {
           "line": {
            "color": "#2a3f5f"
           }
          },
          "ternary": {
           "aaxis": {
            "gridcolor": "white",
            "linecolor": "white",
            "ticks": ""
           },
           "baxis": {
            "gridcolor": "white",
            "linecolor": "white",
            "ticks": ""
           },
           "bgcolor": "#E5ECF6",
           "caxis": {
            "gridcolor": "white",
            "linecolor": "white",
            "ticks": ""
           }
          },
          "title": {
           "x": 0.05
          },
          "xaxis": {
           "automargin": true,
           "gridcolor": "white",
           "linecolor": "white",
           "ticks": "",
           "title": {
            "standoff": 15
           },
           "zerolinecolor": "white",
           "zerolinewidth": 2
          },
          "yaxis": {
           "automargin": true,
           "gridcolor": "white",
           "linecolor": "white",
           "ticks": "",
           "title": {
            "standoff": 15
           },
           "zerolinecolor": "white",
           "zerolinewidth": 2
          }
         }
        },
        "title": {
         "text": "Distribution of Conflicts Over Social Media"
        },
        "xaxis": {
         "anchor": "y",
         "domain": [
          0,
          1
         ],
         "title": {
          "text": "Number of Conflicts"
         }
        },
        "yaxis": {
         "anchor": "x",
         "domain": [
          0,
          1
         ],
         "title": {
          "text": "Number of Students"
         }
        }
       }
      }
     },
     "metadata": {},
     "output_type": "display_data"
    }
   ],
   "source": [
    "# Get value counts first\n",
    "conflict_counts = (\n",
    "    student_df['conflicts_over_social_media']\n",
    "    .value_counts()\n",
    "    .sort_index()\n",
    ")\n",
    "\n",
    "print(\"Conflicts Over Social Media:\")\n",
    "print(conflict_counts)\n",
    "\n",
    "# Bar-friendly DataFrame\n",
    "conflict_df = conflict_counts.reset_index()\n",
    "conflict_df.columns = ['conflict_level', 'count']\n",
    "\n",
    "# Plot figure\n",
    "fig = px.bar(\n",
    "    conflict_df,\n",
    "    x = 'conflict_level',\n",
    "    y = 'count',\n",
    "    text = 'count',\n",
    "    color_discrete_sequence=['#F1948A'], \n",
    "    title = 'Distribution of Conflicts Over Social Media'\n",
    ")\n",
    "\n",
    "fig.update_layout(\n",
    "    xaxis_title = 'Number of Conflicts',\n",
    "    yaxis_title = 'Number of Students',\n",
    "    font = dict(family = 'Lato', size = 14),\n",
    "    plot_bgcolor = '#FDFEFE',\n",
    "    paper_bgcolor = '#FBFCFC',\n",
    "    showlegend = False\n",
    ")\n",
    "\n",
    "fig.update_traces(\n",
    "    textposition = 'outside',\n",
    "    hovertemplate = 'Conflicts: %{x}<br>Students: %{y}<extra></extra>',\n",
    "    marker_line_color = 'white',\n",
    "    marker_line_width = 1\n",
    ")\n",
    "\n",
    "fig.show()"
   ]
  },
  {
   "cell_type": "markdown",
   "id": "4d4d3c88",
   "metadata": {},
   "source": [
    ">When asked how often social media causes interpersonal conflict (rated from 0 to 5), students responded as follows:\n",
    "\n",
    ">**Most students reported moderate conflict levels:**\n",
    "  - **3**: 261 students (**37%**)\n",
    "  - **2**: 204 students (**29%**)\n",
    "  - **4**: 174 students (**25%**)\n",
    ">Smaller groups landed at the extremes:\n",
    "  - **1**: 47 students\n",
    "  - **0 (No conflicts)**: only 4 students\n",
    "  - **5 (Constant conflict)**: 15 students\n",
    "\n",
    ">**Observation:** This tells us that **social media conflict is a normalized experience**, with over 90% of students reporting **at least some tension** tied to their online presence. Very few experience social media as a strictly conflict-free zone.\n",
    "\n",
    ">**Implication:** This metric should be closely evaluated alongside 'relationship_status', 'most_used_platform', and 'mental_health_score'. High-conflict users may also show signs of elevated stress, compromised focus, or digital fatigue — particularly if their platform engagement leans toward highly interactive apps like Instagram or TikTok."
   ]
  },
  {
   "cell_type": "markdown",
   "id": "b96452df",
   "metadata": {},
   "source": [
    "## 12. Addicted Score\n",
    "Welcome to the self-checkout lane for digital dependency.\n",
    "\n",
    "The addiction score is where students confront their own habits- or at least try to. It's a scale that reflects how \"in too deep\" they feel with social media, whether they’re refreshing out of boredom, anxiety, or habit.\n",
    "\n",
    "From the mildly aware to the fully hooked, this metric helps us spot who’s in control of their scroll... and who’s being controlled by it.\n",
    "\n",
    "Let’s see how tethered these students feel to their feeds."
   ]
  },
  {
   "cell_type": "code",
   "execution_count": 65,
   "id": "7dbc6615",
   "metadata": {},
   "outputs": [
    {
     "name": "stdout",
     "output_type": "stream",
     "text": [
      "Social Media Addiction Score:\n",
      "2      1\n",
      "3     16\n",
      "4     83\n",
      "5    136\n",
      "6     61\n",
      "7    209\n",
      "8    144\n",
      "9     55\n",
      "Name: addicted_score, dtype: int64\n"
     ]
    },
    {
     "data": {
      "application/vnd.plotly.v1+json": {
       "config": {
        "plotlyServerURL": "https://plot.ly"
       },
       "data": [
        {
         "hovertemplate": "Score: %{x}<br>Students: %{y}<extra></extra>",
         "marker": {
          "color": "#F8C471"
         },
         "name": "Students",
         "nbinsx": 10,
         "opacity": 0.7,
         "type": "histogram",
         "x": [
          8,
          3,
          9,
          4,
          7,
          9,
          2,
          8,
          5,
          4,
          7,
          8,
          4,
          9,
          5,
          7,
          3,
          8,
          5,
          7,
          8,
          4,
          7,
          8,
          5,
          9,
          5,
          7,
          3,
          8,
          5,
          7,
          8,
          4,
          7,
          8,
          5,
          9,
          6,
          7,
          4,
          8,
          5,
          7,
          8,
          4,
          7,
          8,
          5,
          9,
          6,
          7,
          4,
          8,
          5,
          7,
          8,
          4,
          7,
          8,
          5,
          8,
          7,
          9,
          3,
          7,
          6,
          8,
          4,
          7,
          8,
          5,
          7,
          8,
          4,
          7,
          8,
          5,
          7,
          9,
          4,
          7,
          6,
          4,
          8,
          7,
          8,
          4,
          7,
          9,
          5,
          7,
          6,
          8,
          4,
          7,
          8,
          4,
          7,
          8,
          9,
          4,
          7,
          8,
          5,
          7,
          6,
          8,
          4,
          7,
          8,
          7,
          5,
          8,
          7,
          5,
          8,
          7,
          5,
          8,
          7,
          5,
          8,
          7,
          5,
          8,
          7,
          5,
          8,
          7,
          5,
          8,
          7,
          5,
          8,
          7,
          5,
          8,
          7,
          5,
          8,
          7,
          5,
          8,
          7,
          5,
          8,
          7,
          5,
          8,
          7,
          5,
          8,
          7,
          5,
          8,
          7,
          5,
          8,
          7,
          7,
          6,
          8,
          7,
          5,
          8,
          7,
          6,
          8,
          7,
          5,
          8,
          7,
          6,
          8,
          7,
          5,
          8,
          7,
          6,
          8,
          7,
          5,
          8,
          7,
          6,
          8,
          7,
          5,
          8,
          7,
          6,
          8,
          7,
          5,
          8,
          7,
          6,
          8,
          7,
          5,
          8,
          7,
          6,
          8,
          7,
          5,
          8,
          7,
          6,
          8,
          7,
          5,
          8,
          7,
          6,
          8,
          7,
          5,
          8,
          9,
          7,
          5,
          4,
          3,
          7,
          6,
          5,
          9,
          7,
          5,
          4,
          3,
          8,
          6,
          5,
          9,
          7,
          5,
          4,
          3,
          7,
          6,
          5,
          9,
          7,
          5,
          4,
          3,
          8,
          6,
          5,
          9,
          7,
          5,
          4,
          3,
          7,
          6,
          5,
          9,
          7,
          5,
          4,
          3,
          8,
          6,
          5,
          9,
          7,
          5,
          4,
          3,
          7,
          6,
          5,
          9,
          7,
          5,
          4,
          3,
          8,
          6,
          5,
          9,
          7,
          5,
          4,
          3,
          7,
          6,
          5,
          9,
          7,
          5,
          4,
          3,
          8,
          6,
          5,
          9,
          7,
          5,
          4,
          3,
          7,
          6,
          5,
          9,
          7,
          5,
          4,
          3,
          8,
          6,
          5,
          9,
          7,
          5,
          4,
          7,
          4,
          6,
          8,
          4,
          7,
          9,
          7,
          5,
          7,
          7,
          4,
          6,
          8,
          4,
          7,
          9,
          7,
          5,
          7,
          7,
          4,
          6,
          8,
          4,
          7,
          9,
          7,
          5,
          7,
          7,
          4,
          6,
          8,
          4,
          7,
          9,
          7,
          5,
          7,
          7,
          4,
          6,
          8,
          4,
          7,
          9,
          7,
          5,
          7,
          7,
          4,
          6,
          8,
          4,
          7,
          9,
          7,
          5,
          7,
          7,
          4,
          6,
          8,
          4,
          7,
          9,
          7,
          5,
          7,
          7,
          4,
          6,
          8,
          4,
          7,
          9,
          7,
          5,
          7,
          7,
          4,
          6,
          8,
          4,
          7,
          9,
          7,
          5,
          7,
          7,
          4,
          6,
          8,
          4,
          7,
          9,
          7,
          5,
          7,
          7,
          4,
          6,
          8,
          4,
          7,
          9,
          7,
          5,
          7,
          7,
          4,
          6,
          8,
          4,
          7,
          9,
          7,
          5,
          7,
          7,
          4,
          6,
          8,
          4,
          7,
          9,
          7,
          5,
          7,
          7,
          4,
          6,
          8,
          4,
          7,
          9,
          7,
          5,
          7,
          7,
          4,
          6,
          8,
          4,
          7,
          9,
          7,
          5,
          7,
          7,
          4,
          6,
          8,
          4,
          7,
          9,
          7,
          5,
          7,
          7,
          4,
          6,
          8,
          4,
          7,
          9,
          7,
          5,
          7,
          7,
          4,
          6,
          8,
          4,
          7,
          9,
          7,
          5,
          7,
          7,
          5,
          4,
          6,
          7,
          7,
          8,
          5,
          8,
          6,
          7,
          5,
          4,
          6,
          7,
          7,
          8,
          5,
          8,
          6,
          7,
          5,
          4,
          6,
          7,
          7,
          8,
          5,
          8,
          6,
          7,
          5,
          4,
          6,
          7,
          7,
          8,
          5,
          8,
          6,
          7,
          5,
          4,
          6,
          7,
          7,
          8,
          5,
          8,
          6,
          7,
          5,
          4,
          6,
          7,
          7,
          8,
          5,
          8,
          6,
          7,
          5,
          4,
          6,
          7,
          7,
          8,
          5,
          8,
          6,
          7,
          4,
          8,
          9,
          5,
          8,
          7,
          8,
          5,
          6,
          8,
          5,
          8,
          7,
          4,
          8,
          5,
          8,
          5,
          7,
          9,
          5,
          8,
          7,
          8,
          7,
          5,
          8,
          5,
          8,
          7,
          4,
          8,
          5,
          8,
          5,
          7,
          9,
          5,
          8,
          7,
          8,
          5,
          7,
          8,
          5,
          9,
          7,
          4,
          8,
          5,
          8,
          5,
          7,
          9,
          5,
          8,
          7,
          8,
          5,
          7,
          8,
          5,
          9,
          7,
          4,
          8,
          5,
          8,
          5,
          7,
          9,
          5,
          8,
          7,
          8,
          5,
          7,
          8,
          5,
          9,
          7,
          4,
          8,
          5,
          8,
          5,
          7,
          9,
          5,
          8,
          7,
          8,
          5,
          7,
          8,
          5,
          9,
          7,
          4,
          8,
          5,
          8,
          5,
          7,
          9,
          5,
          8,
          7,
          8,
          5,
          7,
          8,
          5,
          9,
          7,
          4,
          8,
          5,
          8,
          5,
          7,
          9,
          5,
          8,
          7,
          8,
          5,
          7,
          8,
          5,
          9,
          7,
          4,
          8
         ]
        },
        {
         "hovertemplate": "Score: %{x:.2f}<br>Estimated: %{y:.0f}<extra></extra>",
         "line": {
          "color": "#CA6F1E",
          "width": 3
         },
         "mode": "lines",
         "name": "KDE Curve",
         "type": "scatter",
         "x": [
          1.3586789500461136,
          1.4003002671310774,
          1.4419215842160409,
          1.4835429013010046,
          1.5251642183859684,
          1.566785535470932,
          1.6084068525558957,
          1.6500281696408594,
          1.6916494867258232,
          1.7332708038107867,
          1.7748921208957504,
          1.816513437980714,
          1.8581347550656777,
          1.8997560721506415,
          1.9413773892356052,
          1.982998706320569,
          2.0246200234055323,
          2.066241340490496,
          2.1078626575754598,
          2.1494839746604235,
          2.1911052917453873,
          2.232726608830351,
          2.2743479259153148,
          2.3159692430002785,
          2.357590560085242,
          2.3992118771702056,
          2.4408331942551693,
          2.482454511340133,
          2.5240758284250964,
          2.56569714551006,
          2.607318462595024,
          2.6489397796799876,
          2.6905610967649514,
          2.732182413849915,
          2.773803730934879,
          2.8154250480198426,
          2.8570463651048064,
          2.8986676821897697,
          2.9402889992747334,
          2.981910316359697,
          3.023531633444661,
          3.065152950529624,
          3.106774267614588,
          3.1483955846995517,
          3.1900169017845155,
          3.231638218869479,
          3.273259535954443,
          3.3148808530394067,
          3.3565021701243705,
          3.3981234872093338,
          3.4397448042942975,
          3.4813661213792613,
          3.522987438464225,
          3.5646087555491888,
          3.6062300726341525,
          3.647851389719116,
          3.6894727068040796,
          3.7310940238890433,
          3.772715340974007,
          3.814336658058971,
          3.8559579751439346,
          3.897579292228898,
          3.9392006093138616,
          3.9808219263988254,
          4.022443243483789,
          4.064064560568752,
          4.105685877653716,
          4.14730719473868,
          4.188928511823644,
          4.230549828908607,
          4.272171145993571,
          4.313792463078535,
          4.355413780163499,
          4.397035097248462,
          4.438656414333426,
          4.48027773141839,
          4.521899048503354,
          4.563520365588317,
          4.605141682673281,
          4.646762999758245,
          4.688384316843209,
          4.7300056339281715,
          4.771626951013135,
          4.813248268098099,
          4.854869585183063,
          4.8964909022680265,
          4.93811221935299,
          4.979733536437953,
          5.021354853522917,
          5.062976170607881,
          5.104597487692844,
          5.146218804777808,
          5.187840121862772,
          5.229461438947736,
          5.271082756032699,
          5.312704073117663,
          5.354325390202627,
          5.395946707287591,
          5.437568024372554,
          5.479189341457518,
          5.520810658542482,
          5.562431975627446,
          5.604053292712409,
          5.645674609797373,
          5.687295926882337,
          5.728917243967301,
          5.770538561052264,
          5.812159878137228,
          5.853781195222192,
          5.895402512307154,
          5.937023829392118,
          5.978645146477081,
          6.020266463562045,
          6.061887780647009,
          6.103509097731973,
          6.145130414816936,
          6.1867517319019,
          6.228373048986864,
          6.269994366071828,
          6.311615683156791,
          6.353237000241755,
          6.394858317326719,
          6.436479634411683,
          6.478100951496646,
          6.51972226858161,
          6.561343585666574,
          6.602964902751538,
          6.644586219836501,
          6.686207536921465,
          6.727828854006429,
          6.769450171091393,
          6.811071488176356,
          6.85269280526132,
          6.894314122346284,
          6.935935439431248,
          6.9775567565162095,
          7.019178073601173,
          7.060799390686137,
          7.102420707771101,
          7.1440420248560645,
          7.185663341941028,
          7.227284659025992,
          7.268905976110956,
          7.3105272931959195,
          7.352148610280883,
          7.393769927365847,
          7.435391244450811,
          7.4770125615357745,
          7.518633878620738,
          7.560255195705702,
          7.601876512790666,
          7.6434978298756295,
          7.685119146960593,
          7.726740464045557,
          7.768361781130521,
          7.8099830982154845,
          7.851604415300448,
          7.893225732385412,
          7.934847049470376,
          7.9764683665553395,
          8.018089683640303,
          8.059711000725265,
          8.101332317810229,
          8.142953634895193,
          8.184574951980156,
          8.22619626906512,
          8.267817586150084,
          8.309438903235048,
          8.351060220320011,
          8.392681537404975,
          8.434302854489939,
          8.475924171574903,
          8.517545488659866,
          8.55916680574483,
          8.600788122829794,
          8.642409439914758,
          8.684030756999721,
          8.725652074084685,
          8.767273391169649,
          8.808894708254613,
          8.850516025339576,
          8.89213734242454,
          8.933758659509504,
          8.975379976594468,
          9.017001293679431,
          9.058622610764395,
          9.100243927849357,
          9.141865244934321,
          9.183486562019285,
          9.225107879104248,
          9.266729196189212,
          9.308350513274176,
          9.34997183035914,
          9.391593147444103,
          9.433214464529067,
          9.474835781614031,
          9.516457098698995,
          9.558078415783958,
          9.599699732868922,
          9.641321049953886
         ],
         "y": [
          0.014512047698824452,
          0.02553677669198844,
          0.0432653795353602,
          0.07057518326881915,
          0.11084103435800305,
          0.16760469721918794,
          0.24401069801803438,
          0.34203348597202277,
          0.4615996756368711,
          0.5997904531579624,
          0.7503622536267519,
          0.9038164887895516,
          1.0481623876523092,
          1.170358315355262,
          1.2582251770498305,
          1.3024626276337774,
          1.2983284658358012,
          1.2466029592415269,
          1.153648244481255,
          1.030637277022811,
          0.8922859577292034,
          0.7555930524834389,
          0.6391174261661157,
          0.563182519056945,
          0.5511137546907744,
          0.6312332793591777,
          0.8389247010858838,
          1.2177241032526438,
          1.818202716988527,
          2.693511023139533,
          3.8909709943828164,
          5.440072795758601,
          7.338539649889813,
          9.539453011166353,
          11.943296461994318,
          14.398674961531208,
          16.714091334863205,
          18.68062392264249,
          20.102257176282755,
          20.82794903888798,
          20.77828711642853,
          19.960416927536098,
          18.467751623253946,
          16.46499034833969,
          14.162916469276539,
          11.790061095336602,
          9.568811626672156,
          7.701836593595568,
          6.371354656163076,
          5.749735741753454,
          6.016165694299447,
          7.371440275143603,
          10.041974414057137,
          14.26525050492226,
          20.252444687955823,
          28.129767323063533,
          37.86737042263591,
          49.21184651295658,
          61.64293617190689,
          74.37454391806854,
          86.41300818372532,
          96.67234889194452,
          104.13004516951051,
          107.99281068425759,
          107.83507757518434,
          103.67676294356102,
          95.98108916507798,
          85.57366950837466,
          73.5042606678351,
          60.886100295405086,
          48.75066056302791,
          37.947817090528986,
          29.10617995380063,
          22.650825246929593,
          18.860879840715977,
          17.940647840101995,
          20.07639079488879,
          25.455968130657112,
          34.23888887365365,
          46.47809842403735,
          62.00978048276987,
          80.3406346276864,
          100.5698200165892,
          121.38141512788218,
          141.13079291053882,
          158.02593773581657,
          170.37760628140367,
          176.86856612819594,
          176.78048531613626,
          170.12281169123594,
          157.63079002073545,
          140.63300788773336,
          120.82195293075021,
          99.98348208237812,
          79.74640257434115,
          61.40136129050982,
          45.81451023396929,
          33.434574340767846,
          24.370142603632324,
          18.502238704459867,
          15.59644757022787,
          15.386769879535208,
          17.616098960535528,
          22.031993522159027,
          28.348429443824493,
          36.192631445941295,
          45.05975618786398,
          54.29643393750538,
          63.12696102946363,
          70.72440270394692,
          76.31559435071588,
          79.29771748722763,
          79.33852601068538,
          76.43475652335232,
          70.9135626815548,
          63.376987615204214,
          54.60474240875268,
          45.44105824906002,
          36.694018509683445,
          29.07016907665301,
          23.155526435690867,
          19.439998726054903,
          18.36944006259724,
          20.400902778549085,
          26.03377230994271,
          35.79305440621762,
          50.15115963692854,
          69.39032854360165,
          93.427211605874,
          121.63994045780457,
          152.7503784337484,
          184.81386934606775,
          215.35175741238953,
          241.62930797967374,
          261.040848232021,
          271.5273961701256,
          271.9330770041744,
          262.2140461300551,
          243.44746899711876,
          217.6386995373478,
          187.37608511052042,
          155.41845485255277,
          124.30992789671646,
          96.09933667658738,
          72.20540537079737,
          53.426918023537894,
          40.06214631372647,
          32.08193016426653,
          29.29809871692247,
          31.480502917881466,
          38.396429281468116,
          49.769999134934,
          65.18167420289441,
          83.94542333958023,
          105.0101579718947,
          126.92997068402642,
          147.9333022373932,
          166.0961687766532,
          179.59454609658223,
          186.98450684134107,
          187.44476682754865,
          180.92085431219084,
          168.13314037809505,
          150.4458206891205,
          129.62954758094193,
          107.57544923514313,
          86.02546747687884,
          66.37258585514849,
          49.560136784288204,
          36.080991252950255,
          26.05383952374772,
          19.34056393722808,
          15.667153261749556,
          14.718389009547128,
          16.189538969786707,
          19.792425262221958,
          25.225451408003046,
          32.12563982364976,
          40.024462484538155,
          48.32778808512147,
          56.3337455658846,
          63.291784731662254,
          68.49399082749969,
          71.37906826022939,
          71.62374079504448,
          69.19783667141652,
          64.368005709052,
          57.648318345067274,
          49.709694286394566,
          41.26985295768408,
          32.98845209946087,
          25.38797509488261,
          18.81183962282582,
          13.420587786789742,
          9.218258180131489,
          6.096256845289335,
          3.881635068414029,
          2.3795958716410177,
          1.4045227173937531,
          0.7981626232832195
         ]
        }
       ],
       "layout": {
        "annotations": [
         {
          "arrowhead": 2,
          "ax": 0,
          "ay": -40,
          "bgcolor": "white",
          "font": {
           "color": "black"
          },
          "showarrow": true,
          "text": "Mode: 7.0",
          "x": 7.019178073601173,
          "y": 271.9330770041744
         }
        ],
        "bargap": 0.05,
        "font": {
         "family": "Lato",
         "size": 14
        },
        "paper_bgcolor": "#FBFCFC",
        "plot_bgcolor": "#FDFEFE",
        "showlegend": true,
        "template": {
         "data": {
          "bar": [
           {
            "error_x": {
             "color": "#2a3f5f"
            },
            "error_y": {
             "color": "#2a3f5f"
            },
            "marker": {
             "line": {
              "color": "#E5ECF6",
              "width": 0.5
             }
            },
            "type": "bar"
           }
          ],
          "barpolar": [
           {
            "marker": {
             "line": {
              "color": "#E5ECF6",
              "width": 0.5
             }
            },
            "type": "barpolar"
           }
          ],
          "carpet": [
           {
            "aaxis": {
             "endlinecolor": "#2a3f5f",
             "gridcolor": "white",
             "linecolor": "white",
             "minorgridcolor": "white",
             "startlinecolor": "#2a3f5f"
            },
            "baxis": {
             "endlinecolor": "#2a3f5f",
             "gridcolor": "white",
             "linecolor": "white",
             "minorgridcolor": "white",
             "startlinecolor": "#2a3f5f"
            },
            "type": "carpet"
           }
          ],
          "choropleth": [
           {
            "colorbar": {
             "outlinewidth": 0,
             "ticks": ""
            },
            "type": "choropleth"
           }
          ],
          "contour": [
           {
            "colorbar": {
             "outlinewidth": 0,
             "ticks": ""
            },
            "colorscale": [
             [
              0,
              "#0d0887"
             ],
             [
              0.1111111111111111,
              "#46039f"
             ],
             [
              0.2222222222222222,
              "#7201a8"
             ],
             [
              0.3333333333333333,
              "#9c179e"
             ],
             [
              0.4444444444444444,
              "#bd3786"
             ],
             [
              0.5555555555555556,
              "#d8576b"
             ],
             [
              0.6666666666666666,
              "#ed7953"
             ],
             [
              0.7777777777777778,
              "#fb9f3a"
             ],
             [
              0.8888888888888888,
              "#fdca26"
             ],
             [
              1,
              "#f0f921"
             ]
            ],
            "type": "contour"
           }
          ],
          "contourcarpet": [
           {
            "colorbar": {
             "outlinewidth": 0,
             "ticks": ""
            },
            "type": "contourcarpet"
           }
          ],
          "heatmap": [
           {
            "colorbar": {
             "outlinewidth": 0,
             "ticks": ""
            },
            "colorscale": [
             [
              0,
              "#0d0887"
             ],
             [
              0.1111111111111111,
              "#46039f"
             ],
             [
              0.2222222222222222,
              "#7201a8"
             ],
             [
              0.3333333333333333,
              "#9c179e"
             ],
             [
              0.4444444444444444,
              "#bd3786"
             ],
             [
              0.5555555555555556,
              "#d8576b"
             ],
             [
              0.6666666666666666,
              "#ed7953"
             ],
             [
              0.7777777777777778,
              "#fb9f3a"
             ],
             [
              0.8888888888888888,
              "#fdca26"
             ],
             [
              1,
              "#f0f921"
             ]
            ],
            "type": "heatmap"
           }
          ],
          "heatmapgl": [
           {
            "colorbar": {
             "outlinewidth": 0,
             "ticks": ""
            },
            "colorscale": [
             [
              0,
              "#0d0887"
             ],
             [
              0.1111111111111111,
              "#46039f"
             ],
             [
              0.2222222222222222,
              "#7201a8"
             ],
             [
              0.3333333333333333,
              "#9c179e"
             ],
             [
              0.4444444444444444,
              "#bd3786"
             ],
             [
              0.5555555555555556,
              "#d8576b"
             ],
             [
              0.6666666666666666,
              "#ed7953"
             ],
             [
              0.7777777777777778,
              "#fb9f3a"
             ],
             [
              0.8888888888888888,
              "#fdca26"
             ],
             [
              1,
              "#f0f921"
             ]
            ],
            "type": "heatmapgl"
           }
          ],
          "histogram": [
           {
            "marker": {
             "colorbar": {
              "outlinewidth": 0,
              "ticks": ""
             }
            },
            "type": "histogram"
           }
          ],
          "histogram2d": [
           {
            "colorbar": {
             "outlinewidth": 0,
             "ticks": ""
            },
            "colorscale": [
             [
              0,
              "#0d0887"
             ],
             [
              0.1111111111111111,
              "#46039f"
             ],
             [
              0.2222222222222222,
              "#7201a8"
             ],
             [
              0.3333333333333333,
              "#9c179e"
             ],
             [
              0.4444444444444444,
              "#bd3786"
             ],
             [
              0.5555555555555556,
              "#d8576b"
             ],
             [
              0.6666666666666666,
              "#ed7953"
             ],
             [
              0.7777777777777778,
              "#fb9f3a"
             ],
             [
              0.8888888888888888,
              "#fdca26"
             ],
             [
              1,
              "#f0f921"
             ]
            ],
            "type": "histogram2d"
           }
          ],
          "histogram2dcontour": [
           {
            "colorbar": {
             "outlinewidth": 0,
             "ticks": ""
            },
            "colorscale": [
             [
              0,
              "#0d0887"
             ],
             [
              0.1111111111111111,
              "#46039f"
             ],
             [
              0.2222222222222222,
              "#7201a8"
             ],
             [
              0.3333333333333333,
              "#9c179e"
             ],
             [
              0.4444444444444444,
              "#bd3786"
             ],
             [
              0.5555555555555556,
              "#d8576b"
             ],
             [
              0.6666666666666666,
              "#ed7953"
             ],
             [
              0.7777777777777778,
              "#fb9f3a"
             ],
             [
              0.8888888888888888,
              "#fdca26"
             ],
             [
              1,
              "#f0f921"
             ]
            ],
            "type": "histogram2dcontour"
           }
          ],
          "mesh3d": [
           {
            "colorbar": {
             "outlinewidth": 0,
             "ticks": ""
            },
            "type": "mesh3d"
           }
          ],
          "parcoords": [
           {
            "line": {
             "colorbar": {
              "outlinewidth": 0,
              "ticks": ""
             }
            },
            "type": "parcoords"
           }
          ],
          "pie": [
           {
            "automargin": true,
            "type": "pie"
           }
          ],
          "scatter": [
           {
            "marker": {
             "colorbar": {
              "outlinewidth": 0,
              "ticks": ""
             }
            },
            "type": "scatter"
           }
          ],
          "scatter3d": [
           {
            "line": {
             "colorbar": {
              "outlinewidth": 0,
              "ticks": ""
             }
            },
            "marker": {
             "colorbar": {
              "outlinewidth": 0,
              "ticks": ""
             }
            },
            "type": "scatter3d"
           }
          ],
          "scattercarpet": [
           {
            "marker": {
             "colorbar": {
              "outlinewidth": 0,
              "ticks": ""
             }
            },
            "type": "scattercarpet"
           }
          ],
          "scattergeo": [
           {
            "marker": {
             "colorbar": {
              "outlinewidth": 0,
              "ticks": ""
             }
            },
            "type": "scattergeo"
           }
          ],
          "scattergl": [
           {
            "marker": {
             "colorbar": {
              "outlinewidth": 0,
              "ticks": ""
             }
            },
            "type": "scattergl"
           }
          ],
          "scattermapbox": [
           {
            "marker": {
             "colorbar": {
              "outlinewidth": 0,
              "ticks": ""
             }
            },
            "type": "scattermapbox"
           }
          ],
          "scatterpolar": [
           {
            "marker": {
             "colorbar": {
              "outlinewidth": 0,
              "ticks": ""
             }
            },
            "type": "scatterpolar"
           }
          ],
          "scatterpolargl": [
           {
            "marker": {
             "colorbar": {
              "outlinewidth": 0,
              "ticks": ""
             }
            },
            "type": "scatterpolargl"
           }
          ],
          "scatterternary": [
           {
            "marker": {
             "colorbar": {
              "outlinewidth": 0,
              "ticks": ""
             }
            },
            "type": "scatterternary"
           }
          ],
          "surface": [
           {
            "colorbar": {
             "outlinewidth": 0,
             "ticks": ""
            },
            "colorscale": [
             [
              0,
              "#0d0887"
             ],
             [
              0.1111111111111111,
              "#46039f"
             ],
             [
              0.2222222222222222,
              "#7201a8"
             ],
             [
              0.3333333333333333,
              "#9c179e"
             ],
             [
              0.4444444444444444,
              "#bd3786"
             ],
             [
              0.5555555555555556,
              "#d8576b"
             ],
             [
              0.6666666666666666,
              "#ed7953"
             ],
             [
              0.7777777777777778,
              "#fb9f3a"
             ],
             [
              0.8888888888888888,
              "#fdca26"
             ],
             [
              1,
              "#f0f921"
             ]
            ],
            "type": "surface"
           }
          ],
          "table": [
           {
            "cells": {
             "fill": {
              "color": "#EBF0F8"
             },
             "line": {
              "color": "white"
             }
            },
            "header": {
             "fill": {
              "color": "#C8D4E3"
             },
             "line": {
              "color": "white"
             }
            },
            "type": "table"
           }
          ]
         },
         "layout": {
          "annotationdefaults": {
           "arrowcolor": "#2a3f5f",
           "arrowhead": 0,
           "arrowwidth": 1
          },
          "coloraxis": {
           "colorbar": {
            "outlinewidth": 0,
            "ticks": ""
           }
          },
          "colorscale": {
           "diverging": [
            [
             0,
             "#8e0152"
            ],
            [
             0.1,
             "#c51b7d"
            ],
            [
             0.2,
             "#de77ae"
            ],
            [
             0.3,
             "#f1b6da"
            ],
            [
             0.4,
             "#fde0ef"
            ],
            [
             0.5,
             "#f7f7f7"
            ],
            [
             0.6,
             "#e6f5d0"
            ],
            [
             0.7,
             "#b8e186"
            ],
            [
             0.8,
             "#7fbc41"
            ],
            [
             0.9,
             "#4d9221"
            ],
            [
             1,
             "#276419"
            ]
           ],
           "sequential": [
            [
             0,
             "#0d0887"
            ],
            [
             0.1111111111111111,
             "#46039f"
            ],
            [
             0.2222222222222222,
             "#7201a8"
            ],
            [
             0.3333333333333333,
             "#9c179e"
            ],
            [
             0.4444444444444444,
             "#bd3786"
            ],
            [
             0.5555555555555556,
             "#d8576b"
            ],
            [
             0.6666666666666666,
             "#ed7953"
            ],
            [
             0.7777777777777778,
             "#fb9f3a"
            ],
            [
             0.8888888888888888,
             "#fdca26"
            ],
            [
             1,
             "#f0f921"
            ]
           ],
           "sequentialminus": [
            [
             0,
             "#0d0887"
            ],
            [
             0.1111111111111111,
             "#46039f"
            ],
            [
             0.2222222222222222,
             "#7201a8"
            ],
            [
             0.3333333333333333,
             "#9c179e"
            ],
            [
             0.4444444444444444,
             "#bd3786"
            ],
            [
             0.5555555555555556,
             "#d8576b"
            ],
            [
             0.6666666666666666,
             "#ed7953"
            ],
            [
             0.7777777777777778,
             "#fb9f3a"
            ],
            [
             0.8888888888888888,
             "#fdca26"
            ],
            [
             1,
             "#f0f921"
            ]
           ]
          },
          "colorway": [
           "#636efa",
           "#EF553B",
           "#00cc96",
           "#ab63fa",
           "#FFA15A",
           "#19d3f3",
           "#FF6692",
           "#B6E880",
           "#FF97FF",
           "#FECB52"
          ],
          "font": {
           "color": "#2a3f5f"
          },
          "geo": {
           "bgcolor": "white",
           "lakecolor": "white",
           "landcolor": "#E5ECF6",
           "showlakes": true,
           "showland": true,
           "subunitcolor": "white"
          },
          "hoverlabel": {
           "align": "left"
          },
          "hovermode": "closest",
          "mapbox": {
           "style": "light"
          },
          "paper_bgcolor": "white",
          "plot_bgcolor": "#E5ECF6",
          "polar": {
           "angularaxis": {
            "gridcolor": "white",
            "linecolor": "white",
            "ticks": ""
           },
           "bgcolor": "#E5ECF6",
           "radialaxis": {
            "gridcolor": "white",
            "linecolor": "white",
            "ticks": ""
           }
          },
          "scene": {
           "xaxis": {
            "backgroundcolor": "#E5ECF6",
            "gridcolor": "white",
            "gridwidth": 2,
            "linecolor": "white",
            "showbackground": true,
            "ticks": "",
            "zerolinecolor": "white"
           },
           "yaxis": {
            "backgroundcolor": "#E5ECF6",
            "gridcolor": "white",
            "gridwidth": 2,
            "linecolor": "white",
            "showbackground": true,
            "ticks": "",
            "zerolinecolor": "white"
           },
           "zaxis": {
            "backgroundcolor": "#E5ECF6",
            "gridcolor": "white",
            "gridwidth": 2,
            "linecolor": "white",
            "showbackground": true,
            "ticks": "",
            "zerolinecolor": "white"
           }
          },
          "shapedefaults": {
           "line": {
            "color": "#2a3f5f"
           }
          },
          "ternary": {
           "aaxis": {
            "gridcolor": "white",
            "linecolor": "white",
            "ticks": ""
           },
           "baxis": {
            "gridcolor": "white",
            "linecolor": "white",
            "ticks": ""
           },
           "bgcolor": "#E5ECF6",
           "caxis": {
            "gridcolor": "white",
            "linecolor": "white",
            "ticks": ""
           }
          },
          "title": {
           "x": 0.05
          },
          "xaxis": {
           "automargin": true,
           "gridcolor": "white",
           "linecolor": "white",
           "ticks": "",
           "title": {
            "standoff": 15
           },
           "zerolinecolor": "white",
           "zerolinewidth": 2
          },
          "yaxis": {
           "automargin": true,
           "gridcolor": "white",
           "linecolor": "white",
           "ticks": "",
           "title": {
            "standoff": 15
           },
           "zerolinecolor": "white",
           "zerolinewidth": 2
          }
         }
        },
        "title": {
         "text": "Distribution of Social Media Addiction Scores"
        },
        "xaxis": {
         "title": {
          "text": "Addiction Score (1–10)"
         }
        },
        "yaxis": {
         "title": {
          "text": "Number of Students"
         }
        }
       }
      }
     },
     "metadata": {},
     "output_type": "display_data"
    }
   ],
   "source": [
    "# Get value counts\n",
    "addicted_counts = (\n",
    "    student_df['addicted_score']\n",
    "    .round()\n",
    "    .value_counts()\n",
    "    .sort_index()\n",
    ")\n",
    "\n",
    "print(\"Social Media Addiction Score:\")\n",
    "print(addicted_counts)\n",
    "\n",
    "# KDE extraction\n",
    "fig_kde, ax_kde = plt.subplots()\n",
    "sns.kdeplot(student_df['addicted_score'], bw_adjust = 0.5, ax = ax_kde)\n",
    "kde_line = ax_kde.lines[0]\n",
    "x_vals = kde_line.get_xdata()\n",
    "y_vals = kde_line.get_ydata()\n",
    "plt.close(fig_kde)\n",
    "\n",
    "# Scale KDE to match histogram height\n",
    "y_scaled = y_vals * len(student_df) * (student_df['addicted_score'].max() - student_df['addicted_score'].min()) / 10\n",
    "\n",
    "# Find peak\n",
    "peak_index = np.argmax(y_scaled)\n",
    "peak_x = x_vals[peak_index]\n",
    "peak_y = y_scaled[peak_index]\n",
    "\n",
    "# Plot\n",
    "fig = go.Figure()\n",
    "\n",
    "# Histogram \n",
    "fig.add_trace(go.Histogram(\n",
    "    x = student_df['addicted_score'],\n",
    "    nbinsx = 10,\n",
    "    name = 'Students',\n",
    "    marker_color = '#F8C471',\n",
    "    opacity = 0.7,\n",
    "    hovertemplate = 'Score: %{x}<br>Students: %{y}<extra></extra>'\n",
    "))\n",
    "\n",
    "# KDE\n",
    "fig.add_trace(go.Scatter(\n",
    "    x = x_vals,\n",
    "    y = y_scaled,\n",
    "    mode = 'lines',\n",
    "    name = 'KDE Curve',\n",
    "    line = dict(color = '#CA6F1E', width = 3), \n",
    "    hovertemplate = 'Score: %{x:.2f}<br>Estimated: %{y:.0f}<extra></extra>'\n",
    "))\n",
    "\n",
    "# Annotate peak\n",
    "fig.add_annotation(\n",
    "    x = peak_x,\n",
    "    y = peak_y,\n",
    "    text = f\"Mode: {peak_x:.1f}\",\n",
    "    showarrow = True,\n",
    "    arrowhead = 2,\n",
    "    ax = 0,\n",
    "    ay = -40,\n",
    "    font = dict(color = \"black\"),\n",
    "    bgcolor = \"white\"\n",
    ")\n",
    "\n",
    "# Layout styling\n",
    "fig.update_layout(\n",
    "    title = 'Distribution of Social Media Addiction Scores',\n",
    "    xaxis_title = 'Addiction Score (1–10)',\n",
    "    yaxis_title = 'Number of Students',\n",
    "    font = dict(family = 'Lato', size = 14),\n",
    "    plot_bgcolor = '#FDFEFE',\n",
    "    paper_bgcolor = '#FBFCFC',\n",
    "    bargap = 0.05,\n",
    "    showlegend = True\n",
    ")\n",
    "\n",
    "fig.show()"
   ]
  },
  {
   "cell_type": "markdown",
   "id": "d408d258",
   "metadata": {},
   "source": [
    ">Students rated their perceived level of social media addiction on a scale from 1 to 10 (though scores here range from 2 to 9). The distribution reveals:\n",
    ">A majority fall in the **mid-to-high range**, particularly:\n",
    "  - **7**: 209 students (**~30%**)\n",
    "  - **8**: 144 students (**~20%**)\n",
    "  - **5**: 136 students (**~19%**)\n",
    ">Very few report low levels of addiction:\n",
    "  - **2**: 1 student\n",
    "  - **3**: 16 students\n",
    ">Scores of **4 and 6** are transitional, with 83 and 61 students respectively\n",
    "\n",
    ">**Observation:** The peak at **7** and upward shift in the curve indicate that **a large portion of students perceive themselves as being moderately to heavily dependent** on social media. This aligns with the previously observed high daily usage (4–8 hours/day) and self-reported academic impact.\n",
    "\n",
    ">**Implication:** This metric is central to understanding digital behavior outcomes. High addiction scores should be cross-examined with variables like 'mental_health_score', 'sleep_hours_per_night', and 'affects_academic_performance' to pinpoint behavioral tipping points and intervention thresholds.\n",
    "\n",
    ">It may also be beneficial to segment users by addiction severity (e.g low: 2–4, moderate: 5–6, high: 7–9) in order to draw clearer lines between behavior and consequence."
   ]
  },
  {
   "cell_type": "markdown",
   "id": "26a97ec3",
   "metadata": {},
   "source": [
    "# BIVARIATE ANALYSIS\n",
    "Now that we’ve dissected each feature on its own, it’s time to stop looking at them in isolation and start asking the real questions:\n",
    "\n",
    "- Do students who sleep less also report worse mental health?\n",
    "- Is higher daily social media use actually linked to academic decline?\n",
    "- Are certain platforms more associated with addiction scores or conflict?\n",
    "- And does being in a relationship really make you argue more online?\n",
    "\n",
    "This is where bivariate analysis shines- by helping us **connect behaviors to outcomes**, patterns to personas, and variables to real-world implications. We're no longer just describing data; we're **diagnosing digital lifestyles**.\n",
    "\n",
    "The goal? To uncover meaningful associations that can inform student interventions, tech policies, or just spark"
   ]
  },
  {
   "cell_type": "markdown",
   "id": "0a903111",
   "metadata": {},
   "source": [
    "## Relationship Between Social Media Addiction and Mental Health Among Students\n",
    "Is doomscrolling messing with students’ mental well-being? That’s the million-dollar question.\n",
    "\n",
    "In this section, we explore the relationship between **social media addiction scores** and **mental health scores**. By examining these two variables side-by-side, we aim to uncover whether excessive usage correlates with declining mental health — or if the link is more nuanced than we think.\n",
    "\n",
    "After all, are students using social media as a coping mechanism- or is it what they need coping *from*? Let’s dive into the data and find out."
   ]
  },
  {
   "cell_type": "code",
   "execution_count": 66,
   "id": "34a09fb8",
   "metadata": {},
   "outputs": [
    {
     "name": "stdout",
     "output_type": "stream",
     "text": [
      "Relationship Between Addiction Score and Mental Health Score:\n",
      "    addicted_score  avg_mental_health_score  median_mental_health_score  \\\n",
      "0               2                     9.00                           9   \n",
      "1               3                     8.00                           8   \n",
      "2               4                     7.96                           8   \n",
      "3               5                     7.07                           7   \n",
      "4               6                     6.79                           7   \n",
      "5               7                     5.87                           6   \n",
      "6               8                     5.16                           5   \n",
      "7               9                     4.49                           4   \n",
      "\n",
      "   std_dev  num_students  \n",
      "0      NaN             1  \n",
      "1     0.00            16  \n",
      "2     0.19            83  \n",
      "3     0.25           136  \n",
      "4     0.41            61  \n",
      "5     0.34           209  \n",
      "6     0.39           144  \n",
      "7     0.50            55  \n"
     ]
    },
    {
     "data": {
      "application/vnd.plotly.v1+json": {
       "config": {
        "plotlyServerURL": "https://plot.ly"
       },
       "data": [
        {
         "customdata": [
          [
           9,
           null
          ],
          [
           8,
           0
          ],
          [
           8,
           0.19
          ],
          [
           7,
           0.25
          ],
          [
           7,
           0.41
          ],
          [
           6,
           0.34
          ],
          [
           5,
           0.39
          ],
          [
           4,
           0.5
          ]
         ],
         "hovertemplate": "Addiction Score: %{x}<br>Avg Mental Health: %{y}<br>Median: %{customdata[0]}<br>Std Dev: %{customdata[1]:.2f}<extra></extra>",
         "line": {
          "color": "#E67E22",
          "width": 3
         },
         "marker": {
          "color": "#D35400",
          "size": 8
         },
         "mode": "lines+markers",
         "name": "Avg Mental Health Score",
         "type": "scatter",
         "x": [
          2,
          3,
          4,
          5,
          6,
          7,
          8,
          9
         ],
         "y": [
          9,
          8,
          7.96,
          7.07,
          6.79,
          5.87,
          5.16,
          4.49
         ],
         "yaxis": "y"
        },
        {
         "hovertemplate": "Addiction Score: %{x}<br>Number of Students: %{y}<extra></extra>",
         "marker": {
          "color": "rgba(52, 152, 219, 0.6)"
         },
         "name": "Number of Students",
         "opacity": 0.6,
         "type": "bar",
         "x": [
          2,
          3,
          4,
          5,
          6,
          7,
          8,
          9
         ],
         "y": [
          1,
          16,
          83,
          136,
          61,
          209,
          144,
          55
         ],
         "yaxis": "y2"
        }
       ],
       "layout": {
        "font": {
         "family": "Lato",
         "size": 14
        },
        "hoverlabel": {
         "bgcolor": "white",
         "font": {
          "family": "Lato",
          "size": 13
         }
        },
        "legend": {
         "bgcolor": "rgba(255,255,255,0.9)",
         "bordercolor": "lightgrey",
         "borderwidth": 1,
         "font": {
          "family": "Lato",
          "size": 12
         },
         "orientation": "h",
         "x": 1,
         "xanchor": "right",
         "y": 1.02,
         "yanchor": "bottom"
        },
        "margin": {
         "r": 80,
         "t": 80
        },
        "paper_bgcolor": "white",
        "plot_bgcolor": "white",
        "template": {
         "data": {
          "bar": [
           {
            "error_x": {
             "color": "#2a3f5f"
            },
            "error_y": {
             "color": "#2a3f5f"
            },
            "marker": {
             "line": {
              "color": "#E5ECF6",
              "width": 0.5
             }
            },
            "type": "bar"
           }
          ],
          "barpolar": [
           {
            "marker": {
             "line": {
              "color": "#E5ECF6",
              "width": 0.5
             }
            },
            "type": "barpolar"
           }
          ],
          "carpet": [
           {
            "aaxis": {
             "endlinecolor": "#2a3f5f",
             "gridcolor": "white",
             "linecolor": "white",
             "minorgridcolor": "white",
             "startlinecolor": "#2a3f5f"
            },
            "baxis": {
             "endlinecolor": "#2a3f5f",
             "gridcolor": "white",
             "linecolor": "white",
             "minorgridcolor": "white",
             "startlinecolor": "#2a3f5f"
            },
            "type": "carpet"
           }
          ],
          "choropleth": [
           {
            "colorbar": {
             "outlinewidth": 0,
             "ticks": ""
            },
            "type": "choropleth"
           }
          ],
          "contour": [
           {
            "colorbar": {
             "outlinewidth": 0,
             "ticks": ""
            },
            "colorscale": [
             [
              0,
              "#0d0887"
             ],
             [
              0.1111111111111111,
              "#46039f"
             ],
             [
              0.2222222222222222,
              "#7201a8"
             ],
             [
              0.3333333333333333,
              "#9c179e"
             ],
             [
              0.4444444444444444,
              "#bd3786"
             ],
             [
              0.5555555555555556,
              "#d8576b"
             ],
             [
              0.6666666666666666,
              "#ed7953"
             ],
             [
              0.7777777777777778,
              "#fb9f3a"
             ],
             [
              0.8888888888888888,
              "#fdca26"
             ],
             [
              1,
              "#f0f921"
             ]
            ],
            "type": "contour"
           }
          ],
          "contourcarpet": [
           {
            "colorbar": {
             "outlinewidth": 0,
             "ticks": ""
            },
            "type": "contourcarpet"
           }
          ],
          "heatmap": [
           {
            "colorbar": {
             "outlinewidth": 0,
             "ticks": ""
            },
            "colorscale": [
             [
              0,
              "#0d0887"
             ],
             [
              0.1111111111111111,
              "#46039f"
             ],
             [
              0.2222222222222222,
              "#7201a8"
             ],
             [
              0.3333333333333333,
              "#9c179e"
             ],
             [
              0.4444444444444444,
              "#bd3786"
             ],
             [
              0.5555555555555556,
              "#d8576b"
             ],
             [
              0.6666666666666666,
              "#ed7953"
             ],
             [
              0.7777777777777778,
              "#fb9f3a"
             ],
             [
              0.8888888888888888,
              "#fdca26"
             ],
             [
              1,
              "#f0f921"
             ]
            ],
            "type": "heatmap"
           }
          ],
          "heatmapgl": [
           {
            "colorbar": {
             "outlinewidth": 0,
             "ticks": ""
            },
            "colorscale": [
             [
              0,
              "#0d0887"
             ],
             [
              0.1111111111111111,
              "#46039f"
             ],
             [
              0.2222222222222222,
              "#7201a8"
             ],
             [
              0.3333333333333333,
              "#9c179e"
             ],
             [
              0.4444444444444444,
              "#bd3786"
             ],
             [
              0.5555555555555556,
              "#d8576b"
             ],
             [
              0.6666666666666666,
              "#ed7953"
             ],
             [
              0.7777777777777778,
              "#fb9f3a"
             ],
             [
              0.8888888888888888,
              "#fdca26"
             ],
             [
              1,
              "#f0f921"
             ]
            ],
            "type": "heatmapgl"
           }
          ],
          "histogram": [
           {
            "marker": {
             "colorbar": {
              "outlinewidth": 0,
              "ticks": ""
             }
            },
            "type": "histogram"
           }
          ],
          "histogram2d": [
           {
            "colorbar": {
             "outlinewidth": 0,
             "ticks": ""
            },
            "colorscale": [
             [
              0,
              "#0d0887"
             ],
             [
              0.1111111111111111,
              "#46039f"
             ],
             [
              0.2222222222222222,
              "#7201a8"
             ],
             [
              0.3333333333333333,
              "#9c179e"
             ],
             [
              0.4444444444444444,
              "#bd3786"
             ],
             [
              0.5555555555555556,
              "#d8576b"
             ],
             [
              0.6666666666666666,
              "#ed7953"
             ],
             [
              0.7777777777777778,
              "#fb9f3a"
             ],
             [
              0.8888888888888888,
              "#fdca26"
             ],
             [
              1,
              "#f0f921"
             ]
            ],
            "type": "histogram2d"
           }
          ],
          "histogram2dcontour": [
           {
            "colorbar": {
             "outlinewidth": 0,
             "ticks": ""
            },
            "colorscale": [
             [
              0,
              "#0d0887"
             ],
             [
              0.1111111111111111,
              "#46039f"
             ],
             [
              0.2222222222222222,
              "#7201a8"
             ],
             [
              0.3333333333333333,
              "#9c179e"
             ],
             [
              0.4444444444444444,
              "#bd3786"
             ],
             [
              0.5555555555555556,
              "#d8576b"
             ],
             [
              0.6666666666666666,
              "#ed7953"
             ],
             [
              0.7777777777777778,
              "#fb9f3a"
             ],
             [
              0.8888888888888888,
              "#fdca26"
             ],
             [
              1,
              "#f0f921"
             ]
            ],
            "type": "histogram2dcontour"
           }
          ],
          "mesh3d": [
           {
            "colorbar": {
             "outlinewidth": 0,
             "ticks": ""
            },
            "type": "mesh3d"
           }
          ],
          "parcoords": [
           {
            "line": {
             "colorbar": {
              "outlinewidth": 0,
              "ticks": ""
             }
            },
            "type": "parcoords"
           }
          ],
          "pie": [
           {
            "automargin": true,
            "type": "pie"
           }
          ],
          "scatter": [
           {
            "marker": {
             "colorbar": {
              "outlinewidth": 0,
              "ticks": ""
             }
            },
            "type": "scatter"
           }
          ],
          "scatter3d": [
           {
            "line": {
             "colorbar": {
              "outlinewidth": 0,
              "ticks": ""
             }
            },
            "marker": {
             "colorbar": {
              "outlinewidth": 0,
              "ticks": ""
             }
            },
            "type": "scatter3d"
           }
          ],
          "scattercarpet": [
           {
            "marker": {
             "colorbar": {
              "outlinewidth": 0,
              "ticks": ""
             }
            },
            "type": "scattercarpet"
           }
          ],
          "scattergeo": [
           {
            "marker": {
             "colorbar": {
              "outlinewidth": 0,
              "ticks": ""
             }
            },
            "type": "scattergeo"
           }
          ],
          "scattergl": [
           {
            "marker": {
             "colorbar": {
              "outlinewidth": 0,
              "ticks": ""
             }
            },
            "type": "scattergl"
           }
          ],
          "scattermapbox": [
           {
            "marker": {
             "colorbar": {
              "outlinewidth": 0,
              "ticks": ""
             }
            },
            "type": "scattermapbox"
           }
          ],
          "scatterpolar": [
           {
            "marker": {
             "colorbar": {
              "outlinewidth": 0,
              "ticks": ""
             }
            },
            "type": "scatterpolar"
           }
          ],
          "scatterpolargl": [
           {
            "marker": {
             "colorbar": {
              "outlinewidth": 0,
              "ticks": ""
             }
            },
            "type": "scatterpolargl"
           }
          ],
          "scatterternary": [
           {
            "marker": {
             "colorbar": {
              "outlinewidth": 0,
              "ticks": ""
             }
            },
            "type": "scatterternary"
           }
          ],
          "surface": [
           {
            "colorbar": {
             "outlinewidth": 0,
             "ticks": ""
            },
            "colorscale": [
             [
              0,
              "#0d0887"
             ],
             [
              0.1111111111111111,
              "#46039f"
             ],
             [
              0.2222222222222222,
              "#7201a8"
             ],
             [
              0.3333333333333333,
              "#9c179e"
             ],
             [
              0.4444444444444444,
              "#bd3786"
             ],
             [
              0.5555555555555556,
              "#d8576b"
             ],
             [
              0.6666666666666666,
              "#ed7953"
             ],
             [
              0.7777777777777778,
              "#fb9f3a"
             ],
             [
              0.8888888888888888,
              "#fdca26"
             ],
             [
              1,
              "#f0f921"
             ]
            ],
            "type": "surface"
           }
          ],
          "table": [
           {
            "cells": {
             "fill": {
              "color": "#EBF0F8"
             },
             "line": {
              "color": "white"
             }
            },
            "header": {
             "fill": {
              "color": "#C8D4E3"
             },
             "line": {
              "color": "white"
             }
            },
            "type": "table"
           }
          ]
         },
         "layout": {
          "annotationdefaults": {
           "arrowcolor": "#2a3f5f",
           "arrowhead": 0,
           "arrowwidth": 1
          },
          "coloraxis": {
           "colorbar": {
            "outlinewidth": 0,
            "ticks": ""
           }
          },
          "colorscale": {
           "diverging": [
            [
             0,
             "#8e0152"
            ],
            [
             0.1,
             "#c51b7d"
            ],
            [
             0.2,
             "#de77ae"
            ],
            [
             0.3,
             "#f1b6da"
            ],
            [
             0.4,
             "#fde0ef"
            ],
            [
             0.5,
             "#f7f7f7"
            ],
            [
             0.6,
             "#e6f5d0"
            ],
            [
             0.7,
             "#b8e186"
            ],
            [
             0.8,
             "#7fbc41"
            ],
            [
             0.9,
             "#4d9221"
            ],
            [
             1,
             "#276419"
            ]
           ],
           "sequential": [
            [
             0,
             "#0d0887"
            ],
            [
             0.1111111111111111,
             "#46039f"
            ],
            [
             0.2222222222222222,
             "#7201a8"
            ],
            [
             0.3333333333333333,
             "#9c179e"
            ],
            [
             0.4444444444444444,
             "#bd3786"
            ],
            [
             0.5555555555555556,
             "#d8576b"
            ],
            [
             0.6666666666666666,
             "#ed7953"
            ],
            [
             0.7777777777777778,
             "#fb9f3a"
            ],
            [
             0.8888888888888888,
             "#fdca26"
            ],
            [
             1,
             "#f0f921"
            ]
           ],
           "sequentialminus": [
            [
             0,
             "#0d0887"
            ],
            [
             0.1111111111111111,
             "#46039f"
            ],
            [
             0.2222222222222222,
             "#7201a8"
            ],
            [
             0.3333333333333333,
             "#9c179e"
            ],
            [
             0.4444444444444444,
             "#bd3786"
            ],
            [
             0.5555555555555556,
             "#d8576b"
            ],
            [
             0.6666666666666666,
             "#ed7953"
            ],
            [
             0.7777777777777778,
             "#fb9f3a"
            ],
            [
             0.8888888888888888,
             "#fdca26"
            ],
            [
             1,
             "#f0f921"
            ]
           ]
          },
          "colorway": [
           "#636efa",
           "#EF553B",
           "#00cc96",
           "#ab63fa",
           "#FFA15A",
           "#19d3f3",
           "#FF6692",
           "#B6E880",
           "#FF97FF",
           "#FECB52"
          ],
          "font": {
           "color": "#2a3f5f"
          },
          "geo": {
           "bgcolor": "white",
           "lakecolor": "white",
           "landcolor": "#E5ECF6",
           "showlakes": true,
           "showland": true,
           "subunitcolor": "white"
          },
          "hoverlabel": {
           "align": "left"
          },
          "hovermode": "closest",
          "mapbox": {
           "style": "light"
          },
          "paper_bgcolor": "white",
          "plot_bgcolor": "#E5ECF6",
          "polar": {
           "angularaxis": {
            "gridcolor": "white",
            "linecolor": "white",
            "ticks": ""
           },
           "bgcolor": "#E5ECF6",
           "radialaxis": {
            "gridcolor": "white",
            "linecolor": "white",
            "ticks": ""
           }
          },
          "scene": {
           "xaxis": {
            "backgroundcolor": "#E5ECF6",
            "gridcolor": "white",
            "gridwidth": 2,
            "linecolor": "white",
            "showbackground": true,
            "ticks": "",
            "zerolinecolor": "white"
           },
           "yaxis": {
            "backgroundcolor": "#E5ECF6",
            "gridcolor": "white",
            "gridwidth": 2,
            "linecolor": "white",
            "showbackground": true,
            "ticks": "",
            "zerolinecolor": "white"
           },
           "zaxis": {
            "backgroundcolor": "#E5ECF6",
            "gridcolor": "white",
            "gridwidth": 2,
            "linecolor": "white",
            "showbackground": true,
            "ticks": "",
            "zerolinecolor": "white"
           }
          },
          "shapedefaults": {
           "line": {
            "color": "#2a3f5f"
           }
          },
          "ternary": {
           "aaxis": {
            "gridcolor": "white",
            "linecolor": "white",
            "ticks": ""
           },
           "baxis": {
            "gridcolor": "white",
            "linecolor": "white",
            "ticks": ""
           },
           "bgcolor": "#E5ECF6",
           "caxis": {
            "gridcolor": "white",
            "linecolor": "white",
            "ticks": ""
           }
          },
          "title": {
           "x": 0.05
          },
          "xaxis": {
           "automargin": true,
           "gridcolor": "white",
           "linecolor": "white",
           "ticks": "",
           "title": {
            "standoff": 15
           },
           "zerolinecolor": "white",
           "zerolinewidth": 2
          },
          "yaxis": {
           "automargin": true,
           "gridcolor": "white",
           "linecolor": "white",
           "ticks": "",
           "title": {
            "standoff": 15
           },
           "zerolinecolor": "white",
           "zerolinewidth": 2
          }
         }
        },
        "title": {
         "text": "Mental Health Score vs. Addiction Score"
        },
        "xaxis": {
         "dtick": 1,
         "title": {
          "text": "Addiction Score (1–10)"
         }
        },
        "yaxis": {
         "tickfont": {
          "color": "#E67E22"
         },
         "title": {
          "font": {
           "color": "#E67E22"
          },
          "text": "Average Mental Health Score"
         }
        },
        "yaxis2": {
         "overlaying": "y",
         "side": "right",
         "tickfont": {
          "color": "rgba(52, 152, 219, 1)"
         },
         "title": {
          "font": {
           "color": "rgba(52, 152, 219, 1)"
          },
          "text": "Number of Students"
         }
        }
       }
      }
     },
     "metadata": {},
     "output_type": "display_data"
    }
   ],
   "source": [
    "# Group and summarize the relationship\n",
    "addiction_mental_summary = (\n",
    "    student_df.groupby('addicted_score')['mental_health_score']\n",
    "    .agg(['mean', 'median', 'std', 'count'])\n",
    "    .reset_index()\n",
    "    .rename(columns = {\n",
    "        'mean': 'avg_mental_health_score',\n",
    "        'median': 'median_mental_health_score',\n",
    "        'std': 'std_dev',\n",
    "        'count': 'num_students'\n",
    "    })\n",
    "    .round(2)\n",
    ")\n",
    "\n",
    "# Print the relationship as a table\n",
    "print(\"Relationship Between Addiction Score and Mental Health Score:\\n\", addiction_mental_summary)\n",
    "\n",
    "# Create figure with dual y-axes\n",
    "fig = go.Figure()\n",
    "\n",
    "# Line trace for average mental health score\n",
    "fig.add_trace(go.Scatter(\n",
    "    x = addiction_mental_summary['addicted_score'],\n",
    "    y = addiction_mental_summary['avg_mental_health_score'],\n",
    "    name = 'Avg Mental Health Score',\n",
    "    mode = 'lines+markers',\n",
    "    marker = dict(size = 8, color = '#D35400'),\n",
    "    line = dict(width = 3, color = '#E67E22'),\n",
    "    yaxis = 'y1',\n",
    "    customdata = addiction_mental_summary[['median_mental_health_score', 'std_dev']],\n",
    "    hovertemplate = (\n",
    "        'Addiction Score: %{x}<br>' +\n",
    "        'Avg Mental Health: %{y}<br>' +\n",
    "        'Median: %{customdata[0]}<br>' +\n",
    "        'Std Dev: %{customdata[1]:.2f}<extra></extra>'\n",
    "    )\n",
    "))\n",
    "\n",
    "# 🔷 Bar trace for number of students\n",
    "fig.add_trace(go.Bar(\n",
    "    x = addiction_mental_summary['addicted_score'],\n",
    "    y = addiction_mental_summary['num_students'],\n",
    "    name = 'Number of Students',\n",
    "    marker_color = 'rgba(52, 152, 219, 0.6)',\n",
    "    yaxis = 'y2',\n",
    "    opacity = 0.6,\n",
    "    hovertemplate = (\n",
    "        'Addiction Score: %{x}<br>' +\n",
    "        'Number of Students: %{y}<extra></extra>'\n",
    "    )\n",
    "))\n",
    "\n",
    "# Layout with dual axes and enhanced legend\n",
    "fig.update_layout(\n",
    "    title = 'Mental Health Score vs. Addiction Score',\n",
    "    xaxis = dict(title = 'Addiction Score (1–10)', dtick = 1),\n",
    "    yaxis = dict(\n",
    "        title = 'Average Mental Health Score',\n",
    "        titlefont = dict(color = '#E67E22'),\n",
    "        tickfont = dict(color = '#E67E22')\n",
    "    ),\n",
    "    yaxis2 = dict(\n",
    "        title = 'Number of Students',\n",
    "        overlaying = 'y',\n",
    "        side = 'right',\n",
    "        titlefont = dict(color = 'rgba(52, 152, 219, 1)'),\n",
    "        tickfont = dict(color='rgba(52, 152, 219, 1)')\n",
    "    ),\n",
    "    legend = dict(\n",
    "        orientation = 'h',\n",
    "        yanchor = 'bottom',\n",
    "        y = 1.02,\n",
    "        xanchor = 'right',\n",
    "        x = 1,\n",
    "        bgcolor = 'rgba(255,255,255,0.9)',\n",
    "        bordercolor = 'lightgrey',\n",
    "        borderwidth = 1,\n",
    "        font = dict(family = 'Lato', size = 12)\n",
    "    ),\n",
    "    margin = dict(r = 80, t = 80),\n",
    "    font = dict(family = 'Lato', size = 14),\n",
    "    plot_bgcolor = 'white',\n",
    "    paper_bgcolor = 'white',\n",
    "    hoverlabel = dict(bgcolor = 'white', font_size = 13, font_family = 'Lato')\n",
    ")\n",
    "\n",
    "fig.show()"
   ]
  },
  {
   "cell_type": "markdown",
   "id": "8493fed5",
   "metadata": {},
   "source": [
    "## Relationship Between Screen Addiction Score and Sleep Duration per Night\n",
    "\n",
    "When students say, *\"Just one more episode\"* or *\"I’ll sleep after this video,\"* we know how that ends- with bleary eyes, missed alarms, and a slow academic spiral.\n",
    "\n",
    "This analysis investigates the correlation between **addicted_score**: A numerical measure reflecting the student’s level of screen addiction. The higher the score, the stickier the screen and **sleep_hours_per_night**: The average number of hours a student reports sleeping nightly — hopefully not just a nap between YouTube shorts.\n",
    "\n",
    "### Why This Matters (and Why Your Students Might Be Yawning)\n",
    "\n",
    "Sleep isn’t just for dreamers — it’s mission-critical for memory consolidation, emotional regulation, and basic classroom survival.\n",
    "\n",
    "Excessive screen time, especially late at night, has been linked to:\n",
    "\n",
    "- Reduced cognitive functioning (a.k.a. \"Huh? What did you say?\")\n",
    "- Lower academic performance (because sleep debt is not extra credit)\n",
    "- Increased emotional and behavioral issues (cue the drama)\n",
    "\n",
    "### Goal\n",
    "\n",
    "By quantifying the relationship between screen addiction and sleep, we aim to:\n",
    "\n",
    "- Reveal whether tech obsession is literally *costing students their dreams* (of sleep and otherwise).\n",
    "- Pinpoint critical addiction thresholds where intervention might be most effective.\n",
    "- Provide concrete, data-backed insight for educators, counselors, and policy makers — and maybe a few stern parents."
   ]
  },
  {
   "cell_type": "code",
   "execution_count": 75,
   "id": "ca608d70",
   "metadata": {},
   "outputs": [
    {
     "name": "stdout",
     "output_type": "stream",
     "text": [
      "Relationship Between Addiction Score and Sleep Hours Per Night:\n",
      "    addicted_score  avg_sleep_hours  median_sleep_hours  std_dev  num_students\n",
      "0               2             8.00                8.00      NaN             1\n",
      "1               3             8.14                8.15     0.49            16\n",
      "2               4             8.11                8.10     0.73            83\n",
      "3               5             7.64                7.50     0.58           136\n",
      "4               6             7.53                7.60     0.62            61\n",
      "5               7             6.66                6.70     0.85           209\n",
      "6               8             5.91                6.00     0.65           144\n",
      "7               9             5.25                5.30     0.60            55\n"
     ]
    },
    {
     "data": {
      "application/vnd.plotly.v1+json": {
       "config": {
        "plotlyServerURL": "https://plot.ly"
       },
       "data": [
        {
         "customdata": [
          [
           8,
           null
          ],
          [
           8.15,
           0.49
          ],
          [
           8.1,
           0.73
          ],
          [
           7.5,
           0.58
          ],
          [
           7.6,
           0.62
          ],
          [
           6.7,
           0.85
          ],
          [
           6,
           0.65
          ],
          [
           5.3,
           0.6
          ]
         ],
         "hovertemplate": "Addiction Score: %{x}<br>Avg Sleep Hours: %{y}<br>Median: %{customdata[0]}<br>Std Dev: %{customdata[1]:.2f}<extra></extra>",
         "line": {
          "color": "#2ECC71",
          "width": 3
         },
         "marker": {
          "color": "#27AE60",
          "size": 8
         },
         "mode": "lines+markers",
         "name": "Avg Sleep Hours",
         "type": "scatter",
         "x": [
          2,
          3,
          4,
          5,
          6,
          7,
          8,
          9
         ],
         "y": [
          8,
          8.14,
          8.11,
          7.64,
          7.53,
          6.66,
          5.91,
          5.25
         ],
         "yaxis": "y"
        },
        {
         "hovertemplate": "Addiction Score: %{x}<br>Number of Students: %{y}<extra></extra>",
         "marker": {
          "color": "rgba(52, 152, 219, 0.6)"
         },
         "name": "Number of Students",
         "opacity": 0.6,
         "type": "bar",
         "x": [
          2,
          3,
          4,
          5,
          6,
          7,
          8,
          9
         ],
         "y": [
          1,
          16,
          83,
          136,
          61,
          209,
          144,
          55
         ],
         "yaxis": "y2"
        }
       ],
       "layout": {
        "font": {
         "family": "Lato",
         "size": 14
        },
        "hoverlabel": {
         "bgcolor": "white",
         "font": {
          "family": "Lato",
          "size": 13
         }
        },
        "legend": {
         "bgcolor": "rgba(255,255,255,0.9)",
         "bordercolor": "lightgrey",
         "borderwidth": 1,
         "font": {
          "family": "Lato",
          "size": 12
         },
         "orientation": "h",
         "x": 1,
         "xanchor": "right",
         "y": 1.02,
         "yanchor": "bottom"
        },
        "margin": {
         "r": 80,
         "t": 80
        },
        "paper_bgcolor": "white",
        "plot_bgcolor": "white",
        "template": {
         "data": {
          "bar": [
           {
            "error_x": {
             "color": "#2a3f5f"
            },
            "error_y": {
             "color": "#2a3f5f"
            },
            "marker": {
             "line": {
              "color": "#E5ECF6",
              "width": 0.5
             }
            },
            "type": "bar"
           }
          ],
          "barpolar": [
           {
            "marker": {
             "line": {
              "color": "#E5ECF6",
              "width": 0.5
             }
            },
            "type": "barpolar"
           }
          ],
          "carpet": [
           {
            "aaxis": {
             "endlinecolor": "#2a3f5f",
             "gridcolor": "white",
             "linecolor": "white",
             "minorgridcolor": "white",
             "startlinecolor": "#2a3f5f"
            },
            "baxis": {
             "endlinecolor": "#2a3f5f",
             "gridcolor": "white",
             "linecolor": "white",
             "minorgridcolor": "white",
             "startlinecolor": "#2a3f5f"
            },
            "type": "carpet"
           }
          ],
          "choropleth": [
           {
            "colorbar": {
             "outlinewidth": 0,
             "ticks": ""
            },
            "type": "choropleth"
           }
          ],
          "contour": [
           {
            "colorbar": {
             "outlinewidth": 0,
             "ticks": ""
            },
            "colorscale": [
             [
              0,
              "#0d0887"
             ],
             [
              0.1111111111111111,
              "#46039f"
             ],
             [
              0.2222222222222222,
              "#7201a8"
             ],
             [
              0.3333333333333333,
              "#9c179e"
             ],
             [
              0.4444444444444444,
              "#bd3786"
             ],
             [
              0.5555555555555556,
              "#d8576b"
             ],
             [
              0.6666666666666666,
              "#ed7953"
             ],
             [
              0.7777777777777778,
              "#fb9f3a"
             ],
             [
              0.8888888888888888,
              "#fdca26"
             ],
             [
              1,
              "#f0f921"
             ]
            ],
            "type": "contour"
           }
          ],
          "contourcarpet": [
           {
            "colorbar": {
             "outlinewidth": 0,
             "ticks": ""
            },
            "type": "contourcarpet"
           }
          ],
          "heatmap": [
           {
            "colorbar": {
             "outlinewidth": 0,
             "ticks": ""
            },
            "colorscale": [
             [
              0,
              "#0d0887"
             ],
             [
              0.1111111111111111,
              "#46039f"
             ],
             [
              0.2222222222222222,
              "#7201a8"
             ],
             [
              0.3333333333333333,
              "#9c179e"
             ],
             [
              0.4444444444444444,
              "#bd3786"
             ],
             [
              0.5555555555555556,
              "#d8576b"
             ],
             [
              0.6666666666666666,
              "#ed7953"
             ],
             [
              0.7777777777777778,
              "#fb9f3a"
             ],
             [
              0.8888888888888888,
              "#fdca26"
             ],
             [
              1,
              "#f0f921"
             ]
            ],
            "type": "heatmap"
           }
          ],
          "heatmapgl": [
           {
            "colorbar": {
             "outlinewidth": 0,
             "ticks": ""
            },
            "colorscale": [
             [
              0,
              "#0d0887"
             ],
             [
              0.1111111111111111,
              "#46039f"
             ],
             [
              0.2222222222222222,
              "#7201a8"
             ],
             [
              0.3333333333333333,
              "#9c179e"
             ],
             [
              0.4444444444444444,
              "#bd3786"
             ],
             [
              0.5555555555555556,
              "#d8576b"
             ],
             [
              0.6666666666666666,
              "#ed7953"
             ],
             [
              0.7777777777777778,
              "#fb9f3a"
             ],
             [
              0.8888888888888888,
              "#fdca26"
             ],
             [
              1,
              "#f0f921"
             ]
            ],
            "type": "heatmapgl"
           }
          ],
          "histogram": [
           {
            "marker": {
             "colorbar": {
              "outlinewidth": 0,
              "ticks": ""
             }
            },
            "type": "histogram"
           }
          ],
          "histogram2d": [
           {
            "colorbar": {
             "outlinewidth": 0,
             "ticks": ""
            },
            "colorscale": [
             [
              0,
              "#0d0887"
             ],
             [
              0.1111111111111111,
              "#46039f"
             ],
             [
              0.2222222222222222,
              "#7201a8"
             ],
             [
              0.3333333333333333,
              "#9c179e"
             ],
             [
              0.4444444444444444,
              "#bd3786"
             ],
             [
              0.5555555555555556,
              "#d8576b"
             ],
             [
              0.6666666666666666,
              "#ed7953"
             ],
             [
              0.7777777777777778,
              "#fb9f3a"
             ],
             [
              0.8888888888888888,
              "#fdca26"
             ],
             [
              1,
              "#f0f921"
             ]
            ],
            "type": "histogram2d"
           }
          ],
          "histogram2dcontour": [
           {
            "colorbar": {
             "outlinewidth": 0,
             "ticks": ""
            },
            "colorscale": [
             [
              0,
              "#0d0887"
             ],
             [
              0.1111111111111111,
              "#46039f"
             ],
             [
              0.2222222222222222,
              "#7201a8"
             ],
             [
              0.3333333333333333,
              "#9c179e"
             ],
             [
              0.4444444444444444,
              "#bd3786"
             ],
             [
              0.5555555555555556,
              "#d8576b"
             ],
             [
              0.6666666666666666,
              "#ed7953"
             ],
             [
              0.7777777777777778,
              "#fb9f3a"
             ],
             [
              0.8888888888888888,
              "#fdca26"
             ],
             [
              1,
              "#f0f921"
             ]
            ],
            "type": "histogram2dcontour"
           }
          ],
          "mesh3d": [
           {
            "colorbar": {
             "outlinewidth": 0,
             "ticks": ""
            },
            "type": "mesh3d"
           }
          ],
          "parcoords": [
           {
            "line": {
             "colorbar": {
              "outlinewidth": 0,
              "ticks": ""
             }
            },
            "type": "parcoords"
           }
          ],
          "pie": [
           {
            "automargin": true,
            "type": "pie"
           }
          ],
          "scatter": [
           {
            "marker": {
             "colorbar": {
              "outlinewidth": 0,
              "ticks": ""
             }
            },
            "type": "scatter"
           }
          ],
          "scatter3d": [
           {
            "line": {
             "colorbar": {
              "outlinewidth": 0,
              "ticks": ""
             }
            },
            "marker": {
             "colorbar": {
              "outlinewidth": 0,
              "ticks": ""
             }
            },
            "type": "scatter3d"
           }
          ],
          "scattercarpet": [
           {
            "marker": {
             "colorbar": {
              "outlinewidth": 0,
              "ticks": ""
             }
            },
            "type": "scattercarpet"
           }
          ],
          "scattergeo": [
           {
            "marker": {
             "colorbar": {
              "outlinewidth": 0,
              "ticks": ""
             }
            },
            "type": "scattergeo"
           }
          ],
          "scattergl": [
           {
            "marker": {
             "colorbar": {
              "outlinewidth": 0,
              "ticks": ""
             }
            },
            "type": "scattergl"
           }
          ],
          "scattermapbox": [
           {
            "marker": {
             "colorbar": {
              "outlinewidth": 0,
              "ticks": ""
             }
            },
            "type": "scattermapbox"
           }
          ],
          "scatterpolar": [
           {
            "marker": {
             "colorbar": {
              "outlinewidth": 0,
              "ticks": ""
             }
            },
            "type": "scatterpolar"
           }
          ],
          "scatterpolargl": [
           {
            "marker": {
             "colorbar": {
              "outlinewidth": 0,
              "ticks": ""
             }
            },
            "type": "scatterpolargl"
           }
          ],
          "scatterternary": [
           {
            "marker": {
             "colorbar": {
              "outlinewidth": 0,
              "ticks": ""
             }
            },
            "type": "scatterternary"
           }
          ],
          "surface": [
           {
            "colorbar": {
             "outlinewidth": 0,
             "ticks": ""
            },
            "colorscale": [
             [
              0,
              "#0d0887"
             ],
             [
              0.1111111111111111,
              "#46039f"
             ],
             [
              0.2222222222222222,
              "#7201a8"
             ],
             [
              0.3333333333333333,
              "#9c179e"
             ],
             [
              0.4444444444444444,
              "#bd3786"
             ],
             [
              0.5555555555555556,
              "#d8576b"
             ],
             [
              0.6666666666666666,
              "#ed7953"
             ],
             [
              0.7777777777777778,
              "#fb9f3a"
             ],
             [
              0.8888888888888888,
              "#fdca26"
             ],
             [
              1,
              "#f0f921"
             ]
            ],
            "type": "surface"
           }
          ],
          "table": [
           {
            "cells": {
             "fill": {
              "color": "#EBF0F8"
             },
             "line": {
              "color": "white"
             }
            },
            "header": {
             "fill": {
              "color": "#C8D4E3"
             },
             "line": {
              "color": "white"
             }
            },
            "type": "table"
           }
          ]
         },
         "layout": {
          "annotationdefaults": {
           "arrowcolor": "#2a3f5f",
           "arrowhead": 0,
           "arrowwidth": 1
          },
          "coloraxis": {
           "colorbar": {
            "outlinewidth": 0,
            "ticks": ""
           }
          },
          "colorscale": {
           "diverging": [
            [
             0,
             "#8e0152"
            ],
            [
             0.1,
             "#c51b7d"
            ],
            [
             0.2,
             "#de77ae"
            ],
            [
             0.3,
             "#f1b6da"
            ],
            [
             0.4,
             "#fde0ef"
            ],
            [
             0.5,
             "#f7f7f7"
            ],
            [
             0.6,
             "#e6f5d0"
            ],
            [
             0.7,
             "#b8e186"
            ],
            [
             0.8,
             "#7fbc41"
            ],
            [
             0.9,
             "#4d9221"
            ],
            [
             1,
             "#276419"
            ]
           ],
           "sequential": [
            [
             0,
             "#0d0887"
            ],
            [
             0.1111111111111111,
             "#46039f"
            ],
            [
             0.2222222222222222,
             "#7201a8"
            ],
            [
             0.3333333333333333,
             "#9c179e"
            ],
            [
             0.4444444444444444,
             "#bd3786"
            ],
            [
             0.5555555555555556,
             "#d8576b"
            ],
            [
             0.6666666666666666,
             "#ed7953"
            ],
            [
             0.7777777777777778,
             "#fb9f3a"
            ],
            [
             0.8888888888888888,
             "#fdca26"
            ],
            [
             1,
             "#f0f921"
            ]
           ],
           "sequentialminus": [
            [
             0,
             "#0d0887"
            ],
            [
             0.1111111111111111,
             "#46039f"
            ],
            [
             0.2222222222222222,
             "#7201a8"
            ],
            [
             0.3333333333333333,
             "#9c179e"
            ],
            [
             0.4444444444444444,
             "#bd3786"
            ],
            [
             0.5555555555555556,
             "#d8576b"
            ],
            [
             0.6666666666666666,
             "#ed7953"
            ],
            [
             0.7777777777777778,
             "#fb9f3a"
            ],
            [
             0.8888888888888888,
             "#fdca26"
            ],
            [
             1,
             "#f0f921"
            ]
           ]
          },
          "colorway": [
           "#636efa",
           "#EF553B",
           "#00cc96",
           "#ab63fa",
           "#FFA15A",
           "#19d3f3",
           "#FF6692",
           "#B6E880",
           "#FF97FF",
           "#FECB52"
          ],
          "font": {
           "color": "#2a3f5f"
          },
          "geo": {
           "bgcolor": "white",
           "lakecolor": "white",
           "landcolor": "#E5ECF6",
           "showlakes": true,
           "showland": true,
           "subunitcolor": "white"
          },
          "hoverlabel": {
           "align": "left"
          },
          "hovermode": "closest",
          "mapbox": {
           "style": "light"
          },
          "paper_bgcolor": "white",
          "plot_bgcolor": "#E5ECF6",
          "polar": {
           "angularaxis": {
            "gridcolor": "white",
            "linecolor": "white",
            "ticks": ""
           },
           "bgcolor": "#E5ECF6",
           "radialaxis": {
            "gridcolor": "white",
            "linecolor": "white",
            "ticks": ""
           }
          },
          "scene": {
           "xaxis": {
            "backgroundcolor": "#E5ECF6",
            "gridcolor": "white",
            "gridwidth": 2,
            "linecolor": "white",
            "showbackground": true,
            "ticks": "",
            "zerolinecolor": "white"
           },
           "yaxis": {
            "backgroundcolor": "#E5ECF6",
            "gridcolor": "white",
            "gridwidth": 2,
            "linecolor": "white",
            "showbackground": true,
            "ticks": "",
            "zerolinecolor": "white"
           },
           "zaxis": {
            "backgroundcolor": "#E5ECF6",
            "gridcolor": "white",
            "gridwidth": 2,
            "linecolor": "white",
            "showbackground": true,
            "ticks": "",
            "zerolinecolor": "white"
           }
          },
          "shapedefaults": {
           "line": {
            "color": "#2a3f5f"
           }
          },
          "ternary": {
           "aaxis": {
            "gridcolor": "white",
            "linecolor": "white",
            "ticks": ""
           },
           "baxis": {
            "gridcolor": "white",
            "linecolor": "white",
            "ticks": ""
           },
           "bgcolor": "#E5ECF6",
           "caxis": {
            "gridcolor": "white",
            "linecolor": "white",
            "ticks": ""
           }
          },
          "title": {
           "x": 0.05
          },
          "xaxis": {
           "automargin": true,
           "gridcolor": "white",
           "linecolor": "white",
           "ticks": "",
           "title": {
            "standoff": 15
           },
           "zerolinecolor": "white",
           "zerolinewidth": 2
          },
          "yaxis": {
           "automargin": true,
           "gridcolor": "white",
           "linecolor": "white",
           "ticks": "",
           "title": {
            "standoff": 15
           },
           "zerolinecolor": "white",
           "zerolinewidth": 2
          }
         }
        },
        "title": {
         "text": "Sleep Hours per Night vs. Addiction Score"
        },
        "xaxis": {
         "dtick": 1,
         "title": {
          "text": "Addiction Score (1–10)"
         }
        },
        "yaxis": {
         "tickfont": {
          "color": "#2ECC71"
         },
         "title": {
          "font": {
           "color": "#2ECC71"
          },
          "text": "Average Sleep (Hrs) per Night"
         }
        },
        "yaxis2": {
         "overlaying": "y",
         "side": "right",
         "tickfont": {
          "color": "rgba(52, 152, 219, 1)"
         },
         "title": {
          "font": {
           "color": "rgba(52, 152, 219, 1)"
          },
          "text": "Number of Students"
         }
        }
       }
      }
     },
     "metadata": {},
     "output_type": "display_data"
    }
   ],
   "source": [
    "# Group and summarize the relationship\n",
    "addiction_sleep_summary = (\n",
    "    student_df.groupby('addicted_score')['sleep_hours_per_night']\n",
    "    .agg(['mean', 'median', 'std', 'count'])\n",
    "    .reset_index()\n",
    "    .rename(columns = {\n",
    "        'mean': 'avg_sleep_hours',\n",
    "        'median': 'median_sleep_hours',\n",
    "        'std': 'std_dev',\n",
    "        'count': 'num_students'\n",
    "    })\n",
    "    .round(2)\n",
    ")\n",
    "\n",
    "# Print the relationship as a table\n",
    "print(\"Relationship Between Addiction Score and Sleep Hours Per Night:\\n\", addiction_sleep_summary)\n",
    "\n",
    "# Create figure with dual y-axes\n",
    "fig = go.Figure()\n",
    "\n",
    "# Line trace for average sleep hours\n",
    "fig.add_trace(go.Scatter(\n",
    "    x = addiction_sleep_summary['addicted_score'],\n",
    "    y = addiction_sleep_summary['avg_sleep_hours'],\n",
    "    name = 'Avg Sleep Hours',\n",
    "    mode = 'lines+markers',\n",
    "    marker = dict(size = 8, color = '#27AE60'),\n",
    "    line = dict(width = 3, color = '#2ECC71'),\n",
    "    yaxis = 'y1',\n",
    "    customdata = addiction_sleep_summary[['median_sleep_hours', 'std_dev']],\n",
    "    hovertemplate = (\n",
    "        'Addiction Score: %{x}<br>' +\n",
    "        'Avg Sleep Hours: %{y}<br>' +\n",
    "        'Median: %{customdata[0]}<br>' +\n",
    "        'Std Dev: %{customdata[1]:.2f}<extra></extra>'\n",
    "    )\n",
    "))\n",
    "\n",
    "# 🔷 Bar trace for number of students\n",
    "fig.add_trace(go.Bar(\n",
    "    x = addiction_sleep_summary['addicted_score'],\n",
    "    y = addiction_sleep_summary['num_students'],\n",
    "    name = 'Number of Students',\n",
    "    marker_color = 'rgba(52, 152, 219, 0.6)',\n",
    "    yaxis = 'y2',\n",
    "    opacity = 0.6,\n",
    "    hovertemplate = (\n",
    "        'Addiction Score: %{x}<br>' +\n",
    "        'Number of Students: %{y}<extra></extra>'\n",
    "    )\n",
    "))\n",
    "\n",
    "# Layout with dual axes and enhanced legend\n",
    "fig.update_layout(\n",
    "    title = 'Sleep Hours per Night vs. Addiction Score',\n",
    "    xaxis = dict(title = 'Addiction Score (1–10)', dtick = 1),\n",
    "    yaxis = dict(\n",
    "        title = 'Average Sleep (Hrs) per Night',\n",
    "        titlefont = dict(color = '#2ECC71'),\n",
    "        tickfont = dict(color = '#2ECC71')\n",
    "    ),\n",
    "    yaxis2 = dict(\n",
    "        title = 'Number of Students',\n",
    "        overlaying = 'y',\n",
    "        side = 'right',\n",
    "        titlefont = dict(color = 'rgba(52, 152, 219, 1)'),\n",
    "        tickfont = dict(color='rgba(52, 152, 219, 1)')\n",
    "    ),\n",
    "    legend = dict(\n",
    "        orientation = 'h',\n",
    "        yanchor = 'bottom',\n",
    "        y = 1.02,\n",
    "        xanchor = 'right',\n",
    "        x = 1,\n",
    "        bgcolor = 'rgba(255,255,255,0.9)',\n",
    "        bordercolor = 'lightgrey',\n",
    "        borderwidth = 1,\n",
    "        font = dict(family = 'Lato', size = 12)\n",
    "    ),\n",
    "    margin = dict(r = 80, t = 80),\n",
    "    font = dict(family = 'Lato', size = 14),\n",
    "    plot_bgcolor = 'white',\n",
    "    paper_bgcolor = 'white',\n",
    "    hoverlabel = dict(bgcolor = 'white', font_size = 13, font_family = 'Lato')\n",
    ")\n",
    "\n",
    "fig.show()"
   ]
  },
  {
   "cell_type": "markdown",
   "id": "0265f93d",
   "metadata": {},
   "source": [
    "## Relationship Between Screen Addiction and Academic Performance\n",
    "This analysis explores the relationship between **addicted_score**: A numerical indicator of a student's level of screen addiction. Think of it as a screen-glow-to-focus ratio and **affects_academic_performance**: A binary or categorical response indicating whether the student feels their screen habits are interfering with academic success.\n",
    "\n",
    "### Why This Matters\n",
    "\n",
    "While screen time isn't inherently evil (hello, online learning!), there's a tipping point — and students aren’t always aware they’ve crossed it until the grades hit the fan.\n",
    "\n",
    "The stakes?\n",
    "\n",
    "- **Lower test scores**\n",
    "- **Impaired focus and retention**\n",
    "- **Chronic procrastination** (\"I'll revise right after this reel...\")\n",
    "\n",
    "By examining this relationship, we get a clearer picture of how digital overindulgence might be:\n",
    "\n",
    "- Siphoning attention away from academics,\n",
    "- Creating patterns of academic decline,\n",
    "- Or, in some cases, being misunderstood as the villain when other factors are at play.\n",
    "\n",
    "### Our Mission Here\n",
    "\n",
    "To test whether higher addiction scores are statistically aligned with:\n",
    "\n",
    "- An increase in self-reported academic impact, or\n",
    "- A consistent pattern of performance issues across addiction levels.\n",
    "\n",
    "Let’s dive into the data and see whether academic struggle really has a screen-shaped shadow."
   ]
  },
  {
   "cell_type": "code",
   "execution_count": 68,
   "id": "ecce1990",
   "metadata": {},
   "outputs": [
    {
     "name": "stdout",
     "output_type": "stream",
     "text": [
      "Addiction Score by Academic Impact Category:\n",
      "   affects_academic_performance  avg_addicted_score  median_addicted_score  \\\n",
      "0                           No                4.60                      5   \n",
      "1                          Yes                7.46                      7   \n",
      "\n",
      "   std_dev  num_students  \n",
      "0     0.72           252  \n",
      "1     0.83           453  \n"
     ]
    },
    {
     "data": {
      "application/vnd.plotly.v1+json": {
       "config": {
        "plotlyServerURL": "https://plot.ly"
       },
       "data": [
        {
         "alignmentgroup": "True",
         "hovertemplate": "Impact on Academics=%{x}<br>Average Addiction Score=%{text}<extra></extra>",
         "legendgroup": "No",
         "marker": {
          "color": "#E74C3C"
         },
         "name": "No",
         "offsetgroup": "No",
         "orientation": "v",
         "showlegend": true,
         "text": [
          4.6
         ],
         "textposition": "outside",
         "type": "bar",
         "x": [
          "No"
         ],
         "xaxis": "x",
         "y": [
          4.6
         ],
         "yaxis": "y"
        },
        {
         "alignmentgroup": "True",
         "hovertemplate": "Impact on Academics=%{x}<br>Average Addiction Score=%{text}<extra></extra>",
         "legendgroup": "Yes",
         "marker": {
          "color": "#3498DB"
         },
         "name": "Yes",
         "offsetgroup": "Yes",
         "orientation": "v",
         "showlegend": true,
         "text": [
          7.46
         ],
         "textposition": "outside",
         "type": "bar",
         "x": [
          "Yes"
         ],
         "xaxis": "x",
         "y": [
          7.46
         ],
         "yaxis": "y"
        }
       ],
       "layout": {
        "barmode": "relative",
        "font": {
         "family": "Lato",
         "size": 14
        },
        "legend": {
         "title": {
          "text": "Impact on Academics"
         },
         "tracegroupgap": 0
        },
        "plot_bgcolor": "white",
        "showlegend": false,
        "template": {
         "data": {
          "bar": [
           {
            "error_x": {
             "color": "#2a3f5f"
            },
            "error_y": {
             "color": "#2a3f5f"
            },
            "marker": {
             "line": {
              "color": "#E5ECF6",
              "width": 0.5
             }
            },
            "type": "bar"
           }
          ],
          "barpolar": [
           {
            "marker": {
             "line": {
              "color": "#E5ECF6",
              "width": 0.5
             }
            },
            "type": "barpolar"
           }
          ],
          "carpet": [
           {
            "aaxis": {
             "endlinecolor": "#2a3f5f",
             "gridcolor": "white",
             "linecolor": "white",
             "minorgridcolor": "white",
             "startlinecolor": "#2a3f5f"
            },
            "baxis": {
             "endlinecolor": "#2a3f5f",
             "gridcolor": "white",
             "linecolor": "white",
             "minorgridcolor": "white",
             "startlinecolor": "#2a3f5f"
            },
            "type": "carpet"
           }
          ],
          "choropleth": [
           {
            "colorbar": {
             "outlinewidth": 0,
             "ticks": ""
            },
            "type": "choropleth"
           }
          ],
          "contour": [
           {
            "colorbar": {
             "outlinewidth": 0,
             "ticks": ""
            },
            "colorscale": [
             [
              0,
              "#0d0887"
             ],
             [
              0.1111111111111111,
              "#46039f"
             ],
             [
              0.2222222222222222,
              "#7201a8"
             ],
             [
              0.3333333333333333,
              "#9c179e"
             ],
             [
              0.4444444444444444,
              "#bd3786"
             ],
             [
              0.5555555555555556,
              "#d8576b"
             ],
             [
              0.6666666666666666,
              "#ed7953"
             ],
             [
              0.7777777777777778,
              "#fb9f3a"
             ],
             [
              0.8888888888888888,
              "#fdca26"
             ],
             [
              1,
              "#f0f921"
             ]
            ],
            "type": "contour"
           }
          ],
          "contourcarpet": [
           {
            "colorbar": {
             "outlinewidth": 0,
             "ticks": ""
            },
            "type": "contourcarpet"
           }
          ],
          "heatmap": [
           {
            "colorbar": {
             "outlinewidth": 0,
             "ticks": ""
            },
            "colorscale": [
             [
              0,
              "#0d0887"
             ],
             [
              0.1111111111111111,
              "#46039f"
             ],
             [
              0.2222222222222222,
              "#7201a8"
             ],
             [
              0.3333333333333333,
              "#9c179e"
             ],
             [
              0.4444444444444444,
              "#bd3786"
             ],
             [
              0.5555555555555556,
              "#d8576b"
             ],
             [
              0.6666666666666666,
              "#ed7953"
             ],
             [
              0.7777777777777778,
              "#fb9f3a"
             ],
             [
              0.8888888888888888,
              "#fdca26"
             ],
             [
              1,
              "#f0f921"
             ]
            ],
            "type": "heatmap"
           }
          ],
          "heatmapgl": [
           {
            "colorbar": {
             "outlinewidth": 0,
             "ticks": ""
            },
            "colorscale": [
             [
              0,
              "#0d0887"
             ],
             [
              0.1111111111111111,
              "#46039f"
             ],
             [
              0.2222222222222222,
              "#7201a8"
             ],
             [
              0.3333333333333333,
              "#9c179e"
             ],
             [
              0.4444444444444444,
              "#bd3786"
             ],
             [
              0.5555555555555556,
              "#d8576b"
             ],
             [
              0.6666666666666666,
              "#ed7953"
             ],
             [
              0.7777777777777778,
              "#fb9f3a"
             ],
             [
              0.8888888888888888,
              "#fdca26"
             ],
             [
              1,
              "#f0f921"
             ]
            ],
            "type": "heatmapgl"
           }
          ],
          "histogram": [
           {
            "marker": {
             "colorbar": {
              "outlinewidth": 0,
              "ticks": ""
             }
            },
            "type": "histogram"
           }
          ],
          "histogram2d": [
           {
            "colorbar": {
             "outlinewidth": 0,
             "ticks": ""
            },
            "colorscale": [
             [
              0,
              "#0d0887"
             ],
             [
              0.1111111111111111,
              "#46039f"
             ],
             [
              0.2222222222222222,
              "#7201a8"
             ],
             [
              0.3333333333333333,
              "#9c179e"
             ],
             [
              0.4444444444444444,
              "#bd3786"
             ],
             [
              0.5555555555555556,
              "#d8576b"
             ],
             [
              0.6666666666666666,
              "#ed7953"
             ],
             [
              0.7777777777777778,
              "#fb9f3a"
             ],
             [
              0.8888888888888888,
              "#fdca26"
             ],
             [
              1,
              "#f0f921"
             ]
            ],
            "type": "histogram2d"
           }
          ],
          "histogram2dcontour": [
           {
            "colorbar": {
             "outlinewidth": 0,
             "ticks": ""
            },
            "colorscale": [
             [
              0,
              "#0d0887"
             ],
             [
              0.1111111111111111,
              "#46039f"
             ],
             [
              0.2222222222222222,
              "#7201a8"
             ],
             [
              0.3333333333333333,
              "#9c179e"
             ],
             [
              0.4444444444444444,
              "#bd3786"
             ],
             [
              0.5555555555555556,
              "#d8576b"
             ],
             [
              0.6666666666666666,
              "#ed7953"
             ],
             [
              0.7777777777777778,
              "#fb9f3a"
             ],
             [
              0.8888888888888888,
              "#fdca26"
             ],
             [
              1,
              "#f0f921"
             ]
            ],
            "type": "histogram2dcontour"
           }
          ],
          "mesh3d": [
           {
            "colorbar": {
             "outlinewidth": 0,
             "ticks": ""
            },
            "type": "mesh3d"
           }
          ],
          "parcoords": [
           {
            "line": {
             "colorbar": {
              "outlinewidth": 0,
              "ticks": ""
             }
            },
            "type": "parcoords"
           }
          ],
          "pie": [
           {
            "automargin": true,
            "type": "pie"
           }
          ],
          "scatter": [
           {
            "marker": {
             "colorbar": {
              "outlinewidth": 0,
              "ticks": ""
             }
            },
            "type": "scatter"
           }
          ],
          "scatter3d": [
           {
            "line": {
             "colorbar": {
              "outlinewidth": 0,
              "ticks": ""
             }
            },
            "marker": {
             "colorbar": {
              "outlinewidth": 0,
              "ticks": ""
             }
            },
            "type": "scatter3d"
           }
          ],
          "scattercarpet": [
           {
            "marker": {
             "colorbar": {
              "outlinewidth": 0,
              "ticks": ""
             }
            },
            "type": "scattercarpet"
           }
          ],
          "scattergeo": [
           {
            "marker": {
             "colorbar": {
              "outlinewidth": 0,
              "ticks": ""
             }
            },
            "type": "scattergeo"
           }
          ],
          "scattergl": [
           {
            "marker": {
             "colorbar": {
              "outlinewidth": 0,
              "ticks": ""
             }
            },
            "type": "scattergl"
           }
          ],
          "scattermapbox": [
           {
            "marker": {
             "colorbar": {
              "outlinewidth": 0,
              "ticks": ""
             }
            },
            "type": "scattermapbox"
           }
          ],
          "scatterpolar": [
           {
            "marker": {
             "colorbar": {
              "outlinewidth": 0,
              "ticks": ""
             }
            },
            "type": "scatterpolar"
           }
          ],
          "scatterpolargl": [
           {
            "marker": {
             "colorbar": {
              "outlinewidth": 0,
              "ticks": ""
             }
            },
            "type": "scatterpolargl"
           }
          ],
          "scatterternary": [
           {
            "marker": {
             "colorbar": {
              "outlinewidth": 0,
              "ticks": ""
             }
            },
            "type": "scatterternary"
           }
          ],
          "surface": [
           {
            "colorbar": {
             "outlinewidth": 0,
             "ticks": ""
            },
            "colorscale": [
             [
              0,
              "#0d0887"
             ],
             [
              0.1111111111111111,
              "#46039f"
             ],
             [
              0.2222222222222222,
              "#7201a8"
             ],
             [
              0.3333333333333333,
              "#9c179e"
             ],
             [
              0.4444444444444444,
              "#bd3786"
             ],
             [
              0.5555555555555556,
              "#d8576b"
             ],
             [
              0.6666666666666666,
              "#ed7953"
             ],
             [
              0.7777777777777778,
              "#fb9f3a"
             ],
             [
              0.8888888888888888,
              "#fdca26"
             ],
             [
              1,
              "#f0f921"
             ]
            ],
            "type": "surface"
           }
          ],
          "table": [
           {
            "cells": {
             "fill": {
              "color": "#EBF0F8"
             },
             "line": {
              "color": "white"
             }
            },
            "header": {
             "fill": {
              "color": "#C8D4E3"
             },
             "line": {
              "color": "white"
             }
            },
            "type": "table"
           }
          ]
         },
         "layout": {
          "annotationdefaults": {
           "arrowcolor": "#2a3f5f",
           "arrowhead": 0,
           "arrowwidth": 1
          },
          "coloraxis": {
           "colorbar": {
            "outlinewidth": 0,
            "ticks": ""
           }
          },
          "colorscale": {
           "diverging": [
            [
             0,
             "#8e0152"
            ],
            [
             0.1,
             "#c51b7d"
            ],
            [
             0.2,
             "#de77ae"
            ],
            [
             0.3,
             "#f1b6da"
            ],
            [
             0.4,
             "#fde0ef"
            ],
            [
             0.5,
             "#f7f7f7"
            ],
            [
             0.6,
             "#e6f5d0"
            ],
            [
             0.7,
             "#b8e186"
            ],
            [
             0.8,
             "#7fbc41"
            ],
            [
             0.9,
             "#4d9221"
            ],
            [
             1,
             "#276419"
            ]
           ],
           "sequential": [
            [
             0,
             "#0d0887"
            ],
            [
             0.1111111111111111,
             "#46039f"
            ],
            [
             0.2222222222222222,
             "#7201a8"
            ],
            [
             0.3333333333333333,
             "#9c179e"
            ],
            [
             0.4444444444444444,
             "#bd3786"
            ],
            [
             0.5555555555555556,
             "#d8576b"
            ],
            [
             0.6666666666666666,
             "#ed7953"
            ],
            [
             0.7777777777777778,
             "#fb9f3a"
            ],
            [
             0.8888888888888888,
             "#fdca26"
            ],
            [
             1,
             "#f0f921"
            ]
           ],
           "sequentialminus": [
            [
             0,
             "#0d0887"
            ],
            [
             0.1111111111111111,
             "#46039f"
            ],
            [
             0.2222222222222222,
             "#7201a8"
            ],
            [
             0.3333333333333333,
             "#9c179e"
            ],
            [
             0.4444444444444444,
             "#bd3786"
            ],
            [
             0.5555555555555556,
             "#d8576b"
            ],
            [
             0.6666666666666666,
             "#ed7953"
            ],
            [
             0.7777777777777778,
             "#fb9f3a"
            ],
            [
             0.8888888888888888,
             "#fdca26"
            ],
            [
             1,
             "#f0f921"
            ]
           ]
          },
          "colorway": [
           "#636efa",
           "#EF553B",
           "#00cc96",
           "#ab63fa",
           "#FFA15A",
           "#19d3f3",
           "#FF6692",
           "#B6E880",
           "#FF97FF",
           "#FECB52"
          ],
          "font": {
           "color": "#2a3f5f"
          },
          "geo": {
           "bgcolor": "white",
           "lakecolor": "white",
           "landcolor": "#E5ECF6",
           "showlakes": true,
           "showland": true,
           "subunitcolor": "white"
          },
          "hoverlabel": {
           "align": "left"
          },
          "hovermode": "closest",
          "mapbox": {
           "style": "light"
          },
          "paper_bgcolor": "white",
          "plot_bgcolor": "#E5ECF6",
          "polar": {
           "angularaxis": {
            "gridcolor": "white",
            "linecolor": "white",
            "ticks": ""
           },
           "bgcolor": "#E5ECF6",
           "radialaxis": {
            "gridcolor": "white",
            "linecolor": "white",
            "ticks": ""
           }
          },
          "scene": {
           "xaxis": {
            "backgroundcolor": "#E5ECF6",
            "gridcolor": "white",
            "gridwidth": 2,
            "linecolor": "white",
            "showbackground": true,
            "ticks": "",
            "zerolinecolor": "white"
           },
           "yaxis": {
            "backgroundcolor": "#E5ECF6",
            "gridcolor": "white",
            "gridwidth": 2,
            "linecolor": "white",
            "showbackground": true,
            "ticks": "",
            "zerolinecolor": "white"
           },
           "zaxis": {
            "backgroundcolor": "#E5ECF6",
            "gridcolor": "white",
            "gridwidth": 2,
            "linecolor": "white",
            "showbackground": true,
            "ticks": "",
            "zerolinecolor": "white"
           }
          },
          "shapedefaults": {
           "line": {
            "color": "#2a3f5f"
           }
          },
          "ternary": {
           "aaxis": {
            "gridcolor": "white",
            "linecolor": "white",
            "ticks": ""
           },
           "baxis": {
            "gridcolor": "white",
            "linecolor": "white",
            "ticks": ""
           },
           "bgcolor": "#E5ECF6",
           "caxis": {
            "gridcolor": "white",
            "linecolor": "white",
            "ticks": ""
           }
          },
          "title": {
           "x": 0.05
          },
          "xaxis": {
           "automargin": true,
           "gridcolor": "white",
           "linecolor": "white",
           "ticks": "",
           "title": {
            "standoff": 15
           },
           "zerolinecolor": "white",
           "zerolinewidth": 2
          },
          "yaxis": {
           "automargin": true,
           "gridcolor": "white",
           "linecolor": "white",
           "ticks": "",
           "title": {
            "standoff": 15
           },
           "zerolinecolor": "white",
           "zerolinewidth": 2
          }
         }
        },
        "title": {
         "font": {
          "family": "Lato",
          "size": 20
         },
         "text": "Average Screen Addiction Score by Academic Impact Perception"
        },
        "uniformtext": {
         "minsize": 12,
         "mode": "hide"
        },
        "xaxis": {
         "anchor": "y",
         "categoryarray": [
          "No",
          "Yes"
         ],
         "categoryorder": "array",
         "domain": [
          0,
          1
         ],
         "showgrid": false,
         "title": {
          "text": "Impact on Academics"
         }
        },
        "yaxis": {
         "anchor": "x",
         "domain": [
          0,
          1
         ],
         "gridcolor": "lightgrey",
         "range": [
          0,
          10
         ],
         "showgrid": true,
         "title": {
          "text": "Average Addiction Score"
         }
        }
       }
      }
     },
     "metadata": {},
     "output_type": "display_data"
    }
   ],
   "source": [
    "# Group by affects_academic_performance and summarize addiction score\n",
    "academic_impact_summary = (\n",
    "    student_df.groupby('affects_academic_performance')['addicted_score']\n",
    "    .agg(['mean', 'median', 'std', 'count'])\n",
    "    .reset_index()\n",
    "    .rename(columns = {\n",
    "        'mean': 'avg_addicted_score',\n",
    "        'median': 'median_addicted_score',\n",
    "        'std': 'std_dev',\n",
    "        'count': 'num_students'\n",
    "    })\n",
    "    .round(2)\n",
    ")\n",
    "\n",
    "# Print summary table\n",
    "print(\"Addiction Score by Academic Impact Category:\\n\", academic_impact_summary)\n",
    "\n",
    "# Average addiction score by performance impact\n",
    "fig = px.bar(\n",
    "    academic_impact_summary,\n",
    "    x = 'affects_academic_performance',\n",
    "    y = 'avg_addicted_score',\n",
    "    color = 'affects_academic_performance',\n",
    "    text = 'avg_addicted_score',\n",
    "    color_discrete_sequence = ['#E74C3C', '#3498DB'],\n",
    "    labels = {\n",
    "        'affects_academic_performance': 'Impact on Academics',\n",
    "        'avg_addicted_score': 'Average Addiction Score'\n",
    "    },\n",
    "    title = 'Average Screen Addiction Score by Academic Impact Perception'\n",
    ")\n",
    "\n",
    "# Styling\n",
    "fig.update_traces(textposition = 'outside')\n",
    "fig.update_layout(\n",
    "    uniformtext_minsize = 12,\n",
    "    uniformtext_mode = 'hide',\n",
    "    font = dict(family = 'Lato', size = 14),\n",
    "    title_font = dict(family = 'Lato', size = 20),\n",
    "    showlegend = False,\n",
    "    plot_bgcolor = 'white',\n",
    "    yaxis = dict(showgrid = True, gridcolor = 'lightgrey', range = [0, 10]),\n",
    "    xaxis = dict(showgrid = False)\n",
    ")\n",
    "\n",
    "fig.show()"
   ]
  },
  {
   "cell_type": "markdown",
   "id": "4b5bb322",
   "metadata": {},
   "source": [
    "## Do Students Who Report Academic Struggles Use Screens More?\n",
    "This section explores the relationship between: **affects_academic_performance**: A categorical indicator (e.g *Yes*, *No*) of whether students believe their screen habits interfere with their academic performance and **avg_daily_usage_hours**: The average number of hours a student spends on screens each day- whether it’s for entertainment, communication, or doom-scrolling at 2 AM.\n",
    "\n",
    "This isn’t just about screen-shaming- it’s about self-awareness and behavioral impact.We’re investigating whether students who *acknowledge* academic impact are also the ones **spending significantly more time on screens**.\n",
    "\n",
    "Key questions:\n",
    "\n",
    "- Is academic decline tied to objectively higher screen time?\n",
    "- Or are screen usage patterns similar across the board, regardless of academic perception."
   ]
  },
  {
   "cell_type": "code",
   "execution_count": 78,
   "id": "0c6791bf",
   "metadata": {},
   "outputs": [
    {
     "name": "stdout",
     "output_type": "stream",
     "text": [
      "Average Daily Screen Time by Academic Impact Category:\n",
      "   affects_academic_performance  avg_usage_hours  median_usage_hours  std_dev  \\\n",
      "0                           No             3.80                 3.9     0.77   \n",
      "1                          Yes             5.54                 5.5     1.03   \n",
      "\n",
      "   num_students  \n",
      "0           252  \n",
      "1           453  \n"
     ]
    },
    {
     "data": {
      "application/vnd.plotly.v1+json": {
       "config": {
        "plotlyServerURL": "https://plot.ly"
       },
       "data": [
        {
         "alignmentgroup": "True",
         "hovertemplate": "Self-Reported Academic Impact=%{x}<br>Avg Daily Screen Time (hrs)=%{text}<extra></extra>",
         "legendgroup": "No",
         "marker": {
          "color": "#E74C3C"
         },
         "name": "No",
         "offsetgroup": "No",
         "orientation": "v",
         "showlegend": true,
         "text": [
          3.8
         ],
         "textfont": {
          "color": "white",
          "size": 14
         },
         "textposition": "inside",
         "type": "bar",
         "x": [
          "No"
         ],
         "xaxis": "x",
         "y": [
          3.8
         ],
         "yaxis": "y"
        },
        {
         "alignmentgroup": "True",
         "hovertemplate": "Self-Reported Academic Impact=%{x}<br>Avg Daily Screen Time (hrs)=%{text}<extra></extra>",
         "legendgroup": "Yes",
         "marker": {
          "color": "#2C3E50"
         },
         "name": "Yes",
         "offsetgroup": "Yes",
         "orientation": "v",
         "showlegend": true,
         "text": [
          5.54
         ],
         "textfont": {
          "color": "white",
          "size": 14
         },
         "textposition": "inside",
         "type": "bar",
         "x": [
          "Yes"
         ],
         "xaxis": "x",
         "y": [
          5.54
         ],
         "yaxis": "y"
        }
       ],
       "layout": {
        "barmode": "relative",
        "font": {
         "family": "Lato",
         "size": 14
        },
        "hoverlabel": {
         "bgcolor": "white",
         "font": {
          "family": "Lato"
         }
        },
        "legend": {
         "title": {
          "text": "Self-Reported Academic Impact"
         },
         "tracegroupgap": 0
        },
        "plot_bgcolor": "white",
        "showlegend": false,
        "template": {
         "data": {
          "bar": [
           {
            "error_x": {
             "color": "#2a3f5f"
            },
            "error_y": {
             "color": "#2a3f5f"
            },
            "marker": {
             "line": {
              "color": "#E5ECF6",
              "width": 0.5
             }
            },
            "type": "bar"
           }
          ],
          "barpolar": [
           {
            "marker": {
             "line": {
              "color": "#E5ECF6",
              "width": 0.5
             }
            },
            "type": "barpolar"
           }
          ],
          "carpet": [
           {
            "aaxis": {
             "endlinecolor": "#2a3f5f",
             "gridcolor": "white",
             "linecolor": "white",
             "minorgridcolor": "white",
             "startlinecolor": "#2a3f5f"
            },
            "baxis": {
             "endlinecolor": "#2a3f5f",
             "gridcolor": "white",
             "linecolor": "white",
             "minorgridcolor": "white",
             "startlinecolor": "#2a3f5f"
            },
            "type": "carpet"
           }
          ],
          "choropleth": [
           {
            "colorbar": {
             "outlinewidth": 0,
             "ticks": ""
            },
            "type": "choropleth"
           }
          ],
          "contour": [
           {
            "colorbar": {
             "outlinewidth": 0,
             "ticks": ""
            },
            "colorscale": [
             [
              0,
              "#0d0887"
             ],
             [
              0.1111111111111111,
              "#46039f"
             ],
             [
              0.2222222222222222,
              "#7201a8"
             ],
             [
              0.3333333333333333,
              "#9c179e"
             ],
             [
              0.4444444444444444,
              "#bd3786"
             ],
             [
              0.5555555555555556,
              "#d8576b"
             ],
             [
              0.6666666666666666,
              "#ed7953"
             ],
             [
              0.7777777777777778,
              "#fb9f3a"
             ],
             [
              0.8888888888888888,
              "#fdca26"
             ],
             [
              1,
              "#f0f921"
             ]
            ],
            "type": "contour"
           }
          ],
          "contourcarpet": [
           {
            "colorbar": {
             "outlinewidth": 0,
             "ticks": ""
            },
            "type": "contourcarpet"
           }
          ],
          "heatmap": [
           {
            "colorbar": {
             "outlinewidth": 0,
             "ticks": ""
            },
            "colorscale": [
             [
              0,
              "#0d0887"
             ],
             [
              0.1111111111111111,
              "#46039f"
             ],
             [
              0.2222222222222222,
              "#7201a8"
             ],
             [
              0.3333333333333333,
              "#9c179e"
             ],
             [
              0.4444444444444444,
              "#bd3786"
             ],
             [
              0.5555555555555556,
              "#d8576b"
             ],
             [
              0.6666666666666666,
              "#ed7953"
             ],
             [
              0.7777777777777778,
              "#fb9f3a"
             ],
             [
              0.8888888888888888,
              "#fdca26"
             ],
             [
              1,
              "#f0f921"
             ]
            ],
            "type": "heatmap"
           }
          ],
          "heatmapgl": [
           {
            "colorbar": {
             "outlinewidth": 0,
             "ticks": ""
            },
            "colorscale": [
             [
              0,
              "#0d0887"
             ],
             [
              0.1111111111111111,
              "#46039f"
             ],
             [
              0.2222222222222222,
              "#7201a8"
             ],
             [
              0.3333333333333333,
              "#9c179e"
             ],
             [
              0.4444444444444444,
              "#bd3786"
             ],
             [
              0.5555555555555556,
              "#d8576b"
             ],
             [
              0.6666666666666666,
              "#ed7953"
             ],
             [
              0.7777777777777778,
              "#fb9f3a"
             ],
             [
              0.8888888888888888,
              "#fdca26"
             ],
             [
              1,
              "#f0f921"
             ]
            ],
            "type": "heatmapgl"
           }
          ],
          "histogram": [
           {
            "marker": {
             "colorbar": {
              "outlinewidth": 0,
              "ticks": ""
             }
            },
            "type": "histogram"
           }
          ],
          "histogram2d": [
           {
            "colorbar": {
             "outlinewidth": 0,
             "ticks": ""
            },
            "colorscale": [
             [
              0,
              "#0d0887"
             ],
             [
              0.1111111111111111,
              "#46039f"
             ],
             [
              0.2222222222222222,
              "#7201a8"
             ],
             [
              0.3333333333333333,
              "#9c179e"
             ],
             [
              0.4444444444444444,
              "#bd3786"
             ],
             [
              0.5555555555555556,
              "#d8576b"
             ],
             [
              0.6666666666666666,
              "#ed7953"
             ],
             [
              0.7777777777777778,
              "#fb9f3a"
             ],
             [
              0.8888888888888888,
              "#fdca26"
             ],
             [
              1,
              "#f0f921"
             ]
            ],
            "type": "histogram2d"
           }
          ],
          "histogram2dcontour": [
           {
            "colorbar": {
             "outlinewidth": 0,
             "ticks": ""
            },
            "colorscale": [
             [
              0,
              "#0d0887"
             ],
             [
              0.1111111111111111,
              "#46039f"
             ],
             [
              0.2222222222222222,
              "#7201a8"
             ],
             [
              0.3333333333333333,
              "#9c179e"
             ],
             [
              0.4444444444444444,
              "#bd3786"
             ],
             [
              0.5555555555555556,
              "#d8576b"
             ],
             [
              0.6666666666666666,
              "#ed7953"
             ],
             [
              0.7777777777777778,
              "#fb9f3a"
             ],
             [
              0.8888888888888888,
              "#fdca26"
             ],
             [
              1,
              "#f0f921"
             ]
            ],
            "type": "histogram2dcontour"
           }
          ],
          "mesh3d": [
           {
            "colorbar": {
             "outlinewidth": 0,
             "ticks": ""
            },
            "type": "mesh3d"
           }
          ],
          "parcoords": [
           {
            "line": {
             "colorbar": {
              "outlinewidth": 0,
              "ticks": ""
             }
            },
            "type": "parcoords"
           }
          ],
          "pie": [
           {
            "automargin": true,
            "type": "pie"
           }
          ],
          "scatter": [
           {
            "marker": {
             "colorbar": {
              "outlinewidth": 0,
              "ticks": ""
             }
            },
            "type": "scatter"
           }
          ],
          "scatter3d": [
           {
            "line": {
             "colorbar": {
              "outlinewidth": 0,
              "ticks": ""
             }
            },
            "marker": {
             "colorbar": {
              "outlinewidth": 0,
              "ticks": ""
             }
            },
            "type": "scatter3d"
           }
          ],
          "scattercarpet": [
           {
            "marker": {
             "colorbar": {
              "outlinewidth": 0,
              "ticks": ""
             }
            },
            "type": "scattercarpet"
           }
          ],
          "scattergeo": [
           {
            "marker": {
             "colorbar": {
              "outlinewidth": 0,
              "ticks": ""
             }
            },
            "type": "scattergeo"
           }
          ],
          "scattergl": [
           {
            "marker": {
             "colorbar": {
              "outlinewidth": 0,
              "ticks": ""
             }
            },
            "type": "scattergl"
           }
          ],
          "scattermapbox": [
           {
            "marker": {
             "colorbar": {
              "outlinewidth": 0,
              "ticks": ""
             }
            },
            "type": "scattermapbox"
           }
          ],
          "scatterpolar": [
           {
            "marker": {
             "colorbar": {
              "outlinewidth": 0,
              "ticks": ""
             }
            },
            "type": "scatterpolar"
           }
          ],
          "scatterpolargl": [
           {
            "marker": {
             "colorbar": {
              "outlinewidth": 0,
              "ticks": ""
             }
            },
            "type": "scatterpolargl"
           }
          ],
          "scatterternary": [
           {
            "marker": {
             "colorbar": {
              "outlinewidth": 0,
              "ticks": ""
             }
            },
            "type": "scatterternary"
           }
          ],
          "surface": [
           {
            "colorbar": {
             "outlinewidth": 0,
             "ticks": ""
            },
            "colorscale": [
             [
              0,
              "#0d0887"
             ],
             [
              0.1111111111111111,
              "#46039f"
             ],
             [
              0.2222222222222222,
              "#7201a8"
             ],
             [
              0.3333333333333333,
              "#9c179e"
             ],
             [
              0.4444444444444444,
              "#bd3786"
             ],
             [
              0.5555555555555556,
              "#d8576b"
             ],
             [
              0.6666666666666666,
              "#ed7953"
             ],
             [
              0.7777777777777778,
              "#fb9f3a"
             ],
             [
              0.8888888888888888,
              "#fdca26"
             ],
             [
              1,
              "#f0f921"
             ]
            ],
            "type": "surface"
           }
          ],
          "table": [
           {
            "cells": {
             "fill": {
              "color": "#EBF0F8"
             },
             "line": {
              "color": "white"
             }
            },
            "header": {
             "fill": {
              "color": "#C8D4E3"
             },
             "line": {
              "color": "white"
             }
            },
            "type": "table"
           }
          ]
         },
         "layout": {
          "annotationdefaults": {
           "arrowcolor": "#2a3f5f",
           "arrowhead": 0,
           "arrowwidth": 1
          },
          "coloraxis": {
           "colorbar": {
            "outlinewidth": 0,
            "ticks": ""
           }
          },
          "colorscale": {
           "diverging": [
            [
             0,
             "#8e0152"
            ],
            [
             0.1,
             "#c51b7d"
            ],
            [
             0.2,
             "#de77ae"
            ],
            [
             0.3,
             "#f1b6da"
            ],
            [
             0.4,
             "#fde0ef"
            ],
            [
             0.5,
             "#f7f7f7"
            ],
            [
             0.6,
             "#e6f5d0"
            ],
            [
             0.7,
             "#b8e186"
            ],
            [
             0.8,
             "#7fbc41"
            ],
            [
             0.9,
             "#4d9221"
            ],
            [
             1,
             "#276419"
            ]
           ],
           "sequential": [
            [
             0,
             "#0d0887"
            ],
            [
             0.1111111111111111,
             "#46039f"
            ],
            [
             0.2222222222222222,
             "#7201a8"
            ],
            [
             0.3333333333333333,
             "#9c179e"
            ],
            [
             0.4444444444444444,
             "#bd3786"
            ],
            [
             0.5555555555555556,
             "#d8576b"
            ],
            [
             0.6666666666666666,
             "#ed7953"
            ],
            [
             0.7777777777777778,
             "#fb9f3a"
            ],
            [
             0.8888888888888888,
             "#fdca26"
            ],
            [
             1,
             "#f0f921"
            ]
           ],
           "sequentialminus": [
            [
             0,
             "#0d0887"
            ],
            [
             0.1111111111111111,
             "#46039f"
            ],
            [
             0.2222222222222222,
             "#7201a8"
            ],
            [
             0.3333333333333333,
             "#9c179e"
            ],
            [
             0.4444444444444444,
             "#bd3786"
            ],
            [
             0.5555555555555556,
             "#d8576b"
            ],
            [
             0.6666666666666666,
             "#ed7953"
            ],
            [
             0.7777777777777778,
             "#fb9f3a"
            ],
            [
             0.8888888888888888,
             "#fdca26"
            ],
            [
             1,
             "#f0f921"
            ]
           ]
          },
          "colorway": [
           "#636efa",
           "#EF553B",
           "#00cc96",
           "#ab63fa",
           "#FFA15A",
           "#19d3f3",
           "#FF6692",
           "#B6E880",
           "#FF97FF",
           "#FECB52"
          ],
          "font": {
           "color": "#2a3f5f"
          },
          "geo": {
           "bgcolor": "white",
           "lakecolor": "white",
           "landcolor": "#E5ECF6",
           "showlakes": true,
           "showland": true,
           "subunitcolor": "white"
          },
          "hoverlabel": {
           "align": "left"
          },
          "hovermode": "closest",
          "mapbox": {
           "style": "light"
          },
          "paper_bgcolor": "white",
          "plot_bgcolor": "#E5ECF6",
          "polar": {
           "angularaxis": {
            "gridcolor": "white",
            "linecolor": "white",
            "ticks": ""
           },
           "bgcolor": "#E5ECF6",
           "radialaxis": {
            "gridcolor": "white",
            "linecolor": "white",
            "ticks": ""
           }
          },
          "scene": {
           "xaxis": {
            "backgroundcolor": "#E5ECF6",
            "gridcolor": "white",
            "gridwidth": 2,
            "linecolor": "white",
            "showbackground": true,
            "ticks": "",
            "zerolinecolor": "white"
           },
           "yaxis": {
            "backgroundcolor": "#E5ECF6",
            "gridcolor": "white",
            "gridwidth": 2,
            "linecolor": "white",
            "showbackground": true,
            "ticks": "",
            "zerolinecolor": "white"
           },
           "zaxis": {
            "backgroundcolor": "#E5ECF6",
            "gridcolor": "white",
            "gridwidth": 2,
            "linecolor": "white",
            "showbackground": true,
            "ticks": "",
            "zerolinecolor": "white"
           }
          },
          "shapedefaults": {
           "line": {
            "color": "#2a3f5f"
           }
          },
          "ternary": {
           "aaxis": {
            "gridcolor": "white",
            "linecolor": "white",
            "ticks": ""
           },
           "baxis": {
            "gridcolor": "white",
            "linecolor": "white",
            "ticks": ""
           },
           "bgcolor": "#E5ECF6",
           "caxis": {
            "gridcolor": "white",
            "linecolor": "white",
            "ticks": ""
           }
          },
          "title": {
           "x": 0.05
          },
          "xaxis": {
           "automargin": true,
           "gridcolor": "white",
           "linecolor": "white",
           "ticks": "",
           "title": {
            "standoff": 15
           },
           "zerolinecolor": "white",
           "zerolinewidth": 2
          },
          "yaxis": {
           "automargin": true,
           "gridcolor": "white",
           "linecolor": "white",
           "ticks": "",
           "title": {
            "standoff": 15
           },
           "zerolinecolor": "white",
           "zerolinewidth": 2
          }
         }
        },
        "title": {
         "font": {
          "family": "Lato",
          "size": 20
         },
         "text": "Average Daily Screen Time by Academic Performance Perception"
        },
        "xaxis": {
         "anchor": "y",
         "categoryarray": [
          "No",
          "Yes"
         ],
         "categoryorder": "array",
         "domain": [
          0,
          1
         ],
         "title": {
          "text": "Self-Reported Academic Impact"
         }
        },
        "yaxis": {
         "anchor": "x",
         "domain": [
          0,
          1
         ],
         "gridcolor": "lightgrey",
         "title": {
          "text": "Avg Daily Screen Time (hrs)"
         }
        }
       }
      }
     },
     "metadata": {},
     "output_type": "display_data"
    }
   ],
   "source": [
    "# Group by academic impact category and summarize usage\n",
    "usage_summary = (\n",
    "    student_df.groupby('affects_academic_performance')['avg_daily_usage_hours']\n",
    "    .agg(['mean', 'median', 'std', 'count'])\n",
    "    .reset_index()\n",
    "    .rename(columns={\n",
    "        'mean': 'avg_usage_hours',\n",
    "        'median': 'median_usage_hours',\n",
    "        'std': 'std_dev',\n",
    "        'count': 'num_students'\n",
    "    })\n",
    "    .round(2)\n",
    ")\n",
    "\n",
    "# Print the relationship\n",
    "print(\"Average Daily Screen Time by Academic Impact Category:\\n\", usage_summary)\n",
    "\n",
    "# Bar Plot with Inside Text\n",
    "fig = px.bar(\n",
    "    usage_summary,\n",
    "    x = 'affects_academic_performance',\n",
    "    y = 'avg_usage_hours',\n",
    "    color = 'affects_academic_performance',\n",
    "    text = 'avg_usage_hours',\n",
    "    color_discrete_sequence = ['#E74C3C', '#2C3E50'],\n",
    "    labels = {\n",
    "        'affects_academic_performance': 'Self-Reported Academic Impact',\n",
    "        'avg_usage_hours': 'Avg Daily Screen Time (hrs)'\n",
    "    },\n",
    "    title = 'Average Daily Screen Time by Academic Performance Perception'\n",
    ")\n",
    "\n",
    "# Annotate bars\n",
    "fig.update_traces(\n",
    "    textposition = 'inside',\n",
    "    textfont_size = 14,\n",
    "    textfont_color = 'white'\n",
    ")\n",
    "\n",
    "fig.update_layout(\n",
    "    showlegend = False,\n",
    "    font = dict(family = 'Lato', size = 14),\n",
    "    title_font = dict(size = 20, family = 'Lato'),\n",
    "    plot_bgcolor = 'white',\n",
    "    yaxis = dict(gridcolor = 'lightgrey'),\n",
    "    hoverlabel = dict(bgcolor = 'white', font_family = 'Lato')\n",
    ")\n",
    "\n",
    "fig.show()"
   ]
  },
  {
   "cell_type": "markdown",
   "id": "03296e38",
   "metadata": {},
   "source": [
    "## How Do Screen Addiction Levels Vary by Academic Reports?\n",
    "In this breakdown, we’re comparing: **affects_academic_performance**: A categorical variable (Yes/No) indicating whether students believe their academic performance is affected by screen use and **addicted_score**: A continuous value indicating screen addiction severity- higher = more compulsive usage."
   ]
  },
  {
   "cell_type": "code",
   "execution_count": null,
   "id": "00320910",
   "metadata": {},
   "outputs": [
    {
     "name": "stdout",
     "output_type": "stream",
     "text": [
      "Addiction Score by Academic Impact Category:\n",
      "   affects_academic_performance  avg_addicted_score  std_dev  num_students\n",
      "0                           No                4.60     0.72           252\n",
      "1                          Yes                7.46     0.83           453\n"
     ]
    },
    {
     "data": {
      "application/vnd.plotly.v1+json": {
       "config": {
        "plotlyServerURL": "https://plot.ly"
       },
       "data": [
        {
         "error_y": {
          "array": [
           0.72,
           0.83
          ],
          "color": "rgba(0,0,0,0.5)",
          "thickness": 2,
          "type": "data",
          "visible": true
         },
         "hovertemplate": "Academic Impact: %{x}<br>Avg Addiction Score: %{y}<br>Std Dev: %{error_y.array}<extra></extra>",
         "marker": {
          "color": [
           "#E74C3C",
           "#3498DB"
          ]
         },
         "text": [
          4.6,
          7.46
         ],
         "textfont": {
          "color": "white",
          "size": 14
         },
         "textposition": "inside",
         "type": "bar",
         "x": [
          "No",
          "Yes"
         ],
         "y": [
          4.6,
          7.46
         ]
        }
       ],
       "layout": {
        "font": {
         "family": "Lato",
         "size": 14
        },
        "hoverlabel": {
         "bgcolor": "white",
         "font": {
          "family": "Lato"
         }
        },
        "plot_bgcolor": "white",
        "showlegend": false,
        "template": {
         "data": {
          "bar": [
           {
            "error_x": {
             "color": "#2a3f5f"
            },
            "error_y": {
             "color": "#2a3f5f"
            },
            "marker": {
             "line": {
              "color": "#E5ECF6",
              "width": 0.5
             }
            },
            "type": "bar"
           }
          ],
          "barpolar": [
           {
            "marker": {
             "line": {
              "color": "#E5ECF6",
              "width": 0.5
             }
            },
            "type": "barpolar"
           }
          ],
          "carpet": [
           {
            "aaxis": {
             "endlinecolor": "#2a3f5f",
             "gridcolor": "white",
             "linecolor": "white",
             "minorgridcolor": "white",
             "startlinecolor": "#2a3f5f"
            },
            "baxis": {
             "endlinecolor": "#2a3f5f",
             "gridcolor": "white",
             "linecolor": "white",
             "minorgridcolor": "white",
             "startlinecolor": "#2a3f5f"
            },
            "type": "carpet"
           }
          ],
          "choropleth": [
           {
            "colorbar": {
             "outlinewidth": 0,
             "ticks": ""
            },
            "type": "choropleth"
           }
          ],
          "contour": [
           {
            "colorbar": {
             "outlinewidth": 0,
             "ticks": ""
            },
            "colorscale": [
             [
              0,
              "#0d0887"
             ],
             [
              0.1111111111111111,
              "#46039f"
             ],
             [
              0.2222222222222222,
              "#7201a8"
             ],
             [
              0.3333333333333333,
              "#9c179e"
             ],
             [
              0.4444444444444444,
              "#bd3786"
             ],
             [
              0.5555555555555556,
              "#d8576b"
             ],
             [
              0.6666666666666666,
              "#ed7953"
             ],
             [
              0.7777777777777778,
              "#fb9f3a"
             ],
             [
              0.8888888888888888,
              "#fdca26"
             ],
             [
              1,
              "#f0f921"
             ]
            ],
            "type": "contour"
           }
          ],
          "contourcarpet": [
           {
            "colorbar": {
             "outlinewidth": 0,
             "ticks": ""
            },
            "type": "contourcarpet"
           }
          ],
          "heatmap": [
           {
            "colorbar": {
             "outlinewidth": 0,
             "ticks": ""
            },
            "colorscale": [
             [
              0,
              "#0d0887"
             ],
             [
              0.1111111111111111,
              "#46039f"
             ],
             [
              0.2222222222222222,
              "#7201a8"
             ],
             [
              0.3333333333333333,
              "#9c179e"
             ],
             [
              0.4444444444444444,
              "#bd3786"
             ],
             [
              0.5555555555555556,
              "#d8576b"
             ],
             [
              0.6666666666666666,
              "#ed7953"
             ],
             [
              0.7777777777777778,
              "#fb9f3a"
             ],
             [
              0.8888888888888888,
              "#fdca26"
             ],
             [
              1,
              "#f0f921"
             ]
            ],
            "type": "heatmap"
           }
          ],
          "heatmapgl": [
           {
            "colorbar": {
             "outlinewidth": 0,
             "ticks": ""
            },
            "colorscale": [
             [
              0,
              "#0d0887"
             ],
             [
              0.1111111111111111,
              "#46039f"
             ],
             [
              0.2222222222222222,
              "#7201a8"
             ],
             [
              0.3333333333333333,
              "#9c179e"
             ],
             [
              0.4444444444444444,
              "#bd3786"
             ],
             [
              0.5555555555555556,
              "#d8576b"
             ],
             [
              0.6666666666666666,
              "#ed7953"
             ],
             [
              0.7777777777777778,
              "#fb9f3a"
             ],
             [
              0.8888888888888888,
              "#fdca26"
             ],
             [
              1,
              "#f0f921"
             ]
            ],
            "type": "heatmapgl"
           }
          ],
          "histogram": [
           {
            "marker": {
             "colorbar": {
              "outlinewidth": 0,
              "ticks": ""
             }
            },
            "type": "histogram"
           }
          ],
          "histogram2d": [
           {
            "colorbar": {
             "outlinewidth": 0,
             "ticks": ""
            },
            "colorscale": [
             [
              0,
              "#0d0887"
             ],
             [
              0.1111111111111111,
              "#46039f"
             ],
             [
              0.2222222222222222,
              "#7201a8"
             ],
             [
              0.3333333333333333,
              "#9c179e"
             ],
             [
              0.4444444444444444,
              "#bd3786"
             ],
             [
              0.5555555555555556,
              "#d8576b"
             ],
             [
              0.6666666666666666,
              "#ed7953"
             ],
             [
              0.7777777777777778,
              "#fb9f3a"
             ],
             [
              0.8888888888888888,
              "#fdca26"
             ],
             [
              1,
              "#f0f921"
             ]
            ],
            "type": "histogram2d"
           }
          ],
          "histogram2dcontour": [
           {
            "colorbar": {
             "outlinewidth": 0,
             "ticks": ""
            },
            "colorscale": [
             [
              0,
              "#0d0887"
             ],
             [
              0.1111111111111111,
              "#46039f"
             ],
             [
              0.2222222222222222,
              "#7201a8"
             ],
             [
              0.3333333333333333,
              "#9c179e"
             ],
             [
              0.4444444444444444,
              "#bd3786"
             ],
             [
              0.5555555555555556,
              "#d8576b"
             ],
             [
              0.6666666666666666,
              "#ed7953"
             ],
             [
              0.7777777777777778,
              "#fb9f3a"
             ],
             [
              0.8888888888888888,
              "#fdca26"
             ],
             [
              1,
              "#f0f921"
             ]
            ],
            "type": "histogram2dcontour"
           }
          ],
          "mesh3d": [
           {
            "colorbar": {
             "outlinewidth": 0,
             "ticks": ""
            },
            "type": "mesh3d"
           }
          ],
          "parcoords": [
           {
            "line": {
             "colorbar": {
              "outlinewidth": 0,
              "ticks": ""
             }
            },
            "type": "parcoords"
           }
          ],
          "pie": [
           {
            "automargin": true,
            "type": "pie"
           }
          ],
          "scatter": [
           {
            "marker": {
             "colorbar": {
              "outlinewidth": 0,
              "ticks": ""
             }
            },
            "type": "scatter"
           }
          ],
          "scatter3d": [
           {
            "line": {
             "colorbar": {
              "outlinewidth": 0,
              "ticks": ""
             }
            },
            "marker": {
             "colorbar": {
              "outlinewidth": 0,
              "ticks": ""
             }
            },
            "type": "scatter3d"
           }
          ],
          "scattercarpet": [
           {
            "marker": {
             "colorbar": {
              "outlinewidth": 0,
              "ticks": ""
             }
            },
            "type": "scattercarpet"
           }
          ],
          "scattergeo": [
           {
            "marker": {
             "colorbar": {
              "outlinewidth": 0,
              "ticks": ""
             }
            },
            "type": "scattergeo"
           }
          ],
          "scattergl": [
           {
            "marker": {
             "colorbar": {
              "outlinewidth": 0,
              "ticks": ""
             }
            },
            "type": "scattergl"
           }
          ],
          "scattermapbox": [
           {
            "marker": {
             "colorbar": {
              "outlinewidth": 0,
              "ticks": ""
             }
            },
            "type": "scattermapbox"
           }
          ],
          "scatterpolar": [
           {
            "marker": {
             "colorbar": {
              "outlinewidth": 0,
              "ticks": ""
             }
            },
            "type": "scatterpolar"
           }
          ],
          "scatterpolargl": [
           {
            "marker": {
             "colorbar": {
              "outlinewidth": 0,
              "ticks": ""
             }
            },
            "type": "scatterpolargl"
           }
          ],
          "scatterternary": [
           {
            "marker": {
             "colorbar": {
              "outlinewidth": 0,
              "ticks": ""
             }
            },
            "type": "scatterternary"
           }
          ],
          "surface": [
           {
            "colorbar": {
             "outlinewidth": 0,
             "ticks": ""
            },
            "colorscale": [
             [
              0,
              "#0d0887"
             ],
             [
              0.1111111111111111,
              "#46039f"
             ],
             [
              0.2222222222222222,
              "#7201a8"
             ],
             [
              0.3333333333333333,
              "#9c179e"
             ],
             [
              0.4444444444444444,
              "#bd3786"
             ],
             [
              0.5555555555555556,
              "#d8576b"
             ],
             [
              0.6666666666666666,
              "#ed7953"
             ],
             [
              0.7777777777777778,
              "#fb9f3a"
             ],
             [
              0.8888888888888888,
              "#fdca26"
             ],
             [
              1,
              "#f0f921"
             ]
            ],
            "type": "surface"
           }
          ],
          "table": [
           {
            "cells": {
             "fill": {
              "color": "#EBF0F8"
             },
             "line": {
              "color": "white"
             }
            },
            "header": {
             "fill": {
              "color": "#C8D4E3"
             },
             "line": {
              "color": "white"
             }
            },
            "type": "table"
           }
          ]
         },
         "layout": {
          "annotationdefaults": {
           "arrowcolor": "#2a3f5f",
           "arrowhead": 0,
           "arrowwidth": 1
          },
          "coloraxis": {
           "colorbar": {
            "outlinewidth": 0,
            "ticks": ""
           }
          },
          "colorscale": {
           "diverging": [
            [
             0,
             "#8e0152"
            ],
            [
             0.1,
             "#c51b7d"
            ],
            [
             0.2,
             "#de77ae"
            ],
            [
             0.3,
             "#f1b6da"
            ],
            [
             0.4,
             "#fde0ef"
            ],
            [
             0.5,
             "#f7f7f7"
            ],
            [
             0.6,
             "#e6f5d0"
            ],
            [
             0.7,
             "#b8e186"
            ],
            [
             0.8,
             "#7fbc41"
            ],
            [
             0.9,
             "#4d9221"
            ],
            [
             1,
             "#276419"
            ]
           ],
           "sequential": [
            [
             0,
             "#0d0887"
            ],
            [
             0.1111111111111111,
             "#46039f"
            ],
            [
             0.2222222222222222,
             "#7201a8"
            ],
            [
             0.3333333333333333,
             "#9c179e"
            ],
            [
             0.4444444444444444,
             "#bd3786"
            ],
            [
             0.5555555555555556,
             "#d8576b"
            ],
            [
             0.6666666666666666,
             "#ed7953"
            ],
            [
             0.7777777777777778,
             "#fb9f3a"
            ],
            [
             0.8888888888888888,
             "#fdca26"
            ],
            [
             1,
             "#f0f921"
            ]
           ],
           "sequentialminus": [
            [
             0,
             "#0d0887"
            ],
            [
             0.1111111111111111,
             "#46039f"
            ],
            [
             0.2222222222222222,
             "#7201a8"
            ],
            [
             0.3333333333333333,
             "#9c179e"
            ],
            [
             0.4444444444444444,
             "#bd3786"
            ],
            [
             0.5555555555555556,
             "#d8576b"
            ],
            [
             0.6666666666666666,
             "#ed7953"
            ],
            [
             0.7777777777777778,
             "#fb9f3a"
            ],
            [
             0.8888888888888888,
             "#fdca26"
            ],
            [
             1,
             "#f0f921"
            ]
           ]
          },
          "colorway": [
           "#636efa",
           "#EF553B",
           "#00cc96",
           "#ab63fa",
           "#FFA15A",
           "#19d3f3",
           "#FF6692",
           "#B6E880",
           "#FF97FF",
           "#FECB52"
          ],
          "font": {
           "color": "#2a3f5f"
          },
          "geo": {
           "bgcolor": "white",
           "lakecolor": "white",
           "landcolor": "#E5ECF6",
           "showlakes": true,
           "showland": true,
           "subunitcolor": "white"
          },
          "hoverlabel": {
           "align": "left"
          },
          "hovermode": "closest",
          "mapbox": {
           "style": "light"
          },
          "paper_bgcolor": "white",
          "plot_bgcolor": "#E5ECF6",
          "polar": {
           "angularaxis": {
            "gridcolor": "white",
            "linecolor": "white",
            "ticks": ""
           },
           "bgcolor": "#E5ECF6",
           "radialaxis": {
            "gridcolor": "white",
            "linecolor": "white",
            "ticks": ""
           }
          },
          "scene": {
           "xaxis": {
            "backgroundcolor": "#E5ECF6",
            "gridcolor": "white",
            "gridwidth": 2,
            "linecolor": "white",
            "showbackground": true,
            "ticks": "",
            "zerolinecolor": "white"
           },
           "yaxis": {
            "backgroundcolor": "#E5ECF6",
            "gridcolor": "white",
            "gridwidth": 2,
            "linecolor": "white",
            "showbackground": true,
            "ticks": "",
            "zerolinecolor": "white"
           },
           "zaxis": {
            "backgroundcolor": "#E5ECF6",
            "gridcolor": "white",
            "gridwidth": 2,
            "linecolor": "white",
            "showbackground": true,
            "ticks": "",
            "zerolinecolor": "white"
           }
          },
          "shapedefaults": {
           "line": {
            "color": "#2a3f5f"
           }
          },
          "ternary": {
           "aaxis": {
            "gridcolor": "white",
            "linecolor": "white",
            "ticks": ""
           },
           "baxis": {
            "gridcolor": "white",
            "linecolor": "white",
            "ticks": ""
           },
           "bgcolor": "#E5ECF6",
           "caxis": {
            "gridcolor": "white",
            "linecolor": "white",
            "ticks": ""
           }
          },
          "title": {
           "x": 0.05
          },
          "xaxis": {
           "automargin": true,
           "gridcolor": "white",
           "linecolor": "white",
           "ticks": "",
           "title": {
            "standoff": 15
           },
           "zerolinecolor": "white",
           "zerolinewidth": 2
          },
          "yaxis": {
           "automargin": true,
           "gridcolor": "white",
           "linecolor": "white",
           "ticks": "",
           "title": {
            "standoff": 15
           },
           "zerolinecolor": "white",
           "zerolinewidth": 2
          }
         }
        },
        "title": {
         "font": {
          "family": "Lato",
          "size": 20
         },
         "text": "Average Screen Addiction Score by Academic Impact (with Std Dev)"
        },
        "xaxis": {
         "title": {
          "text": "Academic Impact"
         }
        },
        "yaxis": {
         "gridcolor": "lightgrey",
         "title": {
          "text": "Average Addiction Score"
         }
        }
       }
      }
     },
     "metadata": {},
     "output_type": "display_data"
    }
   ],
   "source": [
    "# Summarize addiction score by academic performance impact\n",
    "addiction_summary = (\n",
    "    student_df.groupby('affects_academic_performance')['addicted_score']\n",
    "    .agg(['mean', 'std', 'count'])\n",
    "    .reset_index()\n",
    "    .rename(columns = {\n",
    "        'mean': 'avg_addicted_score',\n",
    "        'std': 'std_dev',\n",
    "        'count': 'num_students'\n",
    "    })\n",
    "    .round(2)\n",
    ")\n",
    "\n",
    "# Print summary\n",
    "print(\"Addiction Score by Academic Impact Category:\\n\", addiction_summary)\n",
    "\n",
    "# Create bar plot with error bars\n",
    "fig = go.Figure(data = [\n",
    "    go.Bar(\n",
    "        x = addiction_summary['affects_academic_performance'],\n",
    "        y = addiction_summary['avg_addicted_score'],\n",
    "        text = addiction_summary['avg_addicted_score'],\n",
    "        textposition = 'inside',\n",
    "        textfont = dict(color = 'white', size = 14),\n",
    "        marker_color = ['#E74C3C', '#3498DB'],\n",
    "        error_y = dict(\n",
    "            type = 'data',\n",
    "            array = addiction_summary['std_dev'],\n",
    "            visible = True,\n",
    "            color = 'rgba(0,0,0,0.5)',\n",
    "            thickness = 2\n",
    "        ),\n",
    "        hovertemplate = (\n",
    "            'Academic Impact: %{x}<br>' +\n",
    "            'Avg Addiction Score: %{y}<br>' +\n",
    "            'Std Dev: %{error_y.array}<extra></extra>'\n",
    "        )\n",
    "    )\n",
    "])\n",
    "\n",
    "# Layout\n",
    "fig.update_layout(\n",
    "    title = 'Average Screen Addiction Score by Academic Impact',\n",
    "    xaxis = dict(title = 'Academic Impact'),\n",
    "    yaxis = dict(title = 'Average Addiction Score'),\n",
    "    font = dict(family = 'Lato', size = 14),\n",
    "    title_font = dict(family = 'Lato', size = 20),\n",
    "    plot_bgcolor = 'white',\n",
    "    yaxis_gridcolor = 'lightgrey',\n",
    "    showlegend = False,\n",
    "    hoverlabel = dict(bgcolor = 'white', font_family = 'Lato')\n",
    ")\n",
    "\n",
    "fig.show()"
   ]
  },
  {
   "cell_type": "markdown",
   "id": "583d676b",
   "metadata": {},
   "source": [
    "## Do Students Who Report Academic Impact Also Struggle with Mental Health?\n",
    "In this section, we explore whether students who **self-report that screen usage affects their academic performance** also show signs of **poorer mental health**.\n",
    "\n",
    "To find out, we’ll compare the **distribution of mental health scores** across these groups using a box plot\n"
   ]
  },
  {
   "cell_type": "code",
   "execution_count": 86,
   "id": "0256afc4",
   "metadata": {},
   "outputs": [
    {
     "name": "stdout",
     "output_type": "stream",
     "text": [
      "Mental Health Score by Academic Impact Category:\n",
      "   affects_academic_performance  avg_mental_health_score  median_score  \\\n",
      "0                           No                     7.42             7   \n",
      "1                          Yes                     5.56             6   \n",
      "\n",
      "   std_dev  num_students  \n",
      "0     0.50           252  \n",
      "1     0.72           453  \n"
     ]
    },
    {
     "data": {
      "application/vnd.plotly.v1+json": {
       "config": {
        "plotlyServerURL": "https://plot.ly"
       },
       "data": [
        {
         "alignmentgroup": "True",
         "boxpoints": "all",
         "hovertemplate": "Academic Impact=%{x}<br>Mental Health Score=%{y}<extra></extra>",
         "legendgroup": "Yes",
         "marker": {
          "color": "#8E44AD"
         },
         "name": "Yes",
         "notched": false,
         "offsetgroup": "Yes",
         "orientation": "v",
         "showlegend": true,
         "type": "box",
         "x": [
          "Yes",
          "Yes",
          "Yes",
          "Yes",
          "Yes",
          "Yes",
          "Yes",
          "Yes",
          "Yes",
          "Yes",
          "Yes",
          "Yes",
          "Yes",
          "Yes",
          "Yes",
          "Yes",
          "Yes",
          "Yes",
          "Yes",
          "Yes",
          "Yes",
          "Yes",
          "Yes",
          "Yes",
          "Yes",
          "Yes",
          "Yes",
          "Yes",
          "Yes",
          "Yes",
          "Yes",
          "Yes",
          "Yes",
          "Yes",
          "Yes",
          "Yes",
          "Yes",
          "Yes",
          "Yes",
          "Yes",
          "Yes",
          "Yes",
          "Yes",
          "Yes",
          "Yes",
          "Yes",
          "Yes",
          "Yes",
          "Yes",
          "Yes",
          "Yes",
          "Yes",
          "Yes",
          "Yes",
          "Yes",
          "Yes",
          "Yes",
          "Yes",
          "Yes",
          "Yes",
          "Yes",
          "Yes",
          "Yes",
          "Yes",
          "Yes",
          "Yes",
          "Yes",
          "Yes",
          "Yes",
          "Yes",
          "Yes",
          "Yes",
          "Yes",
          "Yes",
          "Yes",
          "Yes",
          "Yes",
          "Yes",
          "Yes",
          "Yes",
          "Yes",
          "Yes",
          "Yes",
          "Yes",
          "Yes",
          "Yes",
          "Yes",
          "Yes",
          "Yes",
          "Yes",
          "Yes",
          "Yes",
          "Yes",
          "Yes",
          "Yes",
          "Yes",
          "Yes",
          "Yes",
          "Yes",
          "Yes",
          "Yes",
          "Yes",
          "Yes",
          "Yes",
          "Yes",
          "Yes",
          "Yes",
          "Yes",
          "Yes",
          "Yes",
          "Yes",
          "Yes",
          "Yes",
          "Yes",
          "Yes",
          "Yes",
          "Yes",
          "Yes",
          "Yes",
          "Yes",
          "Yes",
          "Yes",
          "Yes",
          "Yes",
          "Yes",
          "Yes",
          "Yes",
          "Yes",
          "Yes",
          "Yes",
          "Yes",
          "Yes",
          "Yes",
          "Yes",
          "Yes",
          "Yes",
          "Yes",
          "Yes",
          "Yes",
          "Yes",
          "Yes",
          "Yes",
          "Yes",
          "Yes",
          "Yes",
          "Yes",
          "Yes",
          "Yes",
          "Yes",
          "Yes",
          "Yes",
          "Yes",
          "Yes",
          "Yes",
          "Yes",
          "Yes",
          "Yes",
          "Yes",
          "Yes",
          "Yes",
          "Yes",
          "Yes",
          "Yes",
          "Yes",
          "Yes",
          "Yes",
          "Yes",
          "Yes",
          "Yes",
          "Yes",
          "Yes",
          "Yes",
          "Yes",
          "Yes",
          "Yes",
          "Yes",
          "Yes",
          "Yes",
          "Yes",
          "Yes",
          "Yes",
          "Yes",
          "Yes",
          "Yes",
          "Yes",
          "Yes",
          "Yes",
          "Yes",
          "Yes",
          "Yes",
          "Yes",
          "Yes",
          "Yes",
          "Yes",
          "Yes",
          "Yes",
          "Yes",
          "Yes",
          "Yes",
          "Yes",
          "Yes",
          "Yes",
          "Yes",
          "Yes",
          "Yes",
          "Yes",
          "Yes",
          "Yes",
          "Yes",
          "Yes",
          "Yes",
          "Yes",
          "Yes",
          "Yes",
          "Yes",
          "Yes",
          "Yes",
          "Yes",
          "Yes",
          "Yes",
          "Yes",
          "Yes",
          "Yes",
          "Yes",
          "Yes",
          "Yes",
          "Yes",
          "Yes",
          "Yes",
          "Yes",
          "Yes",
          "Yes",
          "Yes",
          "Yes",
          "Yes",
          "Yes",
          "Yes",
          "Yes",
          "Yes",
          "Yes",
          "Yes",
          "Yes",
          "Yes",
          "Yes",
          "Yes",
          "Yes",
          "Yes",
          "Yes",
          "Yes",
          "Yes",
          "Yes",
          "Yes",
          "Yes",
          "Yes",
          "Yes",
          "Yes",
          "Yes",
          "Yes",
          "Yes",
          "Yes",
          "Yes",
          "Yes",
          "Yes",
          "Yes",
          "Yes",
          "Yes",
          "Yes",
          "Yes",
          "Yes",
          "Yes",
          "Yes",
          "Yes",
          "Yes",
          "Yes",
          "Yes",
          "Yes",
          "Yes",
          "Yes",
          "Yes",
          "Yes",
          "Yes",
          "Yes",
          "Yes",
          "Yes",
          "Yes",
          "Yes",
          "Yes",
          "Yes",
          "Yes",
          "Yes",
          "Yes",
          "Yes",
          "Yes",
          "Yes",
          "Yes",
          "Yes",
          "Yes",
          "Yes",
          "Yes",
          "Yes",
          "Yes",
          "Yes",
          "Yes",
          "Yes",
          "Yes",
          "Yes",
          "Yes",
          "Yes",
          "Yes",
          "Yes",
          "Yes",
          "Yes",
          "Yes",
          "Yes",
          "Yes",
          "Yes",
          "Yes",
          "Yes",
          "Yes",
          "Yes",
          "Yes",
          "Yes",
          "Yes",
          "Yes",
          "Yes",
          "Yes",
          "Yes",
          "Yes",
          "Yes",
          "Yes",
          "Yes",
          "Yes",
          "Yes",
          "Yes",
          "Yes",
          "Yes",
          "Yes",
          "Yes",
          "Yes",
          "Yes",
          "Yes",
          "Yes",
          "Yes",
          "Yes",
          "Yes",
          "Yes",
          "Yes",
          "Yes",
          "Yes",
          "Yes",
          "Yes",
          "Yes",
          "Yes",
          "Yes",
          "Yes",
          "Yes",
          "Yes",
          "Yes",
          "Yes",
          "Yes",
          "Yes",
          "Yes",
          "Yes",
          "Yes",
          "Yes",
          "Yes",
          "Yes",
          "Yes",
          "Yes",
          "Yes",
          "Yes",
          "Yes",
          "Yes",
          "Yes",
          "Yes",
          "Yes",
          "Yes",
          "Yes",
          "Yes",
          "Yes",
          "Yes",
          "Yes",
          "Yes",
          "Yes",
          "Yes",
          "Yes",
          "Yes",
          "Yes",
          "Yes",
          "Yes",
          "Yes",
          "Yes",
          "Yes",
          "Yes",
          "Yes",
          "Yes",
          "Yes",
          "Yes",
          "Yes",
          "Yes",
          "Yes",
          "Yes",
          "Yes",
          "Yes",
          "Yes",
          "Yes",
          "Yes",
          "Yes",
          "Yes",
          "Yes",
          "Yes",
          "Yes",
          "Yes",
          "Yes",
          "Yes",
          "Yes",
          "Yes",
          "Yes",
          "Yes",
          "Yes",
          "Yes",
          "Yes",
          "Yes",
          "Yes",
          "Yes",
          "Yes",
          "Yes",
          "Yes",
          "Yes",
          "Yes",
          "Yes",
          "Yes",
          "Yes",
          "Yes",
          "Yes",
          "Yes",
          "Yes",
          "Yes",
          "Yes",
          "Yes",
          "Yes",
          "Yes",
          "Yes",
          "Yes",
          "Yes",
          "Yes",
          "Yes",
          "Yes",
          "Yes",
          "Yes",
          "Yes",
          "Yes",
          "Yes"
         ],
         "x0": " ",
         "xaxis": "x",
         "y": [
          6,
          5,
          6,
          4,
          6,
          5,
          6,
          5,
          6,
          5,
          6,
          5,
          6,
          5,
          5,
          6,
          5,
          6,
          5,
          6,
          5,
          5,
          6,
          5,
          6,
          5,
          6,
          5,
          5,
          6,
          5,
          6,
          5,
          6,
          5,
          5,
          6,
          4,
          6,
          5,
          6,
          5,
          6,
          5,
          6,
          5,
          6,
          5,
          6,
          5,
          6,
          5,
          6,
          5,
          6,
          5,
          6,
          5,
          6,
          5,
          5,
          6,
          5,
          6,
          5,
          6,
          5,
          6,
          5,
          6,
          5,
          6,
          5,
          6,
          5,
          6,
          5,
          6,
          5,
          6,
          5,
          6,
          5,
          6,
          5,
          6,
          5,
          6,
          5,
          6,
          5,
          6,
          5,
          6,
          5,
          6,
          5,
          6,
          5,
          6,
          5,
          6,
          5,
          6,
          5,
          6,
          5,
          6,
          5,
          6,
          5,
          6,
          5,
          6,
          5,
          6,
          5,
          6,
          5,
          6,
          5,
          6,
          5,
          6,
          5,
          6,
          5,
          6,
          5,
          6,
          5,
          6,
          5,
          6,
          5,
          6,
          5,
          6,
          5,
          6,
          5,
          6,
          6,
          6,
          4,
          6,
          5,
          6,
          4,
          6,
          5,
          6,
          4,
          6,
          5,
          6,
          4,
          6,
          5,
          6,
          4,
          6,
          5,
          6,
          4,
          6,
          5,
          6,
          4,
          6,
          5,
          6,
          4,
          6,
          5,
          6,
          4,
          6,
          5,
          6,
          4,
          6,
          5,
          6,
          4,
          6,
          5,
          6,
          4,
          6,
          6,
          7,
          5,
          6,
          5,
          6,
          6,
          6,
          7,
          5,
          6,
          5,
          6,
          6,
          6,
          7,
          5,
          6,
          5,
          6,
          6,
          6,
          7,
          5,
          6,
          5,
          6,
          6,
          6,
          7,
          5,
          6,
          5,
          6,
          6,
          6,
          7,
          5,
          6,
          5,
          6,
          6,
          6,
          7,
          5,
          6,
          5,
          6,
          6,
          6,
          7,
          5,
          6,
          5,
          6,
          6,
          6,
          7,
          5,
          6,
          5,
          6,
          6,
          6,
          7,
          5,
          6,
          5,
          6,
          6,
          6,
          7,
          5,
          6,
          5,
          6,
          6,
          6,
          7,
          5,
          6,
          5,
          6,
          6,
          6,
          7,
          5,
          6,
          5,
          6,
          6,
          6,
          7,
          5,
          6,
          5,
          6,
          6,
          6,
          7,
          5,
          6,
          5,
          6,
          6,
          6,
          7,
          5,
          6,
          5,
          6,
          6,
          6,
          7,
          5,
          6,
          5,
          6,
          6,
          6,
          7,
          5,
          6,
          5,
          6,
          6,
          6,
          7,
          6,
          6,
          5,
          5,
          7,
          6,
          7,
          6,
          6,
          5,
          5,
          7,
          6,
          7,
          6,
          6,
          5,
          5,
          7,
          6,
          7,
          6,
          6,
          5,
          5,
          7,
          6,
          7,
          6,
          6,
          5,
          5,
          7,
          6,
          7,
          6,
          6,
          5,
          5,
          7,
          6,
          7,
          6,
          6,
          5,
          5,
          7,
          5,
          6,
          4,
          5,
          6,
          5,
          6,
          5,
          5,
          6,
          5,
          5,
          6,
          4,
          5,
          6,
          5,
          6,
          5,
          4,
          6,
          5,
          5,
          6,
          4,
          5,
          6,
          5,
          6,
          5,
          4,
          6,
          5,
          5,
          6,
          4,
          5,
          6,
          5,
          6,
          5,
          4,
          6,
          5,
          5,
          6,
          4,
          5,
          6,
          5,
          6,
          5,
          4,
          6,
          5,
          5,
          6,
          4,
          5,
          6,
          5,
          6,
          5,
          4,
          6,
          5,
          5,
          6,
          4,
          5,
          6,
          5,
          6,
          5,
          4,
          6,
          5,
          5,
          6,
          4,
          5,
          6,
          5,
          6,
          5,
          4,
          6,
          5
         ],
         "y0": " ",
         "yaxis": "y"
        },
        {
         "alignmentgroup": "True",
         "boxpoints": "all",
         "hovertemplate": "Academic Impact=%{x}<br>Mental Health Score=%{y}<extra></extra>",
         "legendgroup": "No",
         "marker": {
          "color": "#3498DB"
         },
         "name": "No",
         "notched": false,
         "offsetgroup": "No",
         "orientation": "v",
         "showlegend": true,
         "type": "box",
         "x": [
          "No",
          "No",
          "No",
          "No",
          "No",
          "No",
          "No",
          "No",
          "No",
          "No",
          "No",
          "No",
          "No",
          "No",
          "No",
          "No",
          "No",
          "No",
          "No",
          "No",
          "No",
          "No",
          "No",
          "No",
          "No",
          "No",
          "No",
          "No",
          "No",
          "No",
          "No",
          "No",
          "No",
          "No",
          "No",
          "No",
          "No",
          "No",
          "No",
          "No",
          "No",
          "No",
          "No",
          "No",
          "No",
          "No",
          "No",
          "No",
          "No",
          "No",
          "No",
          "No",
          "No",
          "No",
          "No",
          "No",
          "No",
          "No",
          "No",
          "No",
          "No",
          "No",
          "No",
          "No",
          "No",
          "No",
          "No",
          "No",
          "No",
          "No",
          "No",
          "No",
          "No",
          "No",
          "No",
          "No",
          "No",
          "No",
          "No",
          "No",
          "No",
          "No",
          "No",
          "No",
          "No",
          "No",
          "No",
          "No",
          "No",
          "No",
          "No",
          "No",
          "No",
          "No",
          "No",
          "No",
          "No",
          "No",
          "No",
          "No",
          "No",
          "No",
          "No",
          "No",
          "No",
          "No",
          "No",
          "No",
          "No",
          "No",
          "No",
          "No",
          "No",
          "No",
          "No",
          "No",
          "No",
          "No",
          "No",
          "No",
          "No",
          "No",
          "No",
          "No",
          "No",
          "No",
          "No",
          "No",
          "No",
          "No",
          "No",
          "No",
          "No",
          "No",
          "No",
          "No",
          "No",
          "No",
          "No",
          "No",
          "No",
          "No",
          "No",
          "No",
          "No",
          "No",
          "No",
          "No",
          "No",
          "No",
          "No",
          "No",
          "No",
          "No",
          "No",
          "No",
          "No",
          "No",
          "No",
          "No",
          "No",
          "No",
          "No",
          "No",
          "No",
          "No",
          "No",
          "No",
          "No",
          "No",
          "No",
          "No",
          "No",
          "No",
          "No",
          "No",
          "No",
          "No",
          "No",
          "No",
          "No",
          "No",
          "No",
          "No",
          "No",
          "No",
          "No",
          "No",
          "No",
          "No",
          "No",
          "No",
          "No",
          "No",
          "No",
          "No",
          "No",
          "No",
          "No",
          "No",
          "No",
          "No",
          "No",
          "No",
          "No",
          "No",
          "No",
          "No",
          "No",
          "No",
          "No",
          "No",
          "No",
          "No",
          "No",
          "No",
          "No",
          "No",
          "No",
          "No",
          "No",
          "No",
          "No",
          "No",
          "No",
          "No",
          "No",
          "No",
          "No",
          "No",
          "No",
          "No",
          "No",
          "No",
          "No",
          "No",
          "No",
          "No",
          "No",
          "No",
          "No",
          "No",
          "No",
          "No",
          "No",
          "No",
          "No",
          "No",
          "No",
          "No",
          "No",
          "No"
         ],
         "x0": " ",
         "xaxis": "x",
         "y": [
          8,
          7,
          9,
          7,
          7,
          8,
          7,
          8,
          7,
          8,
          7,
          7,
          8,
          7,
          8,
          7,
          7,
          8,
          7,
          8,
          7,
          7,
          8,
          7,
          8,
          7,
          8,
          7,
          8,
          7,
          8,
          7,
          8,
          7,
          8,
          8,
          7,
          7,
          8,
          8,
          8,
          7,
          7,
          8,
          7,
          8,
          7,
          8,
          7,
          8,
          7,
          8,
          7,
          8,
          7,
          8,
          7,
          8,
          7,
          8,
          7,
          7,
          7,
          7,
          7,
          7,
          7,
          7,
          7,
          7,
          7,
          7,
          7,
          7,
          7,
          7,
          7,
          7,
          7,
          7,
          8,
          7,
          8,
          7,
          7,
          8,
          8,
          7,
          7,
          8,
          8,
          7,
          7,
          8,
          8,
          7,
          7,
          8,
          8,
          7,
          7,
          8,
          8,
          7,
          7,
          8,
          8,
          7,
          7,
          8,
          8,
          7,
          7,
          8,
          8,
          7,
          7,
          8,
          8,
          7,
          7,
          8,
          8,
          7,
          7,
          8,
          8,
          7,
          7,
          8,
          8,
          8,
          7,
          8,
          8,
          7,
          8,
          8,
          7,
          8,
          8,
          7,
          8,
          8,
          7,
          8,
          8,
          7,
          8,
          8,
          7,
          8,
          8,
          7,
          8,
          8,
          7,
          8,
          8,
          7,
          8,
          8,
          7,
          8,
          8,
          7,
          8,
          8,
          7,
          8,
          8,
          7,
          8,
          8,
          7,
          8,
          8,
          7,
          8,
          8,
          7,
          8,
          8,
          7,
          7,
          8,
          7,
          7,
          8,
          7,
          7,
          8,
          7,
          7,
          8,
          7,
          7,
          8,
          7,
          7,
          8,
          7,
          7,
          8,
          7,
          8,
          7,
          7,
          7,
          8,
          7,
          7,
          7,
          7,
          7,
          8,
          7,
          7,
          7,
          7,
          7,
          8,
          7,
          7,
          7,
          7,
          7,
          8,
          7,
          7,
          7,
          7,
          7,
          8,
          7,
          7,
          7,
          7,
          7,
          8,
          7,
          7,
          7,
          7,
          7,
          8,
          7,
          7,
          7,
          7,
          7,
          8
         ],
         "y0": " ",
         "yaxis": "y"
        }
       ],
       "layout": {
        "boxmode": "overlay",
        "font": {
         "family": "Lato",
         "size": 14
        },
        "hoverlabel": {
         "bgcolor": "white",
         "font": {
          "family": "Lato"
         }
        },
        "legend": {
         "title": {
          "text": "Academic Impact"
         },
         "tracegroupgap": 0
        },
        "plot_bgcolor": "white",
        "showlegend": false,
        "template": {
         "data": {
          "bar": [
           {
            "error_x": {
             "color": "#2a3f5f"
            },
            "error_y": {
             "color": "#2a3f5f"
            },
            "marker": {
             "line": {
              "color": "#E5ECF6",
              "width": 0.5
             }
            },
            "type": "bar"
           }
          ],
          "barpolar": [
           {
            "marker": {
             "line": {
              "color": "#E5ECF6",
              "width": 0.5
             }
            },
            "type": "barpolar"
           }
          ],
          "carpet": [
           {
            "aaxis": {
             "endlinecolor": "#2a3f5f",
             "gridcolor": "white",
             "linecolor": "white",
             "minorgridcolor": "white",
             "startlinecolor": "#2a3f5f"
            },
            "baxis": {
             "endlinecolor": "#2a3f5f",
             "gridcolor": "white",
             "linecolor": "white",
             "minorgridcolor": "white",
             "startlinecolor": "#2a3f5f"
            },
            "type": "carpet"
           }
          ],
          "choropleth": [
           {
            "colorbar": {
             "outlinewidth": 0,
             "ticks": ""
            },
            "type": "choropleth"
           }
          ],
          "contour": [
           {
            "colorbar": {
             "outlinewidth": 0,
             "ticks": ""
            },
            "colorscale": [
             [
              0,
              "#0d0887"
             ],
             [
              0.1111111111111111,
              "#46039f"
             ],
             [
              0.2222222222222222,
              "#7201a8"
             ],
             [
              0.3333333333333333,
              "#9c179e"
             ],
             [
              0.4444444444444444,
              "#bd3786"
             ],
             [
              0.5555555555555556,
              "#d8576b"
             ],
             [
              0.6666666666666666,
              "#ed7953"
             ],
             [
              0.7777777777777778,
              "#fb9f3a"
             ],
             [
              0.8888888888888888,
              "#fdca26"
             ],
             [
              1,
              "#f0f921"
             ]
            ],
            "type": "contour"
           }
          ],
          "contourcarpet": [
           {
            "colorbar": {
             "outlinewidth": 0,
             "ticks": ""
            },
            "type": "contourcarpet"
           }
          ],
          "heatmap": [
           {
            "colorbar": {
             "outlinewidth": 0,
             "ticks": ""
            },
            "colorscale": [
             [
              0,
              "#0d0887"
             ],
             [
              0.1111111111111111,
              "#46039f"
             ],
             [
              0.2222222222222222,
              "#7201a8"
             ],
             [
              0.3333333333333333,
              "#9c179e"
             ],
             [
              0.4444444444444444,
              "#bd3786"
             ],
             [
              0.5555555555555556,
              "#d8576b"
             ],
             [
              0.6666666666666666,
              "#ed7953"
             ],
             [
              0.7777777777777778,
              "#fb9f3a"
             ],
             [
              0.8888888888888888,
              "#fdca26"
             ],
             [
              1,
              "#f0f921"
             ]
            ],
            "type": "heatmap"
           }
          ],
          "heatmapgl": [
           {
            "colorbar": {
             "outlinewidth": 0,
             "ticks": ""
            },
            "colorscale": [
             [
              0,
              "#0d0887"
             ],
             [
              0.1111111111111111,
              "#46039f"
             ],
             [
              0.2222222222222222,
              "#7201a8"
             ],
             [
              0.3333333333333333,
              "#9c179e"
             ],
             [
              0.4444444444444444,
              "#bd3786"
             ],
             [
              0.5555555555555556,
              "#d8576b"
             ],
             [
              0.6666666666666666,
              "#ed7953"
             ],
             [
              0.7777777777777778,
              "#fb9f3a"
             ],
             [
              0.8888888888888888,
              "#fdca26"
             ],
             [
              1,
              "#f0f921"
             ]
            ],
            "type": "heatmapgl"
           }
          ],
          "histogram": [
           {
            "marker": {
             "colorbar": {
              "outlinewidth": 0,
              "ticks": ""
             }
            },
            "type": "histogram"
           }
          ],
          "histogram2d": [
           {
            "colorbar": {
             "outlinewidth": 0,
             "ticks": ""
            },
            "colorscale": [
             [
              0,
              "#0d0887"
             ],
             [
              0.1111111111111111,
              "#46039f"
             ],
             [
              0.2222222222222222,
              "#7201a8"
             ],
             [
              0.3333333333333333,
              "#9c179e"
             ],
             [
              0.4444444444444444,
              "#bd3786"
             ],
             [
              0.5555555555555556,
              "#d8576b"
             ],
             [
              0.6666666666666666,
              "#ed7953"
             ],
             [
              0.7777777777777778,
              "#fb9f3a"
             ],
             [
              0.8888888888888888,
              "#fdca26"
             ],
             [
              1,
              "#f0f921"
             ]
            ],
            "type": "histogram2d"
           }
          ],
          "histogram2dcontour": [
           {
            "colorbar": {
             "outlinewidth": 0,
             "ticks": ""
            },
            "colorscale": [
             [
              0,
              "#0d0887"
             ],
             [
              0.1111111111111111,
              "#46039f"
             ],
             [
              0.2222222222222222,
              "#7201a8"
             ],
             [
              0.3333333333333333,
              "#9c179e"
             ],
             [
              0.4444444444444444,
              "#bd3786"
             ],
             [
              0.5555555555555556,
              "#d8576b"
             ],
             [
              0.6666666666666666,
              "#ed7953"
             ],
             [
              0.7777777777777778,
              "#fb9f3a"
             ],
             [
              0.8888888888888888,
              "#fdca26"
             ],
             [
              1,
              "#f0f921"
             ]
            ],
            "type": "histogram2dcontour"
           }
          ],
          "mesh3d": [
           {
            "colorbar": {
             "outlinewidth": 0,
             "ticks": ""
            },
            "type": "mesh3d"
           }
          ],
          "parcoords": [
           {
            "line": {
             "colorbar": {
              "outlinewidth": 0,
              "ticks": ""
             }
            },
            "type": "parcoords"
           }
          ],
          "pie": [
           {
            "automargin": true,
            "type": "pie"
           }
          ],
          "scatter": [
           {
            "marker": {
             "colorbar": {
              "outlinewidth": 0,
              "ticks": ""
             }
            },
            "type": "scatter"
           }
          ],
          "scatter3d": [
           {
            "line": {
             "colorbar": {
              "outlinewidth": 0,
              "ticks": ""
             }
            },
            "marker": {
             "colorbar": {
              "outlinewidth": 0,
              "ticks": ""
             }
            },
            "type": "scatter3d"
           }
          ],
          "scattercarpet": [
           {
            "marker": {
             "colorbar": {
              "outlinewidth": 0,
              "ticks": ""
             }
            },
            "type": "scattercarpet"
           }
          ],
          "scattergeo": [
           {
            "marker": {
             "colorbar": {
              "outlinewidth": 0,
              "ticks": ""
             }
            },
            "type": "scattergeo"
           }
          ],
          "scattergl": [
           {
            "marker": {
             "colorbar": {
              "outlinewidth": 0,
              "ticks": ""
             }
            },
            "type": "scattergl"
           }
          ],
          "scattermapbox": [
           {
            "marker": {
             "colorbar": {
              "outlinewidth": 0,
              "ticks": ""
             }
            },
            "type": "scattermapbox"
           }
          ],
          "scatterpolar": [
           {
            "marker": {
             "colorbar": {
              "outlinewidth": 0,
              "ticks": ""
             }
            },
            "type": "scatterpolar"
           }
          ],
          "scatterpolargl": [
           {
            "marker": {
             "colorbar": {
              "outlinewidth": 0,
              "ticks": ""
             }
            },
            "type": "scatterpolargl"
           }
          ],
          "scatterternary": [
           {
            "marker": {
             "colorbar": {
              "outlinewidth": 0,
              "ticks": ""
             }
            },
            "type": "scatterternary"
           }
          ],
          "surface": [
           {
            "colorbar": {
             "outlinewidth": 0,
             "ticks": ""
            },
            "colorscale": [
             [
              0,
              "#0d0887"
             ],
             [
              0.1111111111111111,
              "#46039f"
             ],
             [
              0.2222222222222222,
              "#7201a8"
             ],
             [
              0.3333333333333333,
              "#9c179e"
             ],
             [
              0.4444444444444444,
              "#bd3786"
             ],
             [
              0.5555555555555556,
              "#d8576b"
             ],
             [
              0.6666666666666666,
              "#ed7953"
             ],
             [
              0.7777777777777778,
              "#fb9f3a"
             ],
             [
              0.8888888888888888,
              "#fdca26"
             ],
             [
              1,
              "#f0f921"
             ]
            ],
            "type": "surface"
           }
          ],
          "table": [
           {
            "cells": {
             "fill": {
              "color": "#EBF0F8"
             },
             "line": {
              "color": "white"
             }
            },
            "header": {
             "fill": {
              "color": "#C8D4E3"
             },
             "line": {
              "color": "white"
             }
            },
            "type": "table"
           }
          ]
         },
         "layout": {
          "annotationdefaults": {
           "arrowcolor": "#2a3f5f",
           "arrowhead": 0,
           "arrowwidth": 1
          },
          "coloraxis": {
           "colorbar": {
            "outlinewidth": 0,
            "ticks": ""
           }
          },
          "colorscale": {
           "diverging": [
            [
             0,
             "#8e0152"
            ],
            [
             0.1,
             "#c51b7d"
            ],
            [
             0.2,
             "#de77ae"
            ],
            [
             0.3,
             "#f1b6da"
            ],
            [
             0.4,
             "#fde0ef"
            ],
            [
             0.5,
             "#f7f7f7"
            ],
            [
             0.6,
             "#e6f5d0"
            ],
            [
             0.7,
             "#b8e186"
            ],
            [
             0.8,
             "#7fbc41"
            ],
            [
             0.9,
             "#4d9221"
            ],
            [
             1,
             "#276419"
            ]
           ],
           "sequential": [
            [
             0,
             "#0d0887"
            ],
            [
             0.1111111111111111,
             "#46039f"
            ],
            [
             0.2222222222222222,
             "#7201a8"
            ],
            [
             0.3333333333333333,
             "#9c179e"
            ],
            [
             0.4444444444444444,
             "#bd3786"
            ],
            [
             0.5555555555555556,
             "#d8576b"
            ],
            [
             0.6666666666666666,
             "#ed7953"
            ],
            [
             0.7777777777777778,
             "#fb9f3a"
            ],
            [
             0.8888888888888888,
             "#fdca26"
            ],
            [
             1,
             "#f0f921"
            ]
           ],
           "sequentialminus": [
            [
             0,
             "#0d0887"
            ],
            [
             0.1111111111111111,
             "#46039f"
            ],
            [
             0.2222222222222222,
             "#7201a8"
            ],
            [
             0.3333333333333333,
             "#9c179e"
            ],
            [
             0.4444444444444444,
             "#bd3786"
            ],
            [
             0.5555555555555556,
             "#d8576b"
            ],
            [
             0.6666666666666666,
             "#ed7953"
            ],
            [
             0.7777777777777778,
             "#fb9f3a"
            ],
            [
             0.8888888888888888,
             "#fdca26"
            ],
            [
             1,
             "#f0f921"
            ]
           ]
          },
          "colorway": [
           "#636efa",
           "#EF553B",
           "#00cc96",
           "#ab63fa",
           "#FFA15A",
           "#19d3f3",
           "#FF6692",
           "#B6E880",
           "#FF97FF",
           "#FECB52"
          ],
          "font": {
           "color": "#2a3f5f"
          },
          "geo": {
           "bgcolor": "white",
           "lakecolor": "white",
           "landcolor": "#E5ECF6",
           "showlakes": true,
           "showland": true,
           "subunitcolor": "white"
          },
          "hoverlabel": {
           "align": "left"
          },
          "hovermode": "closest",
          "mapbox": {
           "style": "light"
          },
          "paper_bgcolor": "white",
          "plot_bgcolor": "#E5ECF6",
          "polar": {
           "angularaxis": {
            "gridcolor": "white",
            "linecolor": "white",
            "ticks": ""
           },
           "bgcolor": "#E5ECF6",
           "radialaxis": {
            "gridcolor": "white",
            "linecolor": "white",
            "ticks": ""
           }
          },
          "scene": {
           "xaxis": {
            "backgroundcolor": "#E5ECF6",
            "gridcolor": "white",
            "gridwidth": 2,
            "linecolor": "white",
            "showbackground": true,
            "ticks": "",
            "zerolinecolor": "white"
           },
           "yaxis": {
            "backgroundcolor": "#E5ECF6",
            "gridcolor": "white",
            "gridwidth": 2,
            "linecolor": "white",
            "showbackground": true,
            "ticks": "",
            "zerolinecolor": "white"
           },
           "zaxis": {
            "backgroundcolor": "#E5ECF6",
            "gridcolor": "white",
            "gridwidth": 2,
            "linecolor": "white",
            "showbackground": true,
            "ticks": "",
            "zerolinecolor": "white"
           }
          },
          "shapedefaults": {
           "line": {
            "color": "#2a3f5f"
           }
          },
          "ternary": {
           "aaxis": {
            "gridcolor": "white",
            "linecolor": "white",
            "ticks": ""
           },
           "baxis": {
            "gridcolor": "white",
            "linecolor": "white",
            "ticks": ""
           },
           "bgcolor": "#E5ECF6",
           "caxis": {
            "gridcolor": "white",
            "linecolor": "white",
            "ticks": ""
           }
          },
          "title": {
           "x": 0.05
          },
          "xaxis": {
           "automargin": true,
           "gridcolor": "white",
           "linecolor": "white",
           "ticks": "",
           "title": {
            "standoff": 15
           },
           "zerolinecolor": "white",
           "zerolinewidth": 2
          },
          "yaxis": {
           "automargin": true,
           "gridcolor": "white",
           "linecolor": "white",
           "ticks": "",
           "title": {
            "standoff": 15
           },
           "zerolinecolor": "white",
           "zerolinewidth": 2
          }
         }
        },
        "title": {
         "font": {
          "family": "Lato",
          "size": 20
         },
         "text": "Mental Health Score by Academic Performance Perception"
        },
        "xaxis": {
         "anchor": "y",
         "categoryarray": [
          "Yes",
          "No"
         ],
         "categoryorder": "array",
         "domain": [
          0,
          1
         ],
         "title": {
          "text": "Academic Impact"
         }
        },
        "yaxis": {
         "anchor": "x",
         "domain": [
          0,
          1
         ],
         "gridcolor": "lightgrey",
         "title": {
          "text": "Mental Health Score"
         }
        }
       }
      }
     },
     "metadata": {},
     "output_type": "display_data"
    }
   ],
   "source": [
    "# Group and summarize mental health by academic impact\n",
    "mental_health_summary = (\n",
    "    student_df.groupby('affects_academic_performance')['mental_health_score']\n",
    "    .agg(['mean', 'median', 'std', 'count'])\n",
    "    .reset_index()\n",
    "    .rename(columns = {\n",
    "        'mean': 'avg_mental_health_score',\n",
    "        'median': 'median_score',\n",
    "        'std': 'std_dev',\n",
    "        'count': 'num_students'\n",
    "    })\n",
    "    .round(2)\n",
    ")\n",
    "\n",
    "# Print relationship\n",
    "print(\"Mental Health Score by Academic Impact Category:\\n\", mental_health_summary)\n",
    "\n",
    "# Box Plot\n",
    "fig = px.box(\n",
    "    student_df,\n",
    "    x = 'affects_academic_performance',\n",
    "    y = 'mental_health_score',\n",
    "    color = 'affects_academic_performance',\n",
    "    points = 'all', \n",
    "    color_discrete_sequence = ['#8E44AD', '#3498DB'],\n",
    "    labels = {\n",
    "        'affects_academic_performance': 'Academic Impact',\n",
    "        'mental_health_score': 'Mental Health Score'\n",
    "    },\n",
    "    title = 'Mental Health Score by Academic Performance Perception'\n",
    ")\n",
    "\n",
    "# Layout polish\n",
    "fig.update_layout(\n",
    "    font = dict(family = 'Lato', size = 14),\n",
    "    title_font = dict(size = 20, family = 'Lato'),\n",
    "    plot_bgcolor = 'white',\n",
    "    yaxis = dict(gridcolor = 'lightgrey', title = 'Mental Health Score'),\n",
    "    xaxis = dict(title = 'Academic Impact'),\n",
    "    showlegend = False,\n",
    "    hoverlabel = dict(bgcolor = 'white', font_family = 'Lato')\n",
    ")\n",
    "\n",
    "fig.show()"
   ]
  },
  {
   "cell_type": "markdown",
   "id": "3345308b",
   "metadata": {},
   "source": [
    "## Gender vs. Social Media Addiction Score: Who’s Hooked Harder?\n",
    "Here’s where things get interesting: does gender play a role in how addicted students feel to social media?\n",
    "\n",
    "We’re not here to stereotype- but behavioral research consistently shows that digital engagement isn’t gender-neutral. From the types of platforms used to the emotional investment in them, males and females often navigate online spaces differently.\n",
    "\n",
    "By comparing gender with 'addicted_score', we explore whether one group is more likely to feel tethered to their screens. Are we seeing signs of compulsive scrolling skewing toward one gender? Or is the addiction curve evenly split?\n",
    "\n",
    "This analysis helps us understand whether intervention strategies or digital wellness programs should be tailored- because when it comes to building healthier digital habits, one-size-fits-none."
   ]
  },
  {
   "cell_type": "code",
   "execution_count": 69,
   "id": "b16b1b23",
   "metadata": {},
   "outputs": [
    {
     "name": "stdout",
     "output_type": "stream",
     "text": [
      "Addiction Score Distribution by Gender:\n",
      "    addicted_score  Female  Male\n",
      "0               2       0     1\n",
      "1               3      12     4\n",
      "2               4      38    45\n",
      "3               5      72    64\n",
      "4               6      30    31\n",
      "5               7      83   126\n",
      "6               8      71    73\n",
      "7               9      47     8\n"
     ]
    },
    {
     "data": {
      "application/vnd.plotly.v1+json": {
       "config": {
        "plotlyServerURL": "https://plot.ly"
       },
       "data": [
        {
         "alignmentgroup": "True",
         "customdata": [
          "Female",
          "Female",
          "Female",
          "Female",
          "Female",
          "Female",
          "Female",
          "Female",
          "Male",
          "Male",
          "Male",
          "Male",
          "Male",
          "Male",
          "Male",
          "Male"
         ],
         "hovertemplate": "<b>%{x}</b><br>%{customdata[0]}: %{y}<extra></extra>",
         "legendgroup": "Female",
         "marker": {
          "color": "#8E44AD"
         },
         "name": "Female",
         "offsetgroup": "Female",
         "orientation": "v",
         "showlegend": true,
         "text": [
          0,
          12,
          38,
          72,
          30,
          83,
          71,
          47
         ],
         "textfont": {
          "color": "white"
         },
         "textposition": "inside",
         "type": "bar",
         "x": [
          2,
          3,
          4,
          5,
          6,
          7,
          8,
          9
         ],
         "xaxis": "x",
         "y": [
          0,
          12,
          38,
          72,
          30,
          83,
          71,
          47
         ],
         "yaxis": "y"
        },
        {
         "alignmentgroup": "True",
         "customdata": [
          "Female",
          "Female",
          "Female",
          "Female",
          "Female",
          "Female",
          "Female",
          "Female",
          "Male",
          "Male",
          "Male",
          "Male",
          "Male",
          "Male",
          "Male",
          "Male"
         ],
         "hovertemplate": "<b>%{x}</b><br>%{customdata[0]}: %{y}<extra></extra>",
         "legendgroup": "Male",
         "marker": {
          "color": "#3498DB"
         },
         "name": "Male",
         "offsetgroup": "Male",
         "orientation": "v",
         "showlegend": true,
         "text": [
          1,
          4,
          45,
          64,
          31,
          126,
          73,
          8
         ],
         "textfont": {
          "color": "white"
         },
         "textposition": "inside",
         "type": "bar",
         "x": [
          2,
          3,
          4,
          5,
          6,
          7,
          8,
          9
         ],
         "xaxis": "x",
         "y": [
          1,
          4,
          45,
          64,
          31,
          126,
          73,
          8
         ],
         "yaxis": "y"
        }
       ],
       "layout": {
        "bargap": 0.15,
        "barmode": "group",
        "font": {
         "family": "Lato",
         "size": 14
        },
        "legend": {
         "title": {
          "text": "Gender"
         },
         "tracegroupgap": 0
        },
        "plot_bgcolor": "white",
        "template": {
         "data": {
          "bar": [
           {
            "error_x": {
             "color": "#2a3f5f"
            },
            "error_y": {
             "color": "#2a3f5f"
            },
            "marker": {
             "line": {
              "color": "#E5ECF6",
              "width": 0.5
             }
            },
            "type": "bar"
           }
          ],
          "barpolar": [
           {
            "marker": {
             "line": {
              "color": "#E5ECF6",
              "width": 0.5
             }
            },
            "type": "barpolar"
           }
          ],
          "carpet": [
           {
            "aaxis": {
             "endlinecolor": "#2a3f5f",
             "gridcolor": "white",
             "linecolor": "white",
             "minorgridcolor": "white",
             "startlinecolor": "#2a3f5f"
            },
            "baxis": {
             "endlinecolor": "#2a3f5f",
             "gridcolor": "white",
             "linecolor": "white",
             "minorgridcolor": "white",
             "startlinecolor": "#2a3f5f"
            },
            "type": "carpet"
           }
          ],
          "choropleth": [
           {
            "colorbar": {
             "outlinewidth": 0,
             "ticks": ""
            },
            "type": "choropleth"
           }
          ],
          "contour": [
           {
            "colorbar": {
             "outlinewidth": 0,
             "ticks": ""
            },
            "colorscale": [
             [
              0,
              "#0d0887"
             ],
             [
              0.1111111111111111,
              "#46039f"
             ],
             [
              0.2222222222222222,
              "#7201a8"
             ],
             [
              0.3333333333333333,
              "#9c179e"
             ],
             [
              0.4444444444444444,
              "#bd3786"
             ],
             [
              0.5555555555555556,
              "#d8576b"
             ],
             [
              0.6666666666666666,
              "#ed7953"
             ],
             [
              0.7777777777777778,
              "#fb9f3a"
             ],
             [
              0.8888888888888888,
              "#fdca26"
             ],
             [
              1,
              "#f0f921"
             ]
            ],
            "type": "contour"
           }
          ],
          "contourcarpet": [
           {
            "colorbar": {
             "outlinewidth": 0,
             "ticks": ""
            },
            "type": "contourcarpet"
           }
          ],
          "heatmap": [
           {
            "colorbar": {
             "outlinewidth": 0,
             "ticks": ""
            },
            "colorscale": [
             [
              0,
              "#0d0887"
             ],
             [
              0.1111111111111111,
              "#46039f"
             ],
             [
              0.2222222222222222,
              "#7201a8"
             ],
             [
              0.3333333333333333,
              "#9c179e"
             ],
             [
              0.4444444444444444,
              "#bd3786"
             ],
             [
              0.5555555555555556,
              "#d8576b"
             ],
             [
              0.6666666666666666,
              "#ed7953"
             ],
             [
              0.7777777777777778,
              "#fb9f3a"
             ],
             [
              0.8888888888888888,
              "#fdca26"
             ],
             [
              1,
              "#f0f921"
             ]
            ],
            "type": "heatmap"
           }
          ],
          "heatmapgl": [
           {
            "colorbar": {
             "outlinewidth": 0,
             "ticks": ""
            },
            "colorscale": [
             [
              0,
              "#0d0887"
             ],
             [
              0.1111111111111111,
              "#46039f"
             ],
             [
              0.2222222222222222,
              "#7201a8"
             ],
             [
              0.3333333333333333,
              "#9c179e"
             ],
             [
              0.4444444444444444,
              "#bd3786"
             ],
             [
              0.5555555555555556,
              "#d8576b"
             ],
             [
              0.6666666666666666,
              "#ed7953"
             ],
             [
              0.7777777777777778,
              "#fb9f3a"
             ],
             [
              0.8888888888888888,
              "#fdca26"
             ],
             [
              1,
              "#f0f921"
             ]
            ],
            "type": "heatmapgl"
           }
          ],
          "histogram": [
           {
            "marker": {
             "colorbar": {
              "outlinewidth": 0,
              "ticks": ""
             }
            },
            "type": "histogram"
           }
          ],
          "histogram2d": [
           {
            "colorbar": {
             "outlinewidth": 0,
             "ticks": ""
            },
            "colorscale": [
             [
              0,
              "#0d0887"
             ],
             [
              0.1111111111111111,
              "#46039f"
             ],
             [
              0.2222222222222222,
              "#7201a8"
             ],
             [
              0.3333333333333333,
              "#9c179e"
             ],
             [
              0.4444444444444444,
              "#bd3786"
             ],
             [
              0.5555555555555556,
              "#d8576b"
             ],
             [
              0.6666666666666666,
              "#ed7953"
             ],
             [
              0.7777777777777778,
              "#fb9f3a"
             ],
             [
              0.8888888888888888,
              "#fdca26"
             ],
             [
              1,
              "#f0f921"
             ]
            ],
            "type": "histogram2d"
           }
          ],
          "histogram2dcontour": [
           {
            "colorbar": {
             "outlinewidth": 0,
             "ticks": ""
            },
            "colorscale": [
             [
              0,
              "#0d0887"
             ],
             [
              0.1111111111111111,
              "#46039f"
             ],
             [
              0.2222222222222222,
              "#7201a8"
             ],
             [
              0.3333333333333333,
              "#9c179e"
             ],
             [
              0.4444444444444444,
              "#bd3786"
             ],
             [
              0.5555555555555556,
              "#d8576b"
             ],
             [
              0.6666666666666666,
              "#ed7953"
             ],
             [
              0.7777777777777778,
              "#fb9f3a"
             ],
             [
              0.8888888888888888,
              "#fdca26"
             ],
             [
              1,
              "#f0f921"
             ]
            ],
            "type": "histogram2dcontour"
           }
          ],
          "mesh3d": [
           {
            "colorbar": {
             "outlinewidth": 0,
             "ticks": ""
            },
            "type": "mesh3d"
           }
          ],
          "parcoords": [
           {
            "line": {
             "colorbar": {
              "outlinewidth": 0,
              "ticks": ""
             }
            },
            "type": "parcoords"
           }
          ],
          "pie": [
           {
            "automargin": true,
            "type": "pie"
           }
          ],
          "scatter": [
           {
            "marker": {
             "colorbar": {
              "outlinewidth": 0,
              "ticks": ""
             }
            },
            "type": "scatter"
           }
          ],
          "scatter3d": [
           {
            "line": {
             "colorbar": {
              "outlinewidth": 0,
              "ticks": ""
             }
            },
            "marker": {
             "colorbar": {
              "outlinewidth": 0,
              "ticks": ""
             }
            },
            "type": "scatter3d"
           }
          ],
          "scattercarpet": [
           {
            "marker": {
             "colorbar": {
              "outlinewidth": 0,
              "ticks": ""
             }
            },
            "type": "scattercarpet"
           }
          ],
          "scattergeo": [
           {
            "marker": {
             "colorbar": {
              "outlinewidth": 0,
              "ticks": ""
             }
            },
            "type": "scattergeo"
           }
          ],
          "scattergl": [
           {
            "marker": {
             "colorbar": {
              "outlinewidth": 0,
              "ticks": ""
             }
            },
            "type": "scattergl"
           }
          ],
          "scattermapbox": [
           {
            "marker": {
             "colorbar": {
              "outlinewidth": 0,
              "ticks": ""
             }
            },
            "type": "scattermapbox"
           }
          ],
          "scatterpolar": [
           {
            "marker": {
             "colorbar": {
              "outlinewidth": 0,
              "ticks": ""
             }
            },
            "type": "scatterpolar"
           }
          ],
          "scatterpolargl": [
           {
            "marker": {
             "colorbar": {
              "outlinewidth": 0,
              "ticks": ""
             }
            },
            "type": "scatterpolargl"
           }
          ],
          "scatterternary": [
           {
            "marker": {
             "colorbar": {
              "outlinewidth": 0,
              "ticks": ""
             }
            },
            "type": "scatterternary"
           }
          ],
          "surface": [
           {
            "colorbar": {
             "outlinewidth": 0,
             "ticks": ""
            },
            "colorscale": [
             [
              0,
              "#0d0887"
             ],
             [
              0.1111111111111111,
              "#46039f"
             ],
             [
              0.2222222222222222,
              "#7201a8"
             ],
             [
              0.3333333333333333,
              "#9c179e"
             ],
             [
              0.4444444444444444,
              "#bd3786"
             ],
             [
              0.5555555555555556,
              "#d8576b"
             ],
             [
              0.6666666666666666,
              "#ed7953"
             ],
             [
              0.7777777777777778,
              "#fb9f3a"
             ],
             [
              0.8888888888888888,
              "#fdca26"
             ],
             [
              1,
              "#f0f921"
             ]
            ],
            "type": "surface"
           }
          ],
          "table": [
           {
            "cells": {
             "fill": {
              "color": "#EBF0F8"
             },
             "line": {
              "color": "white"
             }
            },
            "header": {
             "fill": {
              "color": "#C8D4E3"
             },
             "line": {
              "color": "white"
             }
            },
            "type": "table"
           }
          ]
         },
         "layout": {
          "annotationdefaults": {
           "arrowcolor": "#2a3f5f",
           "arrowhead": 0,
           "arrowwidth": 1
          },
          "coloraxis": {
           "colorbar": {
            "outlinewidth": 0,
            "ticks": ""
           }
          },
          "colorscale": {
           "diverging": [
            [
             0,
             "#8e0152"
            ],
            [
             0.1,
             "#c51b7d"
            ],
            [
             0.2,
             "#de77ae"
            ],
            [
             0.3,
             "#f1b6da"
            ],
            [
             0.4,
             "#fde0ef"
            ],
            [
             0.5,
             "#f7f7f7"
            ],
            [
             0.6,
             "#e6f5d0"
            ],
            [
             0.7,
             "#b8e186"
            ],
            [
             0.8,
             "#7fbc41"
            ],
            [
             0.9,
             "#4d9221"
            ],
            [
             1,
             "#276419"
            ]
           ],
           "sequential": [
            [
             0,
             "#0d0887"
            ],
            [
             0.1111111111111111,
             "#46039f"
            ],
            [
             0.2222222222222222,
             "#7201a8"
            ],
            [
             0.3333333333333333,
             "#9c179e"
            ],
            [
             0.4444444444444444,
             "#bd3786"
            ],
            [
             0.5555555555555556,
             "#d8576b"
            ],
            [
             0.6666666666666666,
             "#ed7953"
            ],
            [
             0.7777777777777778,
             "#fb9f3a"
            ],
            [
             0.8888888888888888,
             "#fdca26"
            ],
            [
             1,
             "#f0f921"
            ]
           ],
           "sequentialminus": [
            [
             0,
             "#0d0887"
            ],
            [
             0.1111111111111111,
             "#46039f"
            ],
            [
             0.2222222222222222,
             "#7201a8"
            ],
            [
             0.3333333333333333,
             "#9c179e"
            ],
            [
             0.4444444444444444,
             "#bd3786"
            ],
            [
             0.5555555555555556,
             "#d8576b"
            ],
            [
             0.6666666666666666,
             "#ed7953"
            ],
            [
             0.7777777777777778,
             "#fb9f3a"
            ],
            [
             0.8888888888888888,
             "#fdca26"
            ],
            [
             1,
             "#f0f921"
            ]
           ]
          },
          "colorway": [
           "#636efa",
           "#EF553B",
           "#00cc96",
           "#ab63fa",
           "#FFA15A",
           "#19d3f3",
           "#FF6692",
           "#B6E880",
           "#FF97FF",
           "#FECB52"
          ],
          "font": {
           "color": "#2a3f5f"
          },
          "geo": {
           "bgcolor": "white",
           "lakecolor": "white",
           "landcolor": "#E5ECF6",
           "showlakes": true,
           "showland": true,
           "subunitcolor": "white"
          },
          "hoverlabel": {
           "align": "left"
          },
          "hovermode": "closest",
          "mapbox": {
           "style": "light"
          },
          "paper_bgcolor": "white",
          "plot_bgcolor": "#E5ECF6",
          "polar": {
           "angularaxis": {
            "gridcolor": "white",
            "linecolor": "white",
            "ticks": ""
           },
           "bgcolor": "#E5ECF6",
           "radialaxis": {
            "gridcolor": "white",
            "linecolor": "white",
            "ticks": ""
           }
          },
          "scene": {
           "xaxis": {
            "backgroundcolor": "#E5ECF6",
            "gridcolor": "white",
            "gridwidth": 2,
            "linecolor": "white",
            "showbackground": true,
            "ticks": "",
            "zerolinecolor": "white"
           },
           "yaxis": {
            "backgroundcolor": "#E5ECF6",
            "gridcolor": "white",
            "gridwidth": 2,
            "linecolor": "white",
            "showbackground": true,
            "ticks": "",
            "zerolinecolor": "white"
           },
           "zaxis": {
            "backgroundcolor": "#E5ECF6",
            "gridcolor": "white",
            "gridwidth": 2,
            "linecolor": "white",
            "showbackground": true,
            "ticks": "",
            "zerolinecolor": "white"
           }
          },
          "shapedefaults": {
           "line": {
            "color": "#2a3f5f"
           }
          },
          "ternary": {
           "aaxis": {
            "gridcolor": "white",
            "linecolor": "white",
            "ticks": ""
           },
           "baxis": {
            "gridcolor": "white",
            "linecolor": "white",
            "ticks": ""
           },
           "bgcolor": "#E5ECF6",
           "caxis": {
            "gridcolor": "white",
            "linecolor": "white",
            "ticks": ""
           }
          },
          "title": {
           "x": 0.05
          },
          "xaxis": {
           "automargin": true,
           "gridcolor": "white",
           "linecolor": "white",
           "ticks": "",
           "title": {
            "standoff": 15
           },
           "zerolinecolor": "white",
           "zerolinewidth": 2
          },
          "yaxis": {
           "automargin": true,
           "gridcolor": "white",
           "linecolor": "white",
           "ticks": "",
           "title": {
            "standoff": 15
           },
           "zerolinecolor": "white",
           "zerolinewidth": 2
          }
         }
        },
        "title": {
         "text": "Distribution of Addiction Scores by Gender"
        },
        "uniformtext": {
         "minsize": 8,
         "mode": "hide"
        },
        "xaxis": {
         "anchor": "y",
         "domain": [
          0,
          1
         ],
         "tickmode": "linear",
         "title": {
          "text": "Addiction Score"
         }
        },
        "yaxis": {
         "anchor": "x",
         "domain": [
          0,
          1
         ],
         "title": {
          "text": "Number of Students"
         }
        }
       }
      }
     },
     "metadata": {},
     "output_type": "display_data"
    }
   ],
   "source": [
    "# Print frequency table \n",
    "addicted_gender_counts = (\n",
    "    student_df.groupby(['addicted_score', 'gender'])\n",
    "    .size()\n",
    "    .unstack(fill_value = 0)\n",
    "    .reset_index()\n",
    "    .rename_axis(None, axis = 1)\n",
    ")\n",
    "\n",
    "print(\"Addiction Score Distribution by Gender:\\n\", addicted_gender_counts)\n",
    "\n",
    "# Melt the DataFrame for plotly express\n",
    "melted_df = addicted_gender_counts.melt(id_vars = 'addicted_score', var_name = 'gender', value_name = 'count')\n",
    "\n",
    "# Plot grouped bar chart with annotations inside bars\n",
    "fig = px.bar(\n",
    "    melted_df,\n",
    "    x = 'addicted_score',\n",
    "    y = 'count',\n",
    "    color = 'gender',\n",
    "    barmode = 'group',\n",
    "    text = 'count',\n",
    "    title = 'Distribution of Addiction Scores by Gender',\n",
    "    labels = {\n",
    "        'addicted_score': 'Addiction Score (1-10)',\n",
    "        'count': 'Number of Students',\n",
    "        'gender': 'Gender'\n",
    "    },\n",
    "    color_discrete_map={'Female': '#8E44AD', 'Male': '#3498DB'}\n",
    ")\n",
    "\n",
    "fig.update_traces(\n",
    "    textposition = 'inside',\n",
    "    textfont_color = 'white',\n",
    "    hovertemplate = '<b>%{x}</b><br>%{customdata[0]}: %{y}<extra></extra>',\n",
    "    customdata = melted_df['gender']\n",
    ")\n",
    "\n",
    "fig.update_layout(\n",
    "    font = dict(family = 'Lato', size = 14),\n",
    "    plot_bgcolor = 'white',\n",
    "    bargap = 0.15,\n",
    "    xaxis = dict(tickmode = 'linear'),\n",
    "    yaxis_title = 'Number of Students',\n",
    "    xaxis_title = 'Addiction Score',\n",
    "    legend_title_text = 'Gender',\n",
    "    uniformtext_minsize = 8,\n",
    "    uniformtext_mode = 'hide'\n",
    ")\n",
    "\n",
    "fig.show()"
   ]
  },
  {
   "cell_type": "markdown",
   "id": "d1a27feb",
   "metadata": {},
   "source": [
    "## Social Media Platforms by Gender: Who's Tapping Where?\n",
    "Social media isn’t all sunshine and likes- it can spark real conflicts, especially among students juggling online and offline worlds.\n",
    "\n",
    "By examining how **conflicts over social media vary by gender**, we uncover whether males or females experience more friction linked to their digital lives. Are certain social dynamics or pressures driving one group toward more disputes?\n",
    "\n",
    "Understanding this relationship helps educators and counselors **tailor conflict resolution and digital wellbeing programs**, ensuring interventions are as nuanced as the social media landscape itself.\n",
    "\n",
    "This analysis moves beyond surface-level usage, diving into how gender influences the emotional and social costs of being constantly connected."
   ]
  },
  {
   "cell_type": "code",
   "execution_count": 70,
   "id": "b76beae0",
   "metadata": {},
   "outputs": [
    {
     "name": "stdout",
     "output_type": "stream",
     "text": [
      "Conflicts Over Social Media by Gender:\n",
      "     conflicts_over_social_media  gender  count\n",
      "0                             0    Male      4\n",
      "1                             1  Female     21\n",
      "2                             1    Male     26\n",
      "3                             2  Female    103\n",
      "4                             2    Male    101\n",
      "5                             3  Female    115\n",
      "6                             3    Male    146\n",
      "7                             4  Female    106\n",
      "8                             4    Male     68\n",
      "9                             5  Female      8\n",
      "10                            5    Male      7\n"
     ]
    },
    {
     "data": {
      "application/vnd.plotly.v1+json": {
       "config": {
        "plotlyServerURL": "https://plot.ly"
       },
       "data": [
        {
         "alignmentgroup": "True",
         "hovertemplate": "Gender=Male<br>Number of Conflicts Reported=%{x}<br>Number of Students=%{text}<extra></extra>",
         "legendgroup": "Male",
         "marker": {
          "color": "#3498DB",
          "line": {
           "color": "white",
           "width": 1
          }
         },
         "name": "Male",
         "offsetgroup": "Male",
         "orientation": "v",
         "showlegend": true,
         "text": [
          4,
          26,
          101,
          146,
          68,
          7
         ],
         "textfont": {
          "color": "white"
         },
         "textposition": "inside",
         "type": "bar",
         "x": [
          0,
          1,
          2,
          3,
          4,
          5
         ],
         "xaxis": "x",
         "y": [
          4,
          26,
          101,
          146,
          68,
          7
         ],
         "yaxis": "y"
        },
        {
         "alignmentgroup": "True",
         "hovertemplate": "Gender=Female<br>Number of Conflicts Reported=%{x}<br>Number of Students=%{text}<extra></extra>",
         "legendgroup": "Female",
         "marker": {
          "color": "#8E44AD",
          "line": {
           "color": "white",
           "width": 1
          }
         },
         "name": "Female",
         "offsetgroup": "Female",
         "orientation": "v",
         "showlegend": true,
         "text": [
          21,
          103,
          115,
          106,
          8
         ],
         "textfont": {
          "color": "white"
         },
         "textposition": "inside",
         "type": "bar",
         "x": [
          1,
          2,
          3,
          4,
          5
         ],
         "xaxis": "x",
         "y": [
          21,
          103,
          115,
          106,
          8
         ],
         "yaxis": "y"
        }
       ],
       "layout": {
        "bargap": 0.15,
        "barmode": "group",
        "font": {
         "family": "Lato",
         "size": 14
        },
        "legend": {
         "title": {
          "text": "Gender"
         },
         "tracegroupgap": 0
        },
        "paper_bgcolor": "#FFFFFF",
        "plot_bgcolor": "#FFFFFF",
        "template": {
         "data": {
          "bar": [
           {
            "error_x": {
             "color": "#2a3f5f"
            },
            "error_y": {
             "color": "#2a3f5f"
            },
            "marker": {
             "line": {
              "color": "#E5ECF6",
              "width": 0.5
             }
            },
            "type": "bar"
           }
          ],
          "barpolar": [
           {
            "marker": {
             "line": {
              "color": "#E5ECF6",
              "width": 0.5
             }
            },
            "type": "barpolar"
           }
          ],
          "carpet": [
           {
            "aaxis": {
             "endlinecolor": "#2a3f5f",
             "gridcolor": "white",
             "linecolor": "white",
             "minorgridcolor": "white",
             "startlinecolor": "#2a3f5f"
            },
            "baxis": {
             "endlinecolor": "#2a3f5f",
             "gridcolor": "white",
             "linecolor": "white",
             "minorgridcolor": "white",
             "startlinecolor": "#2a3f5f"
            },
            "type": "carpet"
           }
          ],
          "choropleth": [
           {
            "colorbar": {
             "outlinewidth": 0,
             "ticks": ""
            },
            "type": "choropleth"
           }
          ],
          "contour": [
           {
            "colorbar": {
             "outlinewidth": 0,
             "ticks": ""
            },
            "colorscale": [
             [
              0,
              "#0d0887"
             ],
             [
              0.1111111111111111,
              "#46039f"
             ],
             [
              0.2222222222222222,
              "#7201a8"
             ],
             [
              0.3333333333333333,
              "#9c179e"
             ],
             [
              0.4444444444444444,
              "#bd3786"
             ],
             [
              0.5555555555555556,
              "#d8576b"
             ],
             [
              0.6666666666666666,
              "#ed7953"
             ],
             [
              0.7777777777777778,
              "#fb9f3a"
             ],
             [
              0.8888888888888888,
              "#fdca26"
             ],
             [
              1,
              "#f0f921"
             ]
            ],
            "type": "contour"
           }
          ],
          "contourcarpet": [
           {
            "colorbar": {
             "outlinewidth": 0,
             "ticks": ""
            },
            "type": "contourcarpet"
           }
          ],
          "heatmap": [
           {
            "colorbar": {
             "outlinewidth": 0,
             "ticks": ""
            },
            "colorscale": [
             [
              0,
              "#0d0887"
             ],
             [
              0.1111111111111111,
              "#46039f"
             ],
             [
              0.2222222222222222,
              "#7201a8"
             ],
             [
              0.3333333333333333,
              "#9c179e"
             ],
             [
              0.4444444444444444,
              "#bd3786"
             ],
             [
              0.5555555555555556,
              "#d8576b"
             ],
             [
              0.6666666666666666,
              "#ed7953"
             ],
             [
              0.7777777777777778,
              "#fb9f3a"
             ],
             [
              0.8888888888888888,
              "#fdca26"
             ],
             [
              1,
              "#f0f921"
             ]
            ],
            "type": "heatmap"
           }
          ],
          "heatmapgl": [
           {
            "colorbar": {
             "outlinewidth": 0,
             "ticks": ""
            },
            "colorscale": [
             [
              0,
              "#0d0887"
             ],
             [
              0.1111111111111111,
              "#46039f"
             ],
             [
              0.2222222222222222,
              "#7201a8"
             ],
             [
              0.3333333333333333,
              "#9c179e"
             ],
             [
              0.4444444444444444,
              "#bd3786"
             ],
             [
              0.5555555555555556,
              "#d8576b"
             ],
             [
              0.6666666666666666,
              "#ed7953"
             ],
             [
              0.7777777777777778,
              "#fb9f3a"
             ],
             [
              0.8888888888888888,
              "#fdca26"
             ],
             [
              1,
              "#f0f921"
             ]
            ],
            "type": "heatmapgl"
           }
          ],
          "histogram": [
           {
            "marker": {
             "colorbar": {
              "outlinewidth": 0,
              "ticks": ""
             }
            },
            "type": "histogram"
           }
          ],
          "histogram2d": [
           {
            "colorbar": {
             "outlinewidth": 0,
             "ticks": ""
            },
            "colorscale": [
             [
              0,
              "#0d0887"
             ],
             [
              0.1111111111111111,
              "#46039f"
             ],
             [
              0.2222222222222222,
              "#7201a8"
             ],
             [
              0.3333333333333333,
              "#9c179e"
             ],
             [
              0.4444444444444444,
              "#bd3786"
             ],
             [
              0.5555555555555556,
              "#d8576b"
             ],
             [
              0.6666666666666666,
              "#ed7953"
             ],
             [
              0.7777777777777778,
              "#fb9f3a"
             ],
             [
              0.8888888888888888,
              "#fdca26"
             ],
             [
              1,
              "#f0f921"
             ]
            ],
            "type": "histogram2d"
           }
          ],
          "histogram2dcontour": [
           {
            "colorbar": {
             "outlinewidth": 0,
             "ticks": ""
            },
            "colorscale": [
             [
              0,
              "#0d0887"
             ],
             [
              0.1111111111111111,
              "#46039f"
             ],
             [
              0.2222222222222222,
              "#7201a8"
             ],
             [
              0.3333333333333333,
              "#9c179e"
             ],
             [
              0.4444444444444444,
              "#bd3786"
             ],
             [
              0.5555555555555556,
              "#d8576b"
             ],
             [
              0.6666666666666666,
              "#ed7953"
             ],
             [
              0.7777777777777778,
              "#fb9f3a"
             ],
             [
              0.8888888888888888,
              "#fdca26"
             ],
             [
              1,
              "#f0f921"
             ]
            ],
            "type": "histogram2dcontour"
           }
          ],
          "mesh3d": [
           {
            "colorbar": {
             "outlinewidth": 0,
             "ticks": ""
            },
            "type": "mesh3d"
           }
          ],
          "parcoords": [
           {
            "line": {
             "colorbar": {
              "outlinewidth": 0,
              "ticks": ""
             }
            },
            "type": "parcoords"
           }
          ],
          "pie": [
           {
            "automargin": true,
            "type": "pie"
           }
          ],
          "scatter": [
           {
            "marker": {
             "colorbar": {
              "outlinewidth": 0,
              "ticks": ""
             }
            },
            "type": "scatter"
           }
          ],
          "scatter3d": [
           {
            "line": {
             "colorbar": {
              "outlinewidth": 0,
              "ticks": ""
             }
            },
            "marker": {
             "colorbar": {
              "outlinewidth": 0,
              "ticks": ""
             }
            },
            "type": "scatter3d"
           }
          ],
          "scattercarpet": [
           {
            "marker": {
             "colorbar": {
              "outlinewidth": 0,
              "ticks": ""
             }
            },
            "type": "scattercarpet"
           }
          ],
          "scattergeo": [
           {
            "marker": {
             "colorbar": {
              "outlinewidth": 0,
              "ticks": ""
             }
            },
            "type": "scattergeo"
           }
          ],
          "scattergl": [
           {
            "marker": {
             "colorbar": {
              "outlinewidth": 0,
              "ticks": ""
             }
            },
            "type": "scattergl"
           }
          ],
          "scattermapbox": [
           {
            "marker": {
             "colorbar": {
              "outlinewidth": 0,
              "ticks": ""
             }
            },
            "type": "scattermapbox"
           }
          ],
          "scatterpolar": [
           {
            "marker": {
             "colorbar": {
              "outlinewidth": 0,
              "ticks": ""
             }
            },
            "type": "scatterpolar"
           }
          ],
          "scatterpolargl": [
           {
            "marker": {
             "colorbar": {
              "outlinewidth": 0,
              "ticks": ""
             }
            },
            "type": "scatterpolargl"
           }
          ],
          "scatterternary": [
           {
            "marker": {
             "colorbar": {
              "outlinewidth": 0,
              "ticks": ""
             }
            },
            "type": "scatterternary"
           }
          ],
          "surface": [
           {
            "colorbar": {
             "outlinewidth": 0,
             "ticks": ""
            },
            "colorscale": [
             [
              0,
              "#0d0887"
             ],
             [
              0.1111111111111111,
              "#46039f"
             ],
             [
              0.2222222222222222,
              "#7201a8"
             ],
             [
              0.3333333333333333,
              "#9c179e"
             ],
             [
              0.4444444444444444,
              "#bd3786"
             ],
             [
              0.5555555555555556,
              "#d8576b"
             ],
             [
              0.6666666666666666,
              "#ed7953"
             ],
             [
              0.7777777777777778,
              "#fb9f3a"
             ],
             [
              0.8888888888888888,
              "#fdca26"
             ],
             [
              1,
              "#f0f921"
             ]
            ],
            "type": "surface"
           }
          ],
          "table": [
           {
            "cells": {
             "fill": {
              "color": "#EBF0F8"
             },
             "line": {
              "color": "white"
             }
            },
            "header": {
             "fill": {
              "color": "#C8D4E3"
             },
             "line": {
              "color": "white"
             }
            },
            "type": "table"
           }
          ]
         },
         "layout": {
          "annotationdefaults": {
           "arrowcolor": "#2a3f5f",
           "arrowhead": 0,
           "arrowwidth": 1
          },
          "coloraxis": {
           "colorbar": {
            "outlinewidth": 0,
            "ticks": ""
           }
          },
          "colorscale": {
           "diverging": [
            [
             0,
             "#8e0152"
            ],
            [
             0.1,
             "#c51b7d"
            ],
            [
             0.2,
             "#de77ae"
            ],
            [
             0.3,
             "#f1b6da"
            ],
            [
             0.4,
             "#fde0ef"
            ],
            [
             0.5,
             "#f7f7f7"
            ],
            [
             0.6,
             "#e6f5d0"
            ],
            [
             0.7,
             "#b8e186"
            ],
            [
             0.8,
             "#7fbc41"
            ],
            [
             0.9,
             "#4d9221"
            ],
            [
             1,
             "#276419"
            ]
           ],
           "sequential": [
            [
             0,
             "#0d0887"
            ],
            [
             0.1111111111111111,
             "#46039f"
            ],
            [
             0.2222222222222222,
             "#7201a8"
            ],
            [
             0.3333333333333333,
             "#9c179e"
            ],
            [
             0.4444444444444444,
             "#bd3786"
            ],
            [
             0.5555555555555556,
             "#d8576b"
            ],
            [
             0.6666666666666666,
             "#ed7953"
            ],
            [
             0.7777777777777778,
             "#fb9f3a"
            ],
            [
             0.8888888888888888,
             "#fdca26"
            ],
            [
             1,
             "#f0f921"
            ]
           ],
           "sequentialminus": [
            [
             0,
             "#0d0887"
            ],
            [
             0.1111111111111111,
             "#46039f"
            ],
            [
             0.2222222222222222,
             "#7201a8"
            ],
            [
             0.3333333333333333,
             "#9c179e"
            ],
            [
             0.4444444444444444,
             "#bd3786"
            ],
            [
             0.5555555555555556,
             "#d8576b"
            ],
            [
             0.6666666666666666,
             "#ed7953"
            ],
            [
             0.7777777777777778,
             "#fb9f3a"
            ],
            [
             0.8888888888888888,
             "#fdca26"
            ],
            [
             1,
             "#f0f921"
            ]
           ]
          },
          "colorway": [
           "#636efa",
           "#EF553B",
           "#00cc96",
           "#ab63fa",
           "#FFA15A",
           "#19d3f3",
           "#FF6692",
           "#B6E880",
           "#FF97FF",
           "#FECB52"
          ],
          "font": {
           "color": "#2a3f5f"
          },
          "geo": {
           "bgcolor": "white",
           "lakecolor": "white",
           "landcolor": "#E5ECF6",
           "showlakes": true,
           "showland": true,
           "subunitcolor": "white"
          },
          "hoverlabel": {
           "align": "left"
          },
          "hovermode": "closest",
          "mapbox": {
           "style": "light"
          },
          "paper_bgcolor": "white",
          "plot_bgcolor": "#E5ECF6",
          "polar": {
           "angularaxis": {
            "gridcolor": "white",
            "linecolor": "white",
            "ticks": ""
           },
           "bgcolor": "#E5ECF6",
           "radialaxis": {
            "gridcolor": "white",
            "linecolor": "white",
            "ticks": ""
           }
          },
          "scene": {
           "xaxis": {
            "backgroundcolor": "#E5ECF6",
            "gridcolor": "white",
            "gridwidth": 2,
            "linecolor": "white",
            "showbackground": true,
            "ticks": "",
            "zerolinecolor": "white"
           },
           "yaxis": {
            "backgroundcolor": "#E5ECF6",
            "gridcolor": "white",
            "gridwidth": 2,
            "linecolor": "white",
            "showbackground": true,
            "ticks": "",
            "zerolinecolor": "white"
           },
           "zaxis": {
            "backgroundcolor": "#E5ECF6",
            "gridcolor": "white",
            "gridwidth": 2,
            "linecolor": "white",
            "showbackground": true,
            "ticks": "",
            "zerolinecolor": "white"
           }
          },
          "shapedefaults": {
           "line": {
            "color": "#2a3f5f"
           }
          },
          "ternary": {
           "aaxis": {
            "gridcolor": "white",
            "linecolor": "white",
            "ticks": ""
           },
           "baxis": {
            "gridcolor": "white",
            "linecolor": "white",
            "ticks": ""
           },
           "bgcolor": "#E5ECF6",
           "caxis": {
            "gridcolor": "white",
            "linecolor": "white",
            "ticks": ""
           }
          },
          "title": {
           "x": 0.05
          },
          "xaxis": {
           "automargin": true,
           "gridcolor": "white",
           "linecolor": "white",
           "ticks": "",
           "title": {
            "standoff": 15
           },
           "zerolinecolor": "white",
           "zerolinewidth": 2
          },
          "yaxis": {
           "automargin": true,
           "gridcolor": "white",
           "linecolor": "white",
           "ticks": "",
           "title": {
            "standoff": 15
           },
           "zerolinecolor": "white",
           "zerolinewidth": 2
          }
         }
        },
        "title": {
         "text": "Conflicts Over Social Media by Gender"
        },
        "xaxis": {
         "anchor": "y",
         "domain": [
          0,
          1
         ],
         "title": {
          "text": "Reported Conflict Level"
         }
        },
        "yaxis": {
         "anchor": "x",
         "domain": [
          0,
          1
         ],
         "title": {
          "text": "Number of Students"
         }
        }
       }
      }
     },
     "metadata": {},
     "output_type": "display_data"
    }
   ],
   "source": [
    "# Group and prepare data: count of conflicts by gender\n",
    "conflicts_gender_counts = (\n",
    "    student_df.groupby(['conflicts_over_social_media', 'gender'])\n",
    "    .size()\n",
    "    .reset_index(name = 'count')\n",
    ")\n",
    "\n",
    "# Pivot for easy reading\n",
    "conflicts_gender_pivot = (\n",
    "    conflicts_gender_counts\n",
    "    .pivot(index = 'conflicts_over_social_media', columns='gender', values='count')\n",
    "    .fillna(0)\n",
    "    .astype(int)\n",
    "    .reset_index()\n",
    ")\n",
    "\n",
    "print(\"Conflicts Over Social Media by Gender:\\n\", conflicts_gender_counts)\n",
    "\n",
    "# Plot grouped bar chart\n",
    "fig = px.bar(\n",
    "    conflicts_gender_counts,\n",
    "    x = 'conflicts_over_social_media',\n",
    "    y = 'count',\n",
    "    color = 'gender',\n",
    "    barmode = 'group',\n",
    "    text = 'count', \n",
    "    title = 'Conflicts Over Social Media by Gender',\n",
    "    labels = {\n",
    "        'conflicts_over_social_media': 'Number of Conflicts Reported',\n",
    "        'count': 'Number of Students',\n",
    "        'gender': 'Gender'\n",
    "    },\n",
    "    color_discrete_map = {'Female': '#8E44AD', 'Male': '#3498DB'}\n",
    ")\n",
    "\n",
    "# Add annotations inside the bars\n",
    "fig.update_traces(\n",
    "    textposition = 'inside',\n",
    "    textfont_color = 'white',\n",
    "    marker_line_width = 1,\n",
    "    marker_line_color = 'white'\n",
    ")\n",
    "\n",
    "# Layout polish\n",
    "fig.update_layout(\n",
    "    font = dict(family = 'Lato', size = 14),\n",
    "    plot_bgcolor = '#FFFFFF',\n",
    "    paper_bgcolor = '#FFFFFF',\n",
    "    bargap = 0.15,\n",
    "    xaxis_title = 'Reported Conflict Level',\n",
    "    yaxis_title = 'Number of Students',\n",
    "    legend_title = 'Gender'\n",
    ")\n",
    "\n",
    "fig.show()"
   ]
  },
  {
   "cell_type": "markdown",
   "id": "aac514e9",
   "metadata": {},
   "source": [
    "## Gender-Based Preferences Across Social Media Platforms\n",
    "\n",
    "When it comes to social media preferences, not all platforms are created equal- and neither are the users.\n",
    "\n",
    "In this section, we examine how **platform usage varies across gender**, offering insights into where students are spending most of their time online- and perhaps even *why*. \n",
    "\n",
    "Are males more into YouTube and Twitter? Do females dominate the Instagram–TikTok corridor? These differences can reflect broader patterns in communication style, peer engagement, and even platform design appeal.\n",
    "\n",
    "Understanding gender-platform preferences is essential for tailoring outreach strategies, digital literacy programs, and interventions around social media impact.\n",
    "\n",
    "Let’s break down the trends."
   ]
  },
  {
   "cell_type": "code",
   "execution_count": 71,
   "id": "58e93e05",
   "metadata": {},
   "outputs": [
    {
     "name": "stdout",
     "output_type": "stream",
     "text": [
      "Most Used Platform by Gender:\n",
      "    most_used_platform  Female  Male\n",
      "0            Facebook      24    99\n",
      "1           Instagram     172    77\n",
      "2           KakaoTalk      12     0\n",
      "3                LINE      12     0\n",
      "4            LinkedIn       8    13\n",
      "5            Snapchat       8     5\n",
      "6              TikTok      86    68\n",
      "7             Twitter      16    14\n",
      "8           VKontakte       0    12\n",
      "9              WeChat       4    11\n",
      "10           WhatsApp      11    43\n",
      "11            YouTube       0    10\n"
     ]
    },
    {
     "data": {
      "application/vnd.plotly.v1+json": {
       "config": {
        "plotlyServerURL": "https://plot.ly"
       },
       "data": [
        {
         "alignmentgroup": "True",
         "hovertemplate": "gender=Female<br>count=%{text}<br>most_used_platform=%{y}<extra></extra>",
         "legendgroup": "Female",
         "marker": {
          "color": "#8E44AD"
         },
         "name": "Female",
         "offsetgroup": "Female",
         "orientation": "h",
         "showlegend": true,
         "text": [
          24,
          172,
          12,
          12,
          8,
          8,
          86,
          16,
          0,
          4,
          11,
          0
         ],
         "textfont": {
          "color": "white"
         },
         "textposition": "inside",
         "type": "bar",
         "x": [
          24,
          172,
          12,
          12,
          8,
          8,
          86,
          16,
          0,
          4,
          11,
          0
         ],
         "xaxis": "x",
         "y": [
          "Facebook",
          "Instagram",
          "KakaoTalk",
          "LINE",
          "LinkedIn",
          "Snapchat",
          "TikTok",
          "Twitter",
          "VKontakte",
          "WeChat",
          "WhatsApp",
          "YouTube"
         ],
         "yaxis": "y"
        },
        {
         "alignmentgroup": "True",
         "hovertemplate": "gender=Male<br>count=%{text}<br>most_used_platform=%{y}<extra></extra>",
         "legendgroup": "Male",
         "marker": {
          "color": "#3498DB"
         },
         "name": "Male",
         "offsetgroup": "Male",
         "orientation": "h",
         "showlegend": true,
         "text": [
          99,
          77,
          0,
          0,
          13,
          5,
          68,
          14,
          12,
          11,
          43,
          10
         ],
         "textfont": {
          "color": "white"
         },
         "textposition": "inside",
         "type": "bar",
         "x": [
          99,
          77,
          0,
          0,
          13,
          5,
          68,
          14,
          12,
          11,
          43,
          10
         ],
         "xaxis": "x",
         "y": [
          "Facebook",
          "Instagram",
          "KakaoTalk",
          "LINE",
          "LinkedIn",
          "Snapchat",
          "TikTok",
          "Twitter",
          "VKontakte",
          "WeChat",
          "WhatsApp",
          "YouTube"
         ],
         "yaxis": "y"
        }
       ],
       "layout": {
        "bargap": 0.2,
        "barmode": "relative",
        "font": {
         "family": "Lato",
         "size": 14
        },
        "legend": {
         "title": {
          "text": "gender"
         },
         "tracegroupgap": 0
        },
        "plot_bgcolor": "white",
        "template": {
         "data": {
          "bar": [
           {
            "error_x": {
             "color": "#2a3f5f"
            },
            "error_y": {
             "color": "#2a3f5f"
            },
            "marker": {
             "line": {
              "color": "#E5ECF6",
              "width": 0.5
             }
            },
            "type": "bar"
           }
          ],
          "barpolar": [
           {
            "marker": {
             "line": {
              "color": "#E5ECF6",
              "width": 0.5
             }
            },
            "type": "barpolar"
           }
          ],
          "carpet": [
           {
            "aaxis": {
             "endlinecolor": "#2a3f5f",
             "gridcolor": "white",
             "linecolor": "white",
             "minorgridcolor": "white",
             "startlinecolor": "#2a3f5f"
            },
            "baxis": {
             "endlinecolor": "#2a3f5f",
             "gridcolor": "white",
             "linecolor": "white",
             "minorgridcolor": "white",
             "startlinecolor": "#2a3f5f"
            },
            "type": "carpet"
           }
          ],
          "choropleth": [
           {
            "colorbar": {
             "outlinewidth": 0,
             "ticks": ""
            },
            "type": "choropleth"
           }
          ],
          "contour": [
           {
            "colorbar": {
             "outlinewidth": 0,
             "ticks": ""
            },
            "colorscale": [
             [
              0,
              "#0d0887"
             ],
             [
              0.1111111111111111,
              "#46039f"
             ],
             [
              0.2222222222222222,
              "#7201a8"
             ],
             [
              0.3333333333333333,
              "#9c179e"
             ],
             [
              0.4444444444444444,
              "#bd3786"
             ],
             [
              0.5555555555555556,
              "#d8576b"
             ],
             [
              0.6666666666666666,
              "#ed7953"
             ],
             [
              0.7777777777777778,
              "#fb9f3a"
             ],
             [
              0.8888888888888888,
              "#fdca26"
             ],
             [
              1,
              "#f0f921"
             ]
            ],
            "type": "contour"
           }
          ],
          "contourcarpet": [
           {
            "colorbar": {
             "outlinewidth": 0,
             "ticks": ""
            },
            "type": "contourcarpet"
           }
          ],
          "heatmap": [
           {
            "colorbar": {
             "outlinewidth": 0,
             "ticks": ""
            },
            "colorscale": [
             [
              0,
              "#0d0887"
             ],
             [
              0.1111111111111111,
              "#46039f"
             ],
             [
              0.2222222222222222,
              "#7201a8"
             ],
             [
              0.3333333333333333,
              "#9c179e"
             ],
             [
              0.4444444444444444,
              "#bd3786"
             ],
             [
              0.5555555555555556,
              "#d8576b"
             ],
             [
              0.6666666666666666,
              "#ed7953"
             ],
             [
              0.7777777777777778,
              "#fb9f3a"
             ],
             [
              0.8888888888888888,
              "#fdca26"
             ],
             [
              1,
              "#f0f921"
             ]
            ],
            "type": "heatmap"
           }
          ],
          "heatmapgl": [
           {
            "colorbar": {
             "outlinewidth": 0,
             "ticks": ""
            },
            "colorscale": [
             [
              0,
              "#0d0887"
             ],
             [
              0.1111111111111111,
              "#46039f"
             ],
             [
              0.2222222222222222,
              "#7201a8"
             ],
             [
              0.3333333333333333,
              "#9c179e"
             ],
             [
              0.4444444444444444,
              "#bd3786"
             ],
             [
              0.5555555555555556,
              "#d8576b"
             ],
             [
              0.6666666666666666,
              "#ed7953"
             ],
             [
              0.7777777777777778,
              "#fb9f3a"
             ],
             [
              0.8888888888888888,
              "#fdca26"
             ],
             [
              1,
              "#f0f921"
             ]
            ],
            "type": "heatmapgl"
           }
          ],
          "histogram": [
           {
            "marker": {
             "colorbar": {
              "outlinewidth": 0,
              "ticks": ""
             }
            },
            "type": "histogram"
           }
          ],
          "histogram2d": [
           {
            "colorbar": {
             "outlinewidth": 0,
             "ticks": ""
            },
            "colorscale": [
             [
              0,
              "#0d0887"
             ],
             [
              0.1111111111111111,
              "#46039f"
             ],
             [
              0.2222222222222222,
              "#7201a8"
             ],
             [
              0.3333333333333333,
              "#9c179e"
             ],
             [
              0.4444444444444444,
              "#bd3786"
             ],
             [
              0.5555555555555556,
              "#d8576b"
             ],
             [
              0.6666666666666666,
              "#ed7953"
             ],
             [
              0.7777777777777778,
              "#fb9f3a"
             ],
             [
              0.8888888888888888,
              "#fdca26"
             ],
             [
              1,
              "#f0f921"
             ]
            ],
            "type": "histogram2d"
           }
          ],
          "histogram2dcontour": [
           {
            "colorbar": {
             "outlinewidth": 0,
             "ticks": ""
            },
            "colorscale": [
             [
              0,
              "#0d0887"
             ],
             [
              0.1111111111111111,
              "#46039f"
             ],
             [
              0.2222222222222222,
              "#7201a8"
             ],
             [
              0.3333333333333333,
              "#9c179e"
             ],
             [
              0.4444444444444444,
              "#bd3786"
             ],
             [
              0.5555555555555556,
              "#d8576b"
             ],
             [
              0.6666666666666666,
              "#ed7953"
             ],
             [
              0.7777777777777778,
              "#fb9f3a"
             ],
             [
              0.8888888888888888,
              "#fdca26"
             ],
             [
              1,
              "#f0f921"
             ]
            ],
            "type": "histogram2dcontour"
           }
          ],
          "mesh3d": [
           {
            "colorbar": {
             "outlinewidth": 0,
             "ticks": ""
            },
            "type": "mesh3d"
           }
          ],
          "parcoords": [
           {
            "line": {
             "colorbar": {
              "outlinewidth": 0,
              "ticks": ""
             }
            },
            "type": "parcoords"
           }
          ],
          "pie": [
           {
            "automargin": true,
            "type": "pie"
           }
          ],
          "scatter": [
           {
            "marker": {
             "colorbar": {
              "outlinewidth": 0,
              "ticks": ""
             }
            },
            "type": "scatter"
           }
          ],
          "scatter3d": [
           {
            "line": {
             "colorbar": {
              "outlinewidth": 0,
              "ticks": ""
             }
            },
            "marker": {
             "colorbar": {
              "outlinewidth": 0,
              "ticks": ""
             }
            },
            "type": "scatter3d"
           }
          ],
          "scattercarpet": [
           {
            "marker": {
             "colorbar": {
              "outlinewidth": 0,
              "ticks": ""
             }
            },
            "type": "scattercarpet"
           }
          ],
          "scattergeo": [
           {
            "marker": {
             "colorbar": {
              "outlinewidth": 0,
              "ticks": ""
             }
            },
            "type": "scattergeo"
           }
          ],
          "scattergl": [
           {
            "marker": {
             "colorbar": {
              "outlinewidth": 0,
              "ticks": ""
             }
            },
            "type": "scattergl"
           }
          ],
          "scattermapbox": [
           {
            "marker": {
             "colorbar": {
              "outlinewidth": 0,
              "ticks": ""
             }
            },
            "type": "scattermapbox"
           }
          ],
          "scatterpolar": [
           {
            "marker": {
             "colorbar": {
              "outlinewidth": 0,
              "ticks": ""
             }
            },
            "type": "scatterpolar"
           }
          ],
          "scatterpolargl": [
           {
            "marker": {
             "colorbar": {
              "outlinewidth": 0,
              "ticks": ""
             }
            },
            "type": "scatterpolargl"
           }
          ],
          "scatterternary": [
           {
            "marker": {
             "colorbar": {
              "outlinewidth": 0,
              "ticks": ""
             }
            },
            "type": "scatterternary"
           }
          ],
          "surface": [
           {
            "colorbar": {
             "outlinewidth": 0,
             "ticks": ""
            },
            "colorscale": [
             [
              0,
              "#0d0887"
             ],
             [
              0.1111111111111111,
              "#46039f"
             ],
             [
              0.2222222222222222,
              "#7201a8"
             ],
             [
              0.3333333333333333,
              "#9c179e"
             ],
             [
              0.4444444444444444,
              "#bd3786"
             ],
             [
              0.5555555555555556,
              "#d8576b"
             ],
             [
              0.6666666666666666,
              "#ed7953"
             ],
             [
              0.7777777777777778,
              "#fb9f3a"
             ],
             [
              0.8888888888888888,
              "#fdca26"
             ],
             [
              1,
              "#f0f921"
             ]
            ],
            "type": "surface"
           }
          ],
          "table": [
           {
            "cells": {
             "fill": {
              "color": "#EBF0F8"
             },
             "line": {
              "color": "white"
             }
            },
            "header": {
             "fill": {
              "color": "#C8D4E3"
             },
             "line": {
              "color": "white"
             }
            },
            "type": "table"
           }
          ]
         },
         "layout": {
          "annotationdefaults": {
           "arrowcolor": "#2a3f5f",
           "arrowhead": 0,
           "arrowwidth": 1
          },
          "coloraxis": {
           "colorbar": {
            "outlinewidth": 0,
            "ticks": ""
           }
          },
          "colorscale": {
           "diverging": [
            [
             0,
             "#8e0152"
            ],
            [
             0.1,
             "#c51b7d"
            ],
            [
             0.2,
             "#de77ae"
            ],
            [
             0.3,
             "#f1b6da"
            ],
            [
             0.4,
             "#fde0ef"
            ],
            [
             0.5,
             "#f7f7f7"
            ],
            [
             0.6,
             "#e6f5d0"
            ],
            [
             0.7,
             "#b8e186"
            ],
            [
             0.8,
             "#7fbc41"
            ],
            [
             0.9,
             "#4d9221"
            ],
            [
             1,
             "#276419"
            ]
           ],
           "sequential": [
            [
             0,
             "#0d0887"
            ],
            [
             0.1111111111111111,
             "#46039f"
            ],
            [
             0.2222222222222222,
             "#7201a8"
            ],
            [
             0.3333333333333333,
             "#9c179e"
            ],
            [
             0.4444444444444444,
             "#bd3786"
            ],
            [
             0.5555555555555556,
             "#d8576b"
            ],
            [
             0.6666666666666666,
             "#ed7953"
            ],
            [
             0.7777777777777778,
             "#fb9f3a"
            ],
            [
             0.8888888888888888,
             "#fdca26"
            ],
            [
             1,
             "#f0f921"
            ]
           ],
           "sequentialminus": [
            [
             0,
             "#0d0887"
            ],
            [
             0.1111111111111111,
             "#46039f"
            ],
            [
             0.2222222222222222,
             "#7201a8"
            ],
            [
             0.3333333333333333,
             "#9c179e"
            ],
            [
             0.4444444444444444,
             "#bd3786"
            ],
            [
             0.5555555555555556,
             "#d8576b"
            ],
            [
             0.6666666666666666,
             "#ed7953"
            ],
            [
             0.7777777777777778,
             "#fb9f3a"
            ],
            [
             0.8888888888888888,
             "#fdca26"
            ],
            [
             1,
             "#f0f921"
            ]
           ]
          },
          "colorway": [
           "#636efa",
           "#EF553B",
           "#00cc96",
           "#ab63fa",
           "#FFA15A",
           "#19d3f3",
           "#FF6692",
           "#B6E880",
           "#FF97FF",
           "#FECB52"
          ],
          "font": {
           "color": "#2a3f5f"
          },
          "geo": {
           "bgcolor": "white",
           "lakecolor": "white",
           "landcolor": "#E5ECF6",
           "showlakes": true,
           "showland": true,
           "subunitcolor": "white"
          },
          "hoverlabel": {
           "align": "left"
          },
          "hovermode": "closest",
          "mapbox": {
           "style": "light"
          },
          "paper_bgcolor": "white",
          "plot_bgcolor": "#E5ECF6",
          "polar": {
           "angularaxis": {
            "gridcolor": "white",
            "linecolor": "white",
            "ticks": ""
           },
           "bgcolor": "#E5ECF6",
           "radialaxis": {
            "gridcolor": "white",
            "linecolor": "white",
            "ticks": ""
           }
          },
          "scene": {
           "xaxis": {
            "backgroundcolor": "#E5ECF6",
            "gridcolor": "white",
            "gridwidth": 2,
            "linecolor": "white",
            "showbackground": true,
            "ticks": "",
            "zerolinecolor": "white"
           },
           "yaxis": {
            "backgroundcolor": "#E5ECF6",
            "gridcolor": "white",
            "gridwidth": 2,
            "linecolor": "white",
            "showbackground": true,
            "ticks": "",
            "zerolinecolor": "white"
           },
           "zaxis": {
            "backgroundcolor": "#E5ECF6",
            "gridcolor": "white",
            "gridwidth": 2,
            "linecolor": "white",
            "showbackground": true,
            "ticks": "",
            "zerolinecolor": "white"
           }
          },
          "shapedefaults": {
           "line": {
            "color": "#2a3f5f"
           }
          },
          "ternary": {
           "aaxis": {
            "gridcolor": "white",
            "linecolor": "white",
            "ticks": ""
           },
           "baxis": {
            "gridcolor": "white",
            "linecolor": "white",
            "ticks": ""
           },
           "bgcolor": "#E5ECF6",
           "caxis": {
            "gridcolor": "white",
            "linecolor": "white",
            "ticks": ""
           }
          },
          "title": {
           "x": 0.05
          },
          "xaxis": {
           "automargin": true,
           "gridcolor": "white",
           "linecolor": "white",
           "ticks": "",
           "title": {
            "standoff": 15
           },
           "zerolinecolor": "white",
           "zerolinewidth": 2
          },
          "yaxis": {
           "automargin": true,
           "gridcolor": "white",
           "linecolor": "white",
           "ticks": "",
           "title": {
            "standoff": 15
           },
           "zerolinecolor": "white",
           "zerolinewidth": 2
          }
         }
        },
        "title": {
         "text": "Most Used Social Media Platform by Gender"
        },
        "xaxis": {
         "anchor": "y",
         "domain": [
          0,
          1
         ],
         "title": {
          "text": "Number of Students"
         }
        },
        "yaxis": {
         "anchor": "x",
         "categoryarray": [
          "Instagram",
          "TikTok",
          "Facebook",
          "WhatsApp",
          "Twitter",
          "LinkedIn",
          "WeChat",
          "Snapchat",
          "VKontakte",
          "LINE",
          "KakaoTalk",
          "YouTube"
         ],
         "categoryorder": "array",
         "domain": [
          0,
          1
         ],
         "title": {
          "text": "Platform"
         }
        }
       }
      }
     },
     "metadata": {},
     "output_type": "display_data"
    }
   ],
   "source": [
    "# Group by platform and gender, count users\n",
    "platform_gender_counts = (\n",
    "    student_df.groupby(['most_used_platform', 'gender'])\n",
    "    .size()\n",
    "    .unstack(fill_value = 0)\n",
    "    .reset_index()\n",
    "    .rename_axis(None, axis = 1)\n",
    ")\n",
    "\n",
    "print(\"Most Used Platform by Gender:\\n\", platform_gender_counts)\n",
    "\n",
    "# Melt for Plotly\n",
    "melted_platform_gender = platform_gender_counts.melt(\n",
    "    id_vars = 'most_used_platform',\n",
    "    var_name = 'gender',\n",
    "    value_name = 'count'\n",
    ")\n",
    "\n",
    "# Sort platforms by total usage for better order\n",
    "platform_order = (\n",
    "    melted_platform_gender.groupby('most_used_platform')['count']\n",
    "    .sum()\n",
    "    .sort_values(ascending = True)\n",
    "    .index\n",
    ")\n",
    "\n",
    "# Plot grouped horizontal bar chart\n",
    "fig = px.bar(\n",
    "    melted_platform_gender,\n",
    "    y = 'most_used_platform',\n",
    "    x = 'count',\n",
    "    color = 'gender',\n",
    "    orientation = 'h',\n",
    "    title = 'Most Used Social Media Platform by Gender',\n",
    "    text = 'count',\n",
    "    category_orders = {'most_used_platform': list(platform_order)},\n",
    "    color_discrete_map = {'Female': '#8E44AD', 'Male': '#3498DB'}\n",
    ")\n",
    "\n",
    "fig.update_traces(textposition = 'inside', textfont_color = 'white')\n",
    "\n",
    "fig.update_layout(\n",
    "    xaxis_title = 'Number of Students',\n",
    "    yaxis_title = 'Platform',\n",
    "    font = dict(family = 'Lato', size = 14),\n",
    "    plot_bgcolor = 'white',\n",
    "    bargap = 0.2\n",
    ")\n",
    "\n",
    "fig.show()"
   ]
  },
  {
   "cell_type": "markdown",
   "id": "ff908325",
   "metadata": {},
   "source": [
    "## Gender Differences in Sleep Patterns\n",
    "\n",
    "In this analysis, we explore how **sleep duration varies by gender**, not just in raw counts, but as **proportions** of each gender group. This allows us to see, for instance, whether a higher percentage of females consistently get 6–8 hours of sleep or if males dominate the <4hr crash zone.\n",
    "\n",
    "The goal? To understand how gender may relate to **sleep behavior**, which in turn affects focus, performance, and mental health."
   ]
  },
  {
   "cell_type": "code",
   "execution_count": 72,
   "id": "1534adb5",
   "metadata": {},
   "outputs": [
    {
     "name": "stdout",
     "output_type": "stream",
     "text": [
      "Sleep Hours per Night by Gender:\n",
      " gender sleep_bin  Female  Male\n",
      "0         <4 hrs       2     0\n",
      "1        4–6 hrs     100    65\n",
      "2        6–8 hrs     181   226\n",
      "3       8–10 hrs      70    61\n"
     ]
    },
    {
     "data": {
      "application/vnd.plotly.v1+json": {
       "config": {
        "plotlyServerURL": "https://plot.ly"
       },
       "data": [
        {
         "alignmentgroup": "True",
         "hovertemplate": "Gender=Female<br>Hours of Sleep=%{x}<br>Number of Students=%{text}<extra></extra>",
         "legendgroup": "Female",
         "marker": {
          "color": "#8E44AD",
          "line": {
           "color": "white",
           "width": 1
          }
         },
         "name": "Female",
         "offsetgroup": "Female",
         "orientation": "v",
         "showlegend": true,
         "text": [
          2,
          100,
          181,
          70
         ],
         "textfont": {
          "color": "white"
         },
         "textposition": "inside",
         "type": "bar",
         "x": [
          "<4 hrs",
          "4–6 hrs",
          "6–8 hrs",
          "8–10 hrs"
         ],
         "xaxis": "x",
         "y": [
          2,
          100,
          181,
          70
         ],
         "yaxis": "y"
        },
        {
         "alignmentgroup": "True",
         "hovertemplate": "Gender=Male<br>Hours of Sleep=%{x}<br>Number of Students=%{text}<extra></extra>",
         "legendgroup": "Male",
         "marker": {
          "color": "#3498DB",
          "line": {
           "color": "white",
           "width": 1
          }
         },
         "name": "Male",
         "offsetgroup": "Male",
         "orientation": "v",
         "showlegend": true,
         "text": [
          0,
          65,
          226,
          61
         ],
         "textfont": {
          "color": "white"
         },
         "textposition": "inside",
         "type": "bar",
         "x": [
          "<4 hrs",
          "4–6 hrs",
          "6–8 hrs",
          "8–10 hrs"
         ],
         "xaxis": "x",
         "y": [
          0,
          65,
          226,
          61
         ],
         "yaxis": "y"
        }
       ],
       "layout": {
        "bargap": 0.2,
        "barmode": "group",
        "font": {
         "family": "Lato",
         "size": 14
        },
        "legend": {
         "title": {
          "text": "Gender"
         },
         "tracegroupgap": 0
        },
        "paper_bgcolor": "white",
        "plot_bgcolor": "white",
        "template": {
         "data": {
          "bar": [
           {
            "error_x": {
             "color": "#2a3f5f"
            },
            "error_y": {
             "color": "#2a3f5f"
            },
            "marker": {
             "line": {
              "color": "#E5ECF6",
              "width": 0.5
             }
            },
            "type": "bar"
           }
          ],
          "barpolar": [
           {
            "marker": {
             "line": {
              "color": "#E5ECF6",
              "width": 0.5
             }
            },
            "type": "barpolar"
           }
          ],
          "carpet": [
           {
            "aaxis": {
             "endlinecolor": "#2a3f5f",
             "gridcolor": "white",
             "linecolor": "white",
             "minorgridcolor": "white",
             "startlinecolor": "#2a3f5f"
            },
            "baxis": {
             "endlinecolor": "#2a3f5f",
             "gridcolor": "white",
             "linecolor": "white",
             "minorgridcolor": "white",
             "startlinecolor": "#2a3f5f"
            },
            "type": "carpet"
           }
          ],
          "choropleth": [
           {
            "colorbar": {
             "outlinewidth": 0,
             "ticks": ""
            },
            "type": "choropleth"
           }
          ],
          "contour": [
           {
            "colorbar": {
             "outlinewidth": 0,
             "ticks": ""
            },
            "colorscale": [
             [
              0,
              "#0d0887"
             ],
             [
              0.1111111111111111,
              "#46039f"
             ],
             [
              0.2222222222222222,
              "#7201a8"
             ],
             [
              0.3333333333333333,
              "#9c179e"
             ],
             [
              0.4444444444444444,
              "#bd3786"
             ],
             [
              0.5555555555555556,
              "#d8576b"
             ],
             [
              0.6666666666666666,
              "#ed7953"
             ],
             [
              0.7777777777777778,
              "#fb9f3a"
             ],
             [
              0.8888888888888888,
              "#fdca26"
             ],
             [
              1,
              "#f0f921"
             ]
            ],
            "type": "contour"
           }
          ],
          "contourcarpet": [
           {
            "colorbar": {
             "outlinewidth": 0,
             "ticks": ""
            },
            "type": "contourcarpet"
           }
          ],
          "heatmap": [
           {
            "colorbar": {
             "outlinewidth": 0,
             "ticks": ""
            },
            "colorscale": [
             [
              0,
              "#0d0887"
             ],
             [
              0.1111111111111111,
              "#46039f"
             ],
             [
              0.2222222222222222,
              "#7201a8"
             ],
             [
              0.3333333333333333,
              "#9c179e"
             ],
             [
              0.4444444444444444,
              "#bd3786"
             ],
             [
              0.5555555555555556,
              "#d8576b"
             ],
             [
              0.6666666666666666,
              "#ed7953"
             ],
             [
              0.7777777777777778,
              "#fb9f3a"
             ],
             [
              0.8888888888888888,
              "#fdca26"
             ],
             [
              1,
              "#f0f921"
             ]
            ],
            "type": "heatmap"
           }
          ],
          "heatmapgl": [
           {
            "colorbar": {
             "outlinewidth": 0,
             "ticks": ""
            },
            "colorscale": [
             [
              0,
              "#0d0887"
             ],
             [
              0.1111111111111111,
              "#46039f"
             ],
             [
              0.2222222222222222,
              "#7201a8"
             ],
             [
              0.3333333333333333,
              "#9c179e"
             ],
             [
              0.4444444444444444,
              "#bd3786"
             ],
             [
              0.5555555555555556,
              "#d8576b"
             ],
             [
              0.6666666666666666,
              "#ed7953"
             ],
             [
              0.7777777777777778,
              "#fb9f3a"
             ],
             [
              0.8888888888888888,
              "#fdca26"
             ],
             [
              1,
              "#f0f921"
             ]
            ],
            "type": "heatmapgl"
           }
          ],
          "histogram": [
           {
            "marker": {
             "colorbar": {
              "outlinewidth": 0,
              "ticks": ""
             }
            },
            "type": "histogram"
           }
          ],
          "histogram2d": [
           {
            "colorbar": {
             "outlinewidth": 0,
             "ticks": ""
            },
            "colorscale": [
             [
              0,
              "#0d0887"
             ],
             [
              0.1111111111111111,
              "#46039f"
             ],
             [
              0.2222222222222222,
              "#7201a8"
             ],
             [
              0.3333333333333333,
              "#9c179e"
             ],
             [
              0.4444444444444444,
              "#bd3786"
             ],
             [
              0.5555555555555556,
              "#d8576b"
             ],
             [
              0.6666666666666666,
              "#ed7953"
             ],
             [
              0.7777777777777778,
              "#fb9f3a"
             ],
             [
              0.8888888888888888,
              "#fdca26"
             ],
             [
              1,
              "#f0f921"
             ]
            ],
            "type": "histogram2d"
           }
          ],
          "histogram2dcontour": [
           {
            "colorbar": {
             "outlinewidth": 0,
             "ticks": ""
            },
            "colorscale": [
             [
              0,
              "#0d0887"
             ],
             [
              0.1111111111111111,
              "#46039f"
             ],
             [
              0.2222222222222222,
              "#7201a8"
             ],
             [
              0.3333333333333333,
              "#9c179e"
             ],
             [
              0.4444444444444444,
              "#bd3786"
             ],
             [
              0.5555555555555556,
              "#d8576b"
             ],
             [
              0.6666666666666666,
              "#ed7953"
             ],
             [
              0.7777777777777778,
              "#fb9f3a"
             ],
             [
              0.8888888888888888,
              "#fdca26"
             ],
             [
              1,
              "#f0f921"
             ]
            ],
            "type": "histogram2dcontour"
           }
          ],
          "mesh3d": [
           {
            "colorbar": {
             "outlinewidth": 0,
             "ticks": ""
            },
            "type": "mesh3d"
           }
          ],
          "parcoords": [
           {
            "line": {
             "colorbar": {
              "outlinewidth": 0,
              "ticks": ""
             }
            },
            "type": "parcoords"
           }
          ],
          "pie": [
           {
            "automargin": true,
            "type": "pie"
           }
          ],
          "scatter": [
           {
            "marker": {
             "colorbar": {
              "outlinewidth": 0,
              "ticks": ""
             }
            },
            "type": "scatter"
           }
          ],
          "scatter3d": [
           {
            "line": {
             "colorbar": {
              "outlinewidth": 0,
              "ticks": ""
             }
            },
            "marker": {
             "colorbar": {
              "outlinewidth": 0,
              "ticks": ""
             }
            },
            "type": "scatter3d"
           }
          ],
          "scattercarpet": [
           {
            "marker": {
             "colorbar": {
              "outlinewidth": 0,
              "ticks": ""
             }
            },
            "type": "scattercarpet"
           }
          ],
          "scattergeo": [
           {
            "marker": {
             "colorbar": {
              "outlinewidth": 0,
              "ticks": ""
             }
            },
            "type": "scattergeo"
           }
          ],
          "scattergl": [
           {
            "marker": {
             "colorbar": {
              "outlinewidth": 0,
              "ticks": ""
             }
            },
            "type": "scattergl"
           }
          ],
          "scattermapbox": [
           {
            "marker": {
             "colorbar": {
              "outlinewidth": 0,
              "ticks": ""
             }
            },
            "type": "scattermapbox"
           }
          ],
          "scatterpolar": [
           {
            "marker": {
             "colorbar": {
              "outlinewidth": 0,
              "ticks": ""
             }
            },
            "type": "scatterpolar"
           }
          ],
          "scatterpolargl": [
           {
            "marker": {
             "colorbar": {
              "outlinewidth": 0,
              "ticks": ""
             }
            },
            "type": "scatterpolargl"
           }
          ],
          "scatterternary": [
           {
            "marker": {
             "colorbar": {
              "outlinewidth": 0,
              "ticks": ""
             }
            },
            "type": "scatterternary"
           }
          ],
          "surface": [
           {
            "colorbar": {
             "outlinewidth": 0,
             "ticks": ""
            },
            "colorscale": [
             [
              0,
              "#0d0887"
             ],
             [
              0.1111111111111111,
              "#46039f"
             ],
             [
              0.2222222222222222,
              "#7201a8"
             ],
             [
              0.3333333333333333,
              "#9c179e"
             ],
             [
              0.4444444444444444,
              "#bd3786"
             ],
             [
              0.5555555555555556,
              "#d8576b"
             ],
             [
              0.6666666666666666,
              "#ed7953"
             ],
             [
              0.7777777777777778,
              "#fb9f3a"
             ],
             [
              0.8888888888888888,
              "#fdca26"
             ],
             [
              1,
              "#f0f921"
             ]
            ],
            "type": "surface"
           }
          ],
          "table": [
           {
            "cells": {
             "fill": {
              "color": "#EBF0F8"
             },
             "line": {
              "color": "white"
             }
            },
            "header": {
             "fill": {
              "color": "#C8D4E3"
             },
             "line": {
              "color": "white"
             }
            },
            "type": "table"
           }
          ]
         },
         "layout": {
          "annotationdefaults": {
           "arrowcolor": "#2a3f5f",
           "arrowhead": 0,
           "arrowwidth": 1
          },
          "coloraxis": {
           "colorbar": {
            "outlinewidth": 0,
            "ticks": ""
           }
          },
          "colorscale": {
           "diverging": [
            [
             0,
             "#8e0152"
            ],
            [
             0.1,
             "#c51b7d"
            ],
            [
             0.2,
             "#de77ae"
            ],
            [
             0.3,
             "#f1b6da"
            ],
            [
             0.4,
             "#fde0ef"
            ],
            [
             0.5,
             "#f7f7f7"
            ],
            [
             0.6,
             "#e6f5d0"
            ],
            [
             0.7,
             "#b8e186"
            ],
            [
             0.8,
             "#7fbc41"
            ],
            [
             0.9,
             "#4d9221"
            ],
            [
             1,
             "#276419"
            ]
           ],
           "sequential": [
            [
             0,
             "#0d0887"
            ],
            [
             0.1111111111111111,
             "#46039f"
            ],
            [
             0.2222222222222222,
             "#7201a8"
            ],
            [
             0.3333333333333333,
             "#9c179e"
            ],
            [
             0.4444444444444444,
             "#bd3786"
            ],
            [
             0.5555555555555556,
             "#d8576b"
            ],
            [
             0.6666666666666666,
             "#ed7953"
            ],
            [
             0.7777777777777778,
             "#fb9f3a"
            ],
            [
             0.8888888888888888,
             "#fdca26"
            ],
            [
             1,
             "#f0f921"
            ]
           ],
           "sequentialminus": [
            [
             0,
             "#0d0887"
            ],
            [
             0.1111111111111111,
             "#46039f"
            ],
            [
             0.2222222222222222,
             "#7201a8"
            ],
            [
             0.3333333333333333,
             "#9c179e"
            ],
            [
             0.4444444444444444,
             "#bd3786"
            ],
            [
             0.5555555555555556,
             "#d8576b"
            ],
            [
             0.6666666666666666,
             "#ed7953"
            ],
            [
             0.7777777777777778,
             "#fb9f3a"
            ],
            [
             0.8888888888888888,
             "#fdca26"
            ],
            [
             1,
             "#f0f921"
            ]
           ]
          },
          "colorway": [
           "#636efa",
           "#EF553B",
           "#00cc96",
           "#ab63fa",
           "#FFA15A",
           "#19d3f3",
           "#FF6692",
           "#B6E880",
           "#FF97FF",
           "#FECB52"
          ],
          "font": {
           "color": "#2a3f5f"
          },
          "geo": {
           "bgcolor": "white",
           "lakecolor": "white",
           "landcolor": "#E5ECF6",
           "showlakes": true,
           "showland": true,
           "subunitcolor": "white"
          },
          "hoverlabel": {
           "align": "left"
          },
          "hovermode": "closest",
          "mapbox": {
           "style": "light"
          },
          "paper_bgcolor": "white",
          "plot_bgcolor": "#E5ECF6",
          "polar": {
           "angularaxis": {
            "gridcolor": "white",
            "linecolor": "white",
            "ticks": ""
           },
           "bgcolor": "#E5ECF6",
           "radialaxis": {
            "gridcolor": "white",
            "linecolor": "white",
            "ticks": ""
           }
          },
          "scene": {
           "xaxis": {
            "backgroundcolor": "#E5ECF6",
            "gridcolor": "white",
            "gridwidth": 2,
            "linecolor": "white",
            "showbackground": true,
            "ticks": "",
            "zerolinecolor": "white"
           },
           "yaxis": {
            "backgroundcolor": "#E5ECF6",
            "gridcolor": "white",
            "gridwidth": 2,
            "linecolor": "white",
            "showbackground": true,
            "ticks": "",
            "zerolinecolor": "white"
           },
           "zaxis": {
            "backgroundcolor": "#E5ECF6",
            "gridcolor": "white",
            "gridwidth": 2,
            "linecolor": "white",
            "showbackground": true,
            "ticks": "",
            "zerolinecolor": "white"
           }
          },
          "shapedefaults": {
           "line": {
            "color": "#2a3f5f"
           }
          },
          "ternary": {
           "aaxis": {
            "gridcolor": "white",
            "linecolor": "white",
            "ticks": ""
           },
           "baxis": {
            "gridcolor": "white",
            "linecolor": "white",
            "ticks": ""
           },
           "bgcolor": "#E5ECF6",
           "caxis": {
            "gridcolor": "white",
            "linecolor": "white",
            "ticks": ""
           }
          },
          "title": {
           "x": 0.05
          },
          "xaxis": {
           "automargin": true,
           "gridcolor": "white",
           "linecolor": "white",
           "ticks": "",
           "title": {
            "standoff": 15
           },
           "zerolinecolor": "white",
           "zerolinewidth": 2
          },
          "yaxis": {
           "automargin": true,
           "gridcolor": "white",
           "linecolor": "white",
           "ticks": "",
           "title": {
            "standoff": 15
           },
           "zerolinecolor": "white",
           "zerolinewidth": 2
          }
         }
        },
        "title": {
         "text": "Sleep Duration by Gender"
        },
        "xaxis": {
         "anchor": "y",
         "domain": [
          0,
          1
         ],
         "title": {
          "text": "Sleep Duration"
         }
        },
        "yaxis": {
         "anchor": "x",
         "domain": [
          0,
          1
         ],
         "title": {
          "text": "Number of Students"
         }
        }
       }
      }
     },
     "metadata": {},
     "output_type": "display_data"
    }
   ],
   "source": [
    "# Define bins and labels\n",
    "bins = [0, 4, 6, 8, 10]\n",
    "labels = ['<4 hrs', '4–6 hrs', '6–8 hrs', '8–10 hrs']\n",
    "\n",
    "# Bin the data\n",
    "student_df['sleep_bin'] = pd.cut(\n",
    "    student_df['sleep_hours_per_night'],\n",
    "    bins = bins,\n",
    "    labels = labels,\n",
    "    right = False\n",
    ")\n",
    "\n",
    "# Group by sleep_bin and gender\n",
    "sleep_gender_counts_raw = (\n",
    "    student_df.groupby(['sleep_bin', 'gender'])\n",
    "    .size()\n",
    "    .reset_index(name = 'count')\n",
    ")\n",
    "\n",
    "# Pivot for inspection\n",
    "pivot_sleep_raw = (\n",
    "    sleep_gender_counts_raw\n",
    "    .pivot(index = 'sleep_bin', columns = 'gender', values = 'count')\n",
    "    .fillna(0)\n",
    "    .astype(int)\n",
    "    .reset_index()\n",
    ")\n",
    "\n",
    "print(\"Sleep Hours per Night by Gender:\\n\", pivot_sleep_raw)\n",
    "\n",
    "# Ensure categorical order\n",
    "sleep_order = ['<4 hrs', '4–6 hrs', '6–8 hrs', '8–10 hrs']\n",
    "student_df['sleep_bin'] = pd.Categorical(student_df['sleep_bin'], categories = sleep_order, ordered = True)\n",
    "\n",
    "# Group again for plotting\n",
    "sleep_gender_grouped = (\n",
    "    student_df.groupby(['sleep_bin', 'gender'])\n",
    "    .size()\n",
    "    .reset_index(name = 'count')\n",
    ").sort_values(by = 'sleep_bin')\n",
    "\n",
    "# Create grouped bar chart\n",
    "fig = px.bar(\n",
    "    sleep_gender_grouped,\n",
    "    x = 'sleep_bin',\n",
    "    y = 'count',\n",
    "    color = 'gender',\n",
    "    barmode = 'group',\n",
    "    text = 'count',\n",
    "    title = 'Sleep Duration by Gender',\n",
    "    labels={\n",
    "        'sleep_bin': 'Hours of Sleep',\n",
    "        'count': 'Number of Students',\n",
    "        'gender': 'Gender'\n",
    "    },\n",
    "    color_discrete_map = {'Female': '#8E44AD', 'Male': '#3498DB'}\n",
    ")\n",
    "\n",
    "# Enhance visuals\n",
    "fig.update_traces(\n",
    "    textposition = 'inside',\n",
    "    textfont_color = 'white',\n",
    "    marker_line_width = 1,\n",
    "    marker_line_color = 'white'\n",
    ")\n",
    "\n",
    "fig.update_layout(\n",
    "    font = dict(family = 'Lato', size = 14),\n",
    "    plot_bgcolor = 'white',\n",
    "    paper_bgcolor = 'white',\n",
    "    bargap = 0.2,\n",
    "    xaxis = dict(title = 'Sleep Duration'),\n",
    "    yaxis = dict(title = 'Number of Students'),\n",
    "    legend_title = 'Gender'\n",
    ")\n",
    "\n",
    "fig.show()"
   ]
  },
  {
   "cell_type": "markdown",
   "id": "772f2128",
   "metadata": {},
   "source": [
    "## Gender vs. Average Daily Social Media Usage\n",
    "\n",
    "Social media has evolved into more than just a habit- it’s practically a digital limb for many students. But does the scroll time differ across genders?\n",
    "\n",
    "In this section, we examine the distribution of average daily social media usage. By segmenting usage into interpretable time bins, we uncover gender-based patterns that could hint at differences in online behavior- patterns that may influence everything from mental well-being to academic performance."
   ]
  },
  {
   "cell_type": "code",
   "execution_count": 73,
   "id": "7e031fb0",
   "metadata": {},
   "outputs": [
    {
     "name": "stdout",
     "output_type": "stream",
     "text": [
      "Average Daily Social Media by Gender:\n",
      "gender usage_bin  Female  Male\n",
      "0        0–2 hrs       0     1\n",
      "1        2–4 hrs      76    77\n",
      "2        4–6 hrs     189   212\n",
      "3        6–8 hrs      82    62\n",
      "4       8–10 hrs       6     0\n"
     ]
    },
    {
     "data": {
      "application/vnd.plotly.v1+json": {
       "config": {
        "plotlyServerURL": "https://plot.ly"
       },
       "data": [
        {
         "alignmentgroup": "True",
         "hovertemplate": "Gender=Female<br>Daily Usage (Binned)=%{x}<br>Number of Students=%{text}<extra></extra>",
         "legendgroup": "Female",
         "marker": {
          "color": "#8E44AD",
          "line": {
           "color": "white",
           "width": 1
          }
         },
         "name": "Female",
         "offsetgroup": "Female",
         "orientation": "v",
         "showlegend": true,
         "text": [
          0,
          76,
          189,
          82,
          6
         ],
         "textfont": {
          "color": "white"
         },
         "textposition": "inside",
         "type": "bar",
         "x": [
          "0–2 hrs",
          "2–4 hrs",
          "4–6 hrs",
          "6–8 hrs",
          "8–10 hrs"
         ],
         "xaxis": "x",
         "y": [
          0,
          76,
          189,
          82,
          6
         ],
         "yaxis": "y"
        },
        {
         "alignmentgroup": "True",
         "hovertemplate": "Gender=Male<br>Daily Usage (Binned)=%{x}<br>Number of Students=%{text}<extra></extra>",
         "legendgroup": "Male",
         "marker": {
          "color": "#2196F3",
          "line": {
           "color": "white",
           "width": 1
          }
         },
         "name": "Male",
         "offsetgroup": "Male",
         "orientation": "v",
         "showlegend": true,
         "text": [
          1,
          77,
          212,
          62,
          0
         ],
         "textfont": {
          "color": "white"
         },
         "textposition": "inside",
         "type": "bar",
         "x": [
          "0–2 hrs",
          "2–4 hrs",
          "4–6 hrs",
          "6–8 hrs",
          "8–10 hrs"
         ],
         "xaxis": "x",
         "y": [
          1,
          77,
          212,
          62,
          0
         ],
         "yaxis": "y"
        }
       ],
       "layout": {
        "bargap": 0.2,
        "barmode": "group",
        "font": {
         "family": "Lato",
         "size": 14
        },
        "legend": {
         "title": {
          "text": "Gender"
         },
         "tracegroupgap": 0
        },
        "paper_bgcolor": "white",
        "plot_bgcolor": "white",
        "template": {
         "data": {
          "bar": [
           {
            "error_x": {
             "color": "#2a3f5f"
            },
            "error_y": {
             "color": "#2a3f5f"
            },
            "marker": {
             "line": {
              "color": "#E5ECF6",
              "width": 0.5
             }
            },
            "type": "bar"
           }
          ],
          "barpolar": [
           {
            "marker": {
             "line": {
              "color": "#E5ECF6",
              "width": 0.5
             }
            },
            "type": "barpolar"
           }
          ],
          "carpet": [
           {
            "aaxis": {
             "endlinecolor": "#2a3f5f",
             "gridcolor": "white",
             "linecolor": "white",
             "minorgridcolor": "white",
             "startlinecolor": "#2a3f5f"
            },
            "baxis": {
             "endlinecolor": "#2a3f5f",
             "gridcolor": "white",
             "linecolor": "white",
             "minorgridcolor": "white",
             "startlinecolor": "#2a3f5f"
            },
            "type": "carpet"
           }
          ],
          "choropleth": [
           {
            "colorbar": {
             "outlinewidth": 0,
             "ticks": ""
            },
            "type": "choropleth"
           }
          ],
          "contour": [
           {
            "colorbar": {
             "outlinewidth": 0,
             "ticks": ""
            },
            "colorscale": [
             [
              0,
              "#0d0887"
             ],
             [
              0.1111111111111111,
              "#46039f"
             ],
             [
              0.2222222222222222,
              "#7201a8"
             ],
             [
              0.3333333333333333,
              "#9c179e"
             ],
             [
              0.4444444444444444,
              "#bd3786"
             ],
             [
              0.5555555555555556,
              "#d8576b"
             ],
             [
              0.6666666666666666,
              "#ed7953"
             ],
             [
              0.7777777777777778,
              "#fb9f3a"
             ],
             [
              0.8888888888888888,
              "#fdca26"
             ],
             [
              1,
              "#f0f921"
             ]
            ],
            "type": "contour"
           }
          ],
          "contourcarpet": [
           {
            "colorbar": {
             "outlinewidth": 0,
             "ticks": ""
            },
            "type": "contourcarpet"
           }
          ],
          "heatmap": [
           {
            "colorbar": {
             "outlinewidth": 0,
             "ticks": ""
            },
            "colorscale": [
             [
              0,
              "#0d0887"
             ],
             [
              0.1111111111111111,
              "#46039f"
             ],
             [
              0.2222222222222222,
              "#7201a8"
             ],
             [
              0.3333333333333333,
              "#9c179e"
             ],
             [
              0.4444444444444444,
              "#bd3786"
             ],
             [
              0.5555555555555556,
              "#d8576b"
             ],
             [
              0.6666666666666666,
              "#ed7953"
             ],
             [
              0.7777777777777778,
              "#fb9f3a"
             ],
             [
              0.8888888888888888,
              "#fdca26"
             ],
             [
              1,
              "#f0f921"
             ]
            ],
            "type": "heatmap"
           }
          ],
          "heatmapgl": [
           {
            "colorbar": {
             "outlinewidth": 0,
             "ticks": ""
            },
            "colorscale": [
             [
              0,
              "#0d0887"
             ],
             [
              0.1111111111111111,
              "#46039f"
             ],
             [
              0.2222222222222222,
              "#7201a8"
             ],
             [
              0.3333333333333333,
              "#9c179e"
             ],
             [
              0.4444444444444444,
              "#bd3786"
             ],
             [
              0.5555555555555556,
              "#d8576b"
             ],
             [
              0.6666666666666666,
              "#ed7953"
             ],
             [
              0.7777777777777778,
              "#fb9f3a"
             ],
             [
              0.8888888888888888,
              "#fdca26"
             ],
             [
              1,
              "#f0f921"
             ]
            ],
            "type": "heatmapgl"
           }
          ],
          "histogram": [
           {
            "marker": {
             "colorbar": {
              "outlinewidth": 0,
              "ticks": ""
             }
            },
            "type": "histogram"
           }
          ],
          "histogram2d": [
           {
            "colorbar": {
             "outlinewidth": 0,
             "ticks": ""
            },
            "colorscale": [
             [
              0,
              "#0d0887"
             ],
             [
              0.1111111111111111,
              "#46039f"
             ],
             [
              0.2222222222222222,
              "#7201a8"
             ],
             [
              0.3333333333333333,
              "#9c179e"
             ],
             [
              0.4444444444444444,
              "#bd3786"
             ],
             [
              0.5555555555555556,
              "#d8576b"
             ],
             [
              0.6666666666666666,
              "#ed7953"
             ],
             [
              0.7777777777777778,
              "#fb9f3a"
             ],
             [
              0.8888888888888888,
              "#fdca26"
             ],
             [
              1,
              "#f0f921"
             ]
            ],
            "type": "histogram2d"
           }
          ],
          "histogram2dcontour": [
           {
            "colorbar": {
             "outlinewidth": 0,
             "ticks": ""
            },
            "colorscale": [
             [
              0,
              "#0d0887"
             ],
             [
              0.1111111111111111,
              "#46039f"
             ],
             [
              0.2222222222222222,
              "#7201a8"
             ],
             [
              0.3333333333333333,
              "#9c179e"
             ],
             [
              0.4444444444444444,
              "#bd3786"
             ],
             [
              0.5555555555555556,
              "#d8576b"
             ],
             [
              0.6666666666666666,
              "#ed7953"
             ],
             [
              0.7777777777777778,
              "#fb9f3a"
             ],
             [
              0.8888888888888888,
              "#fdca26"
             ],
             [
              1,
              "#f0f921"
             ]
            ],
            "type": "histogram2dcontour"
           }
          ],
          "mesh3d": [
           {
            "colorbar": {
             "outlinewidth": 0,
             "ticks": ""
            },
            "type": "mesh3d"
           }
          ],
          "parcoords": [
           {
            "line": {
             "colorbar": {
              "outlinewidth": 0,
              "ticks": ""
             }
            },
            "type": "parcoords"
           }
          ],
          "pie": [
           {
            "automargin": true,
            "type": "pie"
           }
          ],
          "scatter": [
           {
            "marker": {
             "colorbar": {
              "outlinewidth": 0,
              "ticks": ""
             }
            },
            "type": "scatter"
           }
          ],
          "scatter3d": [
           {
            "line": {
             "colorbar": {
              "outlinewidth": 0,
              "ticks": ""
             }
            },
            "marker": {
             "colorbar": {
              "outlinewidth": 0,
              "ticks": ""
             }
            },
            "type": "scatter3d"
           }
          ],
          "scattercarpet": [
           {
            "marker": {
             "colorbar": {
              "outlinewidth": 0,
              "ticks": ""
             }
            },
            "type": "scattercarpet"
           }
          ],
          "scattergeo": [
           {
            "marker": {
             "colorbar": {
              "outlinewidth": 0,
              "ticks": ""
             }
            },
            "type": "scattergeo"
           }
          ],
          "scattergl": [
           {
            "marker": {
             "colorbar": {
              "outlinewidth": 0,
              "ticks": ""
             }
            },
            "type": "scattergl"
           }
          ],
          "scattermapbox": [
           {
            "marker": {
             "colorbar": {
              "outlinewidth": 0,
              "ticks": ""
             }
            },
            "type": "scattermapbox"
           }
          ],
          "scatterpolar": [
           {
            "marker": {
             "colorbar": {
              "outlinewidth": 0,
              "ticks": ""
             }
            },
            "type": "scatterpolar"
           }
          ],
          "scatterpolargl": [
           {
            "marker": {
             "colorbar": {
              "outlinewidth": 0,
              "ticks": ""
             }
            },
            "type": "scatterpolargl"
           }
          ],
          "scatterternary": [
           {
            "marker": {
             "colorbar": {
              "outlinewidth": 0,
              "ticks": ""
             }
            },
            "type": "scatterternary"
           }
          ],
          "surface": [
           {
            "colorbar": {
             "outlinewidth": 0,
             "ticks": ""
            },
            "colorscale": [
             [
              0,
              "#0d0887"
             ],
             [
              0.1111111111111111,
              "#46039f"
             ],
             [
              0.2222222222222222,
              "#7201a8"
             ],
             [
              0.3333333333333333,
              "#9c179e"
             ],
             [
              0.4444444444444444,
              "#bd3786"
             ],
             [
              0.5555555555555556,
              "#d8576b"
             ],
             [
              0.6666666666666666,
              "#ed7953"
             ],
             [
              0.7777777777777778,
              "#fb9f3a"
             ],
             [
              0.8888888888888888,
              "#fdca26"
             ],
             [
              1,
              "#f0f921"
             ]
            ],
            "type": "surface"
           }
          ],
          "table": [
           {
            "cells": {
             "fill": {
              "color": "#EBF0F8"
             },
             "line": {
              "color": "white"
             }
            },
            "header": {
             "fill": {
              "color": "#C8D4E3"
             },
             "line": {
              "color": "white"
             }
            },
            "type": "table"
           }
          ]
         },
         "layout": {
          "annotationdefaults": {
           "arrowcolor": "#2a3f5f",
           "arrowhead": 0,
           "arrowwidth": 1
          },
          "coloraxis": {
           "colorbar": {
            "outlinewidth": 0,
            "ticks": ""
           }
          },
          "colorscale": {
           "diverging": [
            [
             0,
             "#8e0152"
            ],
            [
             0.1,
             "#c51b7d"
            ],
            [
             0.2,
             "#de77ae"
            ],
            [
             0.3,
             "#f1b6da"
            ],
            [
             0.4,
             "#fde0ef"
            ],
            [
             0.5,
             "#f7f7f7"
            ],
            [
             0.6,
             "#e6f5d0"
            ],
            [
             0.7,
             "#b8e186"
            ],
            [
             0.8,
             "#7fbc41"
            ],
            [
             0.9,
             "#4d9221"
            ],
            [
             1,
             "#276419"
            ]
           ],
           "sequential": [
            [
             0,
             "#0d0887"
            ],
            [
             0.1111111111111111,
             "#46039f"
            ],
            [
             0.2222222222222222,
             "#7201a8"
            ],
            [
             0.3333333333333333,
             "#9c179e"
            ],
            [
             0.4444444444444444,
             "#bd3786"
            ],
            [
             0.5555555555555556,
             "#d8576b"
            ],
            [
             0.6666666666666666,
             "#ed7953"
            ],
            [
             0.7777777777777778,
             "#fb9f3a"
            ],
            [
             0.8888888888888888,
             "#fdca26"
            ],
            [
             1,
             "#f0f921"
            ]
           ],
           "sequentialminus": [
            [
             0,
             "#0d0887"
            ],
            [
             0.1111111111111111,
             "#46039f"
            ],
            [
             0.2222222222222222,
             "#7201a8"
            ],
            [
             0.3333333333333333,
             "#9c179e"
            ],
            [
             0.4444444444444444,
             "#bd3786"
            ],
            [
             0.5555555555555556,
             "#d8576b"
            ],
            [
             0.6666666666666666,
             "#ed7953"
            ],
            [
             0.7777777777777778,
             "#fb9f3a"
            ],
            [
             0.8888888888888888,
             "#fdca26"
            ],
            [
             1,
             "#f0f921"
            ]
           ]
          },
          "colorway": [
           "#636efa",
           "#EF553B",
           "#00cc96",
           "#ab63fa",
           "#FFA15A",
           "#19d3f3",
           "#FF6692",
           "#B6E880",
           "#FF97FF",
           "#FECB52"
          ],
          "font": {
           "color": "#2a3f5f"
          },
          "geo": {
           "bgcolor": "white",
           "lakecolor": "white",
           "landcolor": "#E5ECF6",
           "showlakes": true,
           "showland": true,
           "subunitcolor": "white"
          },
          "hoverlabel": {
           "align": "left"
          },
          "hovermode": "closest",
          "mapbox": {
           "style": "light"
          },
          "paper_bgcolor": "white",
          "plot_bgcolor": "#E5ECF6",
          "polar": {
           "angularaxis": {
            "gridcolor": "white",
            "linecolor": "white",
            "ticks": ""
           },
           "bgcolor": "#E5ECF6",
           "radialaxis": {
            "gridcolor": "white",
            "linecolor": "white",
            "ticks": ""
           }
          },
          "scene": {
           "xaxis": {
            "backgroundcolor": "#E5ECF6",
            "gridcolor": "white",
            "gridwidth": 2,
            "linecolor": "white",
            "showbackground": true,
            "ticks": "",
            "zerolinecolor": "white"
           },
           "yaxis": {
            "backgroundcolor": "#E5ECF6",
            "gridcolor": "white",
            "gridwidth": 2,
            "linecolor": "white",
            "showbackground": true,
            "ticks": "",
            "zerolinecolor": "white"
           },
           "zaxis": {
            "backgroundcolor": "#E5ECF6",
            "gridcolor": "white",
            "gridwidth": 2,
            "linecolor": "white",
            "showbackground": true,
            "ticks": "",
            "zerolinecolor": "white"
           }
          },
          "shapedefaults": {
           "line": {
            "color": "#2a3f5f"
           }
          },
          "ternary": {
           "aaxis": {
            "gridcolor": "white",
            "linecolor": "white",
            "ticks": ""
           },
           "baxis": {
            "gridcolor": "white",
            "linecolor": "white",
            "ticks": ""
           },
           "bgcolor": "#E5ECF6",
           "caxis": {
            "gridcolor": "white",
            "linecolor": "white",
            "ticks": ""
           }
          },
          "title": {
           "x": 0.05
          },
          "xaxis": {
           "automargin": true,
           "gridcolor": "white",
           "linecolor": "white",
           "ticks": "",
           "title": {
            "standoff": 15
           },
           "zerolinecolor": "white",
           "zerolinewidth": 2
          },
          "yaxis": {
           "automargin": true,
           "gridcolor": "white",
           "linecolor": "white",
           "ticks": "",
           "title": {
            "standoff": 15
           },
           "zerolinecolor": "white",
           "zerolinewidth": 2
          }
         }
        },
        "title": {
         "text": "Average Daily Social Media Usage by Gender"
        },
        "xaxis": {
         "anchor": "y",
         "domain": [
          0,
          1
         ],
         "title": {
          "text": "Average Daily Social Media Usage (Hours)"
         }
        },
        "yaxis": {
         "anchor": "x",
         "domain": [
          0,
          1
         ],
         "title": {
          "text": "Number of Students"
         }
        }
       }
      }
     },
     "metadata": {},
     "output_type": "display_data"
    }
   ],
   "source": [
    "# Bin the avg_daily_usage_hours\n",
    "bins = [0, 2, 4, 6, 8, 10]\n",
    "labels = ['0–2 hrs', '2–4 hrs', '4–6 hrs', '6–8 hrs', '8–10 hrs']\n",
    "student_df['usage_bin'] = pd.cut(student_df['avg_daily_usage_hours'], bins = bins, labels=labels, right = False)\n",
    "\n",
    "# Group by gender and usage_bin\n",
    "usage_by_gender = (\n",
    "    student_df.groupby(['usage_bin', 'gender'])\n",
    "    .size()\n",
    "    .reset_index(name = 'count')\n",
    "    .sort_values(['usage_bin', 'gender'])\n",
    ")\n",
    "\n",
    "# Pivot for a clearer view\n",
    "usage_by_gender_pivot = usage_by_gender.pivot(index = 'usage_bin', columns = 'gender', values = 'count').fillna(0).astype(int).reset_index()\n",
    "\n",
    "print(\"Average Daily Social Media by Gender:\")\n",
    "print(usage_by_gender_pivot)\n",
    "\n",
    "# Ensure usage_bin is a properly ordered categorical\n",
    "usage_order = ['0–2 hrs', '2–4 hrs', '4–6 hrs', '6–8 hrs', '8–10 hrs']\n",
    "student_df['usage_bin'] = pd.Categorical(student_df['usage_bin'], categories = usage_order, ordered = True)\n",
    "\n",
    "# Group again for plot\n",
    "usage_grouped = (student_df.groupby(['usage_bin', 'gender']).size().reset_index(name='count'))\n",
    "\n",
    "# Plot grouped bar chart\n",
    "fig = px.bar(\n",
    "    usage_grouped,\n",
    "    x = 'usage_bin',\n",
    "    y = 'count',\n",
    "    color='gender',\n",
    "    barmode = 'group',\n",
    "    text = 'count',\n",
    "    title = 'Average Daily Social Media Usage by Gender',\n",
    "    labels = {\n",
    "        'usage_bin': 'Daily Usage (Binned)',\n",
    "        'count': 'Number of Students',\n",
    "        'gender': 'Gender'\n",
    "    },\n",
    "    color_discrete_map = {'Female': '#8E44AD', 'Male': '#2196F3'}\n",
    ")\n",
    "\n",
    "# Annotation styling\n",
    "fig.update_traces(\n",
    "    textposition = 'inside',\n",
    "    textfont_color = 'white',\n",
    "    marker_line_width = 1,\n",
    "    marker_line_color = 'white'\n",
    ")\n",
    "\n",
    "# Layout polish\n",
    "fig.update_layout(\n",
    "    font = dict(family = 'Lato', size = 14),\n",
    "    plot_bgcolor = 'white',\n",
    "    paper_bgcolor = 'white',\n",
    "    bargap = 0.2,\n",
    "    xaxis_title = 'Average Daily Social Media Usage (Hours)',\n",
    "    yaxis_title = 'Number of Students',\n",
    "    legend_title = 'Gender'\n",
    ")\n",
    "\n",
    "fig.show()"
   ]
  },
  {
   "cell_type": "markdown",
   "id": "15374a46",
   "metadata": {},
   "source": [
    "# MULTIVARIATE ANALYSIS"
   ]
  },
  {
   "cell_type": "code",
   "execution_count": null,
   "id": "01b0a427",
   "metadata": {},
   "outputs": [],
   "source": []
  }
 ],
 "metadata": {
  "kernelspec": {
   "display_name": "learn-env",
   "language": "python",
   "name": "python3"
  },
  "language_info": {
   "codemirror_mode": {
    "name": "ipython",
    "version": 3
   },
   "file_extension": ".py",
   "mimetype": "text/x-python",
   "name": "python",
   "nbconvert_exporter": "python",
   "pygments_lexer": "ipython3",
   "version": "3.8.5"
  }
 },
 "nbformat": 4,
 "nbformat_minor": 5
}
